{
 "cells": [
  {
   "cell_type": "markdown",
   "id": "6205df9b-5ac8-4dd6-9525-2a7314006cc5",
   "metadata": {
    "tags": []
   },
   "source": [
    "# Tutorium Informatik für Data Science 2\n",
    "## Thema: Wiederholung relevanter Bereiche der OOP "
   ]
  },
  {
   "cell_type": "markdown",
   "id": "7c9fded9-86e1-463d-b324-f0c8313b7420",
   "metadata": {},
   "source": [
    "---"
   ]
  },
  {
   "cell_type": "markdown",
   "id": "e195c584-7d28-4e9f-a230-59d48e399170",
   "metadata": {},
   "source": [
    "### Aufgabe 1: Klassen und Self"
   ]
  },
  {
   "cell_type": "code",
   "execution_count": 14,
   "id": "3c9f2e0b-deb3-4529-840e-06eef85c24b9",
   "metadata": {},
   "outputs": [],
   "source": [
    "#Anlegen einer Klasse \n",
    "class My_class:\n",
    "        \n",
    "    def my_method(x):\n",
    "        print(f\"value: {x}\")"
   ]
  },
  {
   "cell_type": "code",
   "execution_count": 15,
   "id": "90f22d33-1061-4dd2-9707-663bd7dba3c1",
   "metadata": {},
   "outputs": [],
   "source": [
    "#Erzeugen einer Instanz der Klasse My_class\n",
    "my_instance = My_class()"
   ]
  },
  {
   "cell_type": "markdown",
   "id": "6b04a594-8830-4e2d-9807-576452a398b5",
   "metadata": {},
   "source": [
    "- mache dir nocheinmal klar was unter den Begriffen: Klasse, Instanz und Methode, zu verstehen ist\n",
    "- führe die methode \"my_method\" auf die angelegte Instanz mit x=5 aus \n",
    "- interpretiere den error \n",
    "- passe den code so an dass die Methode das gewünschte Ergebnis liefert"
   ]
  },
  {
   "cell_type": "markdown",
   "id": "758974b4-54e6-45d3-88d1-f3ea21f0f5a1",
   "metadata": {},
   "source": [
    "<details>\n",
    "    <summary>Hinweis</summary>\n",
    "    Python übergibt automatisch die Instanz (my_instance) als erstes argument an my_method (da es sich um einen Methodenaufruf auf eine Instanz handelt)\n",
    "</details>"
   ]
  },
  {
   "cell_type": "markdown",
   "id": "de9201c7-ed0f-4cc8-92a5-36c431005ecc",
   "metadata": {},
   "source": [
    "- Erkläre my_method anhand des EVA Prinzips und gehe dabei speziell auf das Stuchwort self ein"
   ]
  },
  {
   "cell_type": "code",
   "execution_count": null,
   "id": "21e4d1b2-ce39-430d-8e25-bf9631bc2b22",
   "metadata": {},
   "outputs": [],
   "source": [
    "#TODO"
   ]
  },
  {
   "cell_type": "markdown",
   "id": "da1abafd-fc2c-41d5-958e-896719067a31",
   "metadata": {},
   "source": [
    "---"
   ]
  },
  {
   "cell_type": "markdown",
   "id": "753d51f1-5b11-4ff5-b48e-2e1cf1a763a9",
   "metadata": {},
   "source": [
    "### Aufgabe 2: Konstruktor und Attribute"
   ]
  },
  {
   "cell_type": "markdown",
   "id": "3408fe54-321f-46c2-a6b2-e2123e64a5a1",
   "metadata": {},
   "source": [
    "- Es soll ein Bibliotheksverwaltungssystem erstellt werden \n",
    "- Erstelle den Konstruktor zur folgenden Tabelle\n",
    "- is_checked_out repräsentiert hierbei den Verleihstatus eines Buches "
   ]
  },
  {
   "cell_type": "markdown",
   "id": "177adf89-d134-4c99-a552-0fcd24dca34a",
   "metadata": {},
   "source": [
    "|Datentyp|Bezeichnung|Defaultwert| \n",
    "|:|:|:|\n",
    "|string|titel||\n",
    "|boolean|is_checked_out|FALSE|\n",
    "|int|published_year||\n",
    "\n",
    "\n"
   ]
  },
  {
   "cell_type": "code",
   "execution_count": null,
   "id": "9f0285db-7c2c-4c5e-a96d-efb2dbd46748",
   "metadata": {},
   "outputs": [],
   "source": [
    "#TODO"
   ]
  },
  {
   "cell_type": "markdown",
   "id": "52fa130d-1965-48e2-8ec5-fda164d08ef3",
   "metadata": {},
   "source": [
    "### Aufgabe 3: Getter und Setter"
   ]
  },
  {
   "cell_type": "markdown",
   "id": "f49a4569-eaf9-4467-b070-8c62fafc9d26",
   "metadata": {},
   "source": [
    "- Schreibe getter und setter Methoden für den in Aufgabe 2 definierten Konstruktor"
   ]
  },
  {
   "cell_type": "code",
   "execution_count": null,
   "id": "43e75a6f-0512-450e-bccd-1c57f5cc5270",
   "metadata": {},
   "outputs": [],
   "source": [
    "#TODO"
   ]
  },
  {
   "cell_type": "markdown",
   "id": "1394bc87-74b2-4ec0-b7e6-da015e63f7bb",
   "metadata": {},
   "source": [
    "---"
   ]
  },
  {
   "cell_type": "markdown",
   "id": "c604ca26-22a3-43f9-a6fe-573804498bd6",
   "metadata": {},
   "source": [
    "### Aufgabe 4: Statische Attribute und Methoden"
   ]
  },
  {
   "cell_type": "code",
   "execution_count": null,
   "id": "8bd161cc-6d61-4e5e-9ab4-0ff02414d6e6",
   "metadata": {},
   "outputs": [],
   "source": [
    "#TODO"
   ]
  },
  {
   "cell_type": "markdown",
   "id": "58b9fa25-ae8d-4013-928a-d5b77437e875",
   "metadata": {},
   "source": [
    "---"
   ]
  },
  {
   "cell_type": "markdown",
   "id": "21905a49-eb2b-499d-83e4-53597c2e5557",
   "metadata": {},
   "source": [
    "### Aufgabe 5: Vererbung"
   ]
  },
  {
   "cell_type": "markdown",
   "id": "1ef5cfc9-df69-426b-92d7-173e23758467",
   "metadata": {},
   "source": [
    "<img src=\"Classes.png\" width=800><br>\n",
    "\n",
    "\n"
   ]
  },
  {
   "cell_type": "markdown",
   "id": "7c04d44e-ad87-4b56-bb6d-b444cfff9ca1",
   "metadata": {},
   "source": [
    "- Übersetze das obige UML Diagramm in Code (OOP)"
   ]
  },
  {
   "cell_type": "code",
   "execution_count": null,
   "id": "39994bbc-49e4-4aa4-8918-021da4530f48",
   "metadata": {},
   "outputs": [],
   "source": [
    "#TODO"
   ]
  },
  {
   "cell_type": "markdown",
   "id": "6ef7852a-2fa1-4735-bb0c-271a4921ed0c",
   "metadata": {},
   "source": [
    "---"
   ]
  },
  {
   "cell_type": "markdown",
   "id": "fa8ec3f9-d7ae-4f07-97a7-b13f18250b09",
   "metadata": {},
   "source": [
    "### Aufgabe 6: Abstrakte Klassen"
   ]
  },
  {
   "cell_type": "code",
   "execution_count": null,
   "id": "5579b60a-fa0f-4b62-9fae-6fb4ebf3b902",
   "metadata": {},
   "outputs": [],
   "source": []
  },
  {
   "cell_type": "code",
   "execution_count": null,
   "id": "55f4f53b-5a5a-486c-a79b-b89f05b5d5c4",
   "metadata": {},
   "outputs": [],
   "source": [
    "#TODO"
   ]
  },
  {
   "cell_type": "markdown",
   "id": "7070fcaf-b252-4a83-927a-0d34a8c92d28",
   "metadata": {},
   "source": [
    "---"
   ]
  },
  {
   "cell_type": "markdown",
   "id": "3fca2769-71ca-4cc8-abd7-4fe9c44efd82",
   "metadata": {},
   "source": [
    "### Aufgabe 7: Polymorphie"
   ]
  },
  {
   "cell_type": "code",
   "execution_count": null,
   "id": "b87f3725-df84-4cdc-9a9a-9904934e35a7",
   "metadata": {},
   "outputs": [],
   "source": []
  },
  {
   "cell_type": "code",
   "execution_count": null,
   "id": "77d2c922-5e27-480f-89ad-68d5127c7fb3",
   "metadata": {},
   "outputs": [],
   "source": [
    "#TODO"
   ]
  }
 ],
 "metadata": {
  "kernelspec": {
   "display_name": "Python 3",
   "language": "python",
   "name": "python3"
  },
  "language_info": {
   "codemirror_mode": {
    "name": "ipython",
    "version": 3
   },
   "file_extension": ".py",
   "mimetype": "text/x-python",
   "name": "python",
   "nbconvert_exporter": "python",
   "pygments_lexer": "ipython3",
   "version": "3.8.8"
  }
 },
 "nbformat": 4,
 "nbformat_minor": 5
}
