{
 "cells": [
  {
   "cell_type": "markdown",
   "id": "6205df9b-5ac8-4dd6-9525-2a7314006cc5",
   "metadata": {
    "tags": []
   },
   "source": [
    "# Tutorium Informatik für Data Science 2\n",
    "## Thema: Wiederholung relevanter Bereiche der OOP "
   ]
  },
  {
   "cell_type": "markdown",
   "id": "7c9fded9-86e1-463d-b324-f0c8313b7420",
   "metadata": {},
   "source": [
    "---"
   ]
  },
  {
   "cell_type": "markdown",
   "id": "e195c584-7d28-4e9f-a230-59d48e399170",
   "metadata": {},
   "source": [
    "### Aufgabe 1: Klassen und Self"
   ]
  },
  {
   "cell_type": "code",
   "execution_count": 31,
   "id": "3c9f2e0b-deb3-4529-840e-06eef85c24b9",
   "metadata": {},
   "outputs": [],
   "source": [
    "#Anlegen einer Klasse \n",
    "class My_class:\n",
    "        \n",
    "    def my_method(x):\n",
    "        print(f\"value: {x}\")"
   ]
  },
  {
   "cell_type": "code",
   "execution_count": 32,
   "id": "90f22d33-1061-4dd2-9707-663bd7dba3c1",
   "metadata": {},
   "outputs": [],
   "source": [
    "#Erzeugen einer Instanz der Klasse My_class\n",
    "my_instance = My_class()"
   ]
  },
  {
   "cell_type": "markdown",
   "id": "6b04a594-8830-4e2d-9807-576452a398b5",
   "metadata": {},
   "source": [
    "- Mache dir nocheinmal klar was unter den Begriffen: `Klasse`, `Instanz` und `Methode`, zu verstehen ist\n",
    "- Führe die methode \"my_method\" auf die angelegte Instanz mit x=5 aus \n",
    "- Interpretiere den error \n",
    "- Passe den Code so an, dass die Methode das gewünschte Ergebnis liefert"
   ]
  },
  {
   "cell_type": "markdown",
   "id": "758974b4-54e6-45d3-88d1-f3ea21f0f5a1",
   "metadata": {},
   "source": [
    "<details>\n",
    "    <summary>Hinweis</summary>\n",
    "    Python übergibt automatisch die Instanz (my_instance) als erstes argument an my_method (da es sich um einen Methodenaufruf auf eine Instanz handelt)\n",
    "</details>"
   ]
  },
  {
   "cell_type": "markdown",
   "id": "de9201c7-ed0f-4cc8-92a5-36c431005ecc",
   "metadata": {},
   "source": [
    "- Erkläre my_method anhand des EVA Prinzips und gehe dabei speziell auf das Stuchwort self ein"
   ]
  },
  {
   "cell_type": "markdown",
   "id": "0ec0ce1c-6ce2-4c03-8fd4-db6d9360f34b",
   "metadata": {},
   "source": [
    "---"
   ]
  },
  {
   "cell_type": "markdown",
   "id": "a688a6c0-b5d5-450c-85bb-106f6aa3fffc",
   "metadata": {},
   "source": [
    "- Klasse: Eine Klasse ist eine Vorlage oder ein Bauplan, der beschreibt, wie ein Objekt erstellt werden soll. Eine Klasse definiert die Eigenschaften (Attribute) und Verhaltensweisen (Methoden), die von den Objekten, die aus dieser Klasse erstellt werden, ausgeführt werden können.\n",
    "\n",
    "- Instanz: Eine Instanz ist ein konkretes Objekt, das aus einer Klasse erstellt wird. Jede Instanz hat ihren eigenen Satz von Attributen, die von der Klasse definiert wurden. Eine Klasse kann beliebig viele Instanzen erzeugen.\n",
    "\n",
    "- Eine Methode ist eine Funktion, die einer Klasse zugeordnet ist und auf eine Instanz der Klasse angewendet werden kann. Sie können als Verhaltensweisen der Objekte betrachtet werden, die aus der Klasse erstellt werden."
   ]
  },
  {
   "cell_type": "code",
   "execution_count": 34,
   "id": "aec72376-50d0-4e98-a4ca-166f2b9e81f6",
   "metadata": {},
   "outputs": [
    {
     "ename": "TypeError",
     "evalue": "my_method() takes 1 positional argument but 2 were given",
     "output_type": "error",
     "traceback": [
      "\u001b[0;31m---------------------------------------------------------------------------\u001b[0m",
      "\u001b[0;31mTypeError\u001b[0m                                 Traceback (most recent call last)",
      "\u001b[0;32m<ipython-input-34-28f33db5106c>\u001b[0m in \u001b[0;36m<module>\u001b[0;34m\u001b[0m\n\u001b[0;32m----> 1\u001b[0;31m \u001b[0mmy_instance\u001b[0m\u001b[0;34m.\u001b[0m\u001b[0mmy_method\u001b[0m\u001b[0;34m(\u001b[0m\u001b[0;36m5\u001b[0m\u001b[0;34m)\u001b[0m\u001b[0;34m\u001b[0m\u001b[0;34m\u001b[0m\u001b[0m\n\u001b[0m",
      "\u001b[0;31mTypeError\u001b[0m: my_method() takes 1 positional argument but 2 were given"
     ]
    }
   ],
   "source": [
    "my_instance.my_method(5)"
   ]
  },
  {
   "cell_type": "markdown",
   "id": "831d9065-18da-41fb-88e6-dafd689ad86d",
   "metadata": {},
   "source": [
    "- Die Methode my_method erwartet einen Eingabewert x, es wurden jedoch zwei übergeben\n",
    "- Der Fehler muss entstanden sein, aufgrund der Tatsache, dass beim Anwenden einer Methode auf eine Instanz immer die Instanz selbst als erstes Attribut mitübergeben wird\n",
    "---"
   ]
  },
  {
   "cell_type": "markdown",
   "id": "fec3b000-758e-4aba-a705-351e2fadc28d",
   "metadata": {},
   "source": [
    "- Die anpassung erfolgt durch das ergänzen von self in der Methode"
   ]
  },
  {
   "cell_type": "markdown",
   "id": "2ad9a295-d7c5-4669-8ff0-749a4a241c1c",
   "metadata": {},
   "source": [
    "---"
   ]
  },
  {
   "cell_type": "markdown",
   "id": "3d22e073-9ef6-4c79-a5ff-26d030df94e0",
   "metadata": {},
   "source": [
    "- Eingabe: die Methode erhält zwei positional arguments - self und x  \n",
    "- Verarbeitung: Auf die instanz wird Methode angewendet\n",
    "- Ausgabe: print von x=5"
   ]
  },
  {
   "cell_type": "markdown",
   "id": "8678ad78-576c-4a75-b362-ccf94afa1cc8",
   "metadata": {},
   "source": [
    "- `self` dient also als \"Platzhalter\" für für die Instanz auf die die Methode angewendet wird. Es drückt aus, dass eine Funktin nur mit einem Objekt aufgerufen werden kann."
   ]
  },
  {
   "cell_type": "markdown",
   "id": "da1abafd-fc2c-41d5-958e-896719067a31",
   "metadata": {},
   "source": [
    "---"
   ]
  },
  {
   "cell_type": "markdown",
   "id": "753d51f1-5b11-4ff5-b48e-2e1cf1a763a9",
   "metadata": {},
   "source": [
    "### Aufgabe 2: Konstruktor, Attribute, Getter und Setter"
   ]
  },
  {
   "cell_type": "markdown",
   "id": "3408fe54-321f-46c2-a6b2-e2123e64a5a1",
   "metadata": {},
   "source": [
    "- Es soll ein Bibliotheksverwaltungssystem erstellt werden \n",
    "- Erstelle den Konstruktor zur folgenden Tabelle\n",
    "- is_checked_out repräsentiert hierbei den Verleihstatus eines Buches "
   ]
  },
  {
   "cell_type": "markdown",
   "id": "177adf89-d134-4c99-a552-0fcd24dca34a",
   "metadata": {},
   "source": [
    "|Datentyp|Bezeichnung|Defaultwert| \n",
    "|:|:|:|\n",
    "|string|title||\n",
    "|boolean|is_checked_out|FALSE|\n",
    "|int|published_year||\n",
    "\n",
    "\n"
   ]
  },
  {
   "cell_type": "markdown",
   "id": "8bf15771-59c9-4064-a9b1-caaeecb23faa",
   "metadata": {},
   "source": [
    "- Ergänze die Getter und Setter Methoden für title und published_year"
   ]
  },
  {
   "cell_type": "markdown",
   "id": "8ef10021-f2ae-4a9a-a097-f79762f7910a",
   "metadata": {},
   "source": [
    "- Erkläre zudem warum getter und setter richtig und wichtig sind"
   ]
  },
  {
   "cell_type": "code",
   "execution_count": 30,
   "id": "9f0285db-7c2c-4c5e-a96d-efb2dbd46748",
   "metadata": {},
   "outputs": [],
   "source": [
    "class Book:\n",
    "    def __init__(self, title, published_year, is_checked_out=False):\n",
    "        self._title = title\n",
    "        self._published_year = published_year\n",
    "        self._is_checked_out = is_checked_out\n",
    "        \n",
    "    @property\n",
    "    def title(self):\n",
    "        \"\"\" get-Methode von Attribut title \"\"\"\n",
    "        return self._title\n",
    "\n",
    "    @title.setter\n",
    "    def title(self, value):\n",
    "        self._title = value\n",
    "        \n",
    "    @property\n",
    "    def published_year(self):\n",
    "        \"\"\" get-Methode von Attribut published_year \"\"\"\n",
    "        return self._published_year\n",
    "\n",
    "    @published_year.setter\n",
    "    def published_year(self, value):\n",
    "        self._published_year = value\n",
    "        \n",
    "        \n",
    "    @property\n",
    "    def is_checked_out(self):\n",
    "        \"\"\" get-Methode von Attribut published_year \"\"\"\n",
    "        return self._is_checked_out\n",
    "    \n",
    "    @is_checked_out.setter\n",
    "    def is_checked_out(self, value):\n",
    "        self._is_checked_out = value"
   ]
  },
  {
   "cell_type": "markdown",
   "id": "0bd251af-dae9-4fa0-b9d2-ca55bd307b33",
   "metadata": {},
   "source": [
    "- Getter- und `Setter-Methoden` werden oft in Klassen verwendet, um den `Zugriff auf Attribute einer Klasse zu steuern und zu überwachen`.`Getter-Methoden` werden verwendet, um den`Wert eines Attributs zurückzugeben`, während`Setter-Methoden` verwendet werden, um den `Wert eines Attributs zu setze`. Mit diesen Methoden kann man den Zugriff auf die Attribute einer Klasse kontrollieren und den Wertebereich der Attribute einschränken."
   ]
  },
  {
   "cell_type": "markdown",
   "id": "1394bc87-74b2-4ec0-b7e6-da015e63f7bb",
   "metadata": {},
   "source": [
    "---"
   ]
  },
  {
   "cell_type": "markdown",
   "id": "c604ca26-22a3-43f9-a6fe-573804498bd6",
   "metadata": {},
   "source": [
    "### Aufgabe 3: Statische Attribute und Methoden"
   ]
  },
  {
   "cell_type": "code",
   "execution_count": null,
   "id": "8bd161cc-6d61-4e5e-9ab4-0ff02414d6e6",
   "metadata": {},
   "outputs": [],
   "source": [
    "#TODO"
   ]
  },
  {
   "cell_type": "markdown",
   "id": "58b9fa25-ae8d-4013-928a-d5b77437e875",
   "metadata": {},
   "source": [
    "---"
   ]
  },
  {
   "cell_type": "markdown",
   "id": "21905a49-eb2b-499d-83e4-53597c2e5557",
   "metadata": {},
   "source": [
    "### Aufgabe 4: Vererbung"
   ]
  },
  {
   "cell_type": "markdown",
   "id": "1ef5cfc9-df69-426b-92d7-173e23758467",
   "metadata": {},
   "source": [
    "<img src=\"Classes.png\" width=800><br>\n",
    "\n",
    "\n"
   ]
  },
  {
   "cell_type": "markdown",
   "id": "7c04d44e-ad87-4b56-bb6d-b444cfff9ca1",
   "metadata": {},
   "source": [
    "- Übersetze das obige UML Diagramm in Code (OOP)"
   ]
  },
  {
   "cell_type": "code",
   "execution_count": null,
   "id": "eb2bd38a-7d49-4c14-87bc-b070821aa05f",
   "metadata": {},
   "outputs": [],
   "source": [
    "class MammalsOnCampus():\n",
    "    def __init__(self, name, legnumber=4, thermoregulation=\"endothermic\"):\n",
    "        self.name = name\n",
    "        self.legnumber = legnumber\n",
    "        self.thermoregulation = thermoregulation\n",
    "\n",
    "        \n",
    "class Hedgehog(MammalsOnCampus):\n",
    "    \n",
    "    def __init__(self, name, num_of_spines, legnumber=4, thermoregulation=\"endothermic\"):\n",
    "        super().__init__(name, legnumber=4, thermoregulation=\"endothermic\")\n",
    "        self.num_of_spines = num_of_spines\n",
    "\n",
    "        \n",
    "class Squirrel(MammalsOnCampus):\n",
    "    \n",
    "    def __init__(self, name, legnumber=4, thermoregulation=\"endothermic\"):\n",
    "        super().__init__(name, legnumber=4, thermoregulation=\"endothermic\")\n",
    "        \n",
    "    \n",
    "class Cat(MammalsOnCampus):\n",
    "    \n",
    "    def __init__(self, name, legnumber=4, thermoregulation=\"endothermic\"):\n",
    "        super().__init__(name, legnumber=4, thermoregulation=\"endothermic\")"
   ]
  },
  {
   "cell_type": "code",
   "execution_count": null,
   "id": "2f7ca932-c46e-48fe-aef2-3ac6d62e0620",
   "metadata": {},
   "outputs": [],
   "source": [
    "#Initializing object example\n",
    "cat1 = Cat(\"don\") \n",
    "hedgehog1 = Hedgehog(\"ralph\", 5)"
   ]
  },
  {
   "cell_type": "code",
   "execution_count": null,
   "id": "61c87723-81a6-40a6-b1e8-8088e4373ab0",
   "metadata": {},
   "outputs": [],
   "source": [
    "hedgehog1.num_of_spines"
   ]
  },
  {
   "cell_type": "markdown",
   "id": "6ef7852a-2fa1-4735-bb0c-271a4921ed0c",
   "metadata": {},
   "source": [
    "---"
   ]
  },
  {
   "cell_type": "markdown",
   "id": "fa8ec3f9-d7ae-4f07-97a7-b13f18250b09",
   "metadata": {},
   "source": [
    "### Aufgabe 5: Abstrakte Klassen"
   ]
  },
  {
   "cell_type": "code",
   "execution_count": null,
   "id": "5579b60a-fa0f-4b62-9fae-6fb4ebf3b902",
   "metadata": {},
   "outputs": [],
   "source": []
  },
  {
   "cell_type": "code",
   "execution_count": null,
   "id": "55f4f53b-5a5a-486c-a79b-b89f05b5d5c4",
   "metadata": {},
   "outputs": [],
   "source": [
    "#TODO"
   ]
  },
  {
   "cell_type": "markdown",
   "id": "7070fcaf-b252-4a83-927a-0d34a8c92d28",
   "metadata": {},
   "source": [
    "---"
   ]
  },
  {
   "cell_type": "markdown",
   "id": "3fca2769-71ca-4cc8-abd7-4fe9c44efd82",
   "metadata": {},
   "source": [
    "### Aufgabe 6: Polymorphie"
   ]
  },
  {
   "cell_type": "code",
   "execution_count": null,
   "id": "b87f3725-df84-4cdc-9a9a-9904934e35a7",
   "metadata": {},
   "outputs": [],
   "source": []
  },
  {
   "cell_type": "code",
   "execution_count": null,
   "id": "77d2c922-5e27-480f-89ad-68d5127c7fb3",
   "metadata": {},
   "outputs": [],
   "source": [
    "#TODO"
   ]
  }
 ],
 "metadata": {
  "kernelspec": {
   "display_name": "Python 3",
   "language": "python",
   "name": "python3"
  },
  "language_info": {
   "codemirror_mode": {
    "name": "ipython",
    "version": 3
   },
   "file_extension": ".py",
   "mimetype": "text/x-python",
   "name": "python",
   "nbconvert_exporter": "python",
   "pygments_lexer": "ipython3",
   "version": "3.8.8"
  }
 },
 "nbformat": 4,
 "nbformat_minor": 5
}
