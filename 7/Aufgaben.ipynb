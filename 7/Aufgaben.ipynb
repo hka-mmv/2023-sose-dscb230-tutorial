{
 "cells": [
  {
   "attachments": {},
   "cell_type": "markdown",
   "metadata": {},
   "source": [
    "### Aufgabe A: Wiederholung - List und Dict in Python3\n",
    "1. Eine Liste erstellen und ein Element hinzufügen\n",
    "2. Ein Element an der zweiten Stelle hinzufügen\n",
    "3. Ein Element entfernen\n",
    "4. Erstellen Sie eine zweite Liste und konkatenieren Sie diese\n",
    "5. Zerschneiden Sie die neue Liste an zwei beliebigen Stellen\n",
    "6. Erstellen Sie ein beliebiges Dictionary\n",
    "7. Fügen Sie dem Dict ein weiters Element hinzu\n",
    "8. Entfernen Sie aus dem Dict das neue Element.\n",
    "9. Geben Sie mittels einer For-Schleife, alle Keys und Values aus dem Dict aus."
   ]
  },
  {
   "attachments": {},
   "cell_type": "markdown",
   "metadata": {},
   "source": [
    "## Funktionales Programmieren"
   ]
  },
  {
   "attachments": {},
   "cell_type": "markdown",
   "metadata": {},
   "source": [
    "#### map(function, sequence):\n",
    "Die Funktion \"map\" wendet eine gegebene Funktion auf jedes Element einer Sequenz an und gibt eine neue Sequenz mit den Ergebnissen zurück. Die ursprüngliche Sequenz bleibt unverändert.\n",
    "Beispiel:\n",
    "```python\n",
    "# Quadrat der Zahlen in einer Liste berechnen\n",
    "numbers = [1, 2, 3, 4, 5]\n",
    "squared_numbers = list(map(lambda x: x**2, numbers))\n",
    "print(squared_numbers)  # Ausgabe: [1, 4, 9, 16, 25]\n",
    "```\n",
    "\n",
    "#### filter(function, sequence):\n",
    "Die Funktion \"filter\" überprüft jedes Element einer Sequenz anhand einer gegebenen Funktion und gibt eine neue Sequenz zurück, die nur die Elemente enthält, für die die Funktion den Wert \"True\" ergibt.\n",
    "Beispiel:\n",
    "```python\n",
    "# Gerade Zahlen in einer Liste filtern\n",
    "numbers = [1, 2, 3, 4, 5, 6, 7, 8, 9, 10]\n",
    "even_numbers = list(filter(lambda x: x % 2 == 0, numbers))\n",
    "print(even_numbers)  # Ausgabe: [2, 4, 6, 8, 10]\n",
    "```\n",
    "\n",
    "#### reduce(function, sequence):\n",
    "Die Funktion \"reduce\" wendet eine gegebene Funktion auf die Elemente einer Sequenz schrittweise an und gibt ein einzelnes Ergebnis zurück. Die Funktion wird auf das erste Element und das zweite Element angewendet, dann auf das Ergebnis und das nächste Element usw., bis die gesamte Sequenz verarbeitet ist.\n",
    "Beachte: Die Funktion \"reduce\" wurde aus dem Modul \"functools\" in Python 3 verschoben. Sie müssen das Modul importieren, um es zu verwenden.\n",
    "Beispiel:\n",
    "\n",
    "```python\n",
    "# Summe der Zahlen in einer Liste berechnen\n",
    "from functools import reduce\n",
    "numbers = [1, 2, 3, 4, 5]\n",
    "sum_of_numbers = reduce(lambda x, y: x + y, numbers)\n",
    "print(sum_of_numbers)  # Ausgabe: 15\n",
    "```"
   ]
  },
  {
   "attachments": {},
   "cell_type": "markdown",
   "metadata": {},
   "source": [
    "### Übungsaufgabe für \"map\":\n",
    "Gegeben ist eine Liste von Wörtern. Schreibe Code, der diese Wörter in Großbuchstaben umwandelt und eine neue Liste mit den modifizierten Wörtern zurückgibt."
   ]
  },
  {
   "cell_type": "code",
   "execution_count": 3,
   "metadata": {},
   "outputs": [],
   "source": [
    "words = [\"hello\", \"world\", \"python\"]"
   ]
  },
  {
   "attachments": {},
   "cell_type": "markdown",
   "metadata": {},
   "source": [
    "### Übungsaufgabe für \"filter\":\n",
    "Gegeben ist eine Liste von Zahlen. Schreibe Code, der alle Primzahlen aus der Liste filtert und eine neue Liste mit den Primzahlen zurückgibt."
   ]
  },
  {
   "cell_type": "code",
   "execution_count": 4,
   "metadata": {},
   "outputs": [],
   "source": [
    "numbers = [2, 3, 4, 5, 6, 7, 8, 9, 10]\n",
    "\n",
    "def is_prime(number):\n",
    "    if number < 2:\n",
    "        return False\n",
    "    for i in range(2, int(number ** 0.5) + 1):\n",
    "        if number % i == 0:\n",
    "            return False\n",
    "    return True\n",
    "\n"
   ]
  },
  {
   "attachments": {},
   "cell_type": "markdown",
   "metadata": {},
   "source": [
    "### Übungsaufgabe für \"reduce\":\n",
    "Gegeben ist eine Liste von Zahlen. Schreibe Code, der das Produkt aller Zahlen in der Liste berechnet und das Ergebnis zurückgibt"
   ]
  },
  {
   "cell_type": "code",
   "execution_count": 5,
   "metadata": {},
   "outputs": [],
   "source": [
    "from functools import reduce\n",
    "numbers = [1, 2, 3, 4, 5]\n"
   ]
  },
  {
   "attachments": {},
   "cell_type": "markdown",
   "metadata": {},
   "source": [
    "### Aufgabe B: Funktionales Programmieren mittels Filter, Map\n",
    "\n",
    "Schreiben Sie eine Python Programm, auf Basis der Funktionalen Programmierung.\n",
    "1. Erstellen Sie zunächst eine Liste mit Zufallszahlen zwischen 10 und 10.000. Die Länge\n",
    "sollte positiv sein, aber nicht über 10 liegen. Nun soll nach Ausführung nur noch die\n",
    "geraden Zahlen in einer Liste vorhanden sein.\n",
    "2. Schreiben Sie nun eine Funktion welche überprüft ob eine übergebene Nummer\n",
    "gerade ist. Die Funktion sollte nur aus einer Zeile bestehen (Tipp: Modulo Operator)\n",
    "3. Rufen Sie ihre Funktion nach dem Prinzip der Funktionalen Programmierung auf,\n",
    "extrahieren Sie alle geraden Zahlen und speichern Sie diese in einer Liste."
   ]
  },
  {
   "attachments": {},
   "cell_type": "markdown",
   "metadata": {},
   "source": []
  }
 ],
 "metadata": {
  "kernelspec": {
   "display_name": "Python 3",
   "language": "python",
   "name": "python3"
  },
  "language_info": {
   "codemirror_mode": {
    "name": "ipython",
    "version": 3
   },
   "file_extension": ".py",
   "mimetype": "text/x-python",
   "name": "python",
   "nbconvert_exporter": "python",
   "pygments_lexer": "ipython3",
   "version": "3.11.3"
  },
  "orig_nbformat": 4
 },
 "nbformat": 4,
 "nbformat_minor": 2
}
