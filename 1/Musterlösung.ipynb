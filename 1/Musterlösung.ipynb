{
 "cells": [
  {
   "cell_type": "markdown",
   "metadata": {},
   "source": [
    "# Musterlösung"
   ]
  },
  {
   "attachments": {},
   "cell_type": "markdown",
   "metadata": {},
   "source": [
    "## 1 Quersumme\n",
    "Schreiben Sie ein Programm, welches die Quersumme einer zufällig genierierten Integer Zahl zwischen 0 und 100000 ausgibt"
   ]
  },
  {
   "cell_type": "code",
   "execution_count": null,
   "metadata": {},
   "outputs": [],
   "source": [
    "import random\n",
    "\n",
    "zahl = random.randint(0,100000)\n",
    "def quersumme(z1):\n",
    "    q_sum = sum([int(i) for i in str(z1)])\n",
    "    return q_sum\n",
    "print(f\"Die Quersumme von {zahl} ist {quersumme(zahl)}\")"
   ]
  },
  {
   "attachments": {},
   "cell_type": "markdown",
   "metadata": {},
   "source": [
    "## 2 Schaltjahr\n",
    "Schreiben Sie ein Programm, das bestimmt, ob das vom Benutzer eingegebene Jahr ein Schaltjahr ist. Dies soll mithilfe zweier Funktionen erfolgen.\n",
    "\n",
    "Zuerst soll in der Funktion **bekomme_jahr()** ein Jahr vom Benutzer eingegeben werden und als Ganzzahl zurückgegeben werden. \n",
    "\n",
    "In der Funktion **pruefe_schaltjahr(jahr)** soll dann geprüft werden, ob das übergebene Jahr ein Schaltjahr ist. Ist es ein Schaltjahr, soll der boolean **True** zurückgegeben werden, andernfalls **False**.\n",
    "\n",
    "Prüfen Sie am Ende mit dem unten stehenden Code, ob Ihre Funktionen funktionieren."
   ]
  },
  {
   "cell_type": "markdown",
   "metadata": {},
   "source": [
    "### Funktion für die Jahr-Eingabe:"
   ]
  },
  {
   "cell_type": "code",
   "execution_count": null,
   "metadata": {},
   "outputs": [],
   "source": [
    "# Einfache Lösung (ohne Überprüfung) \n",
    "# Kann zu Fehlern führen!\n",
    "def bekomme_jahr():\n",
    "    user_input = int(input(\"Geben Sie eine Jahreszahl ein: \"))\n",
    "    return user_input\n",
    "    "
   ]
  },
  {
   "cell_type": "markdown",
   "metadata": {},
   "source": [
    "### Funktion für die Schaltjahr-Prüfung:"
   ]
  },
  {
   "cell_type": "markdown",
   "metadata": {},
   "source": [
    "Zusatzinfo:\n",
    "\n",
    "Ist ein Jahr durch 4 teilbar, ist es ein Schaltjahr\n",
    "- Kann man es zusätzlich durch 100 teilen, ist es kein Schaltjahr\n",
    "- Kann man es zusätzlich durch 100 **und** 400 teilen, ist es ein Schaltjahr\n",
    "\n",
    "Alle anderen Jahre sind keine Schaltjahre"
   ]
  },
  {
   "cell_type": "code",
   "execution_count": null,
   "metadata": {},
   "outputs": [],
   "source": [
    "def pruefe_schaltjahr(jahr):\n",
    "\n",
    "    if jahr % 4 == 0:\n",
    "        \n",
    "        if jahr % 100 == 0:\n",
    "            \n",
    "            if jahr % 400 == 0:\n",
    "                return True\n",
    "\n",
    "            else:\n",
    "                return False\n",
    "        else:\n",
    "            return True\n",
    "    else:\n",
    "        return False"
   ]
  },
  {
   "cell_type": "markdown",
   "metadata": {},
   "source": [
    "### Prüfen Sie Ihre Funktionen durch Ausführen des folgenden Codes:"
   ]
  },
  {
   "cell_type": "code",
   "execution_count": null,
   "metadata": {},
   "outputs": [],
   "source": [
    "user_input = bekomme_jahr() # Speichert das eingegebene Jahr als Variable ab\n",
    "\n",
    "if pruefe_schaltjahr(user_input): # Falls das Jahr ein Schaltjahr ist\n",
    "    print(f\"{user_input} ist ein Schaltjahr\")\n",
    "    \n",
    "else: # Falls das Jahr kein Schaltjahr ist\n",
    "    print(f\"{user_input} ist kein Schaltjahr\")"
   ]
  },
  {
   "cell_type": "markdown",
   "metadata": {},
   "source": [
    "***Bonus:*** \n",
    "- Passen Sie die Funktion bekomme_jahr() so an, dass die Eingabe nur zurückgegeben wird, wenn es sich um eine Ganzzahl handelt\n",
    "- Ist dies nicht der Fall, soll solange erneut nach einem Jahr gefragt werden, bis der Benutzer eine Ganzzahl eingibt"
   ]
  },
  {
   "cell_type": "code",
   "execution_count": null,
   "metadata": {},
   "outputs": [],
   "source": [
    "# Mit Überprüfung\n",
    "def bekomme_jahr():\n",
    "    \n",
    "    while True:\n",
    "        try:\n",
    "            user_input = int(input(\"Geben Sie eine Jahreszahl ein: \"))\n",
    "            return user_input\n",
    "        \n",
    "        except:\n",
    "            print(\"Versuchen Sie es erneut\")"
   ]
  },
  {
   "attachments": {},
   "cell_type": "markdown",
   "metadata": {},
   "source": [
    "## 3 Trading Algorithmus\n",
    "\n",
    "Ein Finanz-Startup beauftragt Sie einen Trading-Bot für Aktien zu programmieren. Dieser soll anhand von Aktienwerten der letzten 7 Tage entscheiden, ob eine Aktie gekauft oder verkauft werden soll.\n",
    "\n",
    "Dazu stellt das Startup folgende **Strategien** auf: *(fiktiv, keine Handlungsempfehlung)*\n",
    "1. Ist der aktuelleste Wert im Vergleich zum ältesten Wert gesunken, so soll verkauft werden, andernfalls gekauft\n",
    "\n",
    "2. Liegt der aktuellste Wert unter dem Durschnittswert, soll gekauft werden, andernfalls verkauft\n",
    "\n",
    "Schreiben Sie für jede Strategie eine **Funktion**, die zurückgibt (einfaches print() reicht), ob gekauft oder verkauft werden soll. Grundlage bzw. Input für die Funktion soll eine **Liste** [10, 12, 9, ...] mit 7 Elementen sein, bei der das letze Element den aktuellsten Wert, und das erste Element den ältesten Wert repräsentiert. Testen Sie Ihre Funktionen mit den vorgegebenen Listen.\n",
    "\n",
    "**Wichtig:** Der aktuellste Wert soll bei der Berechnung zum Durchschnittswert etc. nicht berücksichtigt werden"
   ]
  },
  {
   "cell_type": "code",
   "execution_count": null,
   "metadata": {},
   "outputs": [],
   "source": [
    "apple = [160, 166, 165, 166, 171, 169, 170]\n",
    "\n",
    "basf = [60, 56, 57, 49, 52, 51, 50]\n",
    "\n",
    "alibaba = [110, 120, 113, 118, 115, 116, 117]"
   ]
  },
  {
   "cell_type": "markdown",
   "metadata": {},
   "source": [
    "### Funktion für Strategie 1"
   ]
  },
  {
   "cell_type": "code",
   "execution_count": null,
   "metadata": {},
   "outputs": [],
   "source": [
    "def strategie_1(aktienwerte):\n",
    "    \n",
    "    if aktienwerte[len(aktienwerte)-1] < aktienwerte[0]:\n",
    "        print(\"Verkaufen\")\n",
    "    \n",
    "    else: \n",
    "        print(\"Kaufen\")"
   ]
  },
  {
   "cell_type": "markdown",
   "metadata": {},
   "source": [
    "### Funktion für Strategie 2"
   ]
  },
  {
   "cell_type": "code",
   "execution_count": null,
   "metadata": {},
   "outputs": [],
   "source": [
    "def strategie_2(aktienwerte):\n",
    "    \n",
    "    summe = 0\n",
    "    \n",
    "    for i in range(len(aktienwerte)-1):\n",
    "        summe += aktienwerte[i]\n",
    "    \n",
    "    durchschnittswert = summe / (len(aktienwerte)-1)\n",
    "    \n",
    "    if aktienwerte[len(aktienwerte)-1] < durchschnittswert:\n",
    "        print(\"Kaufen\")\n",
    "    \n",
    "    else:\n",
    "        print(\"Verkaufen\")"
   ]
  },
  {
   "attachments": {},
   "cell_type": "markdown",
   "metadata": {},
   "source": [
    "## 4 Palindrom\n",
    "Schreiben Sie eine Funktion, die mithilfe einer Schleife prüft, ob ein Wort ein Palindrom (Wort, das man von vorne gleich wie von hinten lesen kann) ist, oder nicht. *Tipp*: Setzen sie vor der Überprüfung das Wort in Klein- oder Großbuchstaben\n",
    "\n",
    "Testen Sie ihr Programm mit den folgenden Wörtern:"
   ]
  },
  {
   "cell_type": "code",
   "execution_count": null,
   "metadata": {},
   "outputs": [],
   "source": [
    "wort1 = \"Uhu\"\n",
    "wort2 = \"Legovogel\"\n",
    "wort3 = \"Universität\"\n",
    "wort4 = \"Lagerregal\"\n"
   ]
  },
  {
   "cell_type": "markdown",
   "metadata": {},
   "source": [
    "### Funktion zur Bestimmung eines Palindroms"
   ]
  },
  {
   "cell_type": "code",
   "execution_count": null,
   "metadata": {},
   "outputs": [],
   "source": [
    "def palindrom(wort):\n",
    "    wort = wort.lower()\n",
    "    \n",
    "    for buchstabe in range(len(wort)):\n",
    "        \n",
    "        if buchstabe > (len(wort)-1-buchstabe): # Bricht das Programm ab, wenn alle Buchstaben überprüft wurden (ab der Hälfte fertig)\n",
    "            break\n",
    "        \n",
    "        if wort[buchstabe] == wort[len(wort)-1-buchstabe]:\n",
    "            continue\n",
    "            \n",
    "        else:\n",
    "            return \"Das Wort ist kein Palindrom\"\n",
    "            \n",
    "    return f\"Das Wort ist ein Palindrom\"\n"
   ]
  }
 ],
 "metadata": {
  "kernelspec": {
   "display_name": "Python 3",
   "language": "python",
   "name": "python3"
  },
  "language_info": {
   "codemirror_mode": {
    "name": "ipython",
    "version": 3
   },
   "file_extension": ".py",
   "mimetype": "text/x-python",
   "name": "python",
   "nbconvert_exporter": "python",
   "pygments_lexer": "ipython3",
   "version": "3.10.6"
  },
  "orig_nbformat": 4
 },
 "nbformat": 4,
 "nbformat_minor": 2
}
