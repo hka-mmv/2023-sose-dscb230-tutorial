{
 "cells": [
  {
   "attachments": {},
   "cell_type": "markdown",
   "metadata": {},
   "source": [
    "# Tutorium (1) Info II "
   ]
  },
  {
   "attachments": {},
   "cell_type": "markdown",
   "metadata": {},
   "source": [
    "## 1. Quersumme\n",
    "Schreiben Sie ein Programm, welches die Quersumme einer zufällig genierierten Integer Zahl zwischen 0 und 100000 ausgibt"
   ]
  },
  {
   "cell_type": "code",
   "execution_count": null,
   "metadata": {},
   "outputs": [],
   "source": [
    "import random\n",
    "random.randint()"
   ]
  },
  {
   "attachments": {},
   "cell_type": "markdown",
   "metadata": {},
   "source": [
    "## 2. Schaltjahr\n",
    "Schreiben Sie ein Programm, das bestimmt, ob das vom Benutzer eingegebene Jahr ein Schaltjahr ist. Dies soll mithilfe zweier Funktionen erfolgen.\n",
    "\n",
    "Zuerst soll in der Funktion **bekomme_jahr()** ein Jahr vom Benutzer eingegeben werden und als Ganzzahl zurückgegeben werden. \n",
    "\n",
    "In der Funktion **pruefe_schaltjahr(jahr)** soll dann geprüft werden, ob das übergebene Jahr ein Schaltjahr ist. Ist es ein Schaltjahr, soll der boolean **True** zurückgegeben werden, andernfalls **False**.\n",
    "\n",
    "Prüfen Sie am Ende mit dem unten stehenden Code, ob Ihre Funktionen funktionieren."
   ]
  },
  {
   "cell_type": "markdown",
   "metadata": {},
   "source": [
    "### Funktion für die Jahr-Eingabe:"
   ]
  },
  {
   "cell_type": "code",
   "execution_count": null,
   "metadata": {},
   "outputs": [],
   "source": [
    "def bekomme_jahr():\n",
    "    pass"
   ]
  },
  {
   "cell_type": "markdown",
   "metadata": {},
   "source": [
    "### Funktion für die Schaltjahr-Prüfung:"
   ]
  },
  {
   "cell_type": "markdown",
   "metadata": {},
   "source": [
    "Zusatzinfo:\n",
    "\n",
    "Ist ein Jahr durch 4 teilbar, ist es ein Schaltjahr\n",
    "- Kann man es zusätzlich durch 100 teilen, ist es kein Schaltjahr\n",
    "- Kann man es zusätzlich durch 100 **und** 400 teilen, ist es ein Schaltjahr\n",
    "\n",
    "Alle anderen Jahre sind keine Schaltjahre"
   ]
  },
  {
   "cell_type": "code",
   "execution_count": null,
   "metadata": {},
   "outputs": [],
   "source": [
    "def pruefe_schaltjahr(jahr):\n",
    "    pass"
   ]
  },
  {
   "cell_type": "markdown",
   "metadata": {},
   "source": [
    "### Prüfen Sie Ihre Funktionen durch Ausführen des folgenden Codes:"
   ]
  },
  {
   "cell_type": "code",
   "execution_count": null,
   "metadata": {},
   "outputs": [
    {
     "name": "stdout",
     "output_type": "stream",
     "text": [
      "Versuchen Sie es erneut\n"
     ]
    },
    {
     "name": "stdout",
     "output_type": "stream",
     "text": [
      "Geben Sie eine Jahreszahl ein:  1200\n"
     ]
    }
   ],
   "source": [
    "user_input = bekomme_jahr() # Speichert das eingegebene Jahr als Variable ab\n",
    "\n",
    "if pruefe_schaltjahr(user_input): # Falls das Jahr ein Schaltjahr ist\n",
    "    print(f\"{user_input} ist ein Schaltjahr\")\n",
    "\n",
    "else: # Falls das Jahr kein Schaltjahr ist\n",
    "    print(f\"{user_input} ist kein Schaltjahr\")"
   ]
  },
  {
   "cell_type": "markdown",
   "metadata": {},
   "source": [
    "***Bonus:*** \n",
    "- Passen Sie die Funktion bekomme_jahr() so an, dass die Eingabe nur zurückgegeben wird, wenn es sich um eine Ganzzahl handelt\n",
    "- Ist dies nicht der Fall, soll solange erneut nach einem Jahr gefragt werden, bis der Benutzer eine Ganzzahl eingibt"
   ]
  },
  {
   "attachments": {},
   "cell_type": "markdown",
   "metadata": {},
   "source": [
    "## 3. Trading Algorithmus\n",
    "\n",
    "Ein Finanz-Startup beauftragt Sie einen Trading-Bot für Aktien zu programmieren. Dieser soll anhand von Aktienwerten der letzten 7 Tage entscheiden, ob eine Aktie gekauft oder verkauft werden soll.\n",
    "\n",
    "Dazu stellt das Startup folgende **Strategien** auf: *(fiktiv, keine Handlungsempfehlung)*\n",
    "1. Ist der aktuelleste Wert im Vergleich zum ältesten Wert gesunken, so soll verkauft werden, andernfalls gekauft\n",
    "\n",
    "2. Liegt der aktuellste Wert unter dem Durschnittswert, soll gekauft werden, andernfalls verkauft\n",
    "\n",
    "Schreiben Sie für jede Strategie eine **Funktion**, die zurückgibt (einfaches print() reicht), ob gekauft oder verkauft werden soll. Grundlage bzw. Input für die Funktion soll eine **Liste** [10, 12, 9, ...] mit 7 Elementen sein, bei der das letze Element den aktuellsten Wert, und das erste Element den ältesten Wert repräsentiert. Testen Sie Ihre Funktionen mit den vorgegebenen Listen.\n",
    "\n",
    "**Wichtig:** Der aktuellste Wert soll bei der Berechnung zum Durchschnittswert etc. nicht berücksichtigt werden"
   ]
  },
  {
   "cell_type": "code",
   "execution_count": null,
   "metadata": {},
   "outputs": [],
   "source": [
    "apple = [160, 166, 165, 166, 171, 169, 170]\n",
    "\n",
    "basf = [60, 56, 57, 49, 52, 51, 50]\n",
    "\n",
    "alibaba = [110, 120, 113, 118, 115, 116, 117]"
   ]
  },
  {
   "cell_type": "markdown",
   "metadata": {},
   "source": [
    "### Funktion für Strategie 1"
   ]
  },
  {
   "cell_type": "code",
   "execution_count": null,
   "metadata": {},
   "outputs": [],
   "source": []
  },
  {
   "cell_type": "markdown",
   "metadata": {},
   "source": [
    "### Funktion für Strategie 2"
   ]
  },
  {
   "cell_type": "code",
   "execution_count": null,
   "metadata": {},
   "outputs": [],
   "source": []
  },
  {
   "attachments": {},
   "cell_type": "markdown",
   "metadata": {},
   "source": [
    "## 3. Palindrom\n",
    "Schreiben Sie eine Funktion, die mithilfe einer Schleife prüft, ob ein Wort ein Palindrom (Wort, das man von vorne gleich wie von hinten lesen kann) ist, oder nicht. *Tipp*: Setzen sie vor der Überprüfung das Wort in Klein- oder Großbuchstaben\n",
    "\n",
    "Testen Sie ihr Programm z.B. mit den folgenden Wörtern:"
   ]
  },
  {
   "cell_type": "code",
   "execution_count": null,
   "metadata": {},
   "outputs": [],
   "source": [
    "wort1 = \"Uhu\"\n",
    "wort2 = \"Legovogel\"\n",
    "wort3 = \"Universität\"\n",
    "wort4 = \"Lagerregal\"\n"
   ]
  },
  {
   "cell_type": "markdown",
   "metadata": {},
   "source": [
    "### Funktion zur Bestimmung eines Palindroms"
   ]
  },
  {
   "cell_type": "code",
   "execution_count": null,
   "metadata": {},
   "outputs": [],
   "source": []
  }
 ],
 "metadata": {
  "language_info": {
   "name": "python"
  },
  "orig_nbformat": 4
 },
 "nbformat": 4,
 "nbformat_minor": 2
}
