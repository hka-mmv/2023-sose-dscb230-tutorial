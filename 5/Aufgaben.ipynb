{
 "cells": [
  {
   "cell_type": "markdown",
   "id": "6205df9b-5ac8-4dd6-9525-2a7314006cc5",
   "metadata": {
    "tags": []
   },
   "source": [
    "# Tutorium Informatik für Data Science 2\n",
    "## Thema: Erweiterte Grundlagen Python"
   ]
  },
  {
   "cell_type": "markdown",
   "id": "e4bd5b24",
   "metadata": {},
   "source": [
    "---"
   ]
  },
  {
   "cell_type": "markdown",
   "id": "e195c584-7d28-4e9f-a230-59d48e399170",
   "metadata": {},
   "source": [
    "### Aufgabe 1: List Comprehension"
   ]
  },
  {
   "cell_type": "markdown",
   "id": "4957b881",
   "metadata": {},
   "source": [
    "Das Listenverständnis, das oft als Teil der funktionalen Programmierung in Python angesehen wird, ermöglicht es, mit weniger Code Listen für eine Schleife zu erstellen. Kurz gesagt, es ist eine wahrhaft pythonische Art des Programmierens. Weniger Code - mehr Effektivität.\n",
    "Versuchen Sie also Listen zu befüllen, mit möglichst wenig Zeilen Code.\n",
    "1. Füllen Sie eine Liste, klassisch mit einer Forschleife. Es sollen alle Zahlen von 0 bis 9\n",
    "enthalten sein.\n",
    "2. Füllen Sie eine Liste, nach den Regel der List Comprehension. Es sollen alle Zahlen\n",
    "von 0 bis 9 enthalten sein.\n",
    "3. Formen Sie Teilaufgabe 2 so um, das nun nur noch alle gerade Zahlen enthalten sind.\n",
    "4. Formen Sie Teilaufgabe 3 so um, das nun nur noch alle gerade Zahlen enthalten sind,\n",
    "und diese mit 2 multipliziert werden.\n",
    "5. Gegeben seien folgende Listen, erarbeiten sie mithilfe der List Comprehension\n",
    "folgende Ausgabe:\n"
   ]
  },
  {
   "cell_type": "code",
   "execution_count": 1,
   "id": "6e711e1f",
   "metadata": {},
   "outputs": [],
   "source": [
    "nums = [1, 2, 3, 4, 5]\n",
    "letters = ['A', 'B', 'C', 'D', 'E']"
   ]
  },
  {
   "cell_type": "markdown",
   "id": "75b53c3a",
   "metadata": {},
   "source": [
    "Gewünschter Output:<br>\n",
    "`[[1, 'A'], [1, 'B'], [1, 'C'], [1, 'D'], [1, 'E'], [2, 'A'], [2,\n",
    "'B'], [2, .....`"
   ]
  },
  {
   "cell_type": "code",
   "execution_count": 7,
   "id": "d076d8d4",
   "metadata": {},
   "outputs": [],
   "source": [
    "#TODO"
   ]
  },
  {
   "cell_type": "markdown",
   "id": "3ba9acc6",
   "metadata": {},
   "source": [
    "6. Schreiben Sie ein Programm, welches mittels der List Comprehension, einen Beispiel Text dscb230 in jeden einzelnen Char aufteilt und in einer Liste speichert, also:"
   ]
  },
  {
   "cell_type": "markdown",
   "id": "42ab5d9d",
   "metadata": {},
   "source": [
    "Gewünschter Output:\n",
    "`['d', 's', 'c', 'b', '2', '3', '0']`"
   ]
  },
  {
   "cell_type": "code",
   "execution_count": 8,
   "id": "bdab2c30",
   "metadata": {},
   "outputs": [],
   "source": [
    "#TODO"
   ]
  },
  {
   "cell_type": "markdown",
   "id": "8d813826",
   "metadata": {},
   "source": [
    "---"
   ]
  },
  {
   "cell_type": "markdown",
   "id": "641d1c76",
   "metadata": {},
   "source": [
    "### Aufgabe 2: Try-Except"
   ]
  },
  {
   "cell_type": "markdown",
   "id": "b9b7b4f9",
   "metadata": {},
   "source": [
    "1. Schreiben Sie ein Programm, welches für 2 vom Benutzer eingegebene Zahlen den Quotienten bildet. Fangen Sie hierbei zum Einen den ValueError an, falls der Nutzer keine Zahl eingibt, und den ZeroDivisionError ab, wenn versucht wird, durch 0 zu dividieren, sodass das Programm dabei nicht abstürzt, sondern den Fehler „Sie dürfen nur Zahlen eingeben“ bzw. „Eine Division durch 0 ist nicht möglich, geben Sie bitte andere Werte ein“ ausgibt."
   ]
  },
  {
   "cell_type": "code",
   "execution_count": 6,
   "id": "883ef7ac",
   "metadata": {},
   "outputs": [],
   "source": [
    "#TODO"
   ]
  },
  {
   "cell_type": "markdown",
   "id": "5e011205",
   "metadata": {},
   "source": [
    "2. Im Folgenden ist ein Programmcode, welcher aus einem langen Satz zählt, wie oft ein Buchstabe vorkommt. Ohne den Programmcode auszuführen, welcher Fehler könnte hierbei auftreten und wie kann man diesen mithilfe der Ausnahmebehandlung lösen?"
   ]
  },
  {
   "cell_type": "code",
   "execution_count": 10,
   "id": "4f6af72f",
   "metadata": {},
   "outputs": [],
   "source": [
    "sample_sentence = \"\"\"Data Science (von englisch data „Daten“ und\n",
    "science „Wissenschaft“, im Deutschen auch Datenwissenschaft)\n",
    "bezeichnet generell die Extraktion von Wissen aus Daten.\n",
    "Data Science ist ein interdisziplinäres Wissenschaftsfeld,\n",
    "welches wissenschaftlich fundierte Methoden, Prozesse,\n",
    "Algorithmen und Systeme zur Extraktion von Erkenntnissen, Mustern\n",
    "und Schlüssen sowohl aus strukturierten als auch unstrukturierten\n",
    "Daten ermöglicht.\n",
    "Der Studiengang Data Science verwendet Techniken und Theorien aus\n",
    "den Fächern Mathematik, Statistik und Informationstechnologie,\n",
    "einschließlich der Signalverarbeitung, verwendet\n",
    "Wahrscheinlichkeitsmodelle des maschinellen Lernens, des\n",
    "statistischen Lernens, der Programmierung, der Datentechnik, der\n",
    "Mustererkennung, der Prognostik, der Modellierung von\n",
    "Unsicherheiten und der Datenlagerung.\n",
    "Personen, die im Bereich Data Science arbeiten, werden als Data\n",
    "Scientist bzw. Datenwissenschaftler bezeichnet, wobei meist\n",
    "speziellere oder Spezialisierungen anderer, übergeordneter\n",
    "Berufsbezeichnungen üblich sind (z. B. Statistiker,\n",
    "Informatiker)\"\"\""
   ]
  },
  {
   "cell_type": "code",
   "execution_count": null,
   "id": "1ccf768e",
   "metadata": {},
   "outputs": [],
   "source": [
    "char_counter = {}\n",
    "for char in sample_sentence:\n",
    "    char_counter[char] += 1\n",
    "print(sorted(char_counter.items(), key=lambda x: x[1],\n",
    "reverse=True))"
   ]
  }
 ],
 "metadata": {
  "kernelspec": {
   "display_name": "Python 3",
   "language": "python",
   "name": "python3"
  },
  "language_info": {
   "codemirror_mode": {
    "name": "ipython",
    "version": 3
   },
   "file_extension": ".py",
   "mimetype": "text/x-python",
   "name": "python",
   "nbconvert_exporter": "python",
   "pygments_lexer": "ipython3",
   "version": "3.8.8"
  }
 },
 "nbformat": 4,
 "nbformat_minor": 5
}
