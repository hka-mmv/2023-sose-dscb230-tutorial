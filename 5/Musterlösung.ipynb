{
 "cells": [
  {
   "cell_type": "markdown",
   "id": "6205df9b-5ac8-4dd6-9525-2a7314006cc5",
   "metadata": {
    "tags": []
   },
   "source": [
    "# Tutorium Informatik für Data Science 2\n",
    "## Thema: Erweiterte Grundlagen Python"
   ]
  },
  {
   "cell_type": "markdown",
   "id": "8ed9df32",
   "metadata": {},
   "source": [
    "---"
   ]
  },
  {
   "cell_type": "markdown",
   "id": "e195c584-7d28-4e9f-a230-59d48e399170",
   "metadata": {},
   "source": [
    "### Aufgabe 1: List Comprehension"
   ]
  },
  {
   "cell_type": "markdown",
   "id": "7b101ed6",
   "metadata": {},
   "source": [
    "Das Listenverständnis, das oft als Teil der funktionalen Programmierung in Python angesehen wird, ermöglicht es, mit weniger Code Listen für eine Schleife zu erstellen. Kurz gesagt, es ist eine wahrhaft pythonische Art des Programmierens. Weniger Code - mehr Effektivität.\n",
    "Versuchen Sie also Listen zu befüllen, mit möglichst wenig Zeilen Code.\n",
    "1. Füllen Sie eine Liste, klassisch mit einer Forschleife. Es sollen alle Zahlen von 0 bis 9\n",
    "enthalten sein.\n",
    "2. Füllen Sie eine Liste, nach den Regel der List Comprehension. Es sollen alle Zahlen\n",
    "von 0 bis 9 enthalten sein.\n",
    "3. Formen Sie Teilaufgabe 2 so um, das nun nur noch alle gerade Zahlen enthalten sind.\n",
    "4. Formen Sie Teilaufgabe 3 so um, das nun nur noch alle gerade Zahlen enthalten sind,\n",
    "und diese mit 2 multipliziert werden.\n",
    "5. Gegeben seien folgende Listen, erarbeiten sie mithilfe der List Comprehension\n",
    "folgende Ausgabe:\n"
   ]
  },
  {
   "cell_type": "code",
   "execution_count": 1,
   "id": "66d62a81",
   "metadata": {},
   "outputs": [],
   "source": [
    "nums = [1, 2, 3, 4, 5]\n",
    "letters = ['A', 'B', 'C', 'D', 'E']"
   ]
  },
  {
   "cell_type": "markdown",
   "id": "b384ea4a",
   "metadata": {},
   "source": [
    "Gewünschter Output:<br>\n",
    "`[[1, 'A'], [1, 'B'], [1, 'C'], [1, 'D'], [1, 'E'], [2, 'A'], [2,\n",
    "'B'], [2, .....`"
   ]
  },
  {
   "cell_type": "code",
   "execution_count": 2,
   "id": "569f76c1",
   "metadata": {},
   "outputs": [
    {
     "data": {
      "text/plain": [
       "[0, 1, 2, 3, 4, 5, 6, 7, 8, 9]"
      ]
     },
     "execution_count": 2,
     "metadata": {},
     "output_type": "execute_result"
    }
   ],
   "source": [
    "my_list = []\n",
    "for x in range(10): \n",
    "    my_list.append(x)\n",
    "my_list"
   ]
  },
  {
   "cell_type": "code",
   "execution_count": 3,
   "id": "44cc964a",
   "metadata": {},
   "outputs": [
    {
     "data": {
      "text/plain": [
       "[0, 1, 2, 3, 4, 5, 6, 7, 8, 9]"
      ]
     },
     "execution_count": 3,
     "metadata": {},
     "output_type": "execute_result"
    }
   ],
   "source": [
    "my_list = [x for x in range(10)]\n",
    "my_list"
   ]
  },
  {
   "cell_type": "code",
   "execution_count": 4,
   "id": "6d68fad0",
   "metadata": {},
   "outputs": [
    {
     "data": {
      "text/plain": [
       "[0, 2, 4, 6, 8]"
      ]
     },
     "execution_count": 4,
     "metadata": {},
     "output_type": "execute_result"
    }
   ],
   "source": [
    "my_list = [x for x in range(10) if x % 2 == 0]\n",
    "my_list"
   ]
  },
  {
   "cell_type": "code",
   "execution_count": 5,
   "id": "82921a1f",
   "metadata": {},
   "outputs": [
    {
     "data": {
      "text/plain": [
       "[0, 4, 8, 12, 16]"
      ]
     },
     "execution_count": 5,
     "metadata": {},
     "output_type": "execute_result"
    }
   ],
   "source": [
    "my_list = [x * 2 for x in range(10) if x % 2 == 0]\n",
    "my_list"
   ]
  },
  {
   "cell_type": "code",
   "execution_count": 6,
   "id": "9e60f924",
   "metadata": {},
   "outputs": [
    {
     "data": {
      "text/plain": [
       "[[1, 'A'],\n",
       " [1, 'B'],\n",
       " [1, 'C'],\n",
       " [1, 'D'],\n",
       " [1, 'E'],\n",
       " [2, 'A'],\n",
       " [2, 'B'],\n",
       " [2, 'C'],\n",
       " [2, 'D'],\n",
       " [2, 'E'],\n",
       " [3, 'A'],\n",
       " [3, 'B'],\n",
       " [3, 'C'],\n",
       " [3, 'D'],\n",
       " [3, 'E'],\n",
       " [4, 'A'],\n",
       " [4, 'B'],\n",
       " [4, 'C'],\n",
       " [4, 'D'],\n",
       " [4, 'E'],\n",
       " [5, 'A'],\n",
       " [5, 'B'],\n",
       " [5, 'C'],\n",
       " [5, 'D'],\n",
       " [5, 'E']]"
      ]
     },
     "execution_count": 6,
     "metadata": {},
     "output_type": "execute_result"
    }
   ],
   "source": [
    "nums = [1, 2, 3, 4, 5]\n",
    "letters = ['A', 'B', 'C', 'D', 'E']\n",
    "my_list = [[n, l] for n in nums for l in letters]\n",
    "my_list"
   ]
  },
  {
   "cell_type": "markdown",
   "id": "50568bdb",
   "metadata": {},
   "source": [
    "6. Schreiben Sie ein Programm, welches mittels der List Comprehension, einen Beispiel Text dscb230 in jeden einzelnen Char aufteilt und in einer Liste speichert, also:"
   ]
  },
  {
   "cell_type": "markdown",
   "id": "45b45b34",
   "metadata": {},
   "source": [
    "Gewünschter Output:\n",
    "`['d', 's', 'c', 'b', '2', '3', '0']`"
   ]
  },
  {
   "cell_type": "code",
   "execution_count": 1,
   "id": "3c36177d",
   "metadata": {},
   "outputs": [
    {
     "data": {
      "text/plain": [
       "['d', 's', 'c', 'b', '2', '3', '0']"
      ]
     },
     "execution_count": 1,
     "metadata": {},
     "output_type": "execute_result"
    }
   ],
   "source": [
    "word = \"dscb230\"\n",
    "my_list = [x for x in word if x !=\" \"]\n",
    "my_list"
   ]
  },
  {
   "cell_type": "markdown",
   "id": "81873d38",
   "metadata": {},
   "source": [
    "---"
   ]
  },
  {
   "cell_type": "markdown",
   "id": "9dadecb8",
   "metadata": {},
   "source": [
    "### Aufgabe 2: Try-Except"
   ]
  },
  {
   "cell_type": "markdown",
   "id": "609f53c9",
   "metadata": {},
   "source": [
    "1. Schreiben Sie ein Programm, welches für 2 vom Benutzer eingegebene Zahlen den Quotienten bildet. Fangen Sie hierbei zum Einen den ValueError an, falls der Nutzer keine Zahl eingibt, und den ZeroDivisionError ab, wenn versucht wird, durch 0 zu dividieren, sodass das Programm dabei nicht abstürzt, sondern den Fehler „Sie dürfen nur Zahlen eingeben“ bzw. „Eine Division durch 0 ist nicht möglich, geben Sie bitte andere Werte ein“ ausgibt."
   ]
  },
  {
   "cell_type": "code",
   "execution_count": 8,
   "id": "9eaf0b5c",
   "metadata": {
    "scrolled": true
   },
   "outputs": [],
   "source": [
    "def get_user_input():\n",
    "    try:\n",
    "        return (int(input(\"Geben Sie eine Zahl ein\")), int(input(\"Geben Sie erneut eine Zahl ein\")))\n",
    "    except ValueError:\n",
    "        print(\"Sie dürfen nur Zahlen eingeben\")\n",
    "        return get_user_input()\n",
    "\n",
    "def divide(z1, z2):\n",
    "    try:\n",
    "        print(z1/z2)\n",
    "    except ZeroDivisionError:\n",
    "        print(\"Eine Division durch 0 ist nicht möglich, geben Sie bitte andere Werte ein\")\n",
    "        x,y = get_user_input()\n",
    "        divide(x,y)\n",
    "\n",
    "x,y = get_user_input()\n",
    "divide(x,y)"
   ]
  },
  {
   "cell_type": "markdown",
   "id": "2cec147d",
   "metadata": {},
   "source": [
    "2. Im Folgenden ist ein Programmcode, welcher aus einem langen Satz zählt, wie oft ein Buchstabe vorkommt. Ohne den Programmcode auszuführen, welcher Fehler könnte hierbei auftreten und wie kann man diesen mithilfe der Ausnahmebehandlung lösen?"
   ]
  },
  {
   "cell_type": "code",
   "execution_count": 9,
   "id": "c68594db",
   "metadata": {},
   "outputs": [],
   "source": [
    "sample_sentence = \"\"\"Data Science (von englisch data „Daten“ und\n",
    "science „Wissenschaft“, im Deutschen auch Datenwissenschaft)\n",
    "bezeichnet generell die Extraktion von Wissen aus Daten.\n",
    "Data Science ist ein interdisziplinäres Wissenschaftsfeld,\n",
    "welches wissenschaftlich fundierte Methoden, Prozesse,\n",
    "Algorithmen und Systeme zur Extraktion von Erkenntnissen, Mustern\n",
    "und Schlüssen sowohl aus strukturierten als auch unstrukturierten\n",
    "Daten ermöglicht.\n",
    "Der Studiengang Data Science verwendet Techniken und Theorien aus\n",
    "den Fächern Mathematik, Statistik und Informationstechnologie,\n",
    "einschließlich der Signalverarbeitung, verwendet\n",
    "Wahrscheinlichkeitsmodelle des maschinellen Lernens, des\n",
    "statistischen Lernens, der Programmierung, der Datentechnik, der\n",
    "Mustererkennung, der Prognostik, der Modellierung von\n",
    "Unsicherheiten und der Datenlagerung.\n",
    "Personen, die im Bereich Data Science arbeiten, werden als Data\n",
    "Scientist bzw. Datenwissenschaftler bezeichnet, wobei meist\n",
    "speziellere oder Spezialisierungen anderer, übergeordneter\n",
    "Berufsbezeichnungen üblich sind (z. B. Statistiker,\n",
    "Informatiker)\"\"\""
   ]
  },
  {
   "cell_type": "code",
   "execution_count": 10,
   "id": "cf85771a",
   "metadata": {},
   "outputs": [
    {
     "name": "stdout",
     "output_type": "stream",
     "text": [
      "[('e', 145), (' ', 99), ('n', 97), ('i', 74), ('t', 68), ('s', 65), ('r', 62), ('a', 50), ('c', 40), ('h', 36), ('d', 33), ('l', 30), ('u', 30), ('o', 26), ('g', 19), ('\\n', 19), (',', 19), ('D', 14), ('k', 14), ('m', 13), ('S', 12), ('f', 10), ('w', 10), ('z', 10), ('b', 9), ('v', 7), ('.', 6), ('M', 5), ('W', 4), ('P', 4), ('E', 3), ('p', 3), ('ü', 3), ('B', 3), ('(', 2), ('„', 2), ('“', 2), (')', 2), ('x', 2), ('ä', 2), ('T', 2), ('I', 2), ('L', 2), ('A', 1), ('y', 1), ('ö', 1), ('F', 1), ('ß', 1), ('U', 1)]\n"
     ]
    }
   ],
   "source": [
    "char_counter = {}\n",
    "for char in sample_sentence:\n",
    "    try:\n",
    "        char_counter[char] += 1\n",
    "    except KeyError:\n",
    "        char_counter[char] = 1\n",
    "\n",
    "print(sorted(char_counter.items(), key=lambda x: x[1], reverse=True))"
   ]
  },
  {
   "cell_type": "code",
   "execution_count": null,
   "id": "6fac4281",
   "metadata": {},
   "outputs": [],
   "source": []
  }
 ],
 "metadata": {
  "kernelspec": {
   "display_name": "Python 3",
   "language": "python",
   "name": "python3"
  },
  "language_info": {
   "codemirror_mode": {
    "name": "ipython",
    "version": 3
   },
   "file_extension": ".py",
   "mimetype": "text/x-python",
   "name": "python",
   "nbconvert_exporter": "python",
   "pygments_lexer": "ipython3",
   "version": "3.8.8"
  }
 },
 "nbformat": 4,
 "nbformat_minor": 5
}
