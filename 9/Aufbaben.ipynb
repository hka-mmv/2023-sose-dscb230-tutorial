{
 "cells": [
  {
   "attachments": {},
   "cell_type": "markdown",
   "metadata": {},
   "source": [
    "# Klaursur Vorbereitung "
   ]
  },
  {
   "attachments": {},
   "cell_type": "markdown",
   "metadata": {},
   "source": [
    "## Objekt Orientirung"
   ]
  },
  {
   "attachments": {},
   "cell_type": "markdown",
   "metadata": {},
   "source": [
    "#### Kursverwaltung an der Hochschule\n",
    "\n",
    "Aufgabe:\n",
    "Erstellen Sie eine Klassenhierarchie für die Verwaltung von Kursen an einer Hochschule. Die Grundklasse soll eine abstrakte Klasse namens \"Kurs\" sein. Jeder Kurs sollte einen Titel, einen Dozenten und eine Kursnummer haben. \n",
    "\n",
    "Die abgeleitete Klasse \"Vorlesung\" soll von der Klasse \"Kurs\" erben und kann die Anzahl der Teilnehmer und die Dauer der Vorlesung verwalten.\n",
    "\n",
    "Die abgeleitete Klasse \"Seminar\" soll ebenfalls von der Klasse \"Kurs\" erben und die Anzahl der Teilnehmer und die maximale Anzahl von Teilnehmern für das Seminar verwalten.\n",
    "\n",
    "Implementieren Sie die Klassen \"Kurs\", \"Vorlesung\" und \"Seminar\" mit den entsprechenden Attributen und Methoden. Stellen Sie sicher, dass die Attribute der Basisklasse private sind und über geeignete Getter- und Setter-Methoden zugegriffen werden können. Verwenden Sie außerdem ein statisches Attribut, um die Anzahl der erstellten Kurse zu zählen.\n",
    "\n",
    "Schreiben Sie dann einen Testcode, um Ihre Implementierung zu überprüfen. Erstellen Sie Instanzen von Kursen, Vorlesungen und Seminaren, setzen Sie die entsprechenden Attribute und rufen Sie die Methoden auf, um die Daten anzuzeigen.\n",
    "\n",
    "Bonusaufgabe: Zeige anhand der Klassen das Konzept der Polymorphie\n"
   ]
  },
  {
   "cell_type": "code",
   "execution_count": 19,
   "metadata": {},
   "outputs": [],
   "source": [
    "#TO DO"
   ]
  },
  {
   "attachments": {},
   "cell_type": "markdown",
   "metadata": {},
   "source": [
    "## Pandas"
   ]
  },
  {
   "attachments": {},
   "cell_type": "markdown",
   "metadata": {},
   "source": [
    "Hier sind fünf Übungsaufgaben für den gegebenen Datensatz (bigmac.csv):\n",
    "\n",
    "Genelle Ideen die ihr euch mal überlgen könnt:\n",
    "Eigenen vorveratbeitung funktionen erstellen und sie mit Pipe auf den Daten Staz anwenden: https://pandas.pydata.org/docs/reference/api/pandas.DataFrame.pipe.html\n",
    "ggf können diese auch in eine einge Bilotek ausgelagert werden.\n",
    "\n",
    "1. Daten einlesen und anzeigen:\n",
    "   - Lese den Datensatz in Python ein und zeige die ersten fünf Zeilen an.\n",
    "\n",
    "2. Durchschnittlicher Big Mac-Preis:\n",
    "   - Berechne den durchschnittlichen Preis für einen Big Mac über alle Länder und Zeiträume hinweg.\n",
    "   - Gib das Ergebnis aus.\n",
    "\n",
    "3. Länder mit teuerstem Big Mac:\n",
    "   - Ermittle das Land mit dem höchsten durchschnittlichen Big Mac-Preis.\n",
    "   - Gib das Land und den entsprechenden Durchschnittspreis aus.\n",
    "\n",
    "4. Preisentwicklung über die Zeit visualisieren:\n",
    "   - Wähle ein bestimmtes Land aus dem Datensatz aus.\n",
    "   - Erstelle einen Liniengraphen, der den Preis eines Big Macs über die Zeit für dieses Land darstellt.\n",
    "\n",
    "5. Wechselkursanalyse:\n",
    "   - Berechne den durchschnittlichen Wechselkurs für jede Währung im Datensatz.\n",
    "   - Ermittle die Währung mit dem höchsten durchschnittlichen Wechselkurs.\n",
    "   - Gib die Währung und den entsprechenden Durchschnittswechselkurs aus.\n",
    "\n",
    "Diese Übungsaufgaben bieten verschiedene Möglichkeiten, den gegebenen Datensatz zu analysieren und zu visualisieren. Du kannst sie als Ausgangspunkt nehmen und sie entsprechend deinen Anforderungen anpassen."
   ]
  },
  {
   "attachments": {},
   "cell_type": "markdown",
   "metadata": {},
   "source": [
    "1. Daten einlesen und anzeigen:\n",
    "\n"
   ]
  },
  {
   "attachments": {},
   "cell_type": "markdown",
   "metadata": {},
   "source": []
  },
  {
   "attachments": {},
   "cell_type": "markdown",
   "metadata": {},
   "source": [
    "|Name|Description|\n",
    "|--|--|\n",
    "|date|The date of the measurement.|\n",
    "|currency_code|Internatinal code for the currency in the country|\n",
    "|name|Name of the country.|\n",
    "|local_price|Price of a bigmac in the local currency.|\n",
    "|dollar_ex|The dollar exchange rate.|\n",
    "|dollar_price|The price of a bigmac translated back to dollars. |"
   ]
  },
  {
   "cell_type": "code",
   "execution_count": null,
   "metadata": {},
   "outputs": [],
   "source": [
    "#TO DO"
   ]
  },
  {
   "attachments": {},
   "cell_type": "markdown",
   "metadata": {},
   "source": [
    "\n",
    "\n",
    "2. Durchschnittlicher Big Mac-Preis:\n",
    "\n"
   ]
  },
  {
   "cell_type": "code",
   "execution_count": null,
   "metadata": {},
   "outputs": [],
   "source": [
    "#TO DO"
   ]
  },
  {
   "attachments": {},
   "cell_type": "markdown",
   "metadata": {},
   "source": [
    "\n",
    "\n",
    "3. Länder mit teuerstem Big Mac:\n",
    "\n"
   ]
  },
  {
   "cell_type": "code",
   "execution_count": null,
   "metadata": {},
   "outputs": [],
   "source": [
    "#TO DO"
   ]
  },
  {
   "attachments": {},
   "cell_type": "markdown",
   "metadata": {},
   "source": [
    "\n",
    "\n",
    "4. Preisentwicklung über die Zeit visualisieren:\n",
    "\n"
   ]
  },
  {
   "cell_type": "code",
   "execution_count": null,
   "metadata": {},
   "outputs": [],
   "source": [
    "#TO DO"
   ]
  },
  {
   "attachments": {},
   "cell_type": "markdown",
   "metadata": {},
   "source": [
    "5. Wechselkursanalyse:"
   ]
  },
  {
   "cell_type": "code",
   "execution_count": null,
   "metadata": {},
   "outputs": [],
   "source": [
    "#TO DO"
   ]
  },
  {
   "attachments": {},
   "cell_type": "markdown",
   "metadata": {},
   "source": [
    "## Scrapy\n",
    "### Exampel\n",
    "The quotesbot project is available at: https://github.com/scrapy/quotesbot"
   ]
  }
 ],
 "metadata": {
  "kernelspec": {
   "display_name": "Python 3",
   "language": "python",
   "name": "python3"
  },
  "language_info": {
   "codemirror_mode": {
    "name": "ipython",
    "version": 3
   },
   "file_extension": ".py",
   "mimetype": "text/x-python",
   "name": "python",
   "nbconvert_exporter": "python",
   "pygments_lexer": "ipython3",
   "version": "3.11.3"
  },
  "orig_nbformat": 4
 },
 "nbformat": 4,
 "nbformat_minor": 2
}
