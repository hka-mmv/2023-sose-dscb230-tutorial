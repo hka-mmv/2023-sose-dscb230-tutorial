{
 "cells": [
  {
   "attachments": {},
   "cell_type": "markdown",
   "metadata": {},
   "source": [
    "# Klaursur Vorbereitung "
   ]
  },
  {
   "attachments": {},
   "cell_type": "markdown",
   "metadata": {},
   "source": [
    "## Objekt Orientirung"
   ]
  },
  {
   "attachments": {},
   "cell_type": "markdown",
   "metadata": {},
   "source": [
    "#### Kursverwaltung an der Hochschule\n",
    "\n",
    "Aufgabe:\n",
    "Erstellen Sie eine Klassenhierarchie für die Verwaltung von Kursen an einer Hochschule. Die Grundklasse soll eine abstrakte Klasse namens \"Kurs\" sein. Jeder Kurs sollte einen Titel, einen Dozenten und eine Kursnummer haben. \n",
    "\n",
    "Die abgeleitete Klasse \"Vorlesung\" soll von der Klasse \"Kurs\" erben und kann die Anzahl der Teilnehmer und die Dauer der Vorlesung verwalten.\n",
    "\n",
    "Die abgeleitete Klasse \"Seminar\" soll ebenfalls von der Klasse \"Kurs\" erben und die Anzahl der Teilnehmer und die maximale Anzahl von Teilnehmern für das Seminar verwalten.\n",
    "\n",
    "Implementieren Sie die Klassen \"Kurs\", \"Vorlesung\" und \"Seminar\" mit den entsprechenden Attributen und Methoden. Stellen Sie sicher, dass die Attribute der Basisklasse private sind und über geeignete Getter- und Setter-Methoden zugegriffen werden können. Verwenden Sie außerdem ein statisches Attribut, um die Anzahl der erstellten Kurse zu zählen.\n",
    "\n",
    "Schreiben Sie dann einen Testcode, um Ihre Implementierung zu überprüfen. Erstellen Sie Instanzen von Kursen, Vorlesungen und Seminaren, setzen Sie die entsprechenden Attribute und rufen Sie die Methoden auf, um die Daten anzuzeigen.\n",
    "\n",
    "Bonusaufgabe: Zeige anhand der Klassen das Konzept der Polymorphie\n"
   ]
  },
  {
   "cell_type": "code",
   "execution_count": null,
   "metadata": {},
   "outputs": [],
   "source": [
    "from abc import ABC, abstractmethod\n",
    "\n",
    "class Kurs(ABC):\n",
    "    anzahl_kurse = 0\n",
    "\n",
    "    def __init__(self, titel, dozent, kursnummer):\n",
    "        self._titel = titel\n",
    "        self._dozent = dozent\n",
    "        self._kursnummer = kursnummer\n",
    "        Kurs.anzahl_kurse += 1\n",
    "\n",
    "    def get_titel(self):\n",
    "        return self._titel\n",
    "\n",
    "    def get_dozent(self):\n",
    "        return self._dozent\n",
    "\n",
    "    def get_kursnummer(self):\n",
    "        return self._kursnummer\n",
    "\n",
    "    @abstractmethod\n",
    "    def get_details(self):\n",
    "        pass\n",
    "\n",
    "class Vorlesung(Kurs):\n",
    "    def __init__(self, titel, dozent, kursnummer, teilnehmer, dauer):\n",
    "        super().__init__(titel, dozent, kursnummer)\n",
    "        self._teilnehmer = teilnehmer\n",
    "        self._dauer = dauer\n",
    "\n",
    "    def get_teilnehmer(self):\n",
    "        return self._teilnehmer\n",
    "\n",
    "    def get_dauer(self):\n",
    "        return self._dauer\n",
    "\n",
    "    def get_details(self):\n",
    "        return f\"Vorlesung: {self.get_titel()}, Dozent: {self.get_dozent()}, Teilnehmer: {self._teilnehmer}, Dauer: {self._dauer}\"\n",
    "\n",
    "class Seminar(Kurs):\n",
    "    def __init__(self, titel, dozent, kursnummer, teilnehmer, max_teilnehmer):\n",
    "        super().__init__(titel, dozent, kursnummer)\n",
    "        self._teilnehmer = teilnehmer\n",
    "        self._max_teilnehmer = max_teilnehmer\n",
    "\n",
    "    def get_teilnehmer(self):\n",
    "        return self._teilnehmer\n",
    "\n",
    "    def get_max_teilnehmer(self):\n",
    "        return self._max_teilnehmer\n",
    "\n",
    "    def get_details(self):\n",
    "        return f\"Seminar: {self.get_titel()}, Dozent: {self.get_dozent()}, Teilnehmer: {self._teilnehmer}, Max. Teilnehmer: {self._max_teilnehmer}\"\n",
    "\n",
    "# Testcode\n",
    "vorlesung = Vorlesung(\"Programmierung\", \"Prof. Müller\", \"CS101\", 50, 90)\n",
    "seminar = Seminar(\"Datenbanken\", \"Dr. Schmidt\", \"CS201\", 20, 30)\n",
    "\n",
    "print(vorlesung.get_details())\n",
    "print(seminar.get_details())\n",
    "print(\"Anzahl der Kurse:\", Kurs.anzahl_kurse)\n",
    "# Bonusaufgabe\n",
    "for i in [vorlesung,seminar]:\n",
    "    print(i.get_details())"
   ]
  },
  {
   "attachments": {},
   "cell_type": "markdown",
   "metadata": {},
   "source": [
    "## Pandas"
   ]
  },
  {
   "attachments": {},
   "cell_type": "markdown",
   "metadata": {},
   "source": [
    "Hier sind fünf Übungsaufgaben für den gegebenen Datensatz in Python:\n",
    "\n",
    "1. Daten einlesen und anzeigen:\n",
    "   - Lese den Datensatz in Python ein und zeige die ersten fünf Zeilen an.\n",
    "\n",
    "2. Durchschnittlicher Big Mac-Preis:\n",
    "   - Berechne den durchschnittlichen Preis für einen Big Mac über alle Länder und Zeiträume hinweg.\n",
    "   - Gib das Ergebnis aus.\n",
    "\n",
    "3. Länder mit teuerstem Big Mac:\n",
    "   - Ermittle das Land mit dem höchsten durchschnittlichen Big Mac-Preis.\n",
    "   - Gib das Land und den entsprechenden Durchschnittspreis aus.\n",
    "\n",
    "4. Preisentwicklung über die Zeit visualisieren:\n",
    "   - Wähle ein bestimmtes Land aus dem Datensatz aus.\n",
    "   - Erstelle einen Liniengraphen, der den Preis eines Big Macs über die Zeit für dieses Land darstellt.\n",
    "\n",
    "5. Wechselkursanalyse:\n",
    "   - Berechne den durchschnittlichen Wechselkurs für jede Währung im Datensatz.\n",
    "   - Ermittle die Währung mit dem höchsten durchschnittlichen Wechselkurs.\n",
    "   - Gib die Währung und den entsprechenden Durchschnittswechselkurs aus.\n",
    "\n",
    "Diese Übungsaufgaben bieten verschiedene Möglichkeiten, den gegebenen Datensatz zu analysieren und zu visualisieren. Du kannst sie als Ausgangspunkt nehmen und sie entsprechend deinen Anforderungen anpassen."
   ]
  },
  {
   "attachments": {},
   "cell_type": "markdown",
   "metadata": {},
   "source": [
    "1. Daten einlesen und anzeigen:\n",
    "\n"
   ]
  },
  {
   "attachments": {},
   "cell_type": "markdown",
   "metadata": {},
   "source": [
    "ideen:\n",
    "Pip https://pandas.pydata.org/docs/reference/api/pandas.DataFrame.pipe.html\n",
    "bilotek selber erstellen "
   ]
  },
  {
   "attachments": {},
   "cell_type": "markdown",
   "metadata": {},
   "source": [
    "|Name|Description|\n",
    "|--|--|\n",
    "|date|The date of the measurement.|\n",
    "|currency_code|Internatinal code for the currency in the country|\n",
    "|name|Name of the country.|\n",
    "|local_price|Price of a bigmac in the local currency.|\n",
    "|dollar_ex|The dollar exchange rate.|\n",
    "|dollar_price|The price of a bigmac translated back to dollars. |"
   ]
  },
  {
   "cell_type": "code",
   "execution_count": 2,
   "metadata": {},
   "outputs": [
    {
     "data": {
      "text/html": [
       "<div>\n",
       "<style scoped>\n",
       "    .dataframe tbody tr th:only-of-type {\n",
       "        vertical-align: middle;\n",
       "    }\n",
       "\n",
       "    .dataframe tbody tr th {\n",
       "        vertical-align: top;\n",
       "    }\n",
       "\n",
       "    .dataframe thead th {\n",
       "        text-align: right;\n",
       "    }\n",
       "</style>\n",
       "<table border=\"1\" class=\"dataframe\">\n",
       "  <thead>\n",
       "    <tr style=\"text-align: right;\">\n",
       "      <th></th>\n",
       "      <th>date</th>\n",
       "      <th>currency_code</th>\n",
       "      <th>name</th>\n",
       "      <th>local_price</th>\n",
       "      <th>dollar_ex</th>\n",
       "      <th>dollar_price</th>\n",
       "    </tr>\n",
       "  </thead>\n",
       "  <tbody>\n",
       "    <tr>\n",
       "      <th>0</th>\n",
       "      <td>2000-04-01</td>\n",
       "      <td>ARS</td>\n",
       "      <td>Argentina</td>\n",
       "      <td>2.50</td>\n",
       "      <td>1.00</td>\n",
       "      <td>2.500000</td>\n",
       "    </tr>\n",
       "    <tr>\n",
       "      <th>1</th>\n",
       "      <td>2000-04-01</td>\n",
       "      <td>AUD</td>\n",
       "      <td>Australia</td>\n",
       "      <td>2.59</td>\n",
       "      <td>1.68</td>\n",
       "      <td>1.541667</td>\n",
       "    </tr>\n",
       "    <tr>\n",
       "      <th>2</th>\n",
       "      <td>2000-04-01</td>\n",
       "      <td>BRL</td>\n",
       "      <td>Brazil</td>\n",
       "      <td>2.95</td>\n",
       "      <td>1.79</td>\n",
       "      <td>1.648045</td>\n",
       "    </tr>\n",
       "    <tr>\n",
       "      <th>3</th>\n",
       "      <td>2000-04-01</td>\n",
       "      <td>CAD</td>\n",
       "      <td>Canada</td>\n",
       "      <td>2.85</td>\n",
       "      <td>1.47</td>\n",
       "      <td>1.938776</td>\n",
       "    </tr>\n",
       "    <tr>\n",
       "      <th>4</th>\n",
       "      <td>2000-04-01</td>\n",
       "      <td>CHF</td>\n",
       "      <td>Switzerland</td>\n",
       "      <td>5.90</td>\n",
       "      <td>1.70</td>\n",
       "      <td>3.470588</td>\n",
       "    </tr>\n",
       "  </tbody>\n",
       "</table>\n",
       "</div>"
      ],
      "text/plain": [
       "         date currency_code         name  local_price  dollar_ex  dollar_price\n",
       "0  2000-04-01           ARS    Argentina         2.50       1.00      2.500000\n",
       "1  2000-04-01           AUD    Australia         2.59       1.68      1.541667\n",
       "2  2000-04-01           BRL       Brazil         2.95       1.79      1.648045\n",
       "3  2000-04-01           CAD       Canada         2.85       1.47      1.938776\n",
       "4  2000-04-01           CHF  Switzerland         5.90       1.70      3.470588"
      ]
     },
     "execution_count": 2,
     "metadata": {},
     "output_type": "execute_result"
    }
   ],
   "source": [
    "import pandas as pd\n",
    "import plotly.express as px\n",
    "\n",
    "# Datensatz einlesen\n",
    "df = pd.read_csv(\"bigmac.csv\")\n",
    "\n",
    "# Erste fünf Zeilen anzeigen\n",
    "df.head()"
   ]
  },
  {
   "cell_type": "code",
   "execution_count": 9,
   "metadata": {},
   "outputs": [
    {
     "data": {
      "text/html": [
       "<div>\n",
       "<style scoped>\n",
       "    .dataframe tbody tr th:only-of-type {\n",
       "        vertical-align: middle;\n",
       "    }\n",
       "\n",
       "    .dataframe tbody tr th {\n",
       "        vertical-align: top;\n",
       "    }\n",
       "\n",
       "    .dataframe thead th {\n",
       "        text-align: right;\n",
       "    }\n",
       "</style>\n",
       "<table border=\"1\" class=\"dataframe\">\n",
       "  <thead>\n",
       "    <tr style=\"text-align: right;\">\n",
       "      <th></th>\n",
       "      <th>date</th>\n",
       "      <th>currency_code</th>\n",
       "      <th>name</th>\n",
       "      <th>local_price</th>\n",
       "      <th>dollar_ex</th>\n",
       "      <th>dollar_price</th>\n",
       "    </tr>\n",
       "  </thead>\n",
       "  <tbody>\n",
       "    <tr>\n",
       "      <th>1325</th>\n",
       "      <td>2020-01-14</td>\n",
       "      <td>UAH</td>\n",
       "      <td>Ukraine</td>\n",
       "      <td>57.00</td>\n",
       "      <td>23.990</td>\n",
       "      <td>2.375990</td>\n",
       "    </tr>\n",
       "    <tr>\n",
       "      <th>1326</th>\n",
       "      <td>2020-01-14</td>\n",
       "      <td>UYU</td>\n",
       "      <td>Uruguay</td>\n",
       "      <td>179.00</td>\n",
       "      <td>37.435</td>\n",
       "      <td>4.781621</td>\n",
       "    </tr>\n",
       "    <tr>\n",
       "      <th>1327</th>\n",
       "      <td>2020-01-14</td>\n",
       "      <td>USD</td>\n",
       "      <td>United States</td>\n",
       "      <td>5.67</td>\n",
       "      <td>1.000</td>\n",
       "      <td>5.670000</td>\n",
       "    </tr>\n",
       "    <tr>\n",
       "      <th>1328</th>\n",
       "      <td>2020-01-14</td>\n",
       "      <td>VND</td>\n",
       "      <td>Vietnam</td>\n",
       "      <td>66000.00</td>\n",
       "      <td>23176.000</td>\n",
       "      <td>2.847774</td>\n",
       "    </tr>\n",
       "    <tr>\n",
       "      <th>1329</th>\n",
       "      <td>2020-01-14</td>\n",
       "      <td>ZAR</td>\n",
       "      <td>South Africa</td>\n",
       "      <td>31.00</td>\n",
       "      <td>14.391</td>\n",
       "      <td>2.154124</td>\n",
       "    </tr>\n",
       "  </tbody>\n",
       "</table>\n",
       "</div>"
      ],
      "text/plain": [
       "            date currency_code           name  local_price  dollar_ex  \\\n",
       "1325  2020-01-14           UAH        Ukraine        57.00     23.990   \n",
       "1326  2020-01-14           UYU        Uruguay       179.00     37.435   \n",
       "1327  2020-01-14           USD  United States         5.67      1.000   \n",
       "1328  2020-01-14           VND        Vietnam     66000.00  23176.000   \n",
       "1329  2020-01-14           ZAR   South Africa        31.00     14.391   \n",
       "\n",
       "      dollar_price  \n",
       "1325      2.375990  \n",
       "1326      4.781621  \n",
       "1327      5.670000  \n",
       "1328      2.847774  \n",
       "1329      2.154124  "
      ]
     },
     "execution_count": 9,
     "metadata": {},
     "output_type": "execute_result"
    }
   ],
   "source": [
    "df.tail()"
   ]
  },
  {
   "attachments": {},
   "cell_type": "markdown",
   "metadata": {},
   "source": [
    "\n",
    "\n",
    "2. Durchschnittlicher Big Mac-Preis:\n",
    "\n"
   ]
  },
  {
   "cell_type": "code",
   "execution_count": 12,
   "metadata": {},
   "outputs": [
    {
     "name": "stdout",
     "output_type": "stream",
     "text": [
      "Durchschnittlicher Big Mac-Preis: $ 3.24\n"
     ]
    }
   ],
   "source": [
    "average_price = df[\"dollar_price\"].mean()\n",
    "print(\"Durchschnittlicher Big Mac-Preis: $\", round(average_price, 2))"
   ]
  },
  {
   "attachments": {},
   "cell_type": "markdown",
   "metadata": {},
   "source": [
    "\n",
    "\n",
    "3. Länder mit teuerstem Big Mac:\n",
    "\n"
   ]
  },
  {
   "cell_type": "code",
   "execution_count": 13,
   "metadata": {},
   "outputs": [
    {
     "name": "stdout",
     "output_type": "stream",
     "text": [
      "Land mit dem höchsten durchschnittlichen Big Mac-Preis: Norway\n",
      "Durchschnittspreis: 6.42\n"
     ]
    }
   ],
   "source": [
    "country_prices = df.groupby(\"name\")[\"dollar_price\"].mean().sort_values(ascending=False)\n",
    "most_expensive_country = country_prices.index[0]\n",
    "most_expensive_price = country_prices[0]\n",
    "print(\"Land mit dem höchsten durchschnittlichen Big Mac-Preis:\", most_expensive_country)\n",
    "print(\"Durchschnittspreis:\", round(most_expensive_price, 2))\n"
   ]
  },
  {
   "attachments": {},
   "cell_type": "markdown",
   "metadata": {},
   "source": [
    "\n",
    "\n",
    "4. Preisentwicklung über die Zeit visualisieren:\n",
    "\n"
   ]
  },
  {
   "cell_type": "code",
   "execution_count": 8,
   "metadata": {},
   "outputs": [
    {
     "data": {
      "application/vnd.plotly.v1+json": {
       "config": {
        "plotlyServerURL": "https://plot.ly"
       },
       "data": [
        {
         "hovertemplate": "name=Argentina<br>date=%{x}<br>dollar_price=%{y}<extra></extra>",
         "legendgroup": "Argentina",
         "line": {
          "color": "#636efa",
          "dash": "solid"
         },
         "marker": {
          "symbol": "circle"
         },
         "mode": "lines",
         "name": "Argentina",
         "showlegend": true,
         "type": "scattergl",
         "x": [
          "2000-04-01",
          "2001-04-01",
          "2002-04-01",
          "2003-04-01",
          "2004-05-01",
          "2005-06-01",
          "2006-01-01",
          "2006-05-01",
          "2007-01-01",
          "2007-06-01",
          "2008-06-01",
          "2009-07-01",
          "2010-01-01",
          "2010-07-01",
          "2011-07-01",
          "2012-01-01",
          "2012-07-01",
          "2013-01-01",
          "2013-07-01",
          "2014-01-01",
          "2014-07-01",
          "2015-01-01",
          "2015-07-01",
          "2016-01-01",
          "2016-07-01",
          "2017-01-01",
          "2017-07-01",
          "2018-01-01",
          "2018-07-01",
          "2019-01-01",
          "2019-07-09",
          "2020-01-14"
         ],
         "xaxis": "x",
         "y": [
          2.5,
          2.5,
          0.7987220447284351,
          1.42361111111111,
          1.4779661016949202,
          1.6396272005522998,
          1.5503622951889802,
          2.29020121053493,
          2.67098340752732,
          2.66860747210092,
          3.64298724954463,
          3.0173827484421096,
          1.84283269711728,
          3.55894502700985,
          4.83968542044767,
          4.63660600440478,
          4.16096359156857,
          3.81794433839044,
          3.87990762124711,
          3.03413400758534,
          2.5707727620505,
          3.2520325203252,
          3.06513409961686,
          2.3897025544472004,
          3.3478406427854,
          3.4683903515686603,
          4.12553410932665,
          3.96039603960396,
          2.705139765554549,
          2.00240288346015,
          2.87050437153895,
          2.8468874031059404
         ],
         "yaxis": "y"
        },
        {
         "hovertemplate": "name=Australia<br>date=%{x}<br>dollar_price=%{y}<extra></extra>",
         "legendgroup": "Australia",
         "line": {
          "color": "#EF553B",
          "dash": "solid"
         },
         "marker": {
          "symbol": "circle"
         },
         "mode": "lines",
         "name": "Australia",
         "showlegend": true,
         "type": "scattergl",
         "x": [
          "2000-04-01",
          "2001-04-01",
          "2002-04-01",
          "2003-04-01",
          "2004-05-01",
          "2005-06-01",
          "2006-01-01",
          "2006-05-01",
          "2007-01-01",
          "2007-06-01",
          "2008-06-01",
          "2009-07-01",
          "2010-01-01",
          "2010-07-01",
          "2011-07-01",
          "2012-01-01",
          "2012-07-01",
          "2013-01-01",
          "2013-07-01",
          "2014-01-01",
          "2014-07-01",
          "2015-01-01",
          "2015-07-01",
          "2016-01-01",
          "2016-07-01",
          "2017-01-01",
          "2017-07-01",
          "2018-01-01",
          "2018-07-01",
          "2019-01-01",
          "2019-07-09",
          "2020-01-14"
         ],
         "xaxis": "x",
         "y": [
          1.5416666666666698,
          1.51515151515152,
          1.61290322580645,
          1.86335403726708,
          2.2727272727272703,
          2.4971187091817098,
          2.4421400661256403,
          2.43896947911116,
          2.72325780568569,
          2.94871794871795,
          3.36257309941521,
          3.37244541145388,
          3.97787023912944,
          3.8369175002881497,
          4.9437240014121695,
          4.9365600000424505,
          4.68015599908292,
          4.90045499838408,
          4.61986425117506,
          4.473542498770669,
          4.81414500013119,
          4.31870499892076,
          3.9222649999901895,
          3.7436550009842096,
          4.3047375003975406,
          4.27518000105469,
          4.52795500055083,
          4.70613499966375,
          4.51541749999998,
          4.352045000000009,
          4.260105,
          4.451145000000009
         ],
         "yaxis": "y"
        },
        {
         "hovertemplate": "name=Brazil<br>date=%{x}<br>dollar_price=%{y}<extra></extra>",
         "legendgroup": "Brazil",
         "line": {
          "color": "#00cc96",
          "dash": "solid"
         },
         "marker": {
          "symbol": "circle"
         },
         "mode": "lines",
         "name": "Brazil",
         "showlegend": true,
         "type": "scattergl",
         "x": [
          "2000-04-01",
          "2001-04-01",
          "2002-04-01",
          "2003-04-01",
          "2004-05-01",
          "2005-06-01",
          "2006-01-01",
          "2006-05-01",
          "2007-01-01",
          "2007-06-01",
          "2008-06-01",
          "2009-07-01",
          "2010-01-01",
          "2010-07-01",
          "2011-07-01",
          "2012-01-01",
          "2012-07-01",
          "2013-01-01",
          "2013-07-01",
          "2014-01-01",
          "2014-07-01",
          "2015-01-01",
          "2015-07-01",
          "2016-01-01",
          "2016-07-01",
          "2017-01-01",
          "2017-07-01",
          "2018-01-01",
          "2018-07-01",
          "2019-01-01",
          "2019-07-09",
          "2020-01-14"
         ],
         "xaxis": "x",
         "y": [
          1.64804469273743,
          1.6438356164383603,
          1.53846153846154,
          1.48208469055375,
          1.69811320754717,
          2.39370334307043,
          2.74154322352421,
          2.77717509221089,
          2.99976564330912,
          3.60690015682175,
          4.73305566073457,
          4.0208302037955,
          4.75831253989439,
          4.907180483957299,
          6.1624286455630495,
          5.6786703601108,
          4.935974340768309,
          5.64376552035518,
          5.28483033492612,
          5.247455618797741,
          5.855196486882111,
          5.20682672837721,
          4.28251939029613,
          3.35420393559928,
          4.78181060944948,
          5.11794537756479,
          5.10156757258139,
          5.11168251804579,
          4.4029335521773705,
          4.545515673960111,
          4.59643316786174,
          4.804558294502519
         ],
         "yaxis": "y"
        },
        {
         "hovertemplate": "name=Canada<br>date=%{x}<br>dollar_price=%{y}<extra></extra>",
         "legendgroup": "Canada",
         "line": {
          "color": "#ab63fa",
          "dash": "solid"
         },
         "marker": {
          "symbol": "circle"
         },
         "mode": "lines",
         "name": "Canada",
         "showlegend": true,
         "type": "scattergl",
         "x": [
          "2000-04-01",
          "2001-04-01",
          "2002-04-01",
          "2003-04-01",
          "2004-05-01",
          "2005-06-01",
          "2006-01-01",
          "2006-05-01",
          "2007-01-01",
          "2007-06-01",
          "2008-06-01",
          "2009-07-01",
          "2010-01-01",
          "2010-07-01",
          "2011-07-01",
          "2012-01-01",
          "2012-07-01",
          "2013-01-01",
          "2013-07-01",
          "2014-01-01",
          "2014-07-01",
          "2015-01-01",
          "2015-07-01",
          "2016-01-01",
          "2016-07-01",
          "2017-01-01",
          "2017-07-01",
          "2018-01-01",
          "2018-07-01",
          "2019-01-01",
          "2019-07-09",
          "2020-01-14"
         ],
         "xaxis": "x",
         "y": [
          1.93877551020408,
          2.13461538461538,
          2.12101910828025,
          2.20689655172414,
          2.3284671532846697,
          2.6252601248599303,
          3.00751879699248,
          3.1415948949083,
          3.0897561390815897,
          3.6831363614789514,
          4.07553186189029,
          3.3509928069948702,
          3.9737654320987694,
          4.000575622391709,
          5.00079293756938,
          4.63293990890837,
          5.02231595468145,
          5.394356366537041,
          5.260404280618309,
          5.0131209845262905,
          5.25115218099716,
          4.63961580725245,
          4.53593859036985,
          4.14419528810673,
          4.60475825019187,
          4.50980392156863,
          4.655696794821809,
          5.257243759531259,
          5.067245780470151,
          5.08487306594562,
          5.1559346559537,
          5.18158509050553
         ],
         "yaxis": "y"
        },
        {
         "hovertemplate": "name=Switzerland<br>date=%{x}<br>dollar_price=%{y}<extra></extra>",
         "legendgroup": "Switzerland",
         "line": {
          "color": "#FFA15A",
          "dash": "solid"
         },
         "marker": {
          "symbol": "circle"
         },
         "mode": "lines",
         "name": "Switzerland",
         "showlegend": true,
         "type": "scattergl",
         "x": [
          "2000-04-01",
          "2001-04-01",
          "2002-04-01",
          "2003-04-01",
          "2004-05-01",
          "2005-06-01",
          "2006-01-01",
          "2006-05-01",
          "2007-01-01",
          "2007-06-01",
          "2008-06-01",
          "2009-07-01",
          "2010-01-01",
          "2010-07-01",
          "2011-07-01",
          "2012-01-01",
          "2012-07-01",
          "2013-01-01",
          "2013-07-01",
          "2014-01-01",
          "2014-07-01",
          "2015-01-01",
          "2015-07-01",
          "2016-01-01",
          "2016-07-01",
          "2017-01-01",
          "2017-07-01",
          "2018-01-01",
          "2018-07-01",
          "2019-01-01",
          "2019-07-09",
          "2020-01-14"
         ],
         "xaxis": "x",
         "y": [
          3.4705882352941204,
          3.64161849710983,
          3.79518072289157,
          4.5985401459854005,
          4.88372093023256,
          5.0501002004008,
          4.931120851596741,
          5.211564710261821,
          5.04605526631958,
          5.2014531043593095,
          6.35914493958812,
          5.98499148289674,
          6.30364156524269,
          6.185468906123611,
          8.06301556782237,
          6.805570097372001,
          6.56167979002625,
          7.12484928203442,
          6.7190407277238,
          7.14246469974177,
          6.826241134751769,
          7.54366622178379,
          6.82199832073888,
          6.4432989690721705,
          6.59162356758949,
          6.350136772176629,
          6.74168957112483,
          6.76484362803768,
          6.54417316889001,
          6.621504609585901,
          6.54219717175784,
          6.7131422669765
         ],
         "yaxis": "y"
        },
        {
         "hovertemplate": "name=Chile<br>date=%{x}<br>dollar_price=%{y}<extra></extra>",
         "legendgroup": "Chile",
         "line": {
          "color": "#19d3f3",
          "dash": "solid"
         },
         "marker": {
          "symbol": "circle"
         },
         "mode": "lines",
         "name": "Chile",
         "showlegend": true,
         "type": "scattergl",
         "x": [
          "2000-04-01",
          "2001-04-01",
          "2002-04-01",
          "2003-04-01",
          "2004-05-01",
          "2005-06-01",
          "2006-01-01",
          "2006-05-01",
          "2007-01-01",
          "2007-06-01",
          "2008-06-01",
          "2009-07-01",
          "2010-01-01",
          "2010-07-01",
          "2011-07-01",
          "2012-01-01",
          "2012-07-01",
          "2013-01-01",
          "2013-07-01",
          "2014-01-01",
          "2014-07-01",
          "2015-01-01",
          "2015-07-01",
          "2016-01-01",
          "2016-07-01",
          "2017-01-01",
          "2017-07-01",
          "2018-01-01",
          "2018-07-01",
          "2019-01-01",
          "2019-07-09",
          "2020-01-14"
         ],
         "xaxis": "x",
         "y": [
          2.45136186770428,
          2.09650582362729,
          2.13740458015267,
          1.9553072625698305,
          2.18408736349454,
          2.53185922862689,
          2.9842180774748903,
          2.9436739315029703,
          3.09173377765436,
          2.9710488846701497,
          3.13352875770747,
          3.19022878497858,
          3.18028225004969,
          3.34192685954359,
          3.99783900594273,
          4.0509831044363205,
          4.15779332724876,
          4.34552199258082,
          3.93580698802531,
          3.6903773410831295,
          3.72248023540256,
          3.34669354645928,
          3.26873686668223,
          2.9361800297812497,
          3.53237498464185,
          3.64147115434636,
          3.84409554461789,
          4.29088928680469,
          4.05075721541129,
          3.8881279547563294,
          3.82747372236318,
          3.41641431788182
         ],
         "yaxis": "y"
        },
        {
         "hovertemplate": "name=China<br>date=%{x}<br>dollar_price=%{y}<extra></extra>",
         "legendgroup": "China",
         "line": {
          "color": "#FF6692",
          "dash": "solid"
         },
         "marker": {
          "symbol": "circle"
         },
         "mode": "lines",
         "name": "China",
         "showlegend": true,
         "type": "scattergl",
         "x": [
          "2000-04-01",
          "2001-04-01",
          "2002-04-01",
          "2003-04-01",
          "2004-05-01",
          "2005-06-01",
          "2006-01-01",
          "2006-05-01",
          "2007-01-01",
          "2007-06-01",
          "2008-06-01",
          "2009-07-01",
          "2010-01-01",
          "2010-07-01",
          "2011-07-01",
          "2012-01-01",
          "2012-07-01",
          "2013-01-01",
          "2013-07-01",
          "2014-01-01",
          "2014-07-01",
          "2015-01-01",
          "2015-07-01",
          "2016-01-01",
          "2016-07-01",
          "2017-01-01",
          "2017-07-01",
          "2018-01-01",
          "2018-07-01",
          "2019-01-01",
          "2019-07-09",
          "2020-01-14"
         ],
         "xaxis": "x",
         "y": [
          1.19565217391304,
          1.19565217391304,
          1.26811594202899,
          1.19565217391304,
          1.256038647343,
          1.26866753661012,
          1.30206718666683,
          1.30824819337154,
          1.41491838493498,
          1.4464738911462598,
          1.82908984489318,
          1.82943785033735,
          1.83091164752754,
          1.9477932387965,
          2.27307990690458,
          2.43844509540021,
          2.449714330437509,
          2.572181853257029,
          2.60836960597317,
          2.74321220233669,
          2.72655405514415,
          2.7690573935442298,
          2.73787283385943,
          2.68366320026837,
          2.7852650494159903,
          2.8296711229174503,
          2.9171270718232,
          3.17164179104478,
          3.09574146783449,
          3.05122852095712,
          3.0502861458908304,
          3.12273057371097
         ],
         "yaxis": "y"
        },
        {
         "hovertemplate": "name=Czech Republic<br>date=%{x}<br>dollar_price=%{y}<extra></extra>",
         "legendgroup": "Czech Republic",
         "line": {
          "color": "#B6E880",
          "dash": "solid"
         },
         "marker": {
          "symbol": "circle"
         },
         "mode": "lines",
         "name": "Czech Republic",
         "showlegend": true,
         "type": "scattergl",
         "x": [
          "2000-04-01",
          "2001-04-01",
          "2002-04-01",
          "2003-04-01",
          "2004-05-01",
          "2005-06-01",
          "2006-01-01",
          "2006-05-01",
          "2007-01-01",
          "2007-06-01",
          "2008-06-01",
          "2009-07-01",
          "2010-01-01",
          "2010-07-01",
          "2011-07-01",
          "2012-01-01",
          "2012-07-01",
          "2013-01-01",
          "2013-07-01",
          "2014-01-01",
          "2014-07-01",
          "2015-01-01",
          "2015-07-01",
          "2016-01-01",
          "2016-07-01",
          "2017-01-01",
          "2017-07-01",
          "2018-01-01",
          "2018-07-01",
          "2019-01-01",
          "2019-07-09",
          "2020-01-14"
         ],
         "xaxis": "x",
         "y": [
          1.39053708439898,
          1.43589743589744,
          1.65529411764706,
          1.95743944636678,
          2.12905660377359,
          2.29901918837532,
          2.60094389092816,
          2.67100299441826,
          2.42312620487741,
          2.5051203428557898,
          4.55788577005715,
          3.63956906044782,
          3.7144324150675,
          3.4252263566205494,
          4.072400848318931,
          3.44801341494254,
          3.34141011022425,
          3.72215856617774,
          3.49059595298967,
          3.47321507804258,
          3.4555148447348194,
          2.9192089751691097,
          2.83374996204799,
          2.98279523707257,
          3.0554191933285897,
          2.90565343302953,
          3.28139971386194,
          3.80777943799104,
          3.39908677868546,
          3.80966893976913,
          3.72818463724764,
          3.75591833307926
         ],
         "yaxis": "y"
        },
        {
         "hovertemplate": "name=Denmark<br>date=%{x}<br>dollar_price=%{y}<extra></extra>",
         "legendgroup": "Denmark",
         "line": {
          "color": "#FF97FF",
          "dash": "solid"
         },
         "marker": {
          "symbol": "circle"
         },
         "mode": "lines",
         "name": "Denmark",
         "showlegend": true,
         "type": "scattergl",
         "x": [
          "2000-04-01",
          "2001-04-01",
          "2002-04-01",
          "2003-04-01",
          "2004-05-01",
          "2005-06-01",
          "2006-01-01",
          "2006-05-01",
          "2007-01-01",
          "2007-06-01",
          "2008-06-01",
          "2009-07-01",
          "2010-01-01",
          "2010-07-01",
          "2011-07-01",
          "2012-01-01",
          "2012-07-01",
          "2013-01-01",
          "2013-07-01",
          "2014-01-01",
          "2014-07-01",
          "2015-01-01",
          "2015-07-01",
          "2016-01-01",
          "2016-07-01",
          "2017-01-01",
          "2017-07-01",
          "2018-01-01",
          "2018-07-01",
          "2019-01-01",
          "2019-07-09",
          "2020-01-14"
         ],
         "xaxis": "x",
         "y": [
          3.07835820895522,
          2.92553191489362,
          2.9534606205250604,
          4.0929203539823,
          4.46141479099679,
          4.57565914224941,
          4.492544804027911,
          4.76947535771065,
          4.8235283892891605,
          5.082138344047031,
          5.951874840574781,
          5.52693208430913,
          5.99385890990808,
          4.90225589775786,
          5.48240340870837,
          5.374188540182719,
          4.6450224916878495,
          5.18375030693258,
          4.91328483260352,
          5.18049950921584,
          5.14551888495703,
          5.37600897559759,
          5.07851212368137,
          4.32245515452777,
          4.43974160703847,
          4.2246083436014805,
          4.60649054517816,
          4.93202031992372,
          4.71764872387602,
          4.60444021518084,
          4.50497800069076,
          4.46471756940776
         ],
         "yaxis": "y"
        },
        {
         "hovertemplate": "name=Euro area<br>date=%{x}<br>dollar_price=%{y}<extra></extra>",
         "legendgroup": "Euro area",
         "line": {
          "color": "#FECB52",
          "dash": "solid"
         },
         "marker": {
          "symbol": "circle"
         },
         "mode": "lines",
         "name": "Euro area",
         "showlegend": true,
         "type": "scattergl",
         "x": [
          "2000-04-01",
          "2001-04-01",
          "2002-04-01",
          "2003-04-01",
          "2004-05-01",
          "2005-06-01",
          "2006-01-01",
          "2006-05-01",
          "2007-01-01",
          "2007-06-01",
          "2008-06-01",
          "2009-07-01",
          "2010-01-01",
          "2010-07-01",
          "2011-07-01",
          "2012-01-01",
          "2012-07-01",
          "2013-01-01",
          "2013-07-01",
          "2014-01-01",
          "2014-07-01",
          "2015-01-01",
          "2015-07-01",
          "2016-01-01",
          "2016-07-01",
          "2017-01-01",
          "2017-07-01",
          "2018-01-01",
          "2018-07-01",
          "2019-01-01",
          "2019-07-09",
          "2020-01-14"
         ],
         "xaxis": "x",
         "y": [
          2.38080000045235,
          2.26160000072371,
          2.37629999919206,
          2.9810000002981,
          3.2880000013152,
          3.58313199823029,
          3.5138249995607698,
          3.76691649704796,
          3.80921099765962,
          4.1668899487422,
          5.342704588003469,
          4.6171189975617,
          4.84394399698368,
          4.33252382664316,
          4.92840183586624,
          4.43070477464433,
          4.3444346929611095,
          4.878031128620269,
          4.65939148386547,
          4.96184353491684,
          4.95354246993891,
          4.26383200194175,
          4.05390499827466,
          3.9990000005998496,
          4.20562899815015,
          4.06177800194884,
          4.4650244998577895,
          4.8357874973246,
          4.735082,
          4.641907499999999,
          4.572252,
          4.582058
         ],
         "yaxis": "y"
        },
        {
         "hovertemplate": "name=Britain<br>date=%{x}<br>dollar_price=%{y}<extra></extra>",
         "legendgroup": "Britain",
         "line": {
          "color": "#636efa",
          "dash": "solid"
         },
         "marker": {
          "symbol": "circle"
         },
         "mode": "lines",
         "name": "Britain",
         "showlegend": true,
         "type": "scattergl",
         "x": [
          "2000-04-01",
          "2001-04-01",
          "2002-04-01",
          "2003-04-01",
          "2004-05-01",
          "2005-06-01",
          "2006-01-01",
          "2006-05-01",
          "2007-01-01",
          "2007-06-01",
          "2008-06-01",
          "2009-07-01",
          "2010-01-01",
          "2010-07-01",
          "2011-07-01",
          "2012-01-01",
          "2012-07-01",
          "2013-01-01",
          "2013-07-01",
          "2014-01-01",
          "2014-07-01",
          "2015-01-01",
          "2015-07-01",
          "2016-01-01",
          "2016-07-01",
          "2017-01-01",
          "2017-07-01",
          "2018-01-01",
          "2018-07-01",
          "2019-01-01",
          "2019-07-09",
          "2020-01-14"
         ],
         "xaxis": "x",
         "y": [
          3.00200000192128,
          2.84570000122365,
          2.8855000017313,
          3.1442000020122896,
          3.3651999992596604,
          3.44040000271792,
          3.3161319980909,
          3.64797600212458,
          3.83373099959688,
          4.0071635034990605,
          4.5704965026351205,
          3.6882740006063504,
          3.671328000058741,
          3.48354799990525,
          3.8916369997462703,
          3.82339500177214,
          4.1623715002999,
          4.248182498028839,
          4.02007049936362,
          4.62679649988317,
          4.92513799618893,
          4.36823499740308,
          4.512446002943019,
          4.22185650232012,
          3.94022199859098,
          3.72839400200588,
          4.11143150160695,
          4.41304599875552,
          4.231535,
          4.072992,
          4.101314,
          4.4102205
         ],
         "yaxis": "y"
        },
        {
         "hovertemplate": "name=Hong Kong<br>date=%{x}<br>dollar_price=%{y}<extra></extra>",
         "legendgroup": "Hong Kong",
         "line": {
          "color": "#EF553B",
          "dash": "solid"
         },
         "marker": {
          "symbol": "circle"
         },
         "mode": "lines",
         "name": "Hong Kong",
         "showlegend": true,
         "type": "scattergl",
         "x": [
          "2000-04-01",
          "2001-04-01",
          "2002-04-01",
          "2003-04-01",
          "2004-05-01",
          "2005-06-01",
          "2006-01-01",
          "2006-05-01",
          "2007-01-01",
          "2007-06-01",
          "2008-06-01",
          "2009-07-01",
          "2010-01-01",
          "2010-07-01",
          "2011-07-01",
          "2012-01-01",
          "2012-07-01",
          "2013-01-01",
          "2013-07-01",
          "2014-01-01",
          "2014-07-01",
          "2015-01-01",
          "2015-07-01",
          "2016-01-01",
          "2016-07-01",
          "2017-01-01",
          "2017-07-01",
          "2018-01-01",
          "2018-07-01",
          "2019-01-01",
          "2019-07-09",
          "2020-01-14"
         ],
         "xaxis": "x",
         "y": [
          1.30937098844673,
          1.3717948717948705,
          1.4,
          1.47435897435897,
          1.54043645699615,
          1.54227768709756,
          1.54814738363092,
          1.54772806417912,
          1.53876731914675,
          1.5354005796137198,
          1.7056967707184398,
          1.71601832139862,
          1.9080647968491105,
          1.90373285997273,
          1.93793475191868,
          2.12427661943906,
          2.126795692272,
          2.19097575749765,
          2.19166779473097,
          2.32023047622731,
          2.42566560651317,
          2.42538396537377,
          2.47716364762347,
          2.4766683650764,
          2.4756943549011,
          2.47551879524752,
          2.45791461307047,
          2.62181864688579,
          2.54833880164368,
          2.55286016070255,
          2.6246719160105,
          2.63653726198821
         ],
         "yaxis": "y"
        },
        {
         "hovertemplate": "name=Hungary<br>date=%{x}<br>dollar_price=%{y}<extra></extra>",
         "legendgroup": "Hungary",
         "line": {
          "color": "#00cc96",
          "dash": "solid"
         },
         "marker": {
          "symbol": "circle"
         },
         "mode": "lines",
         "name": "Hungary",
         "showlegend": true,
         "type": "scattergl",
         "x": [
          "2000-04-01",
          "2001-04-01",
          "2002-04-01",
          "2003-04-01",
          "2004-05-01",
          "2005-06-01",
          "2006-01-01",
          "2006-05-01",
          "2007-01-01",
          "2007-06-01",
          "2008-06-01",
          "2009-07-01",
          "2010-01-01",
          "2010-07-01",
          "2011-07-01",
          "2012-01-01",
          "2012-07-01",
          "2013-01-01",
          "2013-07-01",
          "2014-01-01",
          "2014-07-01",
          "2015-01-01",
          "2015-07-01",
          "2016-01-01",
          "2016-07-01",
          "2017-01-01",
          "2017-07-01",
          "2018-01-01",
          "2018-07-01",
          "2019-01-01",
          "2019-07-09",
          "2020-01-14"
         ],
         "xaxis": "x",
         "y": [
          1.21505376344086,
          1.31683168316832,
          1.6875,
          2.1875,
          2.51184834123223,
          2.6025937547571,
          2.70588917451052,
          2.71390936705818,
          3.03460946376393,
          3.32943789100086,
          4.64446289905988,
          3.61522552228711,
          3.85747074215594,
          3.33379661092544,
          4.04099697775963,
          2.6252140617861404,
          3.48424596089836,
          3.81662979173847,
          3.76430215965894,
          3.8548246155652897,
          3.76687180787727,
          3.16883108269562,
          3.1815858296409303,
          3.07504073147702,
          3.15082252221943,
          3.05481146382492,
          3.20894752849616,
          3.42663850530346,
          3.07491728472504,
          3.0328033360836697,
          3.0976673876200698,
          3.0125502844851697
         ],
         "yaxis": "y"
        },
        {
         "hovertemplate": "name=Indonesia<br>date=%{x}<br>dollar_price=%{y}<extra></extra>",
         "legendgroup": "Indonesia",
         "line": {
          "color": "#ab63fa",
          "dash": "solid"
         },
         "marker": {
          "symbol": "circle"
         },
         "mode": "lines",
         "name": "Indonesia",
         "showlegend": true,
         "type": "scattergl",
         "x": [
          "2000-04-01",
          "2001-04-01",
          "2002-04-01",
          "2003-04-01",
          "2004-05-01",
          "2005-06-01",
          "2006-01-01",
          "2006-05-01",
          "2007-01-01",
          "2007-06-01",
          "2008-06-01",
          "2009-07-01",
          "2010-01-01",
          "2010-07-01",
          "2011-07-01",
          "2012-01-01",
          "2012-07-01",
          "2013-01-01",
          "2013-07-01",
          "2014-01-01",
          "2014-07-01",
          "2015-01-01",
          "2015-07-01",
          "2016-01-01",
          "2016-07-01",
          "2017-01-01",
          "2017-07-01",
          "2018-01-01",
          "2018-07-01",
          "2019-01-01",
          "2019-07-09",
          "2020-01-14"
         ],
         "xaxis": "x",
         "y": [
          1.82504719949654,
          1.35421464762782,
          1.69671261930011,
          1.8421052631578896,
          1.76535087719298,
          1.5295966474594,
          1.54334038054968,
          1.5656836461126,
          1.74917491749175,
          1.76372712146423,
          2.04326923076923,
          2.04901960784314,
          2.2424892703862698,
          2.5135164956416203,
          2.64390472838203,
          2.46004366812227,
          2.55206960189823,
          2.86040440235475,
          2.80371299548419,
          2.30140032948929,
          2.42842242503259,
          2.23870192307692,
          2.28558582187418,
          2.18677182290733,
          2.36415633937083,
          2.32575587065796,
          2.40293204682299,
          2.6760985103675403,
          2.19359331476323,
          2.34208658623137,
          2.26468506723284,
          2.4140453547915097
         ],
         "yaxis": "y"
        },
        {
         "hovertemplate": "name=Israel<br>date=%{x}<br>dollar_price=%{y}<extra></extra>",
         "legendgroup": "Israel",
         "line": {
          "color": "#FFA15A",
          "dash": "solid"
         },
         "marker": {
          "symbol": "circle"
         },
         "mode": "lines",
         "name": "Israel",
         "showlegend": true,
         "type": "scattergl",
         "x": [
          "2000-04-01",
          "2002-04-01",
          "2009-07-01",
          "2010-01-01",
          "2010-07-01",
          "2011-07-01",
          "2012-01-01",
          "2012-07-01",
          "2013-01-01",
          "2013-07-01",
          "2014-01-01",
          "2014-07-01",
          "2015-01-01",
          "2015-07-01",
          "2016-01-01",
          "2016-07-01",
          "2017-01-01",
          "2017-07-01",
          "2018-01-01",
          "2018-07-01",
          "2019-01-01",
          "2019-07-09",
          "2020-01-14"
         ],
         "xaxis": "x",
         "y": [
          3.58024691358025,
          2.50521920668058,
          3.7742970371768303,
          3.9919624916276,
          3.85820451073306,
          4.67186742474327,
          4.13147979732363,
          2.91934989267096,
          4.00048327985931,
          4.79984640491504,
          5.01691416776561,
          5.12625227019743,
          4.4482289694088895,
          4.63165138221711,
          4.288197307824061,
          4.37965662455458,
          4.38391699092088,
          4.773337099279759,
          4.80160635558078,
          4.67688244518419,
          4.584867241123559,
          4.76631059522808,
          4.91400491400492
         ],
         "yaxis": "y"
        },
        {
         "hovertemplate": "name=Japan<br>date=%{x}<br>dollar_price=%{y}<extra></extra>",
         "legendgroup": "Japan",
         "line": {
          "color": "#19d3f3",
          "dash": "solid"
         },
         "marker": {
          "symbol": "circle"
         },
         "mode": "lines",
         "name": "Japan",
         "showlegend": true,
         "type": "scattergl",
         "x": [
          "2000-04-01",
          "2001-04-01",
          "2002-04-01",
          "2003-04-01",
          "2004-05-01",
          "2005-06-01",
          "2006-01-01",
          "2006-05-01",
          "2007-01-01",
          "2007-06-01",
          "2008-06-01",
          "2009-07-01",
          "2010-01-01",
          "2010-07-01",
          "2011-07-01",
          "2012-01-01",
          "2012-07-01",
          "2013-01-01",
          "2013-07-01",
          "2014-01-01",
          "2014-07-01",
          "2015-01-01",
          "2015-07-01",
          "2016-01-01",
          "2016-07-01",
          "2017-01-01",
          "2017-07-01",
          "2018-01-01",
          "2018-07-01",
          "2019-01-01",
          "2019-07-09",
          "2020-01-14"
         ],
         "xaxis": "x",
         "y": [
          2.77358490566038,
          2.37096774193548,
          2.01538461538462,
          2.18333333333333,
          2.31858407079646,
          2.34268846928735,
          2.18713092165697,
          2.23005218322109,
          2.3029156557141097,
          2.2891714017087,
          2.62037340320996,
          3.45703019499811,
          3.49573956740223,
          3.67056664372563,
          4.08345562432208,
          4.16016640665627,
          4.09102531321913,
          3.5139735353868105,
          3.1966435242994904,
          2.97376372967528,
          3.6442430808628,
          3.14185029507918,
          2.98543591398717,
          3.11854692570273,
          3.46685406418365,
          3.2571893884198304,
          3.36104723155846,
          3.4319259426507096,
          3.50561797752809,
          3.59645887126522,
          3.58571231554268,
          3.54416575790622
         ],
         "yaxis": "y"
        },
        {
         "hovertemplate": "name=South Korea<br>date=%{x}<br>dollar_price=%{y}<extra></extra>",
         "legendgroup": "South Korea",
         "line": {
          "color": "#FF6692",
          "dash": "solid"
         },
         "marker": {
          "symbol": "circle"
         },
         "mode": "lines",
         "name": "South Korea",
         "showlegend": true,
         "type": "scattergl",
         "x": [
          "2000-04-01",
          "2001-04-01",
          "2002-04-01",
          "2003-04-01",
          "2004-05-01",
          "2005-06-01",
          "2006-01-01",
          "2006-05-01",
          "2007-01-01",
          "2007-06-01",
          "2008-06-01",
          "2009-07-01",
          "2010-01-01",
          "2010-07-01",
          "2011-07-01",
          "2012-01-01",
          "2012-07-01",
          "2013-01-01",
          "2013-07-01",
          "2014-01-01",
          "2014-07-01",
          "2015-01-01",
          "2015-07-01",
          "2016-01-01",
          "2016-07-01",
          "2017-01-01",
          "2017-07-01",
          "2018-01-01",
          "2018-07-01",
          "2019-01-01",
          "2019-07-09",
          "2020-01-14"
         ],
         "xaxis": "x",
         "y": [
          2.70758122743682,
          2.26415094339623,
          2.37730061349693,
          2.7049180327868902,
          2.71877655055225,
          2.48632521133764,
          2.55767558442887,
          2.62494750104998,
          3.08461415731532,
          3.14363143631436,
          3.1432640832965,
          2.58653480410803,
          2.98114861902674,
          2.82286520818631,
          3.50312440825601,
          3.19309600862999,
          3.2145960034752403,
          3.40864598447684,
          3.4340054591881697,
          3.46669165183173,
          4.00488400488401,
          3.7847318379027097,
          3.76038478355925,
          3.59006470465456,
          3.85643542661817,
          3.67754607380166,
          3.84396977241952,
          4.115033902267951,
          4.03225806451613,
          4.0228857500447,
          3.81178264368303,
          3.89239685148344
         ],
         "yaxis": "y"
        },
        {
         "hovertemplate": "name=Mexico<br>date=%{x}<br>dollar_price=%{y}<extra></extra>",
         "legendgroup": "Mexico",
         "line": {
          "color": "#B6E880",
          "dash": "solid"
         },
         "marker": {
          "symbol": "circle"
         },
         "mode": "lines",
         "name": "Mexico",
         "showlegend": true,
         "type": "scattergl",
         "x": [
          "2000-04-01",
          "2001-04-01",
          "2002-04-01",
          "2003-04-01",
          "2004-05-01",
          "2005-06-01",
          "2006-01-01",
          "2006-05-01",
          "2007-01-01",
          "2007-06-01",
          "2008-06-01",
          "2009-07-01",
          "2010-01-01",
          "2010-07-01",
          "2011-07-01",
          "2012-01-01",
          "2012-07-01",
          "2013-01-01",
          "2013-07-01",
          "2014-01-01",
          "2014-07-01",
          "2015-01-01",
          "2015-07-01",
          "2016-01-01",
          "2016-07-01",
          "2017-01-01",
          "2017-07-01",
          "2018-01-01",
          "2018-07-01",
          "2019-01-01",
          "2019-07-09",
          "2020-01-14"
         ],
         "xaxis": "x",
         "y": [
          2.2210414452709903,
          2.35737351991389,
          2.35991379310345,
          2.18423551756885,
          2.06896551724138,
          2.5764895330112703,
          2.65591652833768,
          2.56566782564075,
          2.66314030157768,
          2.693277486522,
          3.1469734965825804,
          2.38950356253258,
          2.49731733489416,
          2.50352057580973,
          2.74189747873958,
          2.7038087164946902,
          2.70329509753781,
          2.9046034038811803,
          2.8590967572433703,
          2.77512141156176,
          3.24761937900878,
          3.34985472568792,
          3.1131371209835,
          2.81015670924914,
          2.37388724035608,
          2.23229539190451,
          2.75424026530641,
          2.57186486993329,
          2.57197595989817,
          2.53770958762219,
          2.6461676876463702,
          2.65667755904466
         ],
         "yaxis": "y"
        },
        {
         "hovertemplate": "name=Malaysia<br>date=%{x}<br>dollar_price=%{y}<extra></extra>",
         "legendgroup": "Malaysia",
         "line": {
          "color": "#FF97FF",
          "dash": "solid"
         },
         "marker": {
          "symbol": "circle"
         },
         "mode": "lines",
         "name": "Malaysia",
         "showlegend": true,
         "type": "scattergl",
         "x": [
          "2000-04-01",
          "2001-04-01",
          "2002-04-01",
          "2003-04-01",
          "2004-05-01",
          "2005-06-01",
          "2006-01-01",
          "2006-05-01",
          "2007-01-01",
          "2007-06-01",
          "2008-06-01",
          "2009-07-01",
          "2010-01-01",
          "2010-07-01",
          "2011-07-01",
          "2012-01-01",
          "2012-07-01",
          "2013-01-01",
          "2013-07-01",
          "2014-01-01",
          "2014-07-01",
          "2015-01-01",
          "2015-07-01",
          "2016-01-01",
          "2016-07-01",
          "2017-01-01",
          "2017-07-01",
          "2018-01-01",
          "2018-07-01",
          "2019-01-01",
          "2019-07-09",
          "2020-01-14"
         ],
         "xaxis": "x",
         "y": [
          1.18947368421053,
          1.18947368421053,
          1.32631578947368,
          1.32631578947368,
          1.32631578947368,
          1.38157894736842,
          1.46713615023474,
          1.5153602424576398,
          1.57053112507139,
          1.60139758334547,
          1.6985793699814702,
          1.87951138256524,
          2.08118081180812,
          2.19386961257196,
          2.4217961654894102,
          2.34109983914892,
          2.33181030408067,
          2.5786571521245496,
          2.2952365980191805,
          2.2265683767113,
          2.40883977900553,
          2.11035818005808,
          2.00972021542099,
          1.82128628343768,
          1.9865905140303,
          1.78910880017891,
          2.0030278327704703,
          2.27617602427921,
          2.10068365444375,
          2.19793564055859,
          2.1363910681955303,
          2.33157442630998
         ],
         "yaxis": "y"
        },
        {
         "hovertemplate": "name=New Zealand<br>date=%{x}<br>dollar_price=%{y}<extra></extra>",
         "legendgroup": "New Zealand",
         "line": {
          "color": "#FECB52",
          "dash": "solid"
         },
         "marker": {
          "symbol": "circle"
         },
         "mode": "lines",
         "name": "New Zealand",
         "showlegend": true,
         "type": "scattergl",
         "x": [
          "2000-04-01",
          "2001-04-01",
          "2002-04-01",
          "2003-04-01",
          "2004-05-01",
          "2005-06-01",
          "2006-01-01",
          "2006-05-01",
          "2007-01-01",
          "2007-06-01",
          "2008-06-01",
          "2009-07-01",
          "2010-01-01",
          "2010-07-01",
          "2011-07-01",
          "2012-01-01",
          "2012-07-01",
          "2013-01-01",
          "2013-07-01",
          "2014-01-01",
          "2014-07-01",
          "2015-01-01",
          "2015-07-01",
          "2016-01-01",
          "2016-07-01",
          "2017-01-01",
          "2017-07-01",
          "2018-01-01",
          "2018-07-01",
          "2019-01-01",
          "2019-07-09",
          "2020-01-14"
         ],
         "xaxis": "x",
         "y": [
          1.69154228855721,
          1.45748987854251,
          1.60714285714286,
          2.21910112359551,
          2.6524390243902403,
          3.1733580546245497,
          3.07596599156701,
          2.74520206537899,
          3.2213787501050497,
          3.59459248261311,
          3.7186005919405,
          3.07721292429428,
          3.611305597523681,
          3.5900000004308,
          4.41150000061761,
          4.04761500000405,
          4.004520000659951,
          4.32458000140592,
          4.29907500125211,
          4.5718749992285,
          4.94475000069227,
          4.49255500105261,
          3.90963499998182,
          3.91228999917255,
          4.221300000595839,
          4.1853000001067295,
          4.43225999862689,
          4.51019000139252,
          4.23397999999999,
          4.191200000000009,
          4.2288,
          4.29454999999999
         ],
         "yaxis": "y"
        },
        {
         "hovertemplate": "name=Poland<br>date=%{x}<br>dollar_price=%{y}<extra></extra>",
         "legendgroup": "Poland",
         "line": {
          "color": "#636efa",
          "dash": "solid"
         },
         "marker": {
          "symbol": "circle"
         },
         "mode": "lines",
         "name": "Poland",
         "showlegend": true,
         "type": "scattergl",
         "x": [
          "2000-04-01",
          "2001-04-01",
          "2002-04-01",
          "2003-04-01",
          "2004-05-01",
          "2005-06-01",
          "2006-01-01",
          "2006-05-01",
          "2007-01-01",
          "2007-06-01",
          "2008-06-01",
          "2009-07-01",
          "2010-01-01",
          "2010-07-01",
          "2011-07-01",
          "2012-01-01",
          "2012-07-01",
          "2013-01-01",
          "2013-07-01",
          "2014-01-01",
          "2014-07-01",
          "2015-01-01",
          "2015-07-01",
          "2016-01-01",
          "2016-07-01",
          "2017-01-01",
          "2017-07-01",
          "2018-01-01",
          "2018-07-01",
          "2019-01-01",
          "2019-07-09",
          "2020-01-14"
         ],
         "xaxis": "x",
         "y": [
          1.27906976744186,
          1.4640198511166298,
          1.46039603960396,
          1.6195372750642698,
          1.6279069767441898,
          1.96398356296833,
          2.08661038168919,
          2.09734927318781,
          2.32186422141836,
          2.50740410996239,
          3.44581456595043,
          2.4086839394659703,
          2.85648793045686,
          2.59626513184648,
          3.08566933638444,
          2.58489681716826,
          2.6297917840680896,
          2.94307891332471,
          2.7336205615807496,
          2.99830530569678,
          2.99537670117862,
          2.4820590298386698,
          2.5439898240407004,
          2.37171727153692,
          2.42078852142776,
          2.30097192095203,
          2.7233996656420203,
          2.96557292813624,
          2.73939163807483,
          2.8011578118955804,
          2.83632066180815,
          2.89732918927461
         ],
         "yaxis": "y"
        },
        {
         "hovertemplate": "name=Russia<br>date=%{x}<br>dollar_price=%{y}<extra></extra>",
         "legendgroup": "Russia",
         "line": {
          "color": "#EF553B",
          "dash": "solid"
         },
         "marker": {
          "symbol": "circle"
         },
         "mode": "lines",
         "name": "Russia",
         "showlegend": true,
         "type": "scattergl",
         "x": [
          "2000-04-01",
          "2001-04-01",
          "2002-04-01",
          "2003-04-01",
          "2004-05-01",
          "2005-06-01",
          "2006-01-01",
          "2006-05-01",
          "2007-01-01",
          "2007-06-01",
          "2008-06-01",
          "2009-07-01",
          "2010-01-01",
          "2010-07-01",
          "2011-07-01",
          "2012-01-01",
          "2012-07-01",
          "2013-01-01",
          "2013-07-01",
          "2014-01-01",
          "2014-07-01",
          "2015-01-01",
          "2015-07-01",
          "2016-01-01",
          "2016-07-01",
          "2017-01-01",
          "2017-07-01",
          "2018-01-01",
          "2018-07-01",
          "2019-01-01",
          "2019-07-09",
          "2020-01-14"
         ],
         "xaxis": "x",
         "y": [
          1.3859649122806998,
          1.2110726643598602,
          1.25,
          1.31832797427653,
          1.44827586206897,
          1.47858689338332,
          1.6044645971398703,
          1.77359013440488,
          1.84672206832872,
          2.0274287719435,
          2.5394256593898503,
          2.04293829411603,
          2.3390249607378,
          2.3322082891938303,
          2.70245923790649,
          2.54963124777694,
          2.28901046077781,
          2.4256947911466096,
          2.64125395808603,
          2.62233255007108,
          2.5547366683650403,
          1.36446563539639,
          1.88330546510605,
          1.52702431183444,
          2.05022903423961,
          2.15098241985522,
          2.27813538775694,
          2.2909507445589905,
          2.09202832606353,
          1.65209567368974,
          2.03638072487322,
          2.1975338786473
         ],
         "yaxis": "y"
        },
        {
         "hovertemplate": "name=Singapore<br>date=%{x}<br>dollar_price=%{y}<extra></extra>",
         "legendgroup": "Singapore",
         "line": {
          "color": "#00cc96",
          "dash": "solid"
         },
         "marker": {
          "symbol": "circle"
         },
         "mode": "lines",
         "name": "Singapore",
         "showlegend": true,
         "type": "scattergl",
         "x": [
          "2000-04-01",
          "2001-04-01",
          "2002-04-01",
          "2003-04-01",
          "2004-05-01",
          "2005-06-01",
          "2006-01-01",
          "2006-05-01",
          "2007-01-01",
          "2007-06-01",
          "2008-06-01",
          "2009-07-01",
          "2010-01-01",
          "2010-07-01",
          "2011-07-01",
          "2012-01-01",
          "2012-07-01",
          "2013-01-01",
          "2013-07-01",
          "2014-01-01",
          "2014-07-01",
          "2015-01-01",
          "2015-07-01",
          "2016-01-01",
          "2016-07-01",
          "2017-01-01",
          "2017-07-01",
          "2018-01-01",
          "2018-07-01",
          "2019-01-01",
          "2019-07-09",
          "2020-01-14"
         ],
         "xaxis": "x",
         "y": [
          1.88235294117647,
          1.8232044198895,
          1.81318681318681,
          1.85393258426966,
          1.9298245614035097,
          2.16776058288673,
          2.2014309301045696,
          2.2680022680022702,
          2.34077830878767,
          2.5922887612797405,
          2.9199778229532405,
          2.8815295322635697,
          3.18870696141306,
          3.0781545626546403,
          3.65353547906052,
          3.7515470297029694,
          3.49622566547477,
          3.64416730777017,
          3.68714207264454,
          3.59698166321304,
          3.79644588045234,
          3.5254847541537004,
          3.4396955503512903,
          3.27013393633675,
          4.01414156293732,
          3.89226759339705,
          4.06474559047688,
          4.38546746814865,
          4.27775933915994,
          4.27760159303783,
          4.26063321824726,
          4.37961622684928
         ],
         "yaxis": "y"
        },
        {
         "hovertemplate": "name=Sweden<br>date=%{x}<br>dollar_price=%{y}<extra></extra>",
         "legendgroup": "Sweden",
         "line": {
          "color": "#ab63fa",
          "dash": "solid"
         },
         "marker": {
          "symbol": "circle"
         },
         "mode": "lines",
         "name": "Sweden",
         "showlegend": true,
         "type": "scattergl",
         "x": [
          "2000-04-01",
          "2001-04-01",
          "2002-04-01",
          "2003-04-01",
          "2004-05-01",
          "2005-06-01",
          "2006-01-01",
          "2006-05-01",
          "2007-01-01",
          "2007-06-01",
          "2008-06-01",
          "2009-07-01",
          "2010-01-01",
          "2010-07-01",
          "2011-07-01",
          "2012-01-01",
          "2012-07-01",
          "2013-01-01",
          "2013-07-01",
          "2014-01-01",
          "2014-07-01",
          "2015-01-01",
          "2015-07-01",
          "2016-01-01",
          "2016-07-01",
          "2017-01-01",
          "2017-07-01",
          "2018-01-01",
          "2018-07-01",
          "2019-01-01",
          "2019-07-09",
          "2020-01-14"
         ],
         "xaxis": "x",
         "y": [
          2.7149321266968296,
          2.33463035019455,
          2.5,
          3.5971223021582697,
          3.94218134034166,
          4.16655466250907,
          4.27910112942336,
          4.53013569815569,
          4.544647612284749,
          4.85890762922118,
          6.374929749951769,
          4.930997641971639,
          5.50684119117211,
          6.564002414033951,
          7.6398535168581905,
          5.91306354379994,
          5.72868135202144,
          6.38809635544636,
          6.156873770030921,
          6.287510717347809,
          5.95377413692218,
          4.96859530363977,
          5.127513156119281,
          5.23143277318251,
          5.228712542976321,
          5.260533396167481,
          5.81892070131244,
          6.12311068987879,
          5.826840024678379,
          5.838596491228071,
          5.38255734798233,
          5.4444926050047
         ],
         "yaxis": "y"
        },
        {
         "hovertemplate": "name=Thailand<br>date=%{x}<br>dollar_price=%{y}<extra></extra>",
         "legendgroup": "Thailand",
         "line": {
          "color": "#FFA15A",
          "dash": "solid"
         },
         "marker": {
          "symbol": "circle"
         },
         "mode": "lines",
         "name": "Thailand",
         "showlegend": true,
         "type": "scattergl",
         "x": [
          "2000-04-01",
          "2001-04-01",
          "2002-04-01",
          "2003-04-01",
          "2004-05-01",
          "2005-06-01",
          "2006-01-01",
          "2006-05-01",
          "2007-01-01",
          "2007-06-01",
          "2008-06-01",
          "2009-07-01",
          "2010-01-01",
          "2010-07-01",
          "2011-07-01",
          "2012-01-01",
          "2012-07-01",
          "2013-01-01",
          "2013-07-01",
          "2014-01-01",
          "2014-07-01",
          "2015-01-01",
          "2015-07-01",
          "2016-01-01",
          "2016-07-01",
          "2017-01-01",
          "2017-07-01",
          "2018-01-01",
          "2018-07-01",
          "2019-01-01",
          "2019-07-09",
          "2020-01-14"
         ],
         "xaxis": "x",
         "y": [
          1.44736842105263,
          1.2087912087912098,
          1.270207852194,
          1.38173302107728,
          1.44607843137255,
          1.48038490007402,
          1.50924412023645,
          1.56067108856808,
          1.75637393767705,
          1.79944855608765,
          1.85851318944844,
          1.88760427337919,
          2.112569790252,
          2.16684723726977,
          2.35294117647059,
          2.4566929133858304,
          2.58675078864353,
          2.9238783397748302,
          2.8457234212629903,
          2.92015209125475,
          3.11516677155444,
          3.03634411900015,
          3.1683168316831702,
          3.09221424627278,
          3.4034034034034,
          3.34523374469401,
          3.4962466763621403,
          3.724569640062601,
          3.5875791377751,
          3.71787862219792,
          3.86018976563134,
          3.79819998348609
         ],
         "yaxis": "y"
        },
        {
         "hovertemplate": "name=Taiwan<br>date=%{x}<br>dollar_price=%{y}<extra></extra>",
         "legendgroup": "Taiwan",
         "line": {
          "color": "#19d3f3",
          "dash": "solid"
         },
         "marker": {
          "symbol": "circle"
         },
         "mode": "lines",
         "name": "Taiwan",
         "showlegend": true,
         "type": "scattergl",
         "x": [
          "2000-04-01",
          "2001-04-01",
          "2002-04-01",
          "2003-04-01",
          "2004-05-01",
          "2005-06-01",
          "2006-01-01",
          "2006-05-01",
          "2007-01-01",
          "2007-06-01",
          "2008-06-01",
          "2009-07-01",
          "2010-01-01",
          "2010-07-01",
          "2011-07-01",
          "2012-01-01",
          "2012-07-01",
          "2013-01-01",
          "2013-07-01",
          "2014-01-01",
          "2014-07-01",
          "2015-01-01",
          "2015-07-01",
          "2016-01-01",
          "2016-07-01",
          "2017-01-01",
          "2017-07-01",
          "2018-01-01",
          "2018-07-01",
          "2019-01-01",
          "2019-07-09",
          "2020-01-14"
         ],
         "xaxis": "x",
         "y": [
          2.28758169934641,
          2.1276595744680904,
          2.01149425287356,
          2.01149425287356,
          2.24550898203593,
          2.40577385725742,
          2.34745457675394,
          2.3334681559379,
          2.27786973622268,
          2.2886437497139203,
          2.4701523260601097,
          2.2607044355021,
          2.35534270236319,
          2.336048340627,
          2.60109592841784,
          2.50170950149269,
          2.4838138133165497,
          2.54220052877771,
          2.63083404099439,
          2.6192765491860404,
          2.63491428190248,
          2.50849395103674,
          2.5467440361057405,
          2.07634322856326,
          2.1542976677386103,
          2.16267042783263,
          2.26396522024444,
          2.33478834636078,
          2.27179191703021,
          2.24004155439405,
          2.3097651738739904,
          2.4092757114892303
         ],
         "yaxis": "y"
        },
        {
         "hovertemplate": "name=United States<br>date=%{x}<br>dollar_price=%{y}<extra></extra>",
         "legendgroup": "United States",
         "line": {
          "color": "#FF6692",
          "dash": "solid"
         },
         "marker": {
          "symbol": "circle"
         },
         "mode": "lines",
         "name": "United States",
         "showlegend": true,
         "type": "scattergl",
         "x": [
          "2000-04-01",
          "2001-04-01",
          "2002-04-01",
          "2003-04-01",
          "2004-05-01",
          "2005-06-01",
          "2006-01-01",
          "2006-05-01",
          "2007-01-01",
          "2007-06-01",
          "2008-06-01",
          "2009-07-01",
          "2010-01-01",
          "2010-07-01",
          "2011-07-01",
          "2012-01-01",
          "2012-07-01",
          "2013-01-01",
          "2013-07-01",
          "2014-01-01",
          "2014-07-01",
          "2015-01-01",
          "2015-07-01",
          "2016-01-01",
          "2016-07-01",
          "2017-01-01",
          "2017-07-01",
          "2018-01-01",
          "2018-07-01",
          "2019-01-01",
          "2019-07-09",
          "2020-01-14"
         ],
         "xaxis": "x",
         "y": [
          2.51,
          2.54,
          2.49,
          2.71,
          2.9,
          3.06,
          3.15,
          3.1,
          3.22,
          3.41,
          3.57,
          3.57,
          3.58,
          3.733333333,
          4.065,
          4.19722,
          4.3275,
          4.367395833,
          4.556666667,
          4.624166667,
          4.795,
          4.79,
          4.79,
          4.93,
          5.04,
          5.06,
          5.3,
          5.28,
          5.51,
          5.58,
          5.74,
          5.67
         ],
         "yaxis": "y"
        },
        {
         "hovertemplate": "name=South Africa<br>date=%{x}<br>dollar_price=%{y}<extra></extra>",
         "legendgroup": "South Africa",
         "line": {
          "color": "#B6E880",
          "dash": "solid"
         },
         "marker": {
          "symbol": "circle"
         },
         "mode": "lines",
         "name": "South Africa",
         "showlegend": true,
         "type": "scattergl",
         "x": [
          "2000-04-01",
          "2001-04-01",
          "2002-04-01",
          "2003-04-01",
          "2004-05-01",
          "2005-06-01",
          "2006-01-01",
          "2006-05-01",
          "2007-01-01",
          "2007-06-01",
          "2008-06-01",
          "2009-07-01",
          "2010-01-01",
          "2010-07-01",
          "2011-07-01",
          "2012-01-01",
          "2012-07-01",
          "2013-01-01",
          "2013-07-01",
          "2014-01-01",
          "2014-07-01",
          "2015-01-01",
          "2015-07-01",
          "2016-01-01",
          "2016-07-01",
          "2017-01-01",
          "2017-07-01",
          "2018-01-01",
          "2018-07-01",
          "2019-01-01",
          "2019-07-09",
          "2020-01-14"
         ],
         "xaxis": "x",
         "y": [
          1.33928571428571,
          1.19311193111931,
          0.8899082568807339,
          1.8452380952381,
          1.86186186186186,
          2.09831232514064,
          2.2942946894067697,
          2.11459754433834,
          2.1801047856816296,
          2.22349734614833,
          2.24110005619277,
          2.16774349375038,
          2.45738928058046,
          2.44808598155643,
          2.87345708650657,
          2.45375381285054,
          2.35584473861342,
          2.3101580634464502,
          2.23941874642315,
          2.16039309961251,
          2.33011555471016,
          2.22149624305782,
          2.0943167492982,
          1.7706110188917898,
          2.10176022418776,
          1.88640028668697,
          2.26073850791259,
          2.4473513539971403,
          2.32002933714517,
          2.23544258157563,
          2.18694885361552,
          2.15412410534362
         ],
         "yaxis": "y"
        },
        {
         "hovertemplate": "name=Philippines<br>date=%{x}<br>dollar_price=%{y}<extra></extra>",
         "legendgroup": "Philippines",
         "line": {
          "color": "#FF97FF",
          "dash": "solid"
         },
         "marker": {
          "symbol": "circle"
         },
         "mode": "lines",
         "name": "Philippines",
         "showlegend": true,
         "type": "scattergl",
         "x": [
          "2001-04-01",
          "2002-04-01",
          "2003-04-01",
          "2004-05-01",
          "2005-06-01",
          "2006-01-01",
          "2006-05-01",
          "2007-01-01",
          "2007-06-01",
          "2008-06-01",
          "2009-07-01",
          "2010-01-01",
          "2010-07-01",
          "2011-07-01",
          "2012-01-01",
          "2012-07-01",
          "2013-01-01",
          "2013-07-01",
          "2014-01-01",
          "2014-07-01",
          "2015-01-01",
          "2015-07-01",
          "2016-01-01",
          "2016-07-01",
          "2017-01-01",
          "2017-07-01",
          "2018-01-01",
          "2018-07-01",
          "2019-01-01",
          "2019-07-09",
          "2020-01-14"
         ],
         "xaxis": "x",
         "y": [
          1.17296222664016,
          1.27450980392157,
          1.23809523809524,
          1.23434704830054,
          1.4665444546287798,
          1.5595283377710198,
          1.6152019002375302,
          1.7329255861366,
          1.85195272073642,
          1.95571540968866,
          2.0541490131239,
          2.2108013937282203,
          2.19496449322143,
          2.78236265031832,
          2.6815134643790497,
          2.7962085308056897,
          2.9064039408867,
          2.6521639042357297,
          2.98474463851426,
          3.7032750839023296,
          3.67034451700068,
          3.6051976776334,
          2.7859003668456603,
          2.82288018677704,
          2.68064093520105,
          2.6494518205095297,
          2.6416954164613102,
          2.6174584478471403,
          2.6721381877177097,
          2.76708725093779,
          2.80743376828786
         ],
         "yaxis": "y"
        },
        {
         "hovertemplate": "name=Norway<br>date=%{x}<br>dollar_price=%{y}<extra></extra>",
         "legendgroup": "Norway",
         "line": {
          "color": "#FECB52",
          "dash": "solid"
         },
         "marker": {
          "symbol": "circle"
         },
         "mode": "lines",
         "name": "Norway",
         "showlegend": true,
         "type": "scattergl",
         "x": [
          "2002-04-01",
          "2004-05-01",
          "2005-06-01",
          "2006-05-01",
          "2007-01-01",
          "2007-06-01",
          "2008-06-01",
          "2009-07-01",
          "2010-01-01",
          "2010-07-01",
          "2011-07-01",
          "2012-01-01",
          "2012-07-01",
          "2013-01-01",
          "2013-07-01",
          "2014-01-01",
          "2014-07-01",
          "2015-01-01",
          "2015-07-01",
          "2016-01-01",
          "2016-07-01",
          "2017-01-01",
          "2017-07-01",
          "2018-01-01",
          "2018-07-01",
          "2019-01-01",
          "2019-07-09",
          "2020-01-14"
         ],
         "xaxis": "x",
         "y": [
          4.088785046728971,
          5.183162751310389,
          6.06286726984423,
          7.04652344198089,
          6.800714484702491,
          6.88006329658233,
          7.87533347115167,
          6.14510120213542,
          7.02302674895313,
          7.20432259355613,
          8.31170750177778,
          6.78819185748108,
          7.05837936326852,
          7.842279002753919,
          7.506404921590709,
          7.79543479849613,
          7.75782651560455,
          6.29714660544441,
          5.6493358960031,
          5.21468803797363,
          5.51006351878779,
          5.66582064786925,
          5.91416018925313,
          6.24195870116304,
          5.22290617422123,
          5.85967256149726,
          4.853948166767791,
          5.97173005526667
         ],
         "yaxis": "y"
        },
        {
         "hovertemplate": "name=Peru<br>date=%{x}<br>dollar_price=%{y}<extra></extra>",
         "legendgroup": "Peru",
         "line": {
          "color": "#636efa",
          "dash": "solid"
         },
         "marker": {
          "symbol": "circle"
         },
         "mode": "lines",
         "name": "Peru",
         "showlegend": true,
         "type": "scattergl",
         "x": [
          "2002-04-01",
          "2003-04-01",
          "2004-05-01",
          "2005-06-01",
          "2006-01-01",
          "2006-05-01",
          "2007-01-01",
          "2007-06-01",
          "2008-06-01",
          "2009-07-01",
          "2010-01-01",
          "2010-07-01",
          "2011-07-01",
          "2012-01-01",
          "2013-01-01",
          "2013-07-01",
          "2014-01-01",
          "2014-07-01",
          "2015-01-01",
          "2015-07-01",
          "2016-01-01",
          "2016-07-01",
          "2017-01-01",
          "2017-07-01",
          "2018-01-01",
          "2018-07-01",
          "2019-01-01",
          "2019-07-09",
          "2020-01-14"
         ],
         "xaxis": "x",
         "y": [
          2.47813411078717,
          2.28323699421965,
          2.57593123209169,
          2.76224420819763,
          2.75681950087057,
          2.91321680466115,
          2.9785232795109,
          2.99968424376381,
          3.34507042253521,
          2.66102926603686,
          2.8064797073680494,
          3.5366931918656097,
          3.65296803652968,
          3.71402042711235,
          3.90701308849385,
          3.5932446999640697,
          3.56315695706396,
          3.5868005738880897,
          3.32446808510638,
          3.14119679597927,
          2.9256875365710897,
          3.02494063554003,
          3.2420643107666005,
          3.2292787944025805,
          3.26899128268991,
          3.20953690967446,
          3.1357324175003702,
          3.19459656809054,
          3.57615097968506
         ],
         "yaxis": "y"
        },
        {
         "hovertemplate": "name=Turkey<br>date=%{x}<br>dollar_price=%{y}<extra></extra>",
         "legendgroup": "Turkey",
         "line": {
          "color": "#EF553B",
          "dash": "solid"
         },
         "marker": {
          "symbol": "circle"
         },
         "mode": "lines",
         "name": "Turkey",
         "showlegend": true,
         "type": "scattergl",
         "x": [
          "2002-04-01",
          "2003-04-01",
          "2004-05-01",
          "2005-06-01",
          "2006-01-01",
          "2006-05-01",
          "2007-01-01",
          "2007-06-01",
          "2008-06-01",
          "2009-07-01",
          "2010-01-01",
          "2010-07-01",
          "2011-07-01",
          "2012-01-01",
          "2012-07-01",
          "2013-01-01",
          "2013-07-01",
          "2014-01-01",
          "2014-07-01",
          "2015-01-01",
          "2015-07-01",
          "2016-01-01",
          "2016-07-01",
          "2017-01-01",
          "2017-07-01",
          "2018-01-01",
          "2018-07-01",
          "2019-01-01",
          "2019-07-09",
          "2020-01-14"
         ],
         "xaxis": "x",
         "y": [
          3.02000755001888,
          2.3430178069353302,
          2.58001306335728,
          2.9218407596786,
          3.06771417882529,
          2.7246188777165097,
          3.22752261039191,
          3.6591942069178,
          4.31775309159505,
          3.64504370826748,
          3.83167746092028,
          3.89066893349899,
          3.77281829526656,
          3.54276819023592,
          4.51584651595599,
          4.7773851590106,
          4.34238422437355,
          3.75848422542062,
          4.42319187089062,
          3.964087509910221,
          3.8742109838606,
          3.40576820839979,
          3.53263995005011,
          2.74855221610012,
          3.00611009353896,
          2.827013096302529,
          2.28419654714475,
          1.99687929561244,
          2.44494931842013,
          2.20908974958548
         ],
         "yaxis": "y"
        },
        {
         "hovertemplate": "name=Egypt<br>date=%{x}<br>dollar_price=%{y}<extra></extra>",
         "legendgroup": "Egypt",
         "line": {
          "color": "#00cc96",
          "dash": "solid"
         },
         "marker": {
          "symbol": "circle"
         },
         "mode": "lines",
         "name": "Egypt",
         "showlegend": true,
         "type": "scattergl",
         "x": [
          "2003-04-01",
          "2004-05-01",
          "2005-06-01",
          "2006-01-01",
          "2006-05-01",
          "2007-01-01",
          "2007-06-01",
          "2008-06-01",
          "2009-07-01",
          "2010-01-01",
          "2010-07-01",
          "2011-07-01",
          "2012-01-01",
          "2012-07-01",
          "2013-01-01",
          "2013-07-01",
          "2014-01-01",
          "2014-07-01",
          "2015-01-01",
          "2015-07-01",
          "2016-01-01",
          "2016-07-01",
          "2017-01-01",
          "2017-07-01",
          "2018-01-01",
          "2018-07-01",
          "2019-01-01",
          "2019-07-09",
          "2020-01-14"
         ],
         "xaxis": "x",
         "y": [
          1.35135135135135,
          1.6155088852988702,
          1.55172413793103,
          1.61149825783972,
          1.6462331586015702,
          1.59473684210526,
          1.67655199683669,
          2.44705882352941,
          2.32776758135995,
          2.37877401646844,
          2.28110194771012,
          2.36330090573633,
          2.56750041411297,
          2.63743509437072,
          2.3931496092435403,
          2.38973341988686,
          2.43212182157736,
          2.36781560968105,
          2.3033856912538,
          2.1621828723954497,
          2.1621828723954497,
          2.5901046740128,
          1.46457112413426,
          1.7539837852949398,
          1.93276836158192,
          1.7520245741413,
          2.23338916806253,
          2.52783629250677,
          2.6448362720403
         ],
         "yaxis": "y"
        },
        {
         "hovertemplate": "name=Colombia<br>date=%{x}<br>dollar_price=%{y}<extra></extra>",
         "legendgroup": "Colombia",
         "line": {
          "color": "#ab63fa",
          "dash": "solid"
         },
         "marker": {
          "symbol": "circle"
         },
         "mode": "lines",
         "name": "Colombia",
         "showlegend": true,
         "type": "scattergl",
         "x": [
          "2004-05-01",
          "2005-06-01",
          "2006-05-01",
          "2007-01-01",
          "2007-06-01",
          "2008-06-01",
          "2009-07-01",
          "2010-01-01",
          "2010-07-01",
          "2011-07-01",
          "2012-01-01",
          "2012-07-01",
          "2013-01-01",
          "2013-07-01",
          "2014-01-01",
          "2014-07-01",
          "2015-01-01",
          "2015-07-01",
          "2016-01-01",
          "2016-07-01",
          "2017-01-01",
          "2017-07-01",
          "2018-01-01",
          "2018-07-01",
          "2019-01-01",
          "2019-07-09",
          "2020-01-14"
         ],
         "xaxis": "x",
         "y": [
          2.3467144192964904,
          2.79245607251794,
          2.59626138360761,
          3.0812856552755896,
          3.52760736196319,
          3.89180774469741,
          3.3403321244512303,
          3.91296048864287,
          4.388664400974069,
          4.74442247952556,
          4.535269821558731,
          4.76592914836725,
          4.85005710096296,
          4.47683498178032,
          4.33731172410663,
          4.654561199361349,
          3.340408798383069,
          2.91631289453284,
          2.42785580380467,
          3.0385797200409703,
          3.30592311224277,
          3.24360452925142,
          3.83246839092584,
          4.14046978674841,
          3.72865423781921,
          3.6876355748373104,
          3.61963423443976
         ],
         "yaxis": "y"
        },
        {
         "hovertemplate": "name=Costa Rica<br>date=%{x}<br>dollar_price=%{y}<extra></extra>",
         "legendgroup": "Costa Rica",
         "line": {
          "color": "#FFA15A",
          "dash": "solid"
         },
         "marker": {
          "symbol": "circle"
         },
         "mode": "lines",
         "name": "Costa Rica",
         "showlegend": true,
         "type": "scattergl",
         "x": [
          "2004-05-01",
          "2005-06-01",
          "2006-05-01",
          "2007-01-01",
          "2007-06-01",
          "2008-06-01",
          "2009-07-01",
          "2010-01-01",
          "2010-07-01",
          "2011-07-01",
          "2012-01-01",
          "2013-01-01",
          "2013-07-01",
          "2014-01-01",
          "2014-07-01",
          "2015-01-01",
          "2015-07-01",
          "2016-01-01",
          "2016-07-01",
          "2017-01-01",
          "2017-07-01",
          "2018-01-01",
          "2018-07-01",
          "2019-01-01",
          "2019-07-09",
          "2020-01-14"
         ],
         "xaxis": "x",
         "y": [
          2.60638911313574,
          2.3774458236903,
          2.2177083026681204,
          2.2177083026681204,
          2.17883827428296,
          3.2666690864215497,
          3.43306383782206,
          3.5188904337676203,
          3.83057372417954,
          4.06500034701222,
          4.02323664481689,
          4.39270810454645,
          4.31142527698401,
          4.2835511635320405,
          4.0014889261120405,
          4.01052062153743,
          4.0315019688730604,
          4.01681457262961,
          4.11793773678142,
          4.058954052640121,
          4.00003493480292,
          4.02793168346437,
          4.03311025008806,
          3.77280777626756,
          3.93514739618686,
          4.12306018790628
         ],
         "yaxis": "y"
        },
        {
         "hovertemplate": "name=Sri Lanka<br>date=%{x}<br>dollar_price=%{y}<extra></extra>",
         "legendgroup": "Sri Lanka",
         "line": {
          "color": "#19d3f3",
          "dash": "solid"
         },
         "marker": {
          "symbol": "circle"
         },
         "mode": "lines",
         "name": "Sri Lanka",
         "showlegend": true,
         "type": "scattergl",
         "x": [
          "2004-05-01",
          "2005-06-01",
          "2006-05-01",
          "2007-01-01",
          "2007-06-01",
          "2008-06-01",
          "2009-07-01",
          "2010-01-01",
          "2010-07-01",
          "2011-07-01",
          "2012-01-01",
          "2012-07-01",
          "2013-01-01",
          "2013-07-01",
          "2014-01-01",
          "2014-07-01",
          "2015-01-01",
          "2015-07-01",
          "2016-01-01",
          "2016-07-01",
          "2017-01-01",
          "2017-07-01",
          "2018-01-01",
          "2018-07-01",
          "2019-01-01",
          "2019-07-09",
          "2020-01-14"
         ],
         "xaxis": "x",
         "y": [
          1.41414141414141,
          1.75096302966632,
          1.84546646593172,
          1.84546646593172,
          1.8850987432675,
          1.95258019525802,
          1.82831272853909,
          1.82831272853909,
          1.86211483041454,
          2.55766156656771,
          2.5454226279294305,
          2.2137404580152698,
          2.76789244760775,
          2.828746177370029,
          2.67584097859327,
          2.6870369659514,
          2.65402843601896,
          2.61486738886814,
          2.42971190558834,
          3.6251709986320098,
          3.66520058643209,
          3.77297121483168,
          3.77113133940182,
          3.6416148678344897,
          3.18252901314165,
          3.64309093496513,
          3.19647285753651
         ],
         "yaxis": "y"
        },
        {
         "hovertemplate": "name=Pakistan<br>date=%{x}<br>dollar_price=%{y}<extra></extra>",
         "legendgroup": "Pakistan",
         "line": {
          "color": "#FF6692",
          "dash": "solid"
         },
         "marker": {
          "symbol": "circle"
         },
         "mode": "lines",
         "name": "Pakistan",
         "showlegend": true,
         "type": "scattergl",
         "x": [
          "2004-05-01",
          "2005-06-01",
          "2006-05-01",
          "2007-01-01",
          "2007-06-01",
          "2008-06-01",
          "2009-07-01",
          "2010-01-01",
          "2010-07-01",
          "2011-07-01",
          "2012-01-01",
          "2012-07-01",
          "2013-01-01",
          "2013-07-01",
          "2014-01-01",
          "2014-07-01",
          "2015-01-01",
          "2015-07-01",
          "2016-01-01",
          "2016-07-01",
          "2017-01-01",
          "2017-07-01",
          "2018-01-01",
          "2018-07-01",
          "2019-01-01",
          "2019-07-09",
          "2020-01-14"
         ],
         "xaxis": "x",
         "y": [
          1.90443213296399,
          2.18047635021805,
          2.16468237449005,
          2.33119640329698,
          2.31903263210204,
          1.97461212976023,
          2.30024213075061,
          2.42130750605327,
          2.4554223911137103,
          2.37570212519544,
          2.88728484175458,
          3.01252576502299,
          2.96933394767829,
          2.99895036737142,
          3.03562111653939,
          3.04012971220105,
          2.97811088499528,
          3.44149459193707,
          2.86027553987701,
          3.57756153405839,
          3.57909806728704,
          3.56633380884451,
          3.3935116058096897,
          3.0866738003127794,
          3.3122119815668194,
          3.0485868529692,
          3.35754640839387
         ],
         "yaxis": "y"
        },
        {
         "hovertemplate": "name=Saudi Arabia<br>date=%{x}<br>dollar_price=%{y}<extra></extra>",
         "legendgroup": "Saudi Arabia",
         "line": {
          "color": "#B6E880",
          "dash": "solid"
         },
         "marker": {
          "symbol": "circle"
         },
         "mode": "lines",
         "name": "Saudi Arabia",
         "showlegend": true,
         "type": "scattergl",
         "x": [
          "2004-05-01",
          "2005-06-01",
          "2006-05-01",
          "2007-01-01",
          "2007-06-01",
          "2008-06-01",
          "2009-07-01",
          "2010-01-01",
          "2010-07-01",
          "2011-07-01",
          "2012-01-01",
          "2012-07-01",
          "2013-01-01",
          "2013-07-01",
          "2014-01-01",
          "2014-07-01",
          "2015-01-01",
          "2015-07-01",
          "2016-01-01",
          "2016-07-01",
          "2017-01-01",
          "2017-07-01",
          "2018-01-01",
          "2018-07-01",
          "2019-01-01",
          "2019-07-09",
          "2020-01-14"
         ],
         "xaxis": "x",
         "y": [
          0.639965868487014,
          2.39993600170662,
          2.40064017071219,
          2.40064017071219,
          2.3997120345558502,
          2.66698670507128,
          2.9330204778157003,
          2.66652445202923,
          2.66634670506206,
          2.66652445202923,
          2.66652445202923,
          2.6664889007399504,
          2.93317689723215,
          2.66652445202923,
          2.9330204778157003,
          2.93305958110576,
          2.9279459128536804,
          3.19953073549213,
          3.1963348693498097,
          3.19957339021464,
          3.19944542945889,
          3.1998720051198,
          3.1997440204783603,
          3.19965870307167,
          3.1990189675166296,
          3.46634314130681,
          3.4650034650034702
         ],
         "yaxis": "y"
        },
        {
         "hovertemplate": "name=Ukraine<br>date=%{x}<br>dollar_price=%{y}<extra></extra>",
         "legendgroup": "Ukraine",
         "line": {
          "color": "#FF97FF",
          "dash": "solid"
         },
         "marker": {
          "symbol": "circle"
         },
         "mode": "lines",
         "name": "Ukraine",
         "showlegend": true,
         "type": "scattergl",
         "x": [
          "2004-05-01",
          "2005-06-01",
          "2006-05-01",
          "2007-01-01",
          "2007-06-01",
          "2008-06-01",
          "2009-07-01",
          "2010-01-01",
          "2010-07-01",
          "2011-07-01",
          "2012-01-01",
          "2012-07-01",
          "2013-01-01",
          "2013-07-01",
          "2014-01-01",
          "2014-07-01",
          "2015-01-01",
          "2015-07-01",
          "2016-01-01",
          "2016-07-01",
          "2017-01-01",
          "2017-07-01",
          "2018-01-01",
          "2018-07-01",
          "2019-01-01",
          "2019-07-09",
          "2020-01-14"
         ],
         "xaxis": "x",
         "y": [
          1.35984244584076,
          1.43280632411067,
          1.68316831683168,
          1.7821782178217802,
          1.83988065638986,
          2.39130434782609,
          1.82767624020888,
          1.82767624020888,
          1.8356754019496104,
          2.06404803602702,
          2.11429637460357,
          1.85517284026962,
          2.33300589390963,
          2.3298589822195,
          2.2675736961451203,
          1.6260162601626,
          1.2008595626343102,
          1.54897494305239,
          1.54175588865096,
          1.5725806451612905,
          1.54213328437672,
          1.69785838317577,
          1.6367752045969,
          1.90846978892324,
          1.94244604316547,
          2.2224388341943704,
          2.3759899958316
         ],
         "yaxis": "y"
        },
        {
         "hovertemplate": "name=Uruguay<br>date=%{x}<br>dollar_price=%{y}<extra></extra>",
         "legendgroup": "Uruguay",
         "line": {
          "color": "#FECB52",
          "dash": "solid"
         },
         "marker": {
          "symbol": "circle"
         },
         "mode": "lines",
         "name": "Uruguay",
         "showlegend": true,
         "type": "scattergl",
         "x": [
          "2004-05-01",
          "2005-06-01",
          "2006-05-01",
          "2007-01-01",
          "2007-06-01",
          "2008-06-01",
          "2009-07-01",
          "2010-01-01",
          "2010-07-01",
          "2011-07-01",
          "2012-01-01",
          "2012-07-01",
          "2013-01-01",
          "2013-07-01",
          "2014-01-01",
          "2014-07-01",
          "2015-01-01",
          "2015-07-01",
          "2016-01-01",
          "2016-07-01",
          "2017-01-01",
          "2017-07-01",
          "2018-01-01",
          "2018-07-01",
          "2019-01-01",
          "2019-07-09",
          "2020-01-14"
         ],
         "xaxis": "x",
         "y": [
          1.00218597612241,
          1.8238341968911895,
          1.76718913270637,
          2.29885057471264,
          2.5892670703696,
          3.1853785900783302,
          2.63271471730686,
          3.32326283987915,
          3.74407582938389,
          4.87804878048781,
          4.62724935732648,
          4.52674897119342,
          5.44605809128631,
          4.97984349063315,
          4.911131898971,
          4.91946016543317,
          4.62640736949846,
          4.1323825196562405,
          3.74358124896472,
          4.07757334659373,
          4.35161009573542,
          4.528827730360571,
          4.898530440867741,
          4.47141488342383,
          4.30636727160874,
          4.66313140647436,
          4.781621477227191
         ],
         "yaxis": "y"
        },
        {
         "hovertemplate": "name=UAE<br>date=%{x}<br>dollar_price=%{y}<extra></extra>",
         "legendgroup": "UAE",
         "line": {
          "color": "#636efa",
          "dash": "solid"
         },
         "marker": {
          "symbol": "circle"
         },
         "mode": "lines",
         "name": "UAE",
         "showlegend": true,
         "type": "scattergl",
         "x": [
          "2005-06-01",
          "2006-05-01",
          "2007-01-01",
          "2007-06-01",
          "2008-06-01",
          "2009-07-01",
          "2010-01-01",
          "2010-07-01",
          "2011-07-01",
          "2012-01-01",
          "2012-07-01",
          "2013-01-01",
          "2013-07-01",
          "2014-01-01",
          "2014-07-01",
          "2015-01-01",
          "2015-07-01",
          "2016-01-01",
          "2016-07-01",
          "2017-01-01",
          "2017-07-01",
          "2018-01-01"
         ],
         "xaxis": "x",
         "y": [
          2.45064669843431,
          2.45057997059304,
          2.72286663399227,
          2.7226812965408302,
          2.7226812965408302,
          2.7225701061802297,
          2.9948271167982594,
          2.99494942619492,
          3.2670396536938,
          3.26708412741628,
          3.26712860234961,
          3.2670396536938,
          3.26708412741628,
          3.26708412741628,
          3.5392929581682795,
          3.5392929581682795,
          3.53938931921208,
          3.5392447796139503,
          3.5392447796139503,
          3.5393411380342994,
          3.81159814865233,
          3.81159814865233
         ],
         "yaxis": "y"
        },
        {
         "hovertemplate": "name=India<br>date=%{x}<br>dollar_price=%{y}<extra></extra>",
         "legendgroup": "India",
         "line": {
          "color": "#EF553B",
          "dash": "solid"
         },
         "marker": {
          "symbol": "circle"
         },
         "mode": "lines",
         "name": "India",
         "showlegend": true,
         "type": "scattergl",
         "x": [
          "2011-07-01",
          "2012-01-01",
          "2012-07-01",
          "2013-01-01",
          "2013-07-01",
          "2014-01-01",
          "2014-07-01",
          "2015-01-01",
          "2015-07-01",
          "2016-01-01",
          "2016-07-01",
          "2017-01-01",
          "2017-07-01",
          "2018-01-01",
          "2018-07-01",
          "2019-01-01",
          "2019-07-09",
          "2020-01-14"
         ],
         "xaxis": "x",
         "y": [
          1.8918918918918897,
          1.61834120026972,
          1.58461675420636,
          1.66682273621126,
          1.50050016672224,
          1.5360983102918602,
          1.7474152815626898,
          1.88671589710298,
          1.83272899259026,
          1.9011264548482496,
          2.41071428571429,
          2.48801726976693,
          2.7572319250280803,
          2.8186106598289298,
          2.51362150381402,
          2.55435172562244,
          2.66941290420454,
          2.65243943302696
         ],
         "yaxis": "y"
        },
        {
         "hovertemplate": "name=Vietnam<br>date=%{x}<br>dollar_price=%{y}<extra></extra>",
         "legendgroup": "Vietnam",
         "line": {
          "color": "#00cc96",
          "dash": "solid"
         },
         "marker": {
          "symbol": "circle"
         },
         "mode": "lines",
         "name": "Vietnam",
         "showlegend": true,
         "type": "scattergl",
         "x": [
          "2014-07-01",
          "2015-01-01",
          "2015-07-01",
          "2016-01-01",
          "2016-07-01",
          "2017-01-01",
          "2017-07-01",
          "2018-01-01",
          "2018-07-01",
          "2019-01-01",
          "2019-07-09",
          "2020-01-14"
         ],
         "xaxis": "x",
         "y": [
          2.82618935468676,
          2.8063610851262903,
          2.75103163686382,
          2.6705240903527296,
          2.69058295964126,
          2.6581605528974,
          2.63939293962389,
          2.861986218435589,
          2.82124178042058,
          2.801844907108069,
          2.79798545047566,
          2.8477735588539903
         ],
         "yaxis": "y"
        },
        {
         "hovertemplate": "name=United Arab Emirates<br>date=%{x}<br>dollar_price=%{y}<extra></extra>",
         "legendgroup": "United Arab Emirates",
         "line": {
          "color": "#ab63fa",
          "dash": "solid"
         },
         "marker": {
          "symbol": "circle"
         },
         "mode": "lines",
         "name": "United Arab Emirates",
         "showlegend": true,
         "type": "scattergl",
         "x": [
          "2018-07-01",
          "2019-01-01",
          "2019-07-09",
          "2020-01-14"
         ],
         "xaxis": "x",
         "y": [
          3.81144249486136,
          3.81144249486136,
          4.01562691422893,
          4.01562691422893
         ],
         "yaxis": "y"
        },
        {
         "hovertemplate": "name=Azerbaijan<br>date=%{x}<br>dollar_price=%{y}<extra></extra>",
         "legendgroup": "Azerbaijan",
         "line": {
          "color": "#FFA15A",
          "dash": "solid"
         },
         "marker": {
          "symbol": "circle"
         },
         "mode": "lines",
         "name": "Azerbaijan",
         "showlegend": true,
         "type": "scattergl",
         "x": [
          "2018-07-01",
          "2019-01-01",
          "2019-07-09",
          "2020-01-14"
         ],
         "xaxis": "x",
         "y": [
          2.32114000293815,
          2.3283230179781897,
          2.3283230179781897,
          2.3283230179781897
         ],
         "yaxis": "y"
        },
        {
         "hovertemplate": "name=Bahrain<br>date=%{x}<br>dollar_price=%{y}<extra></extra>",
         "legendgroup": "Bahrain",
         "line": {
          "color": "#19d3f3",
          "dash": "solid"
         },
         "marker": {
          "symbol": "circle"
         },
         "mode": "lines",
         "name": "Bahrain",
         "showlegend": true,
         "type": "scattergl",
         "x": [
          "2018-07-01",
          "2019-01-01",
          "2019-07-09",
          "2020-01-14"
         ],
         "xaxis": "x",
         "y": [
          3.161638782769069,
          3.18302387267905,
          3.7135278514588896,
          3.7135278514588896
         ],
         "yaxis": "y"
        },
        {
         "hovertemplate": "name=Guatemala<br>date=%{x}<br>dollar_price=%{y}<extra></extra>",
         "legendgroup": "Guatemala",
         "line": {
          "color": "#FF6692",
          "dash": "solid"
         },
         "marker": {
          "symbol": "circle"
         },
         "mode": "lines",
         "name": "Guatemala",
         "showlegend": true,
         "type": "scattergl",
         "x": [
          "2018-07-01",
          "2019-01-01",
          "2019-07-09",
          "2020-01-14"
         ],
         "xaxis": "x",
         "y": [
          3.33907654499072,
          3.23486407101174,
          3.2551235644905097,
          3.2440989839482004
         ],
         "yaxis": "y"
        },
        {
         "hovertemplate": "name=Honduras<br>date=%{x}<br>dollar_price=%{y}<extra></extra>",
         "legendgroup": "Honduras",
         "line": {
          "color": "#B6E880",
          "dash": "solid"
         },
         "marker": {
          "symbol": "circle"
         },
         "mode": "lines",
         "name": "Honduras",
         "showlegend": true,
         "type": "scattergl",
         "x": [
          "2018-07-01",
          "2019-01-01",
          "2019-07-09",
          "2020-01-14"
         ],
         "xaxis": "x",
         "y": [
          3.5427590173636903,
          3.4923230522081803,
          3.5125840365308703,
          3.5287246296867103
         ],
         "yaxis": "y"
        },
        {
         "hovertemplate": "name=Croatia<br>date=%{x}<br>dollar_price=%{y}<extra></extra>",
         "legendgroup": "Croatia",
         "line": {
          "color": "#FF97FF",
          "dash": "solid"
         },
         "marker": {
          "symbol": "circle"
         },
         "mode": "lines",
         "name": "Croatia",
         "showlegend": true,
         "type": "scattergl",
         "x": [
          "2018-07-01",
          "2019-01-01",
          "2019-07-09",
          "2020-01-14"
         ],
         "xaxis": "x",
         "y": [
          3.32660092669597,
          3.2413159742855604,
          3.3342932056198,
          3.28529829015157
         ],
         "yaxis": "y"
        },
        {
         "hovertemplate": "name=Jordan<br>date=%{x}<br>dollar_price=%{y}<extra></extra>",
         "legendgroup": "Jordan",
         "line": {
          "color": "#FECB52",
          "dash": "solid"
         },
         "marker": {
          "symbol": "circle"
         },
         "mode": "lines",
         "name": "Jordan",
         "showlegend": true,
         "type": "scattergl",
         "x": [
          "2018-07-01",
          "2019-01-01",
          "2019-07-09",
          "2020-01-14"
         ],
         "xaxis": "x",
         "y": [
          2.74628547285402,
          2.74802705749718,
          3.24400564174894,
          3.24400564174894
         ],
         "yaxis": "y"
        },
        {
         "hovertemplate": "name=Kuwait<br>date=%{x}<br>dollar_price=%{y}<extra></extra>",
         "legendgroup": "Kuwait",
         "line": {
          "color": "#636efa",
          "dash": "solid"
         },
         "marker": {
          "symbol": "circle"
         },
         "mode": "lines",
         "name": "Kuwait",
         "showlegend": true,
         "type": "scattergl",
         "x": [
          "2018-07-01",
          "2019-01-01",
          "2019-07-09",
          "2020-01-14"
         ],
         "xaxis": "x",
         "y": [
          3.47107438016529,
          3.46420323325635,
          3.61247947454844,
          3.6255767963085
         ],
         "yaxis": "y"
        },
        {
         "hovertemplate": "name=Lebanon<br>date=%{x}<br>dollar_price=%{y}<extra></extra>",
         "legendgroup": "Lebanon",
         "line": {
          "color": "#EF553B",
          "dash": "solid"
         },
         "marker": {
          "symbol": "circle"
         },
         "mode": "lines",
         "name": "Lebanon",
         "showlegend": true,
         "type": "scattergl",
         "x": [
          "2018-07-01",
          "2019-01-01",
          "2019-07-09",
          "2020-01-14"
         ],
         "xaxis": "x",
         "y": [
          4.3017868960953,
          4.31320504313205,
          4.31320504313205,
          4.2932628797886405
         ],
         "yaxis": "y"
        },
        {
         "hovertemplate": "name=Moldova<br>date=%{x}<br>dollar_price=%{y}<extra></extra>",
         "legendgroup": "Moldova",
         "line": {
          "color": "#00cc96",
          "dash": "solid"
         },
         "marker": {
          "symbol": "circle"
         },
         "mode": "lines",
         "name": "Moldova",
         "showlegend": true,
         "type": "scattergl",
         "x": [
          "2018-07-01",
          "2019-01-01",
          "2019-07-09",
          "2020-01-14"
         ],
         "xaxis": "x",
         "y": [
          2.58217935937932,
          2.31709436366796,
          2.41380471758485,
          2.58323765786452
         ],
         "yaxis": "y"
        },
        {
         "hovertemplate": "name=Nicaragua<br>date=%{x}<br>dollar_price=%{y}<extra></extra>",
         "legendgroup": "Nicaragua",
         "line": {
          "color": "#ab63fa",
          "dash": "solid"
         },
         "marker": {
          "symbol": "circle"
         },
         "mode": "lines",
         "name": "Nicaragua",
         "showlegend": true,
         "type": "scattergl",
         "x": [
          "2018-07-01",
          "2019-01-01",
          "2019-07-09",
          "2020-01-14"
         ],
         "xaxis": "x",
         "y": [
          3.26081450714213,
          3.18287305280788,
          3.3170396325926297,
          3.5422994837098503
         ],
         "yaxis": "y"
        },
        {
         "hovertemplate": "name=Oman<br>date=%{x}<br>dollar_price=%{y}<extra></extra>",
         "legendgroup": "Oman",
         "line": {
          "color": "#FFA15A",
          "dash": "solid"
         },
         "marker": {
          "symbol": "circle"
         },
         "mode": "lines",
         "name": "Oman",
         "showlegend": true,
         "type": "scattergl",
         "x": [
          "2018-07-01",
          "2019-01-01",
          "2019-07-09",
          "2020-01-14"
         ],
         "xaxis": "x",
         "y": [
          2.7272727272727297,
          2.7279812938425603,
          3.14285714285714,
          2.99961044020257
         ],
         "yaxis": "y"
        },
        {
         "hovertemplate": "name=Qatar<br>date=%{x}<br>dollar_price=%{y}<extra></extra>",
         "legendgroup": "Qatar",
         "line": {
          "color": "#19d3f3",
          "dash": "solid"
         },
         "marker": {
          "symbol": "circle"
         },
         "mode": "lines",
         "name": "Qatar",
         "showlegend": true,
         "type": "scattergl",
         "x": [
          "2018-07-01",
          "2019-01-01",
          "2019-07-09",
          "2020-01-14"
         ],
         "xaxis": "x",
         "y": [
          3.29579785773139,
          3.29557157569516,
          3.5697123635614707,
          3.57044767920901
         ],
         "yaxis": "y"
        },
        {
         "hovertemplate": "name=Romania<br>date=%{x}<br>dollar_price=%{y}<extra></extra>",
         "legendgroup": "Romania",
         "line": {
          "color": "#FF6692",
          "dash": "solid"
         },
         "marker": {
          "symbol": "circle"
         },
         "mode": "lines",
         "name": "Romania",
         "showlegend": true,
         "type": "scattergl",
         "x": [
          "2018-07-01",
          "2019-01-01",
          "2019-07-09",
          "2020-01-14"
         ],
         "xaxis": "x",
         "y": [
          2.3154848046309704,
          2.2867259248331098,
          2.20420932878271,
          2.21022753710856
         ],
         "yaxis": "y"
        }
       ],
       "layout": {
        "legend": {
         "title": {
          "text": "name"
         },
         "tracegroupgap": 0
        },
        "margin": {
         "t": 60
        },
        "template": {
         "data": {
          "bar": [
           {
            "error_x": {
             "color": "#2a3f5f"
            },
            "error_y": {
             "color": "#2a3f5f"
            },
            "marker": {
             "line": {
              "color": "#E5ECF6",
              "width": 0.5
             },
             "pattern": {
              "fillmode": "overlay",
              "size": 10,
              "solidity": 0.2
             }
            },
            "type": "bar"
           }
          ],
          "barpolar": [
           {
            "marker": {
             "line": {
              "color": "#E5ECF6",
              "width": 0.5
             },
             "pattern": {
              "fillmode": "overlay",
              "size": 10,
              "solidity": 0.2
             }
            },
            "type": "barpolar"
           }
          ],
          "carpet": [
           {
            "aaxis": {
             "endlinecolor": "#2a3f5f",
             "gridcolor": "white",
             "linecolor": "white",
             "minorgridcolor": "white",
             "startlinecolor": "#2a3f5f"
            },
            "baxis": {
             "endlinecolor": "#2a3f5f",
             "gridcolor": "white",
             "linecolor": "white",
             "minorgridcolor": "white",
             "startlinecolor": "#2a3f5f"
            },
            "type": "carpet"
           }
          ],
          "choropleth": [
           {
            "colorbar": {
             "outlinewidth": 0,
             "ticks": ""
            },
            "type": "choropleth"
           }
          ],
          "contour": [
           {
            "colorbar": {
             "outlinewidth": 0,
             "ticks": ""
            },
            "colorscale": [
             [
              0,
              "#0d0887"
             ],
             [
              0.1111111111111111,
              "#46039f"
             ],
             [
              0.2222222222222222,
              "#7201a8"
             ],
             [
              0.3333333333333333,
              "#9c179e"
             ],
             [
              0.4444444444444444,
              "#bd3786"
             ],
             [
              0.5555555555555556,
              "#d8576b"
             ],
             [
              0.6666666666666666,
              "#ed7953"
             ],
             [
              0.7777777777777778,
              "#fb9f3a"
             ],
             [
              0.8888888888888888,
              "#fdca26"
             ],
             [
              1,
              "#f0f921"
             ]
            ],
            "type": "contour"
           }
          ],
          "contourcarpet": [
           {
            "colorbar": {
             "outlinewidth": 0,
             "ticks": ""
            },
            "type": "contourcarpet"
           }
          ],
          "heatmap": [
           {
            "colorbar": {
             "outlinewidth": 0,
             "ticks": ""
            },
            "colorscale": [
             [
              0,
              "#0d0887"
             ],
             [
              0.1111111111111111,
              "#46039f"
             ],
             [
              0.2222222222222222,
              "#7201a8"
             ],
             [
              0.3333333333333333,
              "#9c179e"
             ],
             [
              0.4444444444444444,
              "#bd3786"
             ],
             [
              0.5555555555555556,
              "#d8576b"
             ],
             [
              0.6666666666666666,
              "#ed7953"
             ],
             [
              0.7777777777777778,
              "#fb9f3a"
             ],
             [
              0.8888888888888888,
              "#fdca26"
             ],
             [
              1,
              "#f0f921"
             ]
            ],
            "type": "heatmap"
           }
          ],
          "heatmapgl": [
           {
            "colorbar": {
             "outlinewidth": 0,
             "ticks": ""
            },
            "colorscale": [
             [
              0,
              "#0d0887"
             ],
             [
              0.1111111111111111,
              "#46039f"
             ],
             [
              0.2222222222222222,
              "#7201a8"
             ],
             [
              0.3333333333333333,
              "#9c179e"
             ],
             [
              0.4444444444444444,
              "#bd3786"
             ],
             [
              0.5555555555555556,
              "#d8576b"
             ],
             [
              0.6666666666666666,
              "#ed7953"
             ],
             [
              0.7777777777777778,
              "#fb9f3a"
             ],
             [
              0.8888888888888888,
              "#fdca26"
             ],
             [
              1,
              "#f0f921"
             ]
            ],
            "type": "heatmapgl"
           }
          ],
          "histogram": [
           {
            "marker": {
             "pattern": {
              "fillmode": "overlay",
              "size": 10,
              "solidity": 0.2
             }
            },
            "type": "histogram"
           }
          ],
          "histogram2d": [
           {
            "colorbar": {
             "outlinewidth": 0,
             "ticks": ""
            },
            "colorscale": [
             [
              0,
              "#0d0887"
             ],
             [
              0.1111111111111111,
              "#46039f"
             ],
             [
              0.2222222222222222,
              "#7201a8"
             ],
             [
              0.3333333333333333,
              "#9c179e"
             ],
             [
              0.4444444444444444,
              "#bd3786"
             ],
             [
              0.5555555555555556,
              "#d8576b"
             ],
             [
              0.6666666666666666,
              "#ed7953"
             ],
             [
              0.7777777777777778,
              "#fb9f3a"
             ],
             [
              0.8888888888888888,
              "#fdca26"
             ],
             [
              1,
              "#f0f921"
             ]
            ],
            "type": "histogram2d"
           }
          ],
          "histogram2dcontour": [
           {
            "colorbar": {
             "outlinewidth": 0,
             "ticks": ""
            },
            "colorscale": [
             [
              0,
              "#0d0887"
             ],
             [
              0.1111111111111111,
              "#46039f"
             ],
             [
              0.2222222222222222,
              "#7201a8"
             ],
             [
              0.3333333333333333,
              "#9c179e"
             ],
             [
              0.4444444444444444,
              "#bd3786"
             ],
             [
              0.5555555555555556,
              "#d8576b"
             ],
             [
              0.6666666666666666,
              "#ed7953"
             ],
             [
              0.7777777777777778,
              "#fb9f3a"
             ],
             [
              0.8888888888888888,
              "#fdca26"
             ],
             [
              1,
              "#f0f921"
             ]
            ],
            "type": "histogram2dcontour"
           }
          ],
          "mesh3d": [
           {
            "colorbar": {
             "outlinewidth": 0,
             "ticks": ""
            },
            "type": "mesh3d"
           }
          ],
          "parcoords": [
           {
            "line": {
             "colorbar": {
              "outlinewidth": 0,
              "ticks": ""
             }
            },
            "type": "parcoords"
           }
          ],
          "pie": [
           {
            "automargin": true,
            "type": "pie"
           }
          ],
          "scatter": [
           {
            "fillpattern": {
             "fillmode": "overlay",
             "size": 10,
             "solidity": 0.2
            },
            "type": "scatter"
           }
          ],
          "scatter3d": [
           {
            "line": {
             "colorbar": {
              "outlinewidth": 0,
              "ticks": ""
             }
            },
            "marker": {
             "colorbar": {
              "outlinewidth": 0,
              "ticks": ""
             }
            },
            "type": "scatter3d"
           }
          ],
          "scattercarpet": [
           {
            "marker": {
             "colorbar": {
              "outlinewidth": 0,
              "ticks": ""
             }
            },
            "type": "scattercarpet"
           }
          ],
          "scattergeo": [
           {
            "marker": {
             "colorbar": {
              "outlinewidth": 0,
              "ticks": ""
             }
            },
            "type": "scattergeo"
           }
          ],
          "scattergl": [
           {
            "marker": {
             "colorbar": {
              "outlinewidth": 0,
              "ticks": ""
             }
            },
            "type": "scattergl"
           }
          ],
          "scattermapbox": [
           {
            "marker": {
             "colorbar": {
              "outlinewidth": 0,
              "ticks": ""
             }
            },
            "type": "scattermapbox"
           }
          ],
          "scatterpolar": [
           {
            "marker": {
             "colorbar": {
              "outlinewidth": 0,
              "ticks": ""
             }
            },
            "type": "scatterpolar"
           }
          ],
          "scatterpolargl": [
           {
            "marker": {
             "colorbar": {
              "outlinewidth": 0,
              "ticks": ""
             }
            },
            "type": "scatterpolargl"
           }
          ],
          "scatterternary": [
           {
            "marker": {
             "colorbar": {
              "outlinewidth": 0,
              "ticks": ""
             }
            },
            "type": "scatterternary"
           }
          ],
          "surface": [
           {
            "colorbar": {
             "outlinewidth": 0,
             "ticks": ""
            },
            "colorscale": [
             [
              0,
              "#0d0887"
             ],
             [
              0.1111111111111111,
              "#46039f"
             ],
             [
              0.2222222222222222,
              "#7201a8"
             ],
             [
              0.3333333333333333,
              "#9c179e"
             ],
             [
              0.4444444444444444,
              "#bd3786"
             ],
             [
              0.5555555555555556,
              "#d8576b"
             ],
             [
              0.6666666666666666,
              "#ed7953"
             ],
             [
              0.7777777777777778,
              "#fb9f3a"
             ],
             [
              0.8888888888888888,
              "#fdca26"
             ],
             [
              1,
              "#f0f921"
             ]
            ],
            "type": "surface"
           }
          ],
          "table": [
           {
            "cells": {
             "fill": {
              "color": "#EBF0F8"
             },
             "line": {
              "color": "white"
             }
            },
            "header": {
             "fill": {
              "color": "#C8D4E3"
             },
             "line": {
              "color": "white"
             }
            },
            "type": "table"
           }
          ]
         },
         "layout": {
          "annotationdefaults": {
           "arrowcolor": "#2a3f5f",
           "arrowhead": 0,
           "arrowwidth": 1
          },
          "autotypenumbers": "strict",
          "coloraxis": {
           "colorbar": {
            "outlinewidth": 0,
            "ticks": ""
           }
          },
          "colorscale": {
           "diverging": [
            [
             0,
             "#8e0152"
            ],
            [
             0.1,
             "#c51b7d"
            ],
            [
             0.2,
             "#de77ae"
            ],
            [
             0.3,
             "#f1b6da"
            ],
            [
             0.4,
             "#fde0ef"
            ],
            [
             0.5,
             "#f7f7f7"
            ],
            [
             0.6,
             "#e6f5d0"
            ],
            [
             0.7,
             "#b8e186"
            ],
            [
             0.8,
             "#7fbc41"
            ],
            [
             0.9,
             "#4d9221"
            ],
            [
             1,
             "#276419"
            ]
           ],
           "sequential": [
            [
             0,
             "#0d0887"
            ],
            [
             0.1111111111111111,
             "#46039f"
            ],
            [
             0.2222222222222222,
             "#7201a8"
            ],
            [
             0.3333333333333333,
             "#9c179e"
            ],
            [
             0.4444444444444444,
             "#bd3786"
            ],
            [
             0.5555555555555556,
             "#d8576b"
            ],
            [
             0.6666666666666666,
             "#ed7953"
            ],
            [
             0.7777777777777778,
             "#fb9f3a"
            ],
            [
             0.8888888888888888,
             "#fdca26"
            ],
            [
             1,
             "#f0f921"
            ]
           ],
           "sequentialminus": [
            [
             0,
             "#0d0887"
            ],
            [
             0.1111111111111111,
             "#46039f"
            ],
            [
             0.2222222222222222,
             "#7201a8"
            ],
            [
             0.3333333333333333,
             "#9c179e"
            ],
            [
             0.4444444444444444,
             "#bd3786"
            ],
            [
             0.5555555555555556,
             "#d8576b"
            ],
            [
             0.6666666666666666,
             "#ed7953"
            ],
            [
             0.7777777777777778,
             "#fb9f3a"
            ],
            [
             0.8888888888888888,
             "#fdca26"
            ],
            [
             1,
             "#f0f921"
            ]
           ]
          },
          "colorway": [
           "#636efa",
           "#EF553B",
           "#00cc96",
           "#ab63fa",
           "#FFA15A",
           "#19d3f3",
           "#FF6692",
           "#B6E880",
           "#FF97FF",
           "#FECB52"
          ],
          "font": {
           "color": "#2a3f5f"
          },
          "geo": {
           "bgcolor": "white",
           "lakecolor": "white",
           "landcolor": "#E5ECF6",
           "showlakes": true,
           "showland": true,
           "subunitcolor": "white"
          },
          "hoverlabel": {
           "align": "left"
          },
          "hovermode": "closest",
          "mapbox": {
           "style": "light"
          },
          "paper_bgcolor": "white",
          "plot_bgcolor": "#E5ECF6",
          "polar": {
           "angularaxis": {
            "gridcolor": "white",
            "linecolor": "white",
            "ticks": ""
           },
           "bgcolor": "#E5ECF6",
           "radialaxis": {
            "gridcolor": "white",
            "linecolor": "white",
            "ticks": ""
           }
          },
          "scene": {
           "xaxis": {
            "backgroundcolor": "#E5ECF6",
            "gridcolor": "white",
            "gridwidth": 2,
            "linecolor": "white",
            "showbackground": true,
            "ticks": "",
            "zerolinecolor": "white"
           },
           "yaxis": {
            "backgroundcolor": "#E5ECF6",
            "gridcolor": "white",
            "gridwidth": 2,
            "linecolor": "white",
            "showbackground": true,
            "ticks": "",
            "zerolinecolor": "white"
           },
           "zaxis": {
            "backgroundcolor": "#E5ECF6",
            "gridcolor": "white",
            "gridwidth": 2,
            "linecolor": "white",
            "showbackground": true,
            "ticks": "",
            "zerolinecolor": "white"
           }
          },
          "shapedefaults": {
           "line": {
            "color": "#2a3f5f"
           }
          },
          "ternary": {
           "aaxis": {
            "gridcolor": "white",
            "linecolor": "white",
            "ticks": ""
           },
           "baxis": {
            "gridcolor": "white",
            "linecolor": "white",
            "ticks": ""
           },
           "bgcolor": "#E5ECF6",
           "caxis": {
            "gridcolor": "white",
            "linecolor": "white",
            "ticks": ""
           }
          },
          "title": {
           "x": 0.05
          },
          "xaxis": {
           "automargin": true,
           "gridcolor": "white",
           "linecolor": "white",
           "ticks": "",
           "title": {
            "standoff": 15
           },
           "zerolinecolor": "white",
           "zerolinewidth": 2
          },
          "yaxis": {
           "automargin": true,
           "gridcolor": "white",
           "linecolor": "white",
           "ticks": "",
           "title": {
            "standoff": 15
           },
           "zerolinecolor": "white",
           "zerolinewidth": 2
          }
         }
        },
        "xaxis": {
         "anchor": "y",
         "domain": [
          0,
          1
         ],
         "title": {
          "text": "date"
         }
        },
        "yaxis": {
         "anchor": "x",
         "domain": [
          0,
          1
         ],
         "title": {
          "text": "dollar_price"
         }
        }
       }
      }
     },
     "metadata": {},
     "output_type": "display_data"
    }
   ],
   "source": [
    "px.line(df,x=df.date,y=df.dollar_price,color=df.name)"
   ]
  },
  {
   "cell_type": "code",
   "execution_count": 14,
   "metadata": {},
   "outputs": [
    {
     "data": {
      "application/vnd.plotly.v1+json": {
       "config": {
        "plotlyServerURL": "https://plot.ly"
       },
       "data": [
        {
         "hovertemplate": "date=%{x}<br>dollar_price=%{y}<extra></extra>",
         "legendgroup": "",
         "line": {
          "color": "#636efa",
          "dash": "solid"
         },
         "marker": {
          "symbol": "circle"
         },
         "mode": "lines",
         "name": "",
         "orientation": "v",
         "showlegend": false,
         "type": "scatter",
         "x": [],
         "xaxis": "x",
         "y": [],
         "yaxis": "y"
        }
       ],
       "layout": {
        "legend": {
         "tracegroupgap": 0
        },
        "template": {
         "data": {
          "bar": [
           {
            "error_x": {
             "color": "#2a3f5f"
            },
            "error_y": {
             "color": "#2a3f5f"
            },
            "marker": {
             "line": {
              "color": "#E5ECF6",
              "width": 0.5
             },
             "pattern": {
              "fillmode": "overlay",
              "size": 10,
              "solidity": 0.2
             }
            },
            "type": "bar"
           }
          ],
          "barpolar": [
           {
            "marker": {
             "line": {
              "color": "#E5ECF6",
              "width": 0.5
             },
             "pattern": {
              "fillmode": "overlay",
              "size": 10,
              "solidity": 0.2
             }
            },
            "type": "barpolar"
           }
          ],
          "carpet": [
           {
            "aaxis": {
             "endlinecolor": "#2a3f5f",
             "gridcolor": "white",
             "linecolor": "white",
             "minorgridcolor": "white",
             "startlinecolor": "#2a3f5f"
            },
            "baxis": {
             "endlinecolor": "#2a3f5f",
             "gridcolor": "white",
             "linecolor": "white",
             "minorgridcolor": "white",
             "startlinecolor": "#2a3f5f"
            },
            "type": "carpet"
           }
          ],
          "choropleth": [
           {
            "colorbar": {
             "outlinewidth": 0,
             "ticks": ""
            },
            "type": "choropleth"
           }
          ],
          "contour": [
           {
            "colorbar": {
             "outlinewidth": 0,
             "ticks": ""
            },
            "colorscale": [
             [
              0,
              "#0d0887"
             ],
             [
              0.1111111111111111,
              "#46039f"
             ],
             [
              0.2222222222222222,
              "#7201a8"
             ],
             [
              0.3333333333333333,
              "#9c179e"
             ],
             [
              0.4444444444444444,
              "#bd3786"
             ],
             [
              0.5555555555555556,
              "#d8576b"
             ],
             [
              0.6666666666666666,
              "#ed7953"
             ],
             [
              0.7777777777777778,
              "#fb9f3a"
             ],
             [
              0.8888888888888888,
              "#fdca26"
             ],
             [
              1,
              "#f0f921"
             ]
            ],
            "type": "contour"
           }
          ],
          "contourcarpet": [
           {
            "colorbar": {
             "outlinewidth": 0,
             "ticks": ""
            },
            "type": "contourcarpet"
           }
          ],
          "heatmap": [
           {
            "colorbar": {
             "outlinewidth": 0,
             "ticks": ""
            },
            "colorscale": [
             [
              0,
              "#0d0887"
             ],
             [
              0.1111111111111111,
              "#46039f"
             ],
             [
              0.2222222222222222,
              "#7201a8"
             ],
             [
              0.3333333333333333,
              "#9c179e"
             ],
             [
              0.4444444444444444,
              "#bd3786"
             ],
             [
              0.5555555555555556,
              "#d8576b"
             ],
             [
              0.6666666666666666,
              "#ed7953"
             ],
             [
              0.7777777777777778,
              "#fb9f3a"
             ],
             [
              0.8888888888888888,
              "#fdca26"
             ],
             [
              1,
              "#f0f921"
             ]
            ],
            "type": "heatmap"
           }
          ],
          "heatmapgl": [
           {
            "colorbar": {
             "outlinewidth": 0,
             "ticks": ""
            },
            "colorscale": [
             [
              0,
              "#0d0887"
             ],
             [
              0.1111111111111111,
              "#46039f"
             ],
             [
              0.2222222222222222,
              "#7201a8"
             ],
             [
              0.3333333333333333,
              "#9c179e"
             ],
             [
              0.4444444444444444,
              "#bd3786"
             ],
             [
              0.5555555555555556,
              "#d8576b"
             ],
             [
              0.6666666666666666,
              "#ed7953"
             ],
             [
              0.7777777777777778,
              "#fb9f3a"
             ],
             [
              0.8888888888888888,
              "#fdca26"
             ],
             [
              1,
              "#f0f921"
             ]
            ],
            "type": "heatmapgl"
           }
          ],
          "histogram": [
           {
            "marker": {
             "pattern": {
              "fillmode": "overlay",
              "size": 10,
              "solidity": 0.2
             }
            },
            "type": "histogram"
           }
          ],
          "histogram2d": [
           {
            "colorbar": {
             "outlinewidth": 0,
             "ticks": ""
            },
            "colorscale": [
             [
              0,
              "#0d0887"
             ],
             [
              0.1111111111111111,
              "#46039f"
             ],
             [
              0.2222222222222222,
              "#7201a8"
             ],
             [
              0.3333333333333333,
              "#9c179e"
             ],
             [
              0.4444444444444444,
              "#bd3786"
             ],
             [
              0.5555555555555556,
              "#d8576b"
             ],
             [
              0.6666666666666666,
              "#ed7953"
             ],
             [
              0.7777777777777778,
              "#fb9f3a"
             ],
             [
              0.8888888888888888,
              "#fdca26"
             ],
             [
              1,
              "#f0f921"
             ]
            ],
            "type": "histogram2d"
           }
          ],
          "histogram2dcontour": [
           {
            "colorbar": {
             "outlinewidth": 0,
             "ticks": ""
            },
            "colorscale": [
             [
              0,
              "#0d0887"
             ],
             [
              0.1111111111111111,
              "#46039f"
             ],
             [
              0.2222222222222222,
              "#7201a8"
             ],
             [
              0.3333333333333333,
              "#9c179e"
             ],
             [
              0.4444444444444444,
              "#bd3786"
             ],
             [
              0.5555555555555556,
              "#d8576b"
             ],
             [
              0.6666666666666666,
              "#ed7953"
             ],
             [
              0.7777777777777778,
              "#fb9f3a"
             ],
             [
              0.8888888888888888,
              "#fdca26"
             ],
             [
              1,
              "#f0f921"
             ]
            ],
            "type": "histogram2dcontour"
           }
          ],
          "mesh3d": [
           {
            "colorbar": {
             "outlinewidth": 0,
             "ticks": ""
            },
            "type": "mesh3d"
           }
          ],
          "parcoords": [
           {
            "line": {
             "colorbar": {
              "outlinewidth": 0,
              "ticks": ""
             }
            },
            "type": "parcoords"
           }
          ],
          "pie": [
           {
            "automargin": true,
            "type": "pie"
           }
          ],
          "scatter": [
           {
            "fillpattern": {
             "fillmode": "overlay",
             "size": 10,
             "solidity": 0.2
            },
            "type": "scatter"
           }
          ],
          "scatter3d": [
           {
            "line": {
             "colorbar": {
              "outlinewidth": 0,
              "ticks": ""
             }
            },
            "marker": {
             "colorbar": {
              "outlinewidth": 0,
              "ticks": ""
             }
            },
            "type": "scatter3d"
           }
          ],
          "scattercarpet": [
           {
            "marker": {
             "colorbar": {
              "outlinewidth": 0,
              "ticks": ""
             }
            },
            "type": "scattercarpet"
           }
          ],
          "scattergeo": [
           {
            "marker": {
             "colorbar": {
              "outlinewidth": 0,
              "ticks": ""
             }
            },
            "type": "scattergeo"
           }
          ],
          "scattergl": [
           {
            "marker": {
             "colorbar": {
              "outlinewidth": 0,
              "ticks": ""
             }
            },
            "type": "scattergl"
           }
          ],
          "scattermapbox": [
           {
            "marker": {
             "colorbar": {
              "outlinewidth": 0,
              "ticks": ""
             }
            },
            "type": "scattermapbox"
           }
          ],
          "scatterpolar": [
           {
            "marker": {
             "colorbar": {
              "outlinewidth": 0,
              "ticks": ""
             }
            },
            "type": "scatterpolar"
           }
          ],
          "scatterpolargl": [
           {
            "marker": {
             "colorbar": {
              "outlinewidth": 0,
              "ticks": ""
             }
            },
            "type": "scatterpolargl"
           }
          ],
          "scatterternary": [
           {
            "marker": {
             "colorbar": {
              "outlinewidth": 0,
              "ticks": ""
             }
            },
            "type": "scatterternary"
           }
          ],
          "surface": [
           {
            "colorbar": {
             "outlinewidth": 0,
             "ticks": ""
            },
            "colorscale": [
             [
              0,
              "#0d0887"
             ],
             [
              0.1111111111111111,
              "#46039f"
             ],
             [
              0.2222222222222222,
              "#7201a8"
             ],
             [
              0.3333333333333333,
              "#9c179e"
             ],
             [
              0.4444444444444444,
              "#bd3786"
             ],
             [
              0.5555555555555556,
              "#d8576b"
             ],
             [
              0.6666666666666666,
              "#ed7953"
             ],
             [
              0.7777777777777778,
              "#fb9f3a"
             ],
             [
              0.8888888888888888,
              "#fdca26"
             ],
             [
              1,
              "#f0f921"
             ]
            ],
            "type": "surface"
           }
          ],
          "table": [
           {
            "cells": {
             "fill": {
              "color": "#EBF0F8"
             },
             "line": {
              "color": "white"
             }
            },
            "header": {
             "fill": {
              "color": "#C8D4E3"
             },
             "line": {
              "color": "white"
             }
            },
            "type": "table"
           }
          ]
         },
         "layout": {
          "annotationdefaults": {
           "arrowcolor": "#2a3f5f",
           "arrowhead": 0,
           "arrowwidth": 1
          },
          "autotypenumbers": "strict",
          "coloraxis": {
           "colorbar": {
            "outlinewidth": 0,
            "ticks": ""
           }
          },
          "colorscale": {
           "diverging": [
            [
             0,
             "#8e0152"
            ],
            [
             0.1,
             "#c51b7d"
            ],
            [
             0.2,
             "#de77ae"
            ],
            [
             0.3,
             "#f1b6da"
            ],
            [
             0.4,
             "#fde0ef"
            ],
            [
             0.5,
             "#f7f7f7"
            ],
            [
             0.6,
             "#e6f5d0"
            ],
            [
             0.7,
             "#b8e186"
            ],
            [
             0.8,
             "#7fbc41"
            ],
            [
             0.9,
             "#4d9221"
            ],
            [
             1,
             "#276419"
            ]
           ],
           "sequential": [
            [
             0,
             "#0d0887"
            ],
            [
             0.1111111111111111,
             "#46039f"
            ],
            [
             0.2222222222222222,
             "#7201a8"
            ],
            [
             0.3333333333333333,
             "#9c179e"
            ],
            [
             0.4444444444444444,
             "#bd3786"
            ],
            [
             0.5555555555555556,
             "#d8576b"
            ],
            [
             0.6666666666666666,
             "#ed7953"
            ],
            [
             0.7777777777777778,
             "#fb9f3a"
            ],
            [
             0.8888888888888888,
             "#fdca26"
            ],
            [
             1,
             "#f0f921"
            ]
           ],
           "sequentialminus": [
            [
             0,
             "#0d0887"
            ],
            [
             0.1111111111111111,
             "#46039f"
            ],
            [
             0.2222222222222222,
             "#7201a8"
            ],
            [
             0.3333333333333333,
             "#9c179e"
            ],
            [
             0.4444444444444444,
             "#bd3786"
            ],
            [
             0.5555555555555556,
             "#d8576b"
            ],
            [
             0.6666666666666666,
             "#ed7953"
            ],
            [
             0.7777777777777778,
             "#fb9f3a"
            ],
            [
             0.8888888888888888,
             "#fdca26"
            ],
            [
             1,
             "#f0f921"
            ]
           ]
          },
          "colorway": [
           "#636efa",
           "#EF553B",
           "#00cc96",
           "#ab63fa",
           "#FFA15A",
           "#19d3f3",
           "#FF6692",
           "#B6E880",
           "#FF97FF",
           "#FECB52"
          ],
          "font": {
           "color": "#2a3f5f"
          },
          "geo": {
           "bgcolor": "white",
           "lakecolor": "white",
           "landcolor": "#E5ECF6",
           "showlakes": true,
           "showland": true,
           "subunitcolor": "white"
          },
          "hoverlabel": {
           "align": "left"
          },
          "hovermode": "closest",
          "mapbox": {
           "style": "light"
          },
          "paper_bgcolor": "white",
          "plot_bgcolor": "#E5ECF6",
          "polar": {
           "angularaxis": {
            "gridcolor": "white",
            "linecolor": "white",
            "ticks": ""
           },
           "bgcolor": "#E5ECF6",
           "radialaxis": {
            "gridcolor": "white",
            "linecolor": "white",
            "ticks": ""
           }
          },
          "scene": {
           "xaxis": {
            "backgroundcolor": "#E5ECF6",
            "gridcolor": "white",
            "gridwidth": 2,
            "linecolor": "white",
            "showbackground": true,
            "ticks": "",
            "zerolinecolor": "white"
           },
           "yaxis": {
            "backgroundcolor": "#E5ECF6",
            "gridcolor": "white",
            "gridwidth": 2,
            "linecolor": "white",
            "showbackground": true,
            "ticks": "",
            "zerolinecolor": "white"
           },
           "zaxis": {
            "backgroundcolor": "#E5ECF6",
            "gridcolor": "white",
            "gridwidth": 2,
            "linecolor": "white",
            "showbackground": true,
            "ticks": "",
            "zerolinecolor": "white"
           }
          },
          "shapedefaults": {
           "line": {
            "color": "#2a3f5f"
           }
          },
          "ternary": {
           "aaxis": {
            "gridcolor": "white",
            "linecolor": "white",
            "ticks": ""
           },
           "baxis": {
            "gridcolor": "white",
            "linecolor": "white",
            "ticks": ""
           },
           "bgcolor": "#E5ECF6",
           "caxis": {
            "gridcolor": "white",
            "linecolor": "white",
            "ticks": ""
           }
          },
          "title": {
           "x": 0.05
          },
          "xaxis": {
           "automargin": true,
           "gridcolor": "white",
           "linecolor": "white",
           "ticks": "",
           "title": {
            "standoff": 15
           },
           "zerolinecolor": "white",
           "zerolinewidth": 2
          },
          "yaxis": {
           "automargin": true,
           "gridcolor": "white",
           "linecolor": "white",
           "ticks": "",
           "title": {
            "standoff": 15
           },
           "zerolinecolor": "white",
           "zerolinewidth": 2
          }
         }
        },
        "title": {
         "text": "Big Mac Preisentwicklung in Deutschland"
        },
        "xaxis": {
         "anchor": "y",
         "domain": [
          0,
          1
         ],
         "title": {
          "text": "date"
         }
        },
        "yaxis": {
         "anchor": "x",
         "domain": [
          0,
          1
         ],
         "title": {
          "text": "dollar_price"
         }
        }
       }
      }
     },
     "metadata": {},
     "output_type": "display_data"
    }
   ],
   "source": [
    "\n",
    "selected_country = \"Deutschland\"  # Wähle hier das gewünschte Land aus\n",
    "country_data = df[df[\"name\"] == selected_country]\n",
    "\n",
    "fig = px.line(country_data, x=\"date\", y=\"dollar_price\", title=\"Big Mac Preisentwicklung in \" + selected_country)\n",
    "fig.show()\n"
   ]
  },
  {
   "attachments": {},
   "cell_type": "markdown",
   "metadata": {},
   "source": [
    "## Scrapy\n",
    "### Exampel\n",
    "The quotesbot project is available at: https://github.com/scrapy/quotesbot"
   ]
  }
 ],
 "metadata": {
  "kernelspec": {
   "display_name": "Python 3",
   "language": "python",
   "name": "python3"
  },
  "language_info": {
   "codemirror_mode": {
    "name": "ipython",
    "version": 3
   },
   "file_extension": ".py",
   "mimetype": "text/x-python",
   "name": "python",
   "nbconvert_exporter": "python",
   "pygments_lexer": "ipython3",
   "version": "3.11.3"
  },
  "orig_nbformat": 4
 },
 "nbformat": 4,
 "nbformat_minor": 2
}
