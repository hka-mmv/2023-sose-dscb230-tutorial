{
 "cells": [
  {
   "cell_type": "markdown",
   "id": "42492e09-0776-4080-a689-6a9077e2f96c",
   "metadata": {
    "tags": []
   },
   "source": [
    "# Tutorium Informatik für Data Science 2\n",
    "## Thema: Erweiterte Grundlagen Pandas"
   ]
  },
  {
   "cell_type": "markdown",
   "id": "12a0ed15-4f59-4835-98dc-d496188df6ec",
   "metadata": {},
   "source": [
    "---"
   ]
  },
  {
   "cell_type": "markdown",
   "id": "54ddb521-1f53-4b20-b039-639afae75ed7",
   "metadata": {},
   "source": [
    "### Aufgabe 1"
   ]
  },
  {
   "cell_type": "markdown",
   "id": "3c4aa1c7-9ba2-4e53-8411-063687a90fdc",
   "metadata": {},
   "source": [
    "+ Importiere pandas und lese die Daten `2018.csv` und `2019.csv` als separate df ein "
   ]
  },
  {
   "cell_type": "code",
   "execution_count": 1,
   "id": "ecc9f457-7341-479e-b6ab-f200bdd6ed5a",
   "metadata": {},
   "outputs": [],
   "source": [
    "#TODO"
   ]
  },
  {
   "cell_type": "code",
   "execution_count": 2,
   "id": "1fa7a9ca-11c6-4b46-8462-3cdcd8c227b4",
   "metadata": {},
   "outputs": [],
   "source": [
    "import pandas as pd"
   ]
  },
  {
   "cell_type": "code",
   "execution_count": 3,
   "id": "9fd746d7-4463-48dd-8442-a2b316b64ac3",
   "metadata": {},
   "outputs": [],
   "source": [
    "df1 = pd.read_csv(\"data/2018.csv\")\n",
    "df2 = pd.read_csv(\"data/2019.csv\")"
   ]
  },
  {
   "cell_type": "markdown",
   "id": "950b6613-ad94-4cbf-b205-4d516d5047c0",
   "metadata": {},
   "source": [
    "---"
   ]
  },
  {
   "cell_type": "markdown",
   "id": "8bb0f3d4-6990-443d-8d3b-e0e088f697aa",
   "metadata": {},
   "source": [
    "### Aufgabe 2"
   ]
  },
  {
   "cell_type": "markdown",
   "id": "a6b1bfc1-f625-4252-ab01-d32fbea14118",
   "metadata": {},
   "source": [
    "+ Nutze folgende Funktionen, um die Daten besser kennenzulernen"
   ]
  },
  {
   "cell_type": "markdown",
   "id": "436e6937-eb92-425e-9094-6c17cec860f9",
   "metadata": {},
   "source": [
    "`df.head(), df.shape, df.nunique(), df.info(), df.describe(), df.columns`"
   ]
  },
  {
   "cell_type": "code",
   "execution_count": 4,
   "id": "cbaf7e4e-024e-4a84-ad6c-948ae909e423",
   "metadata": {},
   "outputs": [],
   "source": [
    "#TODO"
   ]
  },
  {
   "cell_type": "markdown",
   "id": "96bf8f4c-889b-4c34-8275-ffcbb33572b7",
   "metadata": {},
   "source": [
    "---"
   ]
  },
  {
   "cell_type": "markdown",
   "id": "0d034117-733d-431b-a64f-435d6ac814b5",
   "metadata": {},
   "source": [
    "### Aufgabe 3"
   ]
  },
  {
   "cell_type": "markdown",
   "id": "a6da2879-3579-4ff6-99b6-e1f21dc8065e",
   "metadata": {},
   "source": [
    "+ Welche Werte der `\"Country or region\"` Spalte sind nicht in beiden df zu finden? "
   ]
  },
  {
   "cell_type": "markdown",
   "id": "419aa71a-6605-4706-8cfb-deed71c343f1",
   "metadata": {},
   "source": [
    "<details>\n",
    "    <summary>Hinweis</summary>\n",
    "    Man kann Instanzen des Datentyps `set` in Python voneinander subtrahieren\n",
    "</details>"
   ]
  },
  {
   "cell_type": "code",
   "execution_count": 5,
   "id": "6031e063-99d5-416c-8307-2c0dc3dcd653",
   "metadata": {},
   "outputs": [],
   "source": [
    "#TODO"
   ]
  },
  {
   "cell_type": "code",
   "execution_count": 6,
   "id": "7dd8ddd6",
   "metadata": {},
   "outputs": [
    {
     "data": {
      "text/plain": [
       "48              Belize\n",
       "88           Macedonia\n",
       "136              Sudan\n",
       "141             Angola\n",
       "83     North Macedonia\n",
       "119             Gambia\n",
       "134          Swaziland\n",
       "141            Comoros\n",
       "Name: Country or region, dtype: object"
      ]
     },
     "execution_count": 6,
     "metadata": {},
     "output_type": "execute_result"
    }
   ],
   "source": [
    "pd.concat([df1[~(df1[\"Country or region\"]).isin(df2[\"Country or region\"])][\"Country or region\"],\n",
    "df2[~(df2[\"Country or region\"]).isin(df1[\"Country or region\"])][\"Country or region\"]])"
   ]
  },
  {
   "cell_type": "code",
   "execution_count": 7,
   "id": "7a2fd772",
   "metadata": {},
   "outputs": [
    {
     "data": {
      "text/plain": [
       "{'Angola', 'Belize', 'Macedonia', 'Sudan'}"
      ]
     },
     "execution_count": 7,
     "metadata": {},
     "output_type": "execute_result"
    }
   ],
   "source": [
    "set(df1[\"Country or region\"])-set(df2[\"Country or region\"])"
   ]
  },
  {
   "cell_type": "code",
   "execution_count": 8,
   "id": "3de82d5c",
   "metadata": {},
   "outputs": [
    {
     "data": {
      "text/plain": [
       "{'Comoros', 'Gambia', 'North Macedonia', 'Swaziland'}"
      ]
     },
     "execution_count": 8,
     "metadata": {},
     "output_type": "execute_result"
    }
   ],
   "source": [
    "(set(df2[\"Country or region\"])-set(df1[\"Country or region\"]))\n"
   ]
  },
  {
   "cell_type": "code",
   "execution_count": 9,
   "id": "59d27b47-ed9f-4a1c-9784-a37163d9c1a0",
   "metadata": {},
   "outputs": [
    {
     "data": {
      "text/plain": [
       "{'Angola',\n",
       " 'Belize',\n",
       " 'Comoros',\n",
       " 'Gambia',\n",
       " 'Macedonia',\n",
       " 'North Macedonia',\n",
       " 'Sudan',\n",
       " 'Swaziland'}"
      ]
     },
     "execution_count": 9,
     "metadata": {},
     "output_type": "execute_result"
    }
   ],
   "source": [
    "(set(df1[\"Country or region\"])-set(df2[\"Country or region\"])) | (set(df2[\"Country or region\"])-set(df1[\"Country or region\"]))\n"
   ]
  },
  {
   "cell_type": "code",
   "execution_count": 10,
   "id": "3fcb5657",
   "metadata": {},
   "outputs": [
    {
     "data": {
      "text/plain": [
       "['North Macedonia', 'Gambia', 'Swaziland', 'Comoros']"
      ]
     },
     "execution_count": 10,
     "metadata": {},
     "output_type": "execute_result"
    }
   ],
   "source": [
    "list(set(df2[\"Country or region\"])-set(df1[\"Country or region\"]))\n"
   ]
  },
  {
   "cell_type": "code",
   "execution_count": 11,
   "id": "9cd82514",
   "metadata": {},
   "outputs": [
    {
     "data": {
      "text/plain": [
       "['North Macedonia',\n",
       " 'Macedonia',\n",
       " 'Gambia',\n",
       " 'Swaziland',\n",
       " 'Sudan',\n",
       " 'Angola',\n",
       " 'Comoros',\n",
       " 'Belize']"
      ]
     },
     "execution_count": 11,
     "metadata": {},
     "output_type": "execute_result"
    }
   ],
   "source": [
    "list(set(df2[\"Country or region\"]) ^ set(df1[\"Country or region\"]))"
   ]
  },
  {
   "cell_type": "markdown",
   "id": "799e1197-384d-4f82-a4df-71da1e504cab",
   "metadata": {},
   "source": [
    "---"
   ]
  },
  {
   "cell_type": "markdown",
   "id": "d9298d51-2693-40d6-bc4d-2a9327b142f1",
   "metadata": {},
   "source": [
    "### Aufgabe 4"
   ]
  },
  {
   "cell_type": "markdown",
   "id": "c7b45b6a-6260-4dee-8c29-a3169a0c1915",
   "metadata": {},
   "source": [
    "+ konkatinieren die beiden Data Frames und speichere diese als concat_df ab, nutze hierzu die pandas funktion `concat()`"
   ]
  },
  {
   "cell_type": "code",
   "execution_count": 12,
   "id": "00433727-9077-4c5e-8dad-af0af82ad3e4",
   "metadata": {},
   "outputs": [],
   "source": [
    "#TODO"
   ]
  },
  {
   "cell_type": "code",
   "execution_count": 13,
   "id": "d0f71763-5bd5-48c3-9cd1-f60e124f3be3",
   "metadata": {},
   "outputs": [],
   "source": [
    "concat_list = [df1, df2]\n",
    "concat_df = pd.concat(concat_list)"
   ]
  },
  {
   "cell_type": "markdown",
   "id": "248159a3-64f9-47a4-8af2-4c660351130d",
   "metadata": {},
   "source": [
    "---"
   ]
  },
  {
   "cell_type": "markdown",
   "id": "1803af6c-77e1-4c02-8b93-32dce4fb9dfc",
   "metadata": {},
   "source": [
    "### Aufgabe 5"
   ]
  },
  {
   "cell_type": "markdown",
   "id": "54e395cc-edaa-4422-89b3-37c0d3e3fcf2",
   "metadata": {},
   "source": [
    "+ Verkette und gruppiere die Datensätze sinnvoll, um je Country or region den durchschnitt der numerischen Werte zu erhalten."
   ]
  },
  {
   "cell_type": "code",
   "execution_count": 14,
   "id": "7f577d90-fffc-4a38-94c9-e9fcad9f4b7b",
   "metadata": {},
   "outputs": [],
   "source": [
    "#TODO"
   ]
  },
  {
   "cell_type": "code",
   "execution_count": 15,
   "id": "753a0fcc-623d-4441-944e-12cddaa511c1",
   "metadata": {},
   "outputs": [],
   "source": [
    "mean_df = concat_df.groupby(\"Country or region\", as_index=False).mean()"
   ]
  },
  {
   "cell_type": "markdown",
   "id": "3022f583-2f90-48f8-91a4-827c7d12569f",
   "metadata": {},
   "source": [
    "---"
   ]
  },
  {
   "cell_type": "markdown",
   "id": "7a4740ac-8f23-4bf4-b45e-557f70608ec9",
   "metadata": {},
   "source": [
    "### Aufgabe 6"
   ]
  },
  {
   "cell_type": "markdown",
   "id": "ece2e3af-8a94-442f-8acd-939e9933454c",
   "metadata": {},
   "source": [
    "+ Entferne die Spalte `\"Overall rank\"`"
   ]
  },
  {
   "cell_type": "code",
   "execution_count": 16,
   "id": "6f9a9228-0518-4ef6-8df0-037dde32f978",
   "metadata": {},
   "outputs": [],
   "source": [
    "#TODO"
   ]
  },
  {
   "cell_type": "code",
   "execution_count": 17,
   "id": "f7c76b3e-3248-4a10-803d-4999c48c120b",
   "metadata": {},
   "outputs": [],
   "source": [
    "mean_df = mean_df.drop(columns=[\"Overall rank\"])"
   ]
  },
  {
   "cell_type": "markdown",
   "id": "fa40b9d4-e268-4e17-93e9-4610207ed9ec",
   "metadata": {},
   "source": [
    "+ Füge eine neue Spalte `\"rank\"` hinzu. Recherchiere hierzu wie die rank-Spalte in Abhängigkeit von der bestehenden `\"Score\"` Spalte erstellt werden kann."
   ]
  },
  {
   "cell_type": "markdown",
   "id": "45727c80-7b5f-412e-ad76-794c03aaa823",
   "metadata": {},
   "source": [
    "+ Ändere den Datentyp der Spalte zu `integer`"
   ]
  },
  {
   "cell_type": "code",
   "execution_count": 18,
   "id": "37088c59-afe5-4676-8434-8bc439abe1b3",
   "metadata": {},
   "outputs": [],
   "source": [
    "#TODO"
   ]
  },
  {
   "cell_type": "code",
   "execution_count": 19,
   "id": "c9350f1a-6f1a-4e4e-ab74-fdd90dd89be2",
   "metadata": {},
   "outputs": [],
   "source": [
    "#hinzufügen der rank Spalte\n",
    "mean_df[\"rank\"] = mean_df[\"Score\"].rank(ascending=False)"
   ]
  },
  {
   "cell_type": "code",
   "execution_count": 20,
   "id": "2f51c371-addc-41fc-b0ba-3174bedd3521",
   "metadata": {},
   "outputs": [],
   "source": [
    "# datentyp anpassen\n",
    "mean_df[\"rank\"] = mean_df[\"rank\"].astype(int)"
   ]
  },
  {
   "cell_type": "markdown",
   "id": "001d1998-bbba-4227-a736-cd1012945470",
   "metadata": {},
   "source": [
    "---"
   ]
  },
  {
   "cell_type": "markdown",
   "id": "2217e463-e3fa-4356-b7c2-8fa6f71a3864",
   "metadata": {},
   "source": [
    "### Aufgabe 7"
   ]
  },
  {
   "cell_type": "markdown",
   "id": "133bcd44-5e67-44e4-8b4b-82aeba3f3f5b",
   "metadata": {},
   "source": [
    "+ Sortiere den Data Frame sinnvoll"
   ]
  },
  {
   "cell_type": "markdown",
   "id": "91d168c5-a3db-421c-8826-679924d6222a",
   "metadata": {},
   "source": [
    "+ Passe den Index mittels der `reset_index` funktion von Pandas so an, dass am ende nur eine Indexspalte in richtiger Ordnung übrig bleibt "
   ]
  },
  {
   "cell_type": "code",
   "execution_count": 21,
   "id": "a8d00af5-c349-4e2e-a31f-af566ba67a1f",
   "metadata": {},
   "outputs": [],
   "source": [
    "#TODO"
   ]
  },
  {
   "cell_type": "code",
   "execution_count": 22,
   "id": "326bda60-a4dc-4ce5-a0d7-26223baf944e",
   "metadata": {},
   "outputs": [],
   "source": [
    "#werte sortieren\n",
    "mean_df = mean_df.sort_values(by=\"rank\")"
   ]
  },
  {
   "cell_type": "code",
   "execution_count": 23,
   "id": "5501cebe-041c-40c4-b76f-e10ec80d9ce0",
   "metadata": {},
   "outputs": [],
   "source": [
    "#index anpassen\n",
    "mean_df = mean_df.reset_index(drop=True)"
   ]
  },
  {
   "cell_type": "code",
   "execution_count": 24,
   "id": "e0f067b3",
   "metadata": {},
   "outputs": [
    {
     "data": {
      "text/html": [
       "<div>\n",
       "<style scoped>\n",
       "    .dataframe tbody tr th:only-of-type {\n",
       "        vertical-align: middle;\n",
       "    }\n",
       "\n",
       "    .dataframe tbody tr th {\n",
       "        vertical-align: top;\n",
       "    }\n",
       "\n",
       "    .dataframe thead th {\n",
       "        text-align: right;\n",
       "    }\n",
       "</style>\n",
       "<table border=\"1\" class=\"dataframe\">\n",
       "  <thead>\n",
       "    <tr style=\"text-align: right;\">\n",
       "      <th></th>\n",
       "      <th>Country or region</th>\n",
       "      <th>Score</th>\n",
       "      <th>GDP per capita</th>\n",
       "      <th>Social support</th>\n",
       "      <th>Healthy life expectancy</th>\n",
       "      <th>Freedom to make life choices</th>\n",
       "      <th>Generosity</th>\n",
       "      <th>Perceptions of corruption</th>\n",
       "      <th>rank</th>\n",
       "    </tr>\n",
       "  </thead>\n",
       "  <tbody>\n",
       "    <tr>\n",
       "      <th>0</th>\n",
       "      <td>Finland</td>\n",
       "      <td>7.7005</td>\n",
       "      <td>1.3225</td>\n",
       "      <td>1.5895</td>\n",
       "      <td>0.9300</td>\n",
       "      <td>0.6385</td>\n",
       "      <td>0.1775</td>\n",
       "      <td>0.3930</td>\n",
       "      <td>1</td>\n",
       "    </tr>\n",
       "    <tr>\n",
       "      <th>1</th>\n",
       "      <td>Denmark</td>\n",
       "      <td>7.5775</td>\n",
       "      <td>1.3670</td>\n",
       "      <td>1.5815</td>\n",
       "      <td>0.9320</td>\n",
       "      <td>0.6375</td>\n",
       "      <td>0.2680</td>\n",
       "      <td>0.4090</td>\n",
       "      <td>2</td>\n",
       "    </tr>\n",
       "    <tr>\n",
       "      <th>2</th>\n",
       "      <td>Norway</td>\n",
       "      <td>7.5740</td>\n",
       "      <td>1.4720</td>\n",
       "      <td>1.5820</td>\n",
       "      <td>0.9445</td>\n",
       "      <td>0.6445</td>\n",
       "      <td>0.2785</td>\n",
       "      <td>0.3405</td>\n",
       "      <td>3</td>\n",
       "    </tr>\n",
       "    <tr>\n",
       "      <th>3</th>\n",
       "      <td>Iceland</td>\n",
       "      <td>7.4945</td>\n",
       "      <td>1.3615</td>\n",
       "      <td>1.6340</td>\n",
       "      <td>0.9700</td>\n",
       "      <td>0.6340</td>\n",
       "      <td>0.3535</td>\n",
       "      <td>0.1280</td>\n",
       "      <td>4</td>\n",
       "    </tr>\n",
       "    <tr>\n",
       "      <th>4</th>\n",
       "      <td>Switzerland</td>\n",
       "      <td>7.4835</td>\n",
       "      <td>1.4360</td>\n",
       "      <td>1.5375</td>\n",
       "      <td>0.9895</td>\n",
       "      <td>0.6160</td>\n",
       "      <td>0.2595</td>\n",
       "      <td>0.3500</td>\n",
       "      <td>5</td>\n",
       "    </tr>\n",
       "    <tr>\n",
       "      <th>...</th>\n",
       "      <td>...</td>\n",
       "      <td>...</td>\n",
       "      <td>...</td>\n",
       "      <td>...</td>\n",
       "      <td>...</td>\n",
       "      <td>...</td>\n",
       "      <td>...</td>\n",
       "      <td>...</td>\n",
       "      <td>...</td>\n",
       "    </tr>\n",
       "    <tr>\n",
       "      <th>155</th>\n",
       "      <td>Yemen</td>\n",
       "      <td>3.3675</td>\n",
       "      <td>0.3645</td>\n",
       "      <td>1.1180</td>\n",
       "      <td>0.4030</td>\n",
       "      <td>0.1935</td>\n",
       "      <td>0.0955</td>\n",
       "      <td>0.0705</td>\n",
       "      <td>156</td>\n",
       "    </tr>\n",
       "    <tr>\n",
       "      <th>156</th>\n",
       "      <td>Burundi</td>\n",
       "      <td>3.3400</td>\n",
       "      <td>0.0685</td>\n",
       "      <td>0.5370</td>\n",
       "      <td>0.2625</td>\n",
       "      <td>0.1425</td>\n",
       "      <td>0.1625</td>\n",
       "      <td>0.1280</td>\n",
       "      <td>157</td>\n",
       "    </tr>\n",
       "    <tr>\n",
       "      <th>157</th>\n",
       "      <td>Tanzania</td>\n",
       "      <td>3.2670</td>\n",
       "      <td>0.4655</td>\n",
       "      <td>0.9380</td>\n",
       "      <td>0.4400</td>\n",
       "      <td>0.4490</td>\n",
       "      <td>0.2730</td>\n",
       "      <td>0.1220</td>\n",
       "      <td>158</td>\n",
       "    </tr>\n",
       "    <tr>\n",
       "      <th>158</th>\n",
       "      <td>Central African Republic</td>\n",
       "      <td>3.0830</td>\n",
       "      <td>0.0250</td>\n",
       "      <td>0.0000</td>\n",
       "      <td>0.0575</td>\n",
       "      <td>0.2650</td>\n",
       "      <td>0.2265</td>\n",
       "      <td>0.0365</td>\n",
       "      <td>159</td>\n",
       "    </tr>\n",
       "    <tr>\n",
       "      <th>159</th>\n",
       "      <td>South Sudan</td>\n",
       "      <td>3.0535</td>\n",
       "      <td>0.3215</td>\n",
       "      <td>0.5915</td>\n",
       "      <td>0.2360</td>\n",
       "      <td>0.0610</td>\n",
       "      <td>0.2130</td>\n",
       "      <td>0.0985</td>\n",
       "      <td>160</td>\n",
       "    </tr>\n",
       "  </tbody>\n",
       "</table>\n",
       "<p>160 rows × 9 columns</p>\n",
       "</div>"
      ],
      "text/plain": [
       "            Country or region   Score  GDP per capita  Social support  \\\n",
       "0                     Finland  7.7005          1.3225          1.5895   \n",
       "1                     Denmark  7.5775          1.3670          1.5815   \n",
       "2                      Norway  7.5740          1.4720          1.5820   \n",
       "3                     Iceland  7.4945          1.3615          1.6340   \n",
       "4                 Switzerland  7.4835          1.4360          1.5375   \n",
       "..                        ...     ...             ...             ...   \n",
       "155                     Yemen  3.3675          0.3645          1.1180   \n",
       "156                   Burundi  3.3400          0.0685          0.5370   \n",
       "157                  Tanzania  3.2670          0.4655          0.9380   \n",
       "158  Central African Republic  3.0830          0.0250          0.0000   \n",
       "159               South Sudan  3.0535          0.3215          0.5915   \n",
       "\n",
       "     Healthy life expectancy  Freedom to make life choices  Generosity  \\\n",
       "0                     0.9300                        0.6385      0.1775   \n",
       "1                     0.9320                        0.6375      0.2680   \n",
       "2                     0.9445                        0.6445      0.2785   \n",
       "3                     0.9700                        0.6340      0.3535   \n",
       "4                     0.9895                        0.6160      0.2595   \n",
       "..                       ...                           ...         ...   \n",
       "155                   0.4030                        0.1935      0.0955   \n",
       "156                   0.2625                        0.1425      0.1625   \n",
       "157                   0.4400                        0.4490      0.2730   \n",
       "158                   0.0575                        0.2650      0.2265   \n",
       "159                   0.2360                        0.0610      0.2130   \n",
       "\n",
       "     Perceptions of corruption  rank  \n",
       "0                       0.3930     1  \n",
       "1                       0.4090     2  \n",
       "2                       0.3405     3  \n",
       "3                       0.1280     4  \n",
       "4                       0.3500     5  \n",
       "..                         ...   ...  \n",
       "155                     0.0705   156  \n",
       "156                     0.1280   157  \n",
       "157                     0.1220   158  \n",
       "158                     0.0365   159  \n",
       "159                     0.0985   160  \n",
       "\n",
       "[160 rows x 9 columns]"
      ]
     },
     "execution_count": 24,
     "metadata": {},
     "output_type": "execute_result"
    }
   ],
   "source": [
    "mean_df"
   ]
  },
  {
   "cell_type": "markdown",
   "id": "7e71135f-6a34-4444-9295-af021479370a",
   "metadata": {},
   "source": [
    "---"
   ]
  },
  {
   "cell_type": "markdown",
   "id": "0d1d2312-bd8f-49bb-a043-585bbfa09574",
   "metadata": {},
   "source": [
    "### Aufgabe 8"
   ]
  },
  {
   "cell_type": "markdown",
   "id": "c9e29e14-5ae2-4737-b452-414122daa9a1",
   "metadata": {},
   "source": [
    "<div class=\"alert alert-info\"> \n",
    "<b>Info:</b> Ziel der Studie die diesen Datensatz hervorbrachte ist es, die Auswirkungen unabhängiger Variablen auf das Glücksniveau der Menschen in den Jahren 2018 und 2019 zu untersuchen.\n",
    "</div> "
   ]
  },
  {
   "cell_type": "markdown",
   "id": "24d29008-f4f5-465b-842e-ca3390feade4",
   "metadata": {},
   "source": [
    "+ Unabhängige Variablen: `'Overall rank', 'GDP per capita', 'Social support', 'Healthy life expectancy', 'Freedom to make life choices', 'Generosity' and 'Perceptions of corruption'`"
   ]
  },
  {
   "cell_type": "markdown",
   "id": "9aee296d-b894-4c04-8f67-35fd1fedca21",
   "metadata": {},
   "source": [
    "+ Untersuche die Auswirkungen (EDA - Exploratory Data Analysis)"
   ]
  },
  {
   "cell_type": "code",
   "execution_count": 25,
   "id": "9dab0c50-0099-458a-ba0d-6b612158b5f3",
   "metadata": {},
   "outputs": [],
   "source": [
    "#TODO"
   ]
  },
  {
   "attachments": {},
   "cell_type": "markdown",
   "id": "cbfe9e5f",
   "metadata": {},
   "source": [
    "---"
   ]
  },
  {
   "attachments": {},
   "cell_type": "markdown",
   "id": "2d488cba",
   "metadata": {},
   "source": [
    "### Aufgabe 9\n",
    "Stelle die Zusammenhänge grafisch dar."
   ]
  },
  {
   "cell_type": "code",
   "execution_count": null,
   "id": "72e16333",
   "metadata": {},
   "outputs": [],
   "source": [
    "#TODO"
   ]
  },
  {
   "cell_type": "markdown",
   "id": "4d017e3e-5c47-4367-a625-6f6d3b47e7fe",
   "metadata": {},
   "source": [
    "---"
   ]
  },
  {
   "cell_type": "markdown",
   "id": "872fa403-a2a9-4e65-bfe8-18ca31fb459e",
   "metadata": {},
   "source": [
    "### Bonus "
   ]
  },
  {
   "cell_type": "markdown",
   "id": "a4085144-85e2-4b66-a986-623160d607b9",
   "metadata": {},
   "source": [
    "+ Führe folgende Zellen aus "
   ]
  },
  {
   "cell_type": "code",
   "execution_count": null,
   "id": "3b6241ff-8285-43aa-b9cc-4e00a6caab37",
   "metadata": {},
   "outputs": [],
   "source": [
    "! pip uninstall pandas-profiling -y"
   ]
  },
  {
   "cell_type": "code",
   "execution_count": null,
   "id": "fc45927f",
   "metadata": {},
   "outputs": [],
   "source": [
    "mean_df"
   ]
  },
  {
   "cell_type": "code",
   "execution_count": null,
   "id": "e47a0a40-34ee-49d9-b482-fd834484f546",
   "metadata": {},
   "outputs": [],
   "source": [
    "from ydata_profiling import ProfileReport\n",
    "prof = ProfileReport(mean_df)\n",
    "prof"
   ]
  },
  {
   "cell_type": "markdown",
   "id": "bb329326-5ab1-4b78-944e-21ae08f4c5c5",
   "metadata": {},
   "source": [
    "---"
   ]
  },
  {
   "attachments": {},
   "cell_type": "markdown",
   "id": "bbb2c967",
   "metadata": {},
   "source": [
    "<a href=https://www.kaggle.com/code/sougatapramanick/soug009> Exampel <a>"
   ]
  }
 ],
 "metadata": {
  "kernelspec": {
   "display_name": "Python 3",
   "language": "python",
   "name": "python3"
  },
  "language_info": {
   "codemirror_mode": {
    "name": "ipython",
    "version": 3
   },
   "file_extension": ".py",
   "mimetype": "text/x-python",
   "name": "python",
   "nbconvert_exporter": "python",
   "pygments_lexer": "ipython3",
   "version": "3.11.3"
  }
 },
 "nbformat": 4,
 "nbformat_minor": 5
}
