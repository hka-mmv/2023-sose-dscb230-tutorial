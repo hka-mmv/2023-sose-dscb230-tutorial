{
 "cells": [
  {
   "cell_type": "markdown",
   "id": "42492e09-0776-4080-a689-6a9077e2f96c",
   "metadata": {
    "tags": []
   },
   "source": [
    "# Tutorium Informatik für Data Science 2\n",
    "## Thema: Erweiterte Grundlagen Pandas"
   ]
  },
  {
   "cell_type": "markdown",
   "id": "12a0ed15-4f59-4835-98dc-d496188df6ec",
   "metadata": {},
   "source": [
    "---"
   ]
  },
  {
   "cell_type": "markdown",
   "id": "54ddb521-1f53-4b20-b039-639afae75ed7",
   "metadata": {},
   "source": [
    "### Aufgabe 1"
   ]
  },
  {
   "cell_type": "markdown",
   "id": "e71379a7-2273-48c0-8bcb-45e991d1b563",
   "metadata": {},
   "source": [
    "+ Importiere pandas und lese die Daten `2018.csv` und `2019.csv` als separate df ein "
   ]
  },
  {
   "cell_type": "code",
   "execution_count": 99,
   "id": "ecc9f457-7341-479e-b6ab-f200bdd6ed5a",
   "metadata": {},
   "outputs": [],
   "source": [
    "#TODO"
   ]
  },
  {
   "cell_type": "markdown",
   "id": "950b6613-ad94-4cbf-b205-4d516d5047c0",
   "metadata": {},
   "source": [
    "---"
   ]
  },
  {
   "cell_type": "markdown",
   "id": "8bb0f3d4-6990-443d-8d3b-e0e088f697aa",
   "metadata": {},
   "source": [
    "### Aufgabe 2"
   ]
  },
  {
   "cell_type": "markdown",
   "id": "a6b1bfc1-f625-4252-ab01-d32fbea14118",
   "metadata": {},
   "source": [
    "+ Nutze folgende Funktionen, um die Daten besser kennenzulernen"
   ]
  },
  {
   "cell_type": "markdown",
   "id": "436e6937-eb92-425e-9094-6c17cec860f9",
   "metadata": {},
   "source": [
    "`df.head(), df.shape, df.nunique(), df.info(), df.describe(), df.columns`"
   ]
  },
  {
   "cell_type": "code",
   "execution_count": 146,
   "id": "cbaf7e4e-024e-4a84-ad6c-948ae909e423",
   "metadata": {},
   "outputs": [],
   "source": [
    "#TODO"
   ]
  },
  {
   "cell_type": "markdown",
   "id": "96bf8f4c-889b-4c34-8275-ffcbb33572b7",
   "metadata": {},
   "source": [
    "---"
   ]
  },
  {
   "cell_type": "markdown",
   "id": "0d034117-733d-431b-a64f-435d6ac814b5",
   "metadata": {},
   "source": [
    "### Aufgabe 3"
   ]
  },
  {
   "cell_type": "markdown",
   "id": "a6da2879-3579-4ff6-99b6-e1f21dc8065e",
   "metadata": {},
   "source": [
    "+ Welche Werte der `\"Country or region\"` Spalte sind nicht in beiden df zu finden? "
   ]
  },
  {
   "cell_type": "markdown",
   "id": "419aa71a-6605-4706-8cfb-deed71c343f1",
   "metadata": {},
   "source": [
    "<details>\n",
    "    <summary>Hinweis</summary>\n",
    "    Man kann Instanzen des Datentyps `set` in Python voneinander subtrahieren\n",
    "</details>"
   ]
  },
  {
   "cell_type": "code",
   "execution_count": 147,
   "id": "6031e063-99d5-416c-8307-2c0dc3dcd653",
   "metadata": {},
   "outputs": [],
   "source": [
    "#TODO"
   ]
  },
  {
   "cell_type": "markdown",
   "id": "799e1197-384d-4f82-a4df-71da1e504cab",
   "metadata": {},
   "source": [
    "---"
   ]
  },
  {
   "cell_type": "markdown",
   "id": "d9298d51-2693-40d6-bc4d-2a9327b142f1",
   "metadata": {},
   "source": [
    "### Aufgabe 4"
   ]
  },
  {
   "cell_type": "markdown",
   "id": "c7b45b6a-6260-4dee-8c29-a3169a0c1915",
   "metadata": {},
   "source": [
    "+ konkatinieren die beiden Data Frames und speichere diese als concat_df ab, nutze hierzu die pandas funktion `concat()`"
   ]
  },
  {
   "cell_type": "code",
   "execution_count": 149,
   "id": "00433727-9077-4c5e-8dad-af0af82ad3e4",
   "metadata": {},
   "outputs": [],
   "source": [
    "#TODO"
   ]
  },
  {
   "cell_type": "markdown",
   "id": "248159a3-64f9-47a4-8af2-4c660351130d",
   "metadata": {},
   "source": [
    "---"
   ]
  },
  {
   "cell_type": "markdown",
   "id": "1803af6c-77e1-4c02-8b93-32dce4fb9dfc",
   "metadata": {},
   "source": [
    "### Aufgabe 5"
   ]
  },
  {
   "cell_type": "markdown",
   "id": "54e395cc-edaa-4422-89b3-37c0d3e3fcf2",
   "metadata": {},
   "source": [
    "+ Verkette und gruppiere die Datensätze sinnvoll, um je Country or region den durchschnitt der numerischen Werte zu erhalten."
   ]
  },
  {
   "cell_type": "code",
   "execution_count": null,
   "id": "7f577d90-fffc-4a38-94c9-e9fcad9f4b7b",
   "metadata": {},
   "outputs": [],
   "source": [
    "#TODO"
   ]
  },
  {
   "cell_type": "markdown",
   "id": "3022f583-2f90-48f8-91a4-827c7d12569f",
   "metadata": {},
   "source": [
    "---"
   ]
  },
  {
   "cell_type": "markdown",
   "id": "7a4740ac-8f23-4bf4-b45e-557f70608ec9",
   "metadata": {},
   "source": [
    "### Aufgabe 6"
   ]
  },
  {
   "cell_type": "markdown",
   "id": "ece2e3af-8a94-442f-8acd-939e9933454c",
   "metadata": {},
   "source": [
    "+ Entferne die Spalte `\"Overall rank\"`"
   ]
  },
  {
   "cell_type": "code",
   "execution_count": null,
   "id": "6f9a9228-0518-4ef6-8df0-037dde32f978",
   "metadata": {},
   "outputs": [],
   "source": [
    "#TODO"
   ]
  },
  {
   "cell_type": "markdown",
   "id": "fa40b9d4-e268-4e17-93e9-4610207ed9ec",
   "metadata": {},
   "source": [
    "+ Füge eine neue Spalte `\"rank\"` hinzu. Recherchiere hierzu wie die rank-Spalte in Abhängigkeit von der bestehenden `\"Score\"` Spalte erstellt werden kann."
   ]
  },
  {
   "cell_type": "markdown",
   "id": "45727c80-7b5f-412e-ad76-794c03aaa823",
   "metadata": {},
   "source": [
    "+ Ändere den Datentyp der Spalte zu `integer`"
   ]
  },
  {
   "cell_type": "code",
   "execution_count": null,
   "id": "37088c59-afe5-4676-8434-8bc439abe1b3",
   "metadata": {},
   "outputs": [],
   "source": [
    "#TODO"
   ]
  },
  {
   "cell_type": "markdown",
   "id": "001d1998-bbba-4227-a736-cd1012945470",
   "metadata": {},
   "source": [
    "---"
   ]
  },
  {
   "cell_type": "markdown",
   "id": "2217e463-e3fa-4356-b7c2-8fa6f71a3864",
   "metadata": {},
   "source": [
    "### Aufgabe 7"
   ]
  },
  {
   "cell_type": "markdown",
   "id": "133bcd44-5e67-44e4-8b4b-82aeba3f3f5b",
   "metadata": {},
   "source": [
    "+ Sortiere den Data Frame sinnvoll"
   ]
  },
  {
   "cell_type": "markdown",
   "id": "91d168c5-a3db-421c-8826-679924d6222a",
   "metadata": {},
   "source": [
    "+ Passe den Index mittels der `reset_index` funktion von Pandas so an, dass am ende nur eine Indexspalte in richtiger Ordnung übrig bleibt "
   ]
  },
  {
   "cell_type": "code",
   "execution_count": null,
   "id": "a8d00af5-c349-4e2e-a31f-af566ba67a1f",
   "metadata": {},
   "outputs": [],
   "source": [
    "#TODO"
   ]
  },
  {
   "cell_type": "markdown",
   "id": "7e71135f-6a34-4444-9295-af021479370a",
   "metadata": {},
   "source": [
    "---"
   ]
  },
  {
   "cell_type": "markdown",
   "id": "0d1d2312-bd8f-49bb-a043-585bbfa09574",
   "metadata": {},
   "source": [
    "### Aufgabe 8"
   ]
  },
  {
   "cell_type": "markdown",
   "id": "c9e29e14-5ae2-4737-b452-414122daa9a1",
   "metadata": {},
   "source": [
    "<div class=\"alert alert-info\"> \n",
    "<b>Info:</b> Ziel der Studie die diesen Datensatz hervorbrachte ist es, die Auswirkungen unabhängiger Variablen auf das Glücksniveau der Menschen in den Jahren 2018 und 2019 zu untersuchen.\n",
    "</div> "
   ]
  },
  {
   "cell_type": "markdown",
   "id": "24d29008-f4f5-465b-842e-ca3390feade4",
   "metadata": {},
   "source": [
    "+ Unabhängige Variablen: `'Overall rank', 'GDP per capita', 'Social support', 'Healthy life expectancy', 'Freedom to make life choices', 'Generosity' and 'Perceptions of corruption'`"
   ]
  },
  {
   "cell_type": "markdown",
   "id": "9aee296d-b894-4c04-8f67-35fd1fedca21",
   "metadata": {},
   "source": [
    "+ Untersuche die Auswirkungen (EDA - Exploratory Data Analysis)"
   ]
  },
  {
   "cell_type": "code",
   "execution_count": 122,
   "id": "9dab0c50-0099-458a-ba0d-6b612158b5f3",
   "metadata": {},
   "outputs": [],
   "source": [
    "#TODO"
   ]
  },
  {
   "cell_type": "markdown",
   "id": "4d017e3e-5c47-4367-a625-6f6d3b47e7fe",
   "metadata": {},
   "source": [
    "---"
   ]
  },
  {
   "cell_type": "markdown",
   "id": "872fa403-a2a9-4e65-bfe8-18ca31fb459e",
   "metadata": {},
   "source": [
    "### Bonus "
   ]
  },
  {
   "cell_type": "markdown",
   "id": "a4085144-85e2-4b66-a986-623160d607b9",
   "metadata": {},
   "source": [
    "+ Führe folgende Zellen aus "
   ]
  },
  {
   "cell_type": "code",
   "execution_count": null,
   "id": "3b6241ff-8285-43aa-b9cc-4e00a6caab37",
   "metadata": {},
   "outputs": [],
   "source": [
    "! pip install pandas-profiling"
   ]
  },
  {
   "cell_type": "code",
   "execution_count": null,
   "id": "e47a0a40-34ee-49d9-b482-fd834484f546",
   "metadata": {},
   "outputs": [],
   "source": [
    "from pandas_profiling import ProfileReport\n",
    "\n",
    "prof = ProfileReport(mean_df)\n",
    "prof"
   ]
  },
  {
   "cell_type": "markdown",
   "id": "bb329326-5ab1-4b78-944e-21ae08f4c5c5",
   "metadata": {},
   "source": [
    "---"
   ]
  }
 ],
 "metadata": {
  "kernelspec": {
   "display_name": "Python 3",
   "language": "python",
   "name": "python3"
  },
  "language_info": {
   "codemirror_mode": {
    "name": "ipython",
    "version": 3
   },
   "file_extension": ".py",
   "mimetype": "text/x-python",
   "name": "python",
   "nbconvert_exporter": "python",
   "pygments_lexer": "ipython3",
   "version": "3.8.8"
  }
 },
 "nbformat": 4,
 "nbformat_minor": 5
}
