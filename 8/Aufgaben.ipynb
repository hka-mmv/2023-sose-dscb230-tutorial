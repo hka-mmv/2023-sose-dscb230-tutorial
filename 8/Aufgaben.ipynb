{
 "cells": [
  {
   "cell_type": "markdown",
   "metadata": {},
   "source": [
    "### Aufgabe A: Wiederholung - List und Dict in Python3\n",
    "1. Eine Liste erstellen und ein Element hinzufügen\n",
    "2. Ein Element an der zweiten Stelle hinzufügen\n",
    "3. Ein Element entfernen\n",
    "4. Erstellen Sie eine zweite Liste und konkatenieren Sie diese\n",
    "5. Zerschneiden Sie die neue Liste an zwei beliebigen Stellen\n",
    "6. Erstellen Sie ein beliebiges Dictionary\n",
    "7. Fügen Sie dem Dict ein weiters Element hinzu\n",
    "8. Entfernen Sie aus dem Dict das neue Element.\n",
    "9. Geben Sie mittels einer For-Schleife, alle Keys und Values aus dem Dict aus."
   ]
  },
  {
   "cell_type": "markdown",
   "metadata": {},
   "source": [
    "## Funktionales Programmieren"
   ]
  },
  {
   "cell_type": "markdown",
   "metadata": {},
   "source": [
    "#### map(function, sequence):\n",
    "Die Funktion \"map\" wendet eine gegebene Funktion auf jedes Element einer Sequenz an und gibt eine neue Sequenz mit den Ergebnissen zurück. Die ursprüngliche Sequenz bleibt unverändert.\n",
    "Beispiel:\n",
    "```python\n",
    "# Quadrat der Zahlen in einer Liste berechnen\n",
    "numbers = [1, 2, 3, 4, 5]\n",
    "squared_numbers = list(map(lambda x: x**2, numbers))\n",
    "print(squared_numbers)  # Ausgabe: [1, 4, 9, 16, 25]\n",
    "```\n",
    "\n",
    "#### filter(function, sequence):\n",
    "Die Funktion \"filter\" überprüft jedes Element einer Sequenz anhand einer gegebenen Funktion und gibt eine neue Sequenz zurück, die nur die Elemente enthält, für die die Funktion den Wert \"True\" ergibt.\n",
    "Beispiel:\n",
    "```python\n",
    "# Gerade Zahlen in einer Liste filtern\n",
    "numbers = [1, 2, 3, 4, 5, 6, 7, 8, 9, 10]\n",
    "even_numbers = list(filter(lambda x: x % 2 == 0, numbers))\n",
    "print(even_numbers)  # Ausgabe: [2, 4, 6, 8, 10]\n",
    "```\n",
    "\n",
    "#### reduce(function, sequence):\n",
    "Die Funktion \"reduce\" wendet eine gegebene Funktion auf die Elemente einer Sequenz schrittweise an und gibt ein einzelnes Ergebnis zurück. Die Funktion wird auf das erste Element und das zweite Element angewendet, dann auf das Ergebnis und das nächste Element usw., bis die gesamte Sequenz verarbeitet ist.\n",
    "Beachte: Die Funktion \"reduce\" wurde aus dem Modul \"functools\" in Python 3 verschoben. Sie müssen das Modul importieren, um es zu verwenden.\n",
    "Beispiel:\n",
    "\n",
    "```python\n",
    "# Summe der Zahlen in einer Liste berechnen\n",
    "from functools import reduce\n",
    "numbers = [1, 2, 3, 4, 5]\n",
    "sum_of_numbers = reduce(lambda x, y: x + y, numbers)\n",
    "print(sum_of_numbers)  # Ausgabe: 15\n",
    "```"
   ]
  },
  {
   "cell_type": "markdown",
   "metadata": {},
   "source": [
    "### Übungsaufgabe für \"map\":\n",
    "Gegeben ist eine Liste von Wörtern. Schreibe Code, der diese Wörter in Großbuchstaben umwandelt und eine neue Liste mit den modifizierten Wörtern zurückgibt."
   ]
  },
  {
   "cell_type": "code",
   "execution_count": 3,
   "metadata": {},
   "outputs": [],
   "source": [
    "words = [\"hello\", \"world\", \"python\"]"
   ]
  },
  {
   "cell_type": "markdown",
   "metadata": {},
   "source": [
    "### Übungsaufgabe für \"filter\":\n",
    "Gegeben ist eine Liste von Zahlen. Schreibe Code, der alle Primzahlen aus der Liste filtert und eine neue Liste mit den Primzahlen zurückgibt."
   ]
  },
  {
   "cell_type": "code",
   "execution_count": 4,
   "metadata": {},
   "outputs": [],
   "source": [
    "numbers = [2, 3, 4, 5, 6, 7, 8, 9, 10]\n",
    "\n",
    "def is_prime(number):\n",
    "    if number < 2:\n",
    "        return False\n",
    "    for i in range(2, int(number ** 0.5) + 1):\n",
    "        if number % i == 0:\n",
    "            return False\n",
    "    return True\n",
    "\n"
   ]
  },
  {
   "cell_type": "markdown",
   "metadata": {},
   "source": [
    "### Übungsaufgabe für \"reduce\":\n",
    "Gegeben ist eine Liste von Zahlen. Schreibe Code, der das Produkt aller Zahlen in der Liste berechnet und das Ergebnis zurückgibt"
   ]
  },
  {
   "cell_type": "code",
   "execution_count": 5,
   "metadata": {},
   "outputs": [],
   "source": [
    "from functools import reduce\n",
    "numbers = [1, 2, 3, 4, 5]\n"
   ]
  },
  {
   "cell_type": "markdown",
   "metadata": {},
   "source": [
    "### Aufgabe B: Funktionales Programmieren mittels Filter, Map\n",
    "\n",
    "Schreiben Sie eine Python Programm, auf Basis der Funktionalen Programmierung.\n",
    "1. Erstellen Sie zunächst eine Liste mit Zufallszahlen zwischen 10 und 10.000. Die Länge\n",
    "sollte positiv sein, aber nicht über 10 liegen. Nun soll nach Ausführung nur noch die\n",
    "geraden Zahlen in einer Liste vorhanden sein.\n",
    "2. Schreiben Sie nun eine Funktion welche überprüft ob eine übergebene Nummer\n",
    "gerade ist. Die Funktion sollte nur aus einer Zeile bestehen (Tipp: Modulo Operator)\n",
    "3. Rufen Sie ihre Funktion nach dem Prinzip der Funktionalen Programmierung auf,\n",
    "extrahieren Sie alle geraden Zahlen und speichern Sie diese in einer Liste."
   ]
  },
  {
   "cell_type": "markdown",
   "metadata": {},
   "source": [
    "### Aufgabe C: Wiederholung - Banknoten (list comprehension)"
   ]
  },
  {
   "cell_type": "markdown",
   "metadata": {},
   "source": [
    "Eine Bank bittet Sie, ein Programm zu schreiben, das prüft, ob die Seriennummer auf einer Euro-Banknote stimmt, oder nicht.<br><br>\n",
    "Auf allen Banknoten ist eine eindeutige Seriennummer aufgedruckt. Bei Euro-Scheinen haben diese Nummern das folgende Format:\n",
    "`SE8587985563`<br><br>\n",
    "Dabei sind die ersten zwei Zeichen ein Druckerei-Code (\"S\" z. B. steht für Banca d’Italia, \"E\" dient der Kennzeichnung der Banknote innerhalb der Ausgaben der Druckerei). Es folgen 9 Nutzziffern und zuletzt die Prüfziffer (im Beispiel 8)<br>\n",
    "<br>\n",
    "Die Prüfziffer wird wie folgt berechnet:\n",
    "1. Schreibe anstelle des Druckerei-Codes die Position der Buchstaben im Alphabet (startend mit 1 für A). Hier 19 für \"S\" und 5 für \"E\". Die neue Seriennummer liest sich so 1958587985563. (Nutzen Sie an dieser Stelle in ihrem Code eine list comprehension)\n",
    "2. Bilde die Quersumme aus allen Stellen (außer der Prüfziffer). Hier also 1+9+5+8+5+8+7+9+8+5+5+6 liefert 76.\n",
    "3. Bilde den Neunerrest: 76 : 9 = 8 rest 4.\n",
    "4. Zähle den Rest von sieben ab. Ist das Resultat = 0, so ist die Prüfziffer gleich neun (9). Ist das Resultat = -1, so ist die Prüfziffer gleich acht (8). In allen anderen Fällen ist diese Differenz (7 - Rest) gleich der Prüfziffer. Hier 7 - 4 = 3.\n",
    "Schreiben Sie ein Programm, das eine Euro-Seriennummer entgegen nimmt und prüft, ob die Seriennummer korrekt ist."
   ]
  },
  {
   "cell_type": "code",
   "execution_count": null,
   "metadata": {},
   "outputs": [],
   "source": [
    "#TODO"
   ]
  },
  {
   "cell_type": "code",
   "execution_count": 1,
   "metadata": {},
   "outputs": [],
   "source": [
    "geldschein_1 = \"FA5011913358\" #echt\n",
    "geldschein_2 = \"UA3065954457\" #echt\n",
    "geldschein_3 = \"SB8410052723\" #blüte"
   ]
  },
  {
   "cell_type": "code",
   "execution_count": null,
   "metadata": {},
   "outputs": [],
   "source": []
  }
 ],
 "metadata": {
  "kernelspec": {
   "display_name": "Python 3",
   "language": "python",
   "name": "python3"
  },
  "language_info": {
   "codemirror_mode": {
    "name": "ipython",
    "version": 3
   },
   "file_extension": ".py",
   "mimetype": "text/x-python",
   "name": "python",
   "nbconvert_exporter": "python",
   "pygments_lexer": "ipython3",
   "version": "3.8.8"
  }
 },
 "nbformat": 4,
 "nbformat_minor": 4
}
