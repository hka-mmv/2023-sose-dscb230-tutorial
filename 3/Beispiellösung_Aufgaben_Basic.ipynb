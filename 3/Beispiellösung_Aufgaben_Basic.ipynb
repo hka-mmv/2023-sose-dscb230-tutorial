{
 "cells": [
  {
   "cell_type": "markdown",
   "metadata": {},
   "source": [
    "## Task_1: Why OOP?"
   ]
  },
  {
   "cell_type": "markdown",
   "metadata": {},
   "source": [
    "### Procedural approach "
   ]
  },
  {
   "cell_type": "code",
   "execution_count": 21,
   "metadata": {},
   "outputs": [
    {
     "name": "stdout",
     "output_type": "stream",
     "text": [
      "Hello, my name is John and I am 30 years old.\n"
     ]
    }
   ],
   "source": [
    "def create_person(name, age):\n",
    "    return {\"name\": name, \"age\": age}\n",
    "\n",
    "def greet_person(person):\n",
    "    print(f\"Hello, my name is {person['name']} and I am {person['age']} years old.\")\n",
    "\n",
    "# Example usage\n",
    "person = create_person(\"John\", 30)\n",
    "greet_person(person)\n"
   ]
  },
  {
   "cell_type": "markdown",
   "metadata": {},
   "source": [
    "### OOP approach"
   ]
  },
  {
   "cell_type": "markdown",
   "metadata": {},
   "source": [
    "1. Transfer the procedural approach into OOP (Think about the advantages in terms of reusability and readablity of code)\n",
    "- Reminder: Initialize Constructor, Arguments(name, age), Objectcreation\n",
    "2. Let John greet "
   ]
  },
  {
   "cell_type": "code",
   "execution_count": 13,
   "metadata": {},
   "outputs": [],
   "source": [
    "#TODO"
   ]
  },
  {
   "cell_type": "code",
   "execution_count": 20,
   "metadata": {},
   "outputs": [
    {
     "name": "stdout",
     "output_type": "stream",
     "text": [
      "Hello, my name is John and I am 43 years old.\n"
     ]
    }
   ],
   "source": [
    "#Solution\n",
    "class Person:\n",
    "    def __init__(self, name, age):\n",
    "        self.name = name\n",
    "        self.age = age\n",
    "\n",
    "    def greet(self):\n",
    "        print(f\"Hello, my name is {self.name} and I am {self.age} years old.\")\n",
    "        \n",
    "john = Person(\"John\", 43)\n",
    "\n",
    "john.greet()"
   ]
  },
  {
   "cell_type": "markdown",
   "metadata": {},
   "source": [
    "## Task_2: Inheritance"
   ]
  },
  {
   "cell_type": "markdown",
   "metadata": {},
   "source": [
    "<img src=\"Classes_.png\" width=800><br>\n",
    "<img src=\"Classes.png\" width=800><br>\n",
    "\n"
   ]
  },
  {
   "cell_type": "markdown",
   "metadata": {},
   "source": [
    "---"
   ]
  },
  {
   "cell_type": "markdown",
   "metadata": {},
   "source": [
    "- Transfer the above graphic into code following the rules of object orientation "
   ]
  },
  {
   "cell_type": "markdown",
   "metadata": {
    "tags": []
   },
   "source": [
    "<details>\n",
    "  <summary>Hint</summary>\n",
    "  - class subclass(name of superclass)<br><br\\>\n",
    "  - use super() to reference from subclass on superclass"
   ]
  },
  {
   "cell_type": "code",
   "execution_count": null,
   "metadata": {},
   "outputs": [],
   "source": [
    "#TODO"
   ]
  },
  {
   "cell_type": "code",
   "execution_count": 4,
   "metadata": {},
   "outputs": [],
   "source": [
    "#Solution\n",
    "\n",
    "class MammalsOnCampus():\n",
    "    def __init__(self, name, legnumber=4, thermoregulation=\"endothermic\"):\n",
    "        self.name = name\n",
    "        self.legnumber = legnumber\n",
    "        self.thermoregulation = thermoregulation\n",
    "\n",
    "        \n",
    "class Hedgehog(MammalsOnCampus):\n",
    "    \n",
    "    def __init__(self, name, num_of_spines, legnumber=4, thermoregulation=\"endothermic\"):\n",
    "        super().__init__(name, legnumber=4, thermoregulation=\"endothermic\")\n",
    "        self.num_of_spines = num_of_spines\n",
    "\n",
    "        \n",
    "class Squirrel(MammalsOnCampus):\n",
    "    \n",
    "    def __init__(self, name, legnumber=4, thermoregulation=\"endothermic\"):\n",
    "        super().__init__(name, legnumber=4, thermoregulation=\"endothermic\")\n",
    "        \n",
    "    \n",
    "class Cat(MammalsOnCampus):\n",
    "    \n",
    "    def __init__(self, name, legnumber=4, thermoregulation=\"endothermic\"):\n",
    "        super().__init__(name, legnumber=4, thermoregulation=\"endothermic\")\n",
    "        \n"
   ]
  },
  {
   "cell_type": "code",
   "execution_count": 66,
   "metadata": {},
   "outputs": [],
   "source": [
    "#Initializing object example\n",
    "cat1 = Cat(\"don\") \n",
    "hedgehog1 = Hedgehog(\"ralph\", 5)"
   ]
  },
  {
   "cell_type": "code",
   "execution_count": 67,
   "metadata": {},
   "outputs": [
    {
     "data": {
      "text/plain": [
       "5"
      ]
     },
     "execution_count": 67,
     "metadata": {},
     "output_type": "execute_result"
    }
   ],
   "source": [
    "hedgehog1.num_of_spines"
   ]
  }
 ],
 "metadata": {
  "kernelspec": {
   "display_name": "Python 3",
   "language": "python",
   "name": "python3"
  },
  "language_info": {
   "codemirror_mode": {
    "name": "ipython",
    "version": 3
   },
   "file_extension": ".py",
   "mimetype": "text/x-python",
   "name": "python",
   "nbconvert_exporter": "python",
   "pygments_lexer": "ipython3",
   "version": "3.10.6"
  }
 },
 "nbformat": 4,
 "nbformat_minor": 4
}
