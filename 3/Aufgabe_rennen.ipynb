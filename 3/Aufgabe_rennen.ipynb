{
 "cells": [
  {
   "attachments": {},
   "cell_type": "markdown",
   "metadata": {},
   "source": [
    "## Aufgaben Rennen\n",
    "Zwischen den Klassen Person und Fahrer besteht eine Vererbungsbeziehung.\n",
    "Die Klasse Fahrer ist Subklasse der Superklasse Person. Ein Fahrer „ist eine“\n",
    "Person, d.h. die Klasse Fahrer erbt die Eigenschaften und das Verhalten der\n",
    "Klasse Person. Die Klasse Person ist als „abstrakte Klasse“ modelliert, da von\n",
    "der Klasse Person keine Objekte erzeugt werden müssen. Als Basisklassen in\n",
    "einer Klassenhierarchie können abstrakte Klassen grundlegende Eigenschaften\n",
    "ihrer Subklassen festlegen. Konstruktoren werden nicht vererbt, daher muss in der\n",
    "Subklasse der Konstruktor erneut definiert werden. Die Attribute der Klasse Per-\n",
    "son sind als public deklariert, auf diese kann somit auch in den Subklassen\n",
    "direkt zugegriffen werden. Die von Person geerbte Methode toString() wird\n",
    "in der Klasse Fahrer überschrieben und ihr dadurch eine, für die Klasse ange-\n",
    "passte Funktionalität gegeben.\n",
    "### (Bonus für Fortgeschrittene)\n",
    "Zwischen den Klassen Fahrer und Rennen besteht eine bidirektionale Assozia-\n",
    "tion. Die Assoziation modelliert Beziehungen zwischen Objekten einer oder meh-\n",
    "reren Klassen. Die Multiplizität gibt dabei die Anzahl der an der Assoziation be-\n",
    "teiligten Objekte an, der Rollenbezeichner die Rolle, welches ein Objekt in der\n",
    "Beziehung einnimmt. Im vorliegenden Fall kann ein Fahrer an höchstens einem\n",
    "Rennen teilnehmen, während ein Rennen von vielen Fahrern bestritten werden\n",
    "kann (beides kann-Beziehungen). Bei einem Rennen hat der Fahrer die Rolle ei-\n",
    "nes Teilnehmers."
   ]
  },
  {
   "attachments": {},
   "cell_type": "markdown",
   "metadata": {},
   "source": [
    "<img src=\"Diagram_Rennen.png\" width=500><br>\n",
    "<img src=\"uml_HowTo.png\" width=500><br>\n",
    "\n",
    "In der Klasse Fahrer ist # als public an zusehen \n"
   ]
  }
 ],
 "metadata": {
  "language_info": {
   "name": "python"
  },
  "orig_nbformat": 4
 },
 "nbformat": 4,
 "nbformat_minor": 2
}
