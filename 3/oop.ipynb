{
 "cells": [
  {
   "attachments": {},
   "cell_type": "markdown",
   "metadata": {},
   "source": [
    "# Object-Oriented Programming (OOP)\n",
    "# Tut 3\n",
    "https://realpython.com/python3-object-oriented-programming/\n",
    "https://www.freecodecamp.org/news/object-oriented-programming-in-python/\n",
    "https://www.programiz.com/python-programming/object-oriented-programming\n",
    "// https://docs.python.org/3.11/tutorial/classes.html#private-variables"
   ]
  },
  {
   "attachments": {},
   "cell_type": "markdown",
   "metadata": {},
   "source": [
    "## Klasse\n",
    "```py\n",
    "class Dog:\n",
    "    pass\n",
    "```"
   ]
  },
  {
   "attachments": {},
   "cell_type": "markdown",
   "metadata": {},
   "source": [
    "### Self\n",
    "Referenz auf sich selbst"
   ]
  },
  {
   "attachments": {},
   "cell_type": "markdown",
   "metadata": {},
   "source": [
    "### Konstruktor\n",
    "```py\n",
    "class Dog:\n",
    "    def __init__(self, name, age):\n",
    "        print(\"a dog has spawned\")\n"
   ]
  },
  {
   "attachments": {},
   "cell_type": "markdown",
   "metadata": {},
   "source": [
    "### Attribute\n",
    "##### public and privat (Encapsulation)\n",
    "```py\n",
    "class Dog:\n",
    "    def __init__(self, name, age):\n",
    "        self.name #! public\n",
    "        self._age #! privat\n",
    "```"
   ]
  },
  {
   "attachments": {},
   "cell_type": "markdown",
   "metadata": {},
   "source": [
    "### Klassen Attribute (Statisch)\n",
    "```py\n",
    "class Dog:\n",
    "    # Class attribute\n",
    "    species = \"Canis familiaris\"\n",
    "\n",
    "    def __init__(self):\n",
    "        pass"
   ]
  },
  {
   "attachments": {},
   "cell_type": "markdown",
   "metadata": {},
   "source": [
    "### Methodes\n",
    "```py\n",
    "class Dog:\n",
    "    species = \"Canis familiaris\"\n",
    "\n",
    "    def __init__(self, name, age):\n",
    "        self.name = name\n",
    "        self.age = age\n",
    "\n",
    "    # Instance method\n",
    "    def description(self):\n",
    "        return f\"{self.name} is {self.age} years old\"\n"
   ]
  },
  {
   "attachments": {},
   "cell_type": "markdown",
   "metadata": {},
   "source": [
    "### Setter getter\n",
    "```py\n",
    "class Dog:\n",
    "     def __init__(self):\n",
    "          self._age = 0\n",
    "    \n",
    "     # GET\n",
    "     # using property decorator\n",
    "     # a getter function\n",
    "     @property\n",
    "     def age(self):\n",
    "         print(\"getter method called\")\n",
    "         return self._age\n",
    "       \n",
    "     # setter\n",
    "     @age.setter\n",
    "     def age(self, a):\n",
    "         if(a < 18):\n",
    "            raise ValueError(\"Sorry you age is below eligibility criteria\")\n",
    "         print(\"setter method called\")\n",
    "         self._age = a"
   ]
  },
  {
   "attachments": {},
   "cell_type": "markdown",
   "metadata": {},
   "source": [
    "###  Inheritance\n",
    "```py\n",
    "# base class\n",
    "class Animal:\n",
    "    \n",
    "    def eat(self):\n",
    "        print( \"I can eat!\")\n",
    "    \n",
    "    def sleep(self):\n",
    "        print(\"I can sleep!\")\n",
    "\n",
    "# derived class\n",
    "class Dog(Animal):\n",
    "    \n",
    "    def bark(self):\n",
    "        print(\"I can bark! Woof woof!!\")\n"
   ]
  },
  {
   "attachments": {},
   "cell_type": "markdown",
   "metadata": {},
   "source": [
    "### Abstraction\n",
    "```py\n",
    "from abc import ABC, abstractmethod\n",
    "\n",
    "class Animal(ABC):\n",
    "    @abstractmethod\n",
    "    def eat(self):\n",
    "        print( \"I can eat!\")\n",
    "    \n",
    "    def sleep(self):\n",
    "        print(\"I can sleep!\")\n",
    "\n",
    "# derived class\n",
    "class Dog(Animal):\n",
    "    @abstractmethod\n",
    "    def eat(self):\n",
    "        print( \"I can eat!\")\n",
    "    \n",
    "    \n",
    "    def bark(self):\n",
    "        print(\"I can bark! Woof woof!!\")\n"
   ]
  },
  {
   "attachments": {},
   "cell_type": "markdown",
   "metadata": {},
   "source": [
    "### Polymorphism\n",
    "```py\n",
    "class Animal:\n",
    "    # method to render a shape\n",
    "    def speak(self):\n",
    "        print(f\"I'm a {self.__class__.__name__}\")\n",
    "\n",
    "class Dog(Animal):\n",
    "    pass\n",
    "\n",
    "class Cat(Animal):\n",
    "    pass\n",
    "\n",
    "for i in [Animal(),Dog(),Cat()]:\n",
    "    i.speak()\n",
    "```\n",
    "```\n",
    ">>> I'm a Animal\n",
    ">>> I'm a Dog\n",
    ">>> I'm a Cat"
   ]
  },
  {
   "attachments": {},
   "cell_type": "markdown",
   "metadata": {},
   "source": [
    "https://www.geeksforgeeks.org/python-oops-aggregation-and-composition/"
   ]
  },
  {
   "attachments": {},
   "cell_type": "markdown",
   "metadata": {},
   "source": [
    "### Aggregation and Composition\n",
    "```py\n",
    "# Class Salary in which we are\n",
    "# declaring a public method annual salary\n",
    "class Salary:\n",
    "    def __init__(self, pay, bonus):\n",
    "        self.pay = pay\n",
    "        self.bonus = bonus\n",
    "  \n",
    "    def annual_salary(self):\n",
    "        return (self.pay*12)+self.bonus\n",
    "  \n",
    "  \n",
    "# Class EmployeeOne which does not \n",
    "# inherit the class Salary yet we will\n",
    "# use the method annual salary using\n",
    "# Composition\n",
    "class EmployeeOne:\n",
    "    def __init__(self, name, age, pay, bonus):\n",
    "        self.name = name\n",
    "        self.age = age\n",
    "  \n",
    "        # Making an object in which we are\n",
    "        # calling the Salary class\n",
    "        # with proper arguments.\n",
    "        self.obj_salary = Salary(pay, bonus)  # composition\n",
    "  \n",
    "    # Method which calculates the total salary\n",
    "    # with the help of annual_salary() method\n",
    "    # declared in the Salary class\n",
    "    def total_sal(self):\n",
    "        return self.obj_salary.annual_salary()\n",
    "  \n",
    "# Making an object of the class EmployeeOne\n",
    "# and providing necessary arguments\n",
    "emp = EmployeeOne('Geek', 25, 10000, 1500)\n",
    "  \n",
    "# calling the total_sal method using \n",
    "# the emp object\n",
    "print(emp.total_sal()"
   ]
  }
 ],
 "metadata": {
  "kernelspec": {
   "display_name": "Python 3",
   "language": "python",
   "name": "python3"
  },
  "language_info": {
   "codemirror_mode": {
    "name": "ipython",
    "version": 3
   },
   "file_extension": ".py",
   "mimetype": "text/x-python",
   "name": "python",
   "nbconvert_exporter": "python",
   "pygments_lexer": "ipython3",
   "version": "3.10.6"
  },
  "orig_nbformat": 4
 },
 "nbformat": 4,
 "nbformat_minor": 2
}
