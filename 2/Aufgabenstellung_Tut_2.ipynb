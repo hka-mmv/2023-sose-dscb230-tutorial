{
 "cells": [
  {
   "cell_type": "markdown",
   "id": "36b4151e-a449-4981-a4e0-18f9df5080a4",
   "metadata": {},
   "source": [
    "# Informatik für Data Science 2\n",
    "# Tutorium 2: Pandas "
   ]
  },
  {
   "cell_type": "markdown",
   "id": "621b81c9-a995-44d9-baeb-7d3ca878fa7d",
   "metadata": {},
   "source": [
    "---"
   ]
  },
  {
   "attachments": {},
   "cell_type": "markdown",
   "id": "1dd6c607-d574-4c8a-a59f-d404c01aa068",
   "metadata": {},
   "source": [
    "## TOC\n",
    "1. [Pandas Intro](#pandas_intro)\n",
    "2. [Loading Data](#loading_data)\n",
    "3. [Getting Started](#getting_started)\n",
    "4. [Overview](#overview)\n",
    "5. [Manipulate and Select](#m_s)\n",
    "6. [Calculate and Visualize](#c_v)"
   ]
  },
  {
   "cell_type": "markdown",
   "id": "f434e24f-b527-40a5-91fc-595b88939511",
   "metadata": {},
   "source": [
    "---"
   ]
  },
  {
   "cell_type": "markdown",
   "id": "96a84b04-e5c5-4077-8752-6ffa0479c4d5",
   "metadata": {},
   "source": [
    "# Pandas Intro <a name=\"pandas_basics\"></a>"
   ]
  },
  {
   "cell_type": "markdown",
   "id": "3f34cd98-0153-4681-9d35-a87d19a1c6a0",
   "metadata": {},
   "source": [
    "<div class=\"alert alert-success\"> \n",
    "<b>Mission of Pandas:</b><br>pandas aims to be the fundamental high-level building block for doing practical, real world data analysis in Python. Additionally, it has the broader goal of becoming the most powerful and flexible open source data analysis / manipulation tool available in any language.\n",
    "<br><br>\n",
    "<b>Library Highlights:</b><br>\n",
    "<ul>\n",
    "<li>A fast and efficient DataFrame object for data manipulation with integrated indexing</li>\n",
    "\n",
    "<li>Tools for reading and writing data between in-memory data structures and different formats: CSV and text files, Microsoft Excel, SQL databases, and the fast HDF5 format</li>\n",
    "\n",
    "<li>Intelligent data alignment and integrated handling of missing data: gain automatic label-based alignment in computations and easily manipulate messy data into an orderly form</li>\n",
    "\n",
    "<li>Flexible reshaping and pivoting of data sets</li>\n",
    "\n",
    "<li>Intelligent label-based slicing, fancy indexing, and subsetting of large data sets</li>\n",
    "\n",
    "<li>Columns can be inserted and deleted from data structures for size mutability</li>\n",
    "\n",
    "<li>Aggregating or transforming data with a powerful group by engine allowing split-apply-combine operations on data sets</li>\n",
    "\n",
    "<li>High performance merging and joining of data sets</li>\n",
    "\n",
    "<li>Hierarchical axis indexing provides an intuitive way of working with high-dimensional data in a lower-dimensional data structure</li>\n",
    "\n",
    "<li>Time series-functionality: date range generation and frequency conversion, moving window statistics, date shifting and lagging. Even create domain-specific time offsets and join time series without losing data</li>\n",
    "\n",
    "<li>Highly optimized for performance, with critical code paths written in Cython or C.</li>\n",
    "\n",
    "<li>Python with pandas is in use in a wide variety of academic and commercial domains, including Finance, Neuroscience, Economics, Statistics, Advertising, Web Analytics, and more.</li>\n",
    "</ul>\n",
    "</div> "
   ]
  },
  {
   "cell_type": "markdown",
   "id": "2dd06a9f-a304-4b5b-99ff-1213da92acab",
   "metadata": {},
   "source": [
    "## Loading Data <a name=\"loading_data\"></a>"
   ]
  },
  {
   "cell_type": "code",
   "execution_count": 49,
   "id": "6eb8d575-bef7-4ea1-b92d-fb9cccdc3461",
   "metadata": {},
   "outputs": [],
   "source": [
    "import pandas as pd"
   ]
  },
  {
   "cell_type": "markdown",
   "id": "66791fe5-b5d3-473f-990f-b36c3d8f718f",
   "metadata": {},
   "source": [
    "---"
   ]
  },
  {
   "cell_type": "markdown",
   "id": "83355758-1877-4bb5-bb62-d0ecd9280940",
   "metadata": {},
   "source": [
    "## Getting started <a name=\"getting_started\"></a>"
   ]
  },
  {
   "cell_type": "markdown",
   "id": "2bfb7b19-c578-4fb6-bf64-5db5a6a9de41",
   "metadata": {},
   "source": [
    "1) read the given csv data \"registrierte-hunde-hunde-insgesamt.csv\" as a DataFrame"
   ]
  },
  {
   "cell_type": "code",
   "execution_count": 2,
   "id": "d1079bbc-0a16-4e1b-856e-c7860d20b39e",
   "metadata": {},
   "outputs": [
    {
     "name": "stdout",
     "output_type": "stream",
     "text": [
      "CPU times: user 2 µs, sys: 0 ns, total: 2 µs\n",
      "Wall time: 3.34 µs\n"
     ]
    }
   ],
   "source": [
    "%time\n",
    "#TODO"
   ]
  },
  {
   "cell_type": "markdown",
   "id": "aa214900-991d-4eff-9103-8527a32ed23a",
   "metadata": {},
   "source": [
    "---"
   ]
  },
  {
   "cell_type": "markdown",
   "id": "f2befde6-b960-46af-b289-8c121a26dd79",
   "metadata": {},
   "source": [
    "## Overview <a name=\"overview\"></a>"
   ]
  },
  {
   "cell_type": "markdown",
   "id": "d159d4a7-f677-4bef-8ff2-57e41cb3bdd7",
   "metadata": {},
   "source": [
    "1) Get an overview of the dataset by executing the following functions "
   ]
  },
  {
   "cell_type": "code",
   "execution_count": 7,
   "id": "8dd985f9-372c-489a-a372-9847cb89c14d",
   "metadata": {},
   "outputs": [],
   "source": [
    "df.head()"
   ]
  },
  {
   "cell_type": "code",
   "execution_count": 45,
   "id": "bab322db-15a6-4e92-8c33-1dc471f64bf1",
   "metadata": {},
   "outputs": [],
   "source": [
    "df.shape"
   ]
  },
  {
   "cell_type": "code",
   "execution_count": 42,
   "id": "0b895bdf-d25c-41c3-af05-f24877fb5482",
   "metadata": {},
   "outputs": [],
   "source": [
    "df.nunique()"
   ]
  },
  {
   "cell_type": "code",
   "execution_count": 49,
   "id": "70b1ec57-170a-46c2-8305-c174b8ec742b",
   "metadata": {},
   "outputs": [],
   "source": [
    "df.info()"
   ]
  },
  {
   "cell_type": "code",
   "execution_count": 52,
   "id": "9263e8e5-b6b3-4344-8dba-b9596a1aa209",
   "metadata": {},
   "outputs": [],
   "source": [
    "df.describe()"
   ]
  },
  {
   "cell_type": "code",
   "execution_count": 6,
   "id": "349c420d-13b7-4eed-9be0-df6a27d5fb62",
   "metadata": {},
   "outputs": [],
   "source": [
    "df.columns"
   ]
  },
  {
   "cell_type": "markdown",
   "id": "0b7daf3b-9b2b-4ea5-b574-8b4a33c7b111",
   "metadata": {},
   "source": [
    "---"
   ]
  },
  {
   "cell_type": "markdown",
   "id": "8cbfed85-7839-432a-a8f6-763e535f8c62",
   "metadata": {},
   "source": [
    "## Manipulate and Select <a name=\"m_s\"></a>"
   ]
  },
  {
   "cell_type": "markdown",
   "id": "57317bd6-9566-43a4-aaef-ac7ae9c8bc47",
   "metadata": {},
   "source": [
    "1) Write a Pandas program which creates a new dataframe \"new_df\" only containing the columns \"Stadtteil\", \"Jahr\" and \"Hunde\""
   ]
  },
  {
   "cell_type": "code",
   "execution_count": null,
   "id": "08fa6fa2-b304-414d-b839-3082ea9c0af6",
   "metadata": {},
   "outputs": [],
   "source": [
    "#TODO"
   ]
  },
  {
   "cell_type": "markdown",
   "id": "62b63cce-5483-471d-aaa6-c072ab11dc65",
   "metadata": {},
   "source": [
    "2) Now check on the datatypes of \"new_df\" using the appropriate function from above"
   ]
  },
  {
   "cell_type": "code",
   "execution_count": 47,
   "id": "03018238-3614-4303-abda-95cf9a68abd7",
   "metadata": {},
   "outputs": [],
   "source": [
    "#TODO"
   ]
  },
  {
   "attachments": {},
   "cell_type": "markdown",
   "id": "ba6cfc45-91e5-423b-988f-7b9cc76986fb",
   "metadata": {},
   "source": [
    "3) Select only data from year 2020"
   ]
  },
  {
   "cell_type": "code",
   "execution_count": 3,
   "id": "b961159f-d9e3-46ea-9a95-93598d3195b0",
   "metadata": {},
   "outputs": [],
   "source": [
    "#TODO"
   ]
  },
  {
   "attachments": {},
   "cell_type": "markdown",
   "id": "603f6676-3c65-4657-bcd3-0d26ae997b8d",
   "metadata": {},
   "source": [
    "4) Select data where the number of dogs is between 400 and the maxiumum number of dogs ever registrated"
   ]
  },
  {
   "cell_type": "code",
   "execution_count": 50,
   "id": "8816accd-4676-4d4b-8b71-3e442dfc4895",
   "metadata": {},
   "outputs": [],
   "source": [
    "#TODO"
   ]
  },
  {
   "cell_type": "markdown",
   "id": "adf3c750-a129-46a4-a802-d4f554a3f170",
   "metadata": {},
   "source": [
    "---"
   ]
  },
  {
   "cell_type": "markdown",
   "id": "9b1afe13-1871-4b5e-8fab-7e548677e511",
   "metadata": {},
   "source": [
    "## Calculate and Visualize <a name=\"c_v\"></a>"
   ]
  },
  {
   "cell_type": "code",
   "execution_count": 179,
   "id": "d080457b-e3f1-459a-a24a-a5bc5d934e6e",
   "metadata": {},
   "outputs": [],
   "source": [
    "#irgendwas was unterschied zwischen for loop und pandas funktionen klar macht "
   ]
  },
  {
   "cell_type": "code",
   "execution_count": null,
   "id": "0a69b409-b48b-4642-a3d1-58ef46a39c88",
   "metadata": {},
   "outputs": [],
   "source": []
  }
 ],
 "metadata": {
  "kernelspec": {
   "display_name": "Python 3",
   "language": "python",
   "name": "python3"
  },
  "language_info": {
   "codemirror_mode": {
    "name": "ipython",
    "version": 3
   },
   "file_extension": ".py",
   "mimetype": "text/x-python",
   "name": "python",
   "nbconvert_exporter": "python",
   "pygments_lexer": "ipython3",
   "version": "3.10.6"
  }
 },
 "nbformat": 4,
 "nbformat_minor": 5
}
