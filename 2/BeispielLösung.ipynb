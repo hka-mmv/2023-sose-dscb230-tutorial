{
 "cells": [
  {
   "cell_type": "markdown",
   "id": "36b4151e-a449-4981-a4e0-18f9df5080a4",
   "metadata": {},
   "source": [
    "# Informatik für Data Science 2\n",
    "# Tutorium 2: Pandas "
   ]
  },
  {
   "cell_type": "markdown",
   "id": "621b81c9-a995-44d9-baeb-7d3ca878fa7d",
   "metadata": {},
   "source": [
    "---"
   ]
  },
  {
   "attachments": {},
   "cell_type": "markdown",
   "id": "1dd6c607-d574-4c8a-a59f-d404c01aa068",
   "metadata": {},
   "source": [
    "## TOC\n",
    "1. [Pandas Intro](#pandas_intro)\n",
    "2. [Loading Data](#loading_data)\n",
    "3. [Getting Started](#getting_started)\n",
    "4. [Overview](#overview)\n",
    "5. [Manipulate and Select](#m_s)\n",
    "6. [Calculate and Visualize](#c_v)"
   ]
  },
  {
   "cell_type": "markdown",
   "id": "f434e24f-b527-40a5-91fc-595b88939511",
   "metadata": {},
   "source": [
    "---"
   ]
  },
  {
   "cell_type": "markdown",
   "id": "96a84b04-e5c5-4077-8752-6ffa0479c4d5",
   "metadata": {},
   "source": [
    "# Pandas Intro <a name=\"pandas_basics\"></a>"
   ]
  },
  {
   "cell_type": "markdown",
   "id": "3f34cd98-0153-4681-9d35-a87d19a1c6a0",
   "metadata": {},
   "source": [
    "<div class=\"alert alert-success\"> \n",
    "<b>Mission of Pandas:</b><br>pandas aims to be the fundamental high-level building block for doing practical, real world data analysis in Python. Additionally, it has the broader goal of becoming the most powerful and flexible open source data analysis / manipulation tool available in any language.\n",
    "<br><br>\n",
    "<b>Library Highlights:</b><br>\n",
    "<ul>\n",
    "<li>A fast and efficient DataFrame object for data manipulation with integrated indexing</li>\n",
    "\n",
    "<li>Tools for reading and writing data between in-memory data structures and different formats: CSV and text files, Microsoft Excel, SQL databases, and the fast HDF5 format</li>\n",
    "\n",
    "<li>Intelligent data alignment and integrated handling of missing data: gain automatic label-based alignment in computations and easily manipulate messy data into an orderly form</li>\n",
    "\n",
    "<li>Flexible reshaping and pivoting of data sets</li>\n",
    "\n",
    "<li>Intelligent label-based slicing, fancy indexing, and subsetting of large data sets</li>\n",
    "\n",
    "<li>Columns can be inserted and deleted from data structures for size mutability</li>\n",
    "\n",
    "<li>Aggregating or transforming data with a powerful group by engine allowing split-apply-combine operations on data sets</li>\n",
    "\n",
    "<li>High performance merging and joining of data sets</li>\n",
    "\n",
    "<li>Hierarchical axis indexing provides an intuitive way of working with high-dimensional data in a lower-dimensional data structure</li>\n",
    "\n",
    "<li>Time series-functionality: date range generation and frequency conversion, moving window statistics, date shifting and lagging. Even create domain-specific time offsets and join time series without losing data</li>\n",
    "\n",
    "<li>Highly optimized for performance, with critical code paths written in Cython or C.</li>\n",
    "\n",
    "<li>Python with pandas is in use in a wide variety of academic and commercial domains, including Finance, Neuroscience, Economics, Statistics, Advertising, Web Analytics, and more.</li>\n",
    "</ul>\n",
    "</div> "
   ]
  },
  {
   "cell_type": "markdown",
   "id": "2dd06a9f-a304-4b5b-99ff-1213da92acab",
   "metadata": {},
   "source": [
    "## Loading Data <a name=\"loading_data\"></a>"
   ]
  },
  {
   "cell_type": "code",
   "execution_count": 1,
   "id": "6eb8d575-bef7-4ea1-b92d-fb9cccdc3461",
   "metadata": {},
   "outputs": [],
   "source": [
    "import pandas as pd"
   ]
  },
  {
   "cell_type": "markdown",
   "id": "66791fe5-b5d3-473f-990f-b36c3d8f718f",
   "metadata": {},
   "source": [
    "---"
   ]
  },
  {
   "cell_type": "markdown",
   "id": "83355758-1877-4bb5-bb62-d0ecd9280940",
   "metadata": {},
   "source": [
    "## Getting started <a name=\"getting_started\"></a>"
   ]
  },
  {
   "attachments": {},
   "cell_type": "markdown",
   "id": "4fb15c92",
   "metadata": {},
   "source": [
    "Daten Quelle: https://transparenz.karlsruhe.de/dataset/registrierte-hunde/resource/a5f04b45-528a-41b5-8d8c-eb9677bf2fd1"
   ]
  },
  {
   "attachments": {},
   "cell_type": "markdown",
   "id": "e892db21",
   "metadata": {},
   "source": [
    "## Datenverzeichnis\n",
    "|Spalte |Typ |\n",
    "|-----|----|\n",
    "|Stadtteil |text |\n",
    "|Jahr |text ||\n",
    "|Hunde |text ||\n",
    "|Hunde je 1.000 Bewohner/-innen (Wohnberechtigte) |text |\n",
    "|Hunde je 1.000 Haushalte (HH) |text"
   ]
  },
  {
   "cell_type": "markdown",
   "id": "2bfb7b19-c578-4fb6-bf64-5db5a6a9de41",
   "metadata": {},
   "source": [
    "1) read the given csv data \"registrierte-hunde-hunde-insgesamt.csv\" as a DataFrame"
   ]
  },
  {
   "cell_type": "code",
   "execution_count": 2,
   "id": "d1079bbc-0a16-4e1b-856e-c7860d20b39e",
   "metadata": {},
   "outputs": [
    {
     "data": {
      "text/html": [
       "<div>\n",
       "<style scoped>\n",
       "    .dataframe tbody tr th:only-of-type {\n",
       "        vertical-align: middle;\n",
       "    }\n",
       "\n",
       "    .dataframe tbody tr th {\n",
       "        vertical-align: top;\n",
       "    }\n",
       "\n",
       "    .dataframe thead th {\n",
       "        text-align: right;\n",
       "    }\n",
       "</style>\n",
       "<table border=\"1\" class=\"dataframe\">\n",
       "  <thead>\n",
       "    <tr style=\"text-align: right;\">\n",
       "      <th></th>\n",
       "      <th>Stadtteil</th>\n",
       "      <th>Jahr</th>\n",
       "      <th>Hunde</th>\n",
       "      <th>Hunde je 1.000 Bewohner/-innen (Wohnberechtigte)</th>\n",
       "      <th>Hunde je 1.000 Haushalte (HH)</th>\n",
       "    </tr>\n",
       "    <tr>\n",
       "      <th>_id</th>\n",
       "      <th></th>\n",
       "      <th></th>\n",
       "      <th></th>\n",
       "      <th></th>\n",
       "      <th></th>\n",
       "    </tr>\n",
       "  </thead>\n",
       "  <tbody>\n",
       "    <tr>\n",
       "      <th>1</th>\n",
       "      <td>Innenstadt-Ost</td>\n",
       "      <td>2014</td>\n",
       "      <td>101</td>\n",
       "      <td>14.0</td>\n",
       "      <td>20.6</td>\n",
       "    </tr>\n",
       "    <tr>\n",
       "      <th>2</th>\n",
       "      <td>Innenstadt-Ost</td>\n",
       "      <td>2015</td>\n",
       "      <td>97</td>\n",
       "      <td>13.4</td>\n",
       "      <td>19.7</td>\n",
       "    </tr>\n",
       "    <tr>\n",
       "      <th>3</th>\n",
       "      <td>Innenstadt-Ost</td>\n",
       "      <td>2016</td>\n",
       "      <td>102</td>\n",
       "      <td>14.6</td>\n",
       "      <td>21.7</td>\n",
       "    </tr>\n",
       "    <tr>\n",
       "      <th>4</th>\n",
       "      <td>Innenstadt-Ost</td>\n",
       "      <td>2017</td>\n",
       "      <td>110</td>\n",
       "      <td>16.0</td>\n",
       "      <td>23.7</td>\n",
       "    </tr>\n",
       "    <tr>\n",
       "      <th>5</th>\n",
       "      <td>Innenstadt-Ost</td>\n",
       "      <td>2018</td>\n",
       "      <td>97</td>\n",
       "      <td>14.2</td>\n",
       "      <td>20.9</td>\n",
       "    </tr>\n",
       "    <tr>\n",
       "      <th>...</th>\n",
       "      <td>...</td>\n",
       "      <td>...</td>\n",
       "      <td>...</td>\n",
       "      <td>...</td>\n",
       "      <td>...</td>\n",
       "    </tr>\n",
       "    <tr>\n",
       "      <th>185</th>\n",
       "      <td>Nordstadt</td>\n",
       "      <td>2016</td>\n",
       "      <td>278</td>\n",
       "      <td>27.9</td>\n",
       "      <td>58.9</td>\n",
       "    </tr>\n",
       "    <tr>\n",
       "      <th>186</th>\n",
       "      <td>Nordstadt</td>\n",
       "      <td>2017</td>\n",
       "      <td>290</td>\n",
       "      <td>29.2</td>\n",
       "      <td>60.7</td>\n",
       "    </tr>\n",
       "    <tr>\n",
       "      <th>187</th>\n",
       "      <td>Nordstadt</td>\n",
       "      <td>2018</td>\n",
       "      <td>291</td>\n",
       "      <td>29.5</td>\n",
       "      <td>60.2</td>\n",
       "    </tr>\n",
       "    <tr>\n",
       "      <th>188</th>\n",
       "      <td>Nordstadt</td>\n",
       "      <td>2019</td>\n",
       "      <td>293</td>\n",
       "      <td>30.2</td>\n",
       "      <td>60.7</td>\n",
       "    </tr>\n",
       "    <tr>\n",
       "      <th>189</th>\n",
       "      <td>Nordstadt</td>\n",
       "      <td>2020</td>\n",
       "      <td>305</td>\n",
       "      <td>32.2</td>\n",
       "      <td>63.8</td>\n",
       "    </tr>\n",
       "  </tbody>\n",
       "</table>\n",
       "<p>189 rows × 5 columns</p>\n",
       "</div>"
      ],
      "text/plain": [
       "          Stadtteil  Jahr  Hunde  \\\n",
       "_id                                \n",
       "1    Innenstadt-Ost  2014    101   \n",
       "2    Innenstadt-Ost  2015     97   \n",
       "3    Innenstadt-Ost  2016    102   \n",
       "4    Innenstadt-Ost  2017    110   \n",
       "5    Innenstadt-Ost  2018     97   \n",
       "..              ...   ...    ...   \n",
       "185       Nordstadt  2016    278   \n",
       "186       Nordstadt  2017    290   \n",
       "187       Nordstadt  2018    291   \n",
       "188       Nordstadt  2019    293   \n",
       "189       Nordstadt  2020    305   \n",
       "\n",
       "     Hunde je 1.000 Bewohner/-innen (Wohnberechtigte)  \\\n",
       "_id                                                     \n",
       "1                                                14.0   \n",
       "2                                                13.4   \n",
       "3                                                14.6   \n",
       "4                                                16.0   \n",
       "5                                                14.2   \n",
       "..                                                ...   \n",
       "185                                              27.9   \n",
       "186                                              29.2   \n",
       "187                                              29.5   \n",
       "188                                              30.2   \n",
       "189                                              32.2   \n",
       "\n",
       "     Hunde je 1.000 Haushalte (HH)  \n",
       "_id                                 \n",
       "1                             20.6  \n",
       "2                             19.7  \n",
       "3                             21.7  \n",
       "4                             23.7  \n",
       "5                             20.9  \n",
       "..                             ...  \n",
       "185                           58.9  \n",
       "186                           60.7  \n",
       "187                           60.2  \n",
       "188                           60.7  \n",
       "189                           63.8  \n",
       "\n",
       "[189 rows x 5 columns]"
      ]
     },
     "execution_count": 2,
     "metadata": {},
     "output_type": "execute_result"
    }
   ],
   "source": [
    "df = pd.read_csv(\"hunde_insgesamt.csv\",sep=\",\",index_col=\"_id\")\n",
    "df"
   ]
  },
  {
   "cell_type": "markdown",
   "id": "aa214900-991d-4eff-9103-8527a32ed23a",
   "metadata": {},
   "source": [
    "---"
   ]
  },
  {
   "cell_type": "markdown",
   "id": "f2befde6-b960-46af-b289-8c121a26dd79",
   "metadata": {},
   "source": [
    "## Overview <a name=\"overview\"></a>"
   ]
  },
  {
   "cell_type": "markdown",
   "id": "d159d4a7-f677-4bef-8ff2-57e41cb3bdd7",
   "metadata": {},
   "source": [
    "1) Get an overview of the dataset by executing the following functions "
   ]
  },
  {
   "cell_type": "code",
   "execution_count": 3,
   "id": "8dd985f9-372c-489a-a372-9847cb89c14d",
   "metadata": {},
   "outputs": [
    {
     "data": {
      "text/html": [
       "<div>\n",
       "<style scoped>\n",
       "    .dataframe tbody tr th:only-of-type {\n",
       "        vertical-align: middle;\n",
       "    }\n",
       "\n",
       "    .dataframe tbody tr th {\n",
       "        vertical-align: top;\n",
       "    }\n",
       "\n",
       "    .dataframe thead th {\n",
       "        text-align: right;\n",
       "    }\n",
       "</style>\n",
       "<table border=\"1\" class=\"dataframe\">\n",
       "  <thead>\n",
       "    <tr style=\"text-align: right;\">\n",
       "      <th></th>\n",
       "      <th>Stadtteil</th>\n",
       "      <th>Jahr</th>\n",
       "      <th>Hunde</th>\n",
       "      <th>Hunde je 1.000 Bewohner/-innen (Wohnberechtigte)</th>\n",
       "      <th>Hunde je 1.000 Haushalte (HH)</th>\n",
       "    </tr>\n",
       "    <tr>\n",
       "      <th>_id</th>\n",
       "      <th></th>\n",
       "      <th></th>\n",
       "      <th></th>\n",
       "      <th></th>\n",
       "      <th></th>\n",
       "    </tr>\n",
       "  </thead>\n",
       "  <tbody>\n",
       "    <tr>\n",
       "      <th>1</th>\n",
       "      <td>Innenstadt-Ost</td>\n",
       "      <td>2014</td>\n",
       "      <td>101</td>\n",
       "      <td>14.0</td>\n",
       "      <td>20.6</td>\n",
       "    </tr>\n",
       "    <tr>\n",
       "      <th>2</th>\n",
       "      <td>Innenstadt-Ost</td>\n",
       "      <td>2015</td>\n",
       "      <td>97</td>\n",
       "      <td>13.4</td>\n",
       "      <td>19.7</td>\n",
       "    </tr>\n",
       "    <tr>\n",
       "      <th>3</th>\n",
       "      <td>Innenstadt-Ost</td>\n",
       "      <td>2016</td>\n",
       "      <td>102</td>\n",
       "      <td>14.6</td>\n",
       "      <td>21.7</td>\n",
       "    </tr>\n",
       "    <tr>\n",
       "      <th>4</th>\n",
       "      <td>Innenstadt-Ost</td>\n",
       "      <td>2017</td>\n",
       "      <td>110</td>\n",
       "      <td>16.0</td>\n",
       "      <td>23.7</td>\n",
       "    </tr>\n",
       "    <tr>\n",
       "      <th>5</th>\n",
       "      <td>Innenstadt-Ost</td>\n",
       "      <td>2018</td>\n",
       "      <td>97</td>\n",
       "      <td>14.2</td>\n",
       "      <td>20.9</td>\n",
       "    </tr>\n",
       "  </tbody>\n",
       "</table>\n",
       "</div>"
      ],
      "text/plain": [
       "          Stadtteil  Jahr  Hunde  \\\n",
       "_id                                \n",
       "1    Innenstadt-Ost  2014    101   \n",
       "2    Innenstadt-Ost  2015     97   \n",
       "3    Innenstadt-Ost  2016    102   \n",
       "4    Innenstadt-Ost  2017    110   \n",
       "5    Innenstadt-Ost  2018     97   \n",
       "\n",
       "     Hunde je 1.000 Bewohner/-innen (Wohnberechtigte)  \\\n",
       "_id                                                     \n",
       "1                                                14.0   \n",
       "2                                                13.4   \n",
       "3                                                14.6   \n",
       "4                                                16.0   \n",
       "5                                                14.2   \n",
       "\n",
       "     Hunde je 1.000 Haushalte (HH)  \n",
       "_id                                 \n",
       "1                             20.6  \n",
       "2                             19.7  \n",
       "3                             21.7  \n",
       "4                             23.7  \n",
       "5                             20.9  "
      ]
     },
     "execution_count": 3,
     "metadata": {},
     "output_type": "execute_result"
    }
   ],
   "source": [
    "df.head()"
   ]
  },
  {
   "cell_type": "code",
   "execution_count": 4,
   "id": "bab322db-15a6-4e92-8c33-1dc471f64bf1",
   "metadata": {},
   "outputs": [
    {
     "data": {
      "text/plain": [
       "(189, 5)"
      ]
     },
     "execution_count": 4,
     "metadata": {},
     "output_type": "execute_result"
    }
   ],
   "source": [
    "df.shape"
   ]
  },
  {
   "cell_type": "code",
   "execution_count": 5,
   "id": "0b895bdf-d25c-41c3-af05-f24877fb5482",
   "metadata": {},
   "outputs": [
    {
     "data": {
      "text/plain": [
       "Stadtteil                                            27\n",
       "Jahr                                                  7\n",
       "Hunde                                               149\n",
       "Hunde je 1.000 Bewohner/-innen (Wohnberechtigte)    153\n",
       "Hunde je 1.000 Haushalte (HH)                       167\n",
       "dtype: int64"
      ]
     },
     "execution_count": 5,
     "metadata": {},
     "output_type": "execute_result"
    }
   ],
   "source": [
    "df.nunique()"
   ]
  },
  {
   "cell_type": "code",
   "execution_count": 6,
   "id": "70b1ec57-170a-46c2-8305-c174b8ec742b",
   "metadata": {},
   "outputs": [
    {
     "name": "stdout",
     "output_type": "stream",
     "text": [
      "<class 'pandas.core.frame.DataFrame'>\n",
      "Int64Index: 189 entries, 1 to 189\n",
      "Data columns (total 5 columns):\n",
      " #   Column                                            Non-Null Count  Dtype  \n",
      "---  ------                                            --------------  -----  \n",
      " 0   Stadtteil                                         189 non-null    object \n",
      " 1   Jahr                                              189 non-null    int64  \n",
      " 2   Hunde                                             189 non-null    int64  \n",
      " 3   Hunde je 1.000 Bewohner/-innen (Wohnberechtigte)  189 non-null    float64\n",
      " 4   Hunde je 1.000 Haushalte (HH)                     189 non-null    float64\n",
      "dtypes: float64(2), int64(2), object(1)\n",
      "memory usage: 8.9+ KB\n"
     ]
    }
   ],
   "source": [
    "df.info()"
   ]
  },
  {
   "cell_type": "code",
   "execution_count": 7,
   "id": "9263e8e5-b6b3-4344-8dba-b9596a1aa209",
   "metadata": {},
   "outputs": [
    {
     "data": {
      "text/html": [
       "<div>\n",
       "<style scoped>\n",
       "    .dataframe tbody tr th:only-of-type {\n",
       "        vertical-align: middle;\n",
       "    }\n",
       "\n",
       "    .dataframe tbody tr th {\n",
       "        vertical-align: top;\n",
       "    }\n",
       "\n",
       "    .dataframe thead th {\n",
       "        text-align: right;\n",
       "    }\n",
       "</style>\n",
       "<table border=\"1\" class=\"dataframe\">\n",
       "  <thead>\n",
       "    <tr style=\"text-align: right;\">\n",
       "      <th></th>\n",
       "      <th>Jahr</th>\n",
       "      <th>Hunde</th>\n",
       "      <th>Hunde je 1.000 Bewohner/-innen (Wohnberechtigte)</th>\n",
       "      <th>Hunde je 1.000 Haushalte (HH)</th>\n",
       "    </tr>\n",
       "  </thead>\n",
       "  <tbody>\n",
       "    <tr>\n",
       "      <th>count</th>\n",
       "      <td>189.000000</td>\n",
       "      <td>189.000000</td>\n",
       "      <td>189.000000</td>\n",
       "      <td>189.000000</td>\n",
       "    </tr>\n",
       "    <tr>\n",
       "      <th>mean</th>\n",
       "      <td>2017.000000</td>\n",
       "      <td>314.433862</td>\n",
       "      <td>30.932804</td>\n",
       "      <td>60.150794</td>\n",
       "    </tr>\n",
       "    <tr>\n",
       "      <th>std</th>\n",
       "      <td>2.005312</td>\n",
       "      <td>192.053633</td>\n",
       "      <td>11.148389</td>\n",
       "      <td>26.949530</td>\n",
       "    </tr>\n",
       "    <tr>\n",
       "      <th>min</th>\n",
       "      <td>2014.000000</td>\n",
       "      <td>82.000000</td>\n",
       "      <td>8.100000</td>\n",
       "      <td>13.700000</td>\n",
       "    </tr>\n",
       "    <tr>\n",
       "      <th>25%</th>\n",
       "      <td>2015.000000</td>\n",
       "      <td>174.000000</td>\n",
       "      <td>24.100000</td>\n",
       "      <td>39.400000</td>\n",
       "    </tr>\n",
       "    <tr>\n",
       "      <th>50%</th>\n",
       "      <td>2017.000000</td>\n",
       "      <td>293.000000</td>\n",
       "      <td>31.700000</td>\n",
       "      <td>59.600000</td>\n",
       "    </tr>\n",
       "    <tr>\n",
       "      <th>75%</th>\n",
       "      <td>2019.000000</td>\n",
       "      <td>399.000000</td>\n",
       "      <td>39.200000</td>\n",
       "      <td>76.500000</td>\n",
       "    </tr>\n",
       "    <tr>\n",
       "      <th>max</th>\n",
       "      <td>2020.000000</td>\n",
       "      <td>1034.000000</td>\n",
       "      <td>56.600000</td>\n",
       "      <td>128.300000</td>\n",
       "    </tr>\n",
       "  </tbody>\n",
       "</table>\n",
       "</div>"
      ],
      "text/plain": [
       "              Jahr        Hunde  \\\n",
       "count   189.000000   189.000000   \n",
       "mean   2017.000000   314.433862   \n",
       "std       2.005312   192.053633   \n",
       "min    2014.000000    82.000000   \n",
       "25%    2015.000000   174.000000   \n",
       "50%    2017.000000   293.000000   \n",
       "75%    2019.000000   399.000000   \n",
       "max    2020.000000  1034.000000   \n",
       "\n",
       "       Hunde je 1.000 Bewohner/-innen (Wohnberechtigte)  \\\n",
       "count                                        189.000000   \n",
       "mean                                          30.932804   \n",
       "std                                           11.148389   \n",
       "min                                            8.100000   \n",
       "25%                                           24.100000   \n",
       "50%                                           31.700000   \n",
       "75%                                           39.200000   \n",
       "max                                           56.600000   \n",
       "\n",
       "       Hunde je 1.000 Haushalte (HH)  \n",
       "count                     189.000000  \n",
       "mean                       60.150794  \n",
       "std                        26.949530  \n",
       "min                        13.700000  \n",
       "25%                        39.400000  \n",
       "50%                        59.600000  \n",
       "75%                        76.500000  \n",
       "max                       128.300000  "
      ]
     },
     "execution_count": 7,
     "metadata": {},
     "output_type": "execute_result"
    }
   ],
   "source": [
    "df.describe()"
   ]
  },
  {
   "cell_type": "code",
   "execution_count": 8,
   "id": "349c420d-13b7-4eed-9be0-df6a27d5fb62",
   "metadata": {},
   "outputs": [
    {
     "data": {
      "text/plain": [
       "Index(['Stadtteil', 'Jahr', 'Hunde',\n",
       "       'Hunde je 1.000 Bewohner/-innen (Wohnberechtigte)',\n",
       "       'Hunde je 1.000 Haushalte (HH)'],\n",
       "      dtype='object')"
      ]
     },
     "execution_count": 8,
     "metadata": {},
     "output_type": "execute_result"
    }
   ],
   "source": [
    "df.columns"
   ]
  },
  {
   "cell_type": "markdown",
   "id": "0b7daf3b-9b2b-4ea5-b574-8b4a33c7b111",
   "metadata": {},
   "source": [
    "---"
   ]
  },
  {
   "cell_type": "markdown",
   "id": "8cbfed85-7839-432a-a8f6-763e535f8c62",
   "metadata": {},
   "source": [
    "## Manipulate and Select <a name=\"m_s\"></a>"
   ]
  },
  {
   "cell_type": "markdown",
   "id": "57317bd6-9566-43a4-aaef-ac7ae9c8bc47",
   "metadata": {},
   "source": [
    "1) Write a Pandas program which creates a new dataframe \"new_df\" only containing the columns \"Stadtteil\", \"Jahr\" and \"Hunde\""
   ]
  },
  {
   "cell_type": "code",
   "execution_count": 9,
   "id": "08fa6fa2-b304-414d-b839-3082ea9c0af6",
   "metadata": {},
   "outputs": [
    {
     "data": {
      "text/html": [
       "<div>\n",
       "<style scoped>\n",
       "    .dataframe tbody tr th:only-of-type {\n",
       "        vertical-align: middle;\n",
       "    }\n",
       "\n",
       "    .dataframe tbody tr th {\n",
       "        vertical-align: top;\n",
       "    }\n",
       "\n",
       "    .dataframe thead th {\n",
       "        text-align: right;\n",
       "    }\n",
       "</style>\n",
       "<table border=\"1\" class=\"dataframe\">\n",
       "  <thead>\n",
       "    <tr style=\"text-align: right;\">\n",
       "      <th></th>\n",
       "      <th>Stadtteil</th>\n",
       "      <th>Jahr</th>\n",
       "      <th>Hunde</th>\n",
       "    </tr>\n",
       "    <tr>\n",
       "      <th>_id</th>\n",
       "      <th></th>\n",
       "      <th></th>\n",
       "      <th></th>\n",
       "    </tr>\n",
       "  </thead>\n",
       "  <tbody>\n",
       "    <tr>\n",
       "      <th>1</th>\n",
       "      <td>Innenstadt-Ost</td>\n",
       "      <td>2014</td>\n",
       "      <td>101</td>\n",
       "    </tr>\n",
       "    <tr>\n",
       "      <th>2</th>\n",
       "      <td>Innenstadt-Ost</td>\n",
       "      <td>2015</td>\n",
       "      <td>97</td>\n",
       "    </tr>\n",
       "    <tr>\n",
       "      <th>3</th>\n",
       "      <td>Innenstadt-Ost</td>\n",
       "      <td>2016</td>\n",
       "      <td>102</td>\n",
       "    </tr>\n",
       "    <tr>\n",
       "      <th>4</th>\n",
       "      <td>Innenstadt-Ost</td>\n",
       "      <td>2017</td>\n",
       "      <td>110</td>\n",
       "    </tr>\n",
       "    <tr>\n",
       "      <th>5</th>\n",
       "      <td>Innenstadt-Ost</td>\n",
       "      <td>2018</td>\n",
       "      <td>97</td>\n",
       "    </tr>\n",
       "    <tr>\n",
       "      <th>...</th>\n",
       "      <td>...</td>\n",
       "      <td>...</td>\n",
       "      <td>...</td>\n",
       "    </tr>\n",
       "    <tr>\n",
       "      <th>185</th>\n",
       "      <td>Nordstadt</td>\n",
       "      <td>2016</td>\n",
       "      <td>278</td>\n",
       "    </tr>\n",
       "    <tr>\n",
       "      <th>186</th>\n",
       "      <td>Nordstadt</td>\n",
       "      <td>2017</td>\n",
       "      <td>290</td>\n",
       "    </tr>\n",
       "    <tr>\n",
       "      <th>187</th>\n",
       "      <td>Nordstadt</td>\n",
       "      <td>2018</td>\n",
       "      <td>291</td>\n",
       "    </tr>\n",
       "    <tr>\n",
       "      <th>188</th>\n",
       "      <td>Nordstadt</td>\n",
       "      <td>2019</td>\n",
       "      <td>293</td>\n",
       "    </tr>\n",
       "    <tr>\n",
       "      <th>189</th>\n",
       "      <td>Nordstadt</td>\n",
       "      <td>2020</td>\n",
       "      <td>305</td>\n",
       "    </tr>\n",
       "  </tbody>\n",
       "</table>\n",
       "<p>189 rows × 3 columns</p>\n",
       "</div>"
      ],
      "text/plain": [
       "          Stadtteil  Jahr  Hunde\n",
       "_id                             \n",
       "1    Innenstadt-Ost  2014    101\n",
       "2    Innenstadt-Ost  2015     97\n",
       "3    Innenstadt-Ost  2016    102\n",
       "4    Innenstadt-Ost  2017    110\n",
       "5    Innenstadt-Ost  2018     97\n",
       "..              ...   ...    ...\n",
       "185       Nordstadt  2016    278\n",
       "186       Nordstadt  2017    290\n",
       "187       Nordstadt  2018    291\n",
       "188       Nordstadt  2019    293\n",
       "189       Nordstadt  2020    305\n",
       "\n",
       "[189 rows x 3 columns]"
      ]
     },
     "execution_count": 9,
     "metadata": {},
     "output_type": "execute_result"
    }
   ],
   "source": [
    "new_df = df[['Stadtteil', 'Jahr', 'Hunde']]\n",
    "new_df"
   ]
  },
  {
   "cell_type": "markdown",
   "id": "62b63cce-5483-471d-aaa6-c072ab11dc65",
   "metadata": {},
   "source": [
    "2) Now check on the datatypes of \"new_df\" using the appropriate function from above"
   ]
  },
  {
   "cell_type": "code",
   "execution_count": 10,
   "id": "03018238-3614-4303-abda-95cf9a68abd7",
   "metadata": {},
   "outputs": [
    {
     "data": {
      "text/plain": [
       "Stadtteil    object\n",
       "Jahr          int64\n",
       "Hunde         int64\n",
       "dtype: object"
      ]
     },
     "execution_count": 10,
     "metadata": {},
     "output_type": "execute_result"
    }
   ],
   "source": [
    "new_df.dtypes"
   ]
  },
  {
   "attachments": {},
   "cell_type": "markdown",
   "id": "ba6cfc45-91e5-423b-988f-7b9cc76986fb",
   "metadata": {},
   "source": [
    "3) Select only data from year 2020"
   ]
  },
  {
   "cell_type": "code",
   "execution_count": 11,
   "id": "b961159f-d9e3-46ea-9a95-93598d3195b0",
   "metadata": {},
   "outputs": [
    {
     "data": {
      "text/html": [
       "<div>\n",
       "<style scoped>\n",
       "    .dataframe tbody tr th:only-of-type {\n",
       "        vertical-align: middle;\n",
       "    }\n",
       "\n",
       "    .dataframe tbody tr th {\n",
       "        vertical-align: top;\n",
       "    }\n",
       "\n",
       "    .dataframe thead th {\n",
       "        text-align: right;\n",
       "    }\n",
       "</style>\n",
       "<table border=\"1\" class=\"dataframe\">\n",
       "  <thead>\n",
       "    <tr style=\"text-align: right;\">\n",
       "      <th></th>\n",
       "      <th>Stadtteil</th>\n",
       "      <th>Jahr</th>\n",
       "      <th>Hunde</th>\n",
       "    </tr>\n",
       "    <tr>\n",
       "      <th>_id</th>\n",
       "      <th></th>\n",
       "      <th></th>\n",
       "      <th></th>\n",
       "    </tr>\n",
       "  </thead>\n",
       "  <tbody>\n",
       "    <tr>\n",
       "      <th>7</th>\n",
       "      <td>Innenstadt-Ost</td>\n",
       "      <td>2020</td>\n",
       "      <td>94</td>\n",
       "    </tr>\n",
       "    <tr>\n",
       "      <th>14</th>\n",
       "      <td>Innenstadt-West</td>\n",
       "      <td>2020</td>\n",
       "      <td>147</td>\n",
       "    </tr>\n",
       "    <tr>\n",
       "      <th>21</th>\n",
       "      <td>Südstadt</td>\n",
       "      <td>2020</td>\n",
       "      <td>358</td>\n",
       "    </tr>\n",
       "    <tr>\n",
       "      <th>28</th>\n",
       "      <td>Südweststadt</td>\n",
       "      <td>2020</td>\n",
       "      <td>337</td>\n",
       "    </tr>\n",
       "    <tr>\n",
       "      <th>35</th>\n",
       "      <td>Weststadt</td>\n",
       "      <td>2020</td>\n",
       "      <td>436</td>\n",
       "    </tr>\n",
       "    <tr>\n",
       "      <th>42</th>\n",
       "      <td>Nordweststadt</td>\n",
       "      <td>2020</td>\n",
       "      <td>368</td>\n",
       "    </tr>\n",
       "    <tr>\n",
       "      <th>49</th>\n",
       "      <td>Oststadt</td>\n",
       "      <td>2020</td>\n",
       "      <td>322</td>\n",
       "    </tr>\n",
       "    <tr>\n",
       "      <th>56</th>\n",
       "      <td>Mühlburg</td>\n",
       "      <td>2020</td>\n",
       "      <td>438</td>\n",
       "    </tr>\n",
       "    <tr>\n",
       "      <th>63</th>\n",
       "      <td>Daxlanden</td>\n",
       "      <td>2020</td>\n",
       "      <td>591</td>\n",
       "    </tr>\n",
       "    <tr>\n",
       "      <th>70</th>\n",
       "      <td>Knielingen</td>\n",
       "      <td>2020</td>\n",
       "      <td>467</td>\n",
       "    </tr>\n",
       "    <tr>\n",
       "      <th>77</th>\n",
       "      <td>Grünwinkel</td>\n",
       "      <td>2020</td>\n",
       "      <td>433</td>\n",
       "    </tr>\n",
       "    <tr>\n",
       "      <th>84</th>\n",
       "      <td>Oberreut</td>\n",
       "      <td>2020</td>\n",
       "      <td>418</td>\n",
       "    </tr>\n",
       "    <tr>\n",
       "      <th>91</th>\n",
       "      <td>Beiertheim-Bulach</td>\n",
       "      <td>2020</td>\n",
       "      <td>192</td>\n",
       "    </tr>\n",
       "    <tr>\n",
       "      <th>98</th>\n",
       "      <td>Weiherfeld-Dammerstock</td>\n",
       "      <td>2020</td>\n",
       "      <td>182</td>\n",
       "    </tr>\n",
       "    <tr>\n",
       "      <th>105</th>\n",
       "      <td>Rüppurr</td>\n",
       "      <td>2020</td>\n",
       "      <td>467</td>\n",
       "    </tr>\n",
       "    <tr>\n",
       "      <th>112</th>\n",
       "      <td>Waldstadt</td>\n",
       "      <td>2020</td>\n",
       "      <td>433</td>\n",
       "    </tr>\n",
       "    <tr>\n",
       "      <th>119</th>\n",
       "      <td>Rintheim</td>\n",
       "      <td>2020</td>\n",
       "      <td>197</td>\n",
       "    </tr>\n",
       "    <tr>\n",
       "      <th>126</th>\n",
       "      <td>Hagsfeld</td>\n",
       "      <td>2020</td>\n",
       "      <td>242</td>\n",
       "    </tr>\n",
       "    <tr>\n",
       "      <th>133</th>\n",
       "      <td>Durlach</td>\n",
       "      <td>2020</td>\n",
       "      <td>1034</td>\n",
       "    </tr>\n",
       "    <tr>\n",
       "      <th>140</th>\n",
       "      <td>Grötzingen</td>\n",
       "      <td>2020</td>\n",
       "      <td>349</td>\n",
       "    </tr>\n",
       "    <tr>\n",
       "      <th>147</th>\n",
       "      <td>Stupferich</td>\n",
       "      <td>2020</td>\n",
       "      <td>152</td>\n",
       "    </tr>\n",
       "    <tr>\n",
       "      <th>154</th>\n",
       "      <td>Hohenwettersbach</td>\n",
       "      <td>2020</td>\n",
       "      <td>166</td>\n",
       "    </tr>\n",
       "    <tr>\n",
       "      <th>161</th>\n",
       "      <td>Wolfartsweier</td>\n",
       "      <td>2020</td>\n",
       "      <td>130</td>\n",
       "    </tr>\n",
       "    <tr>\n",
       "      <th>168</th>\n",
       "      <td>Grünwettersbach</td>\n",
       "      <td>2020</td>\n",
       "      <td>205</td>\n",
       "    </tr>\n",
       "    <tr>\n",
       "      <th>175</th>\n",
       "      <td>Palmbach</td>\n",
       "      <td>2020</td>\n",
       "      <td>113</td>\n",
       "    </tr>\n",
       "    <tr>\n",
       "      <th>182</th>\n",
       "      <td>Neureut</td>\n",
       "      <td>2020</td>\n",
       "      <td>726</td>\n",
       "    </tr>\n",
       "    <tr>\n",
       "      <th>189</th>\n",
       "      <td>Nordstadt</td>\n",
       "      <td>2020</td>\n",
       "      <td>305</td>\n",
       "    </tr>\n",
       "  </tbody>\n",
       "</table>\n",
       "</div>"
      ],
      "text/plain": [
       "                  Stadtteil  Jahr  Hunde\n",
       "_id                                     \n",
       "7            Innenstadt-Ost  2020     94\n",
       "14          Innenstadt-West  2020    147\n",
       "21                 Südstadt  2020    358\n",
       "28             Südweststadt  2020    337\n",
       "35                Weststadt  2020    436\n",
       "42            Nordweststadt  2020    368\n",
       "49                 Oststadt  2020    322\n",
       "56                 Mühlburg  2020    438\n",
       "63                Daxlanden  2020    591\n",
       "70               Knielingen  2020    467\n",
       "77               Grünwinkel  2020    433\n",
       "84                 Oberreut  2020    418\n",
       "91        Beiertheim-Bulach  2020    192\n",
       "98   Weiherfeld-Dammerstock  2020    182\n",
       "105                 Rüppurr  2020    467\n",
       "112               Waldstadt  2020    433\n",
       "119                Rintheim  2020    197\n",
       "126                Hagsfeld  2020    242\n",
       "133                 Durlach  2020   1034\n",
       "140              Grötzingen  2020    349\n",
       "147              Stupferich  2020    152\n",
       "154        Hohenwettersbach  2020    166\n",
       "161           Wolfartsweier  2020    130\n",
       "168         Grünwettersbach  2020    205\n",
       "175                Palmbach  2020    113\n",
       "182                 Neureut  2020    726\n",
       "189               Nordstadt  2020    305"
      ]
     },
     "execution_count": 11,
     "metadata": {},
     "output_type": "execute_result"
    }
   ],
   "source": [
    "new_df[new_df[\"Jahr\"] == 2020]"
   ]
  },
  {
   "cell_type": "code",
   "execution_count": 12,
   "id": "5404d0ab",
   "metadata": {},
   "outputs": [
    {
     "data": {
      "text/html": [
       "<div>\n",
       "<style scoped>\n",
       "    .dataframe tbody tr th:only-of-type {\n",
       "        vertical-align: middle;\n",
       "    }\n",
       "\n",
       "    .dataframe tbody tr th {\n",
       "        vertical-align: top;\n",
       "    }\n",
       "\n",
       "    .dataframe thead th {\n",
       "        text-align: right;\n",
       "    }\n",
       "</style>\n",
       "<table border=\"1\" class=\"dataframe\">\n",
       "  <thead>\n",
       "    <tr style=\"text-align: right;\">\n",
       "      <th></th>\n",
       "      <th>Stadtteil</th>\n",
       "      <th>Jahr</th>\n",
       "      <th>Hunde</th>\n",
       "    </tr>\n",
       "    <tr>\n",
       "      <th>_id</th>\n",
       "      <th></th>\n",
       "      <th></th>\n",
       "      <th></th>\n",
       "    </tr>\n",
       "  </thead>\n",
       "  <tbody>\n",
       "    <tr>\n",
       "      <th>7</th>\n",
       "      <td>Innenstadt-Ost</td>\n",
       "      <td>2020.0</td>\n",
       "      <td>94.0</td>\n",
       "    </tr>\n",
       "    <tr>\n",
       "      <th>14</th>\n",
       "      <td>Innenstadt-West</td>\n",
       "      <td>2020.0</td>\n",
       "      <td>147.0</td>\n",
       "    </tr>\n",
       "    <tr>\n",
       "      <th>21</th>\n",
       "      <td>Südstadt</td>\n",
       "      <td>2020.0</td>\n",
       "      <td>358.0</td>\n",
       "    </tr>\n",
       "    <tr>\n",
       "      <th>28</th>\n",
       "      <td>Südweststadt</td>\n",
       "      <td>2020.0</td>\n",
       "      <td>337.0</td>\n",
       "    </tr>\n",
       "    <tr>\n",
       "      <th>35</th>\n",
       "      <td>Weststadt</td>\n",
       "      <td>2020.0</td>\n",
       "      <td>436.0</td>\n",
       "    </tr>\n",
       "    <tr>\n",
       "      <th>42</th>\n",
       "      <td>Nordweststadt</td>\n",
       "      <td>2020.0</td>\n",
       "      <td>368.0</td>\n",
       "    </tr>\n",
       "    <tr>\n",
       "      <th>49</th>\n",
       "      <td>Oststadt</td>\n",
       "      <td>2020.0</td>\n",
       "      <td>322.0</td>\n",
       "    </tr>\n",
       "    <tr>\n",
       "      <th>56</th>\n",
       "      <td>Mühlburg</td>\n",
       "      <td>2020.0</td>\n",
       "      <td>438.0</td>\n",
       "    </tr>\n",
       "    <tr>\n",
       "      <th>63</th>\n",
       "      <td>Daxlanden</td>\n",
       "      <td>2020.0</td>\n",
       "      <td>591.0</td>\n",
       "    </tr>\n",
       "    <tr>\n",
       "      <th>70</th>\n",
       "      <td>Knielingen</td>\n",
       "      <td>2020.0</td>\n",
       "      <td>467.0</td>\n",
       "    </tr>\n",
       "    <tr>\n",
       "      <th>77</th>\n",
       "      <td>Grünwinkel</td>\n",
       "      <td>2020.0</td>\n",
       "      <td>433.0</td>\n",
       "    </tr>\n",
       "    <tr>\n",
       "      <th>84</th>\n",
       "      <td>Oberreut</td>\n",
       "      <td>2020.0</td>\n",
       "      <td>418.0</td>\n",
       "    </tr>\n",
       "    <tr>\n",
       "      <th>91</th>\n",
       "      <td>Beiertheim-Bulach</td>\n",
       "      <td>2020.0</td>\n",
       "      <td>192.0</td>\n",
       "    </tr>\n",
       "    <tr>\n",
       "      <th>98</th>\n",
       "      <td>Weiherfeld-Dammerstock</td>\n",
       "      <td>2020.0</td>\n",
       "      <td>182.0</td>\n",
       "    </tr>\n",
       "    <tr>\n",
       "      <th>105</th>\n",
       "      <td>Rüppurr</td>\n",
       "      <td>2020.0</td>\n",
       "      <td>467.0</td>\n",
       "    </tr>\n",
       "    <tr>\n",
       "      <th>112</th>\n",
       "      <td>Waldstadt</td>\n",
       "      <td>2020.0</td>\n",
       "      <td>433.0</td>\n",
       "    </tr>\n",
       "    <tr>\n",
       "      <th>119</th>\n",
       "      <td>Rintheim</td>\n",
       "      <td>2020.0</td>\n",
       "      <td>197.0</td>\n",
       "    </tr>\n",
       "    <tr>\n",
       "      <th>126</th>\n",
       "      <td>Hagsfeld</td>\n",
       "      <td>2020.0</td>\n",
       "      <td>242.0</td>\n",
       "    </tr>\n",
       "    <tr>\n",
       "      <th>133</th>\n",
       "      <td>Durlach</td>\n",
       "      <td>2020.0</td>\n",
       "      <td>1034.0</td>\n",
       "    </tr>\n",
       "    <tr>\n",
       "      <th>140</th>\n",
       "      <td>Grötzingen</td>\n",
       "      <td>2020.0</td>\n",
       "      <td>349.0</td>\n",
       "    </tr>\n",
       "    <tr>\n",
       "      <th>147</th>\n",
       "      <td>Stupferich</td>\n",
       "      <td>2020.0</td>\n",
       "      <td>152.0</td>\n",
       "    </tr>\n",
       "    <tr>\n",
       "      <th>154</th>\n",
       "      <td>Hohenwettersbach</td>\n",
       "      <td>2020.0</td>\n",
       "      <td>166.0</td>\n",
       "    </tr>\n",
       "    <tr>\n",
       "      <th>161</th>\n",
       "      <td>Wolfartsweier</td>\n",
       "      <td>2020.0</td>\n",
       "      <td>130.0</td>\n",
       "    </tr>\n",
       "    <tr>\n",
       "      <th>168</th>\n",
       "      <td>Grünwettersbach</td>\n",
       "      <td>2020.0</td>\n",
       "      <td>205.0</td>\n",
       "    </tr>\n",
       "    <tr>\n",
       "      <th>175</th>\n",
       "      <td>Palmbach</td>\n",
       "      <td>2020.0</td>\n",
       "      <td>113.0</td>\n",
       "    </tr>\n",
       "    <tr>\n",
       "      <th>182</th>\n",
       "      <td>Neureut</td>\n",
       "      <td>2020.0</td>\n",
       "      <td>726.0</td>\n",
       "    </tr>\n",
       "    <tr>\n",
       "      <th>189</th>\n",
       "      <td>Nordstadt</td>\n",
       "      <td>2020.0</td>\n",
       "      <td>305.0</td>\n",
       "    </tr>\n",
       "  </tbody>\n",
       "</table>\n",
       "</div>"
      ],
      "text/plain": [
       "                  Stadtteil    Jahr   Hunde\n",
       "_id                                        \n",
       "7            Innenstadt-Ost  2020.0    94.0\n",
       "14          Innenstadt-West  2020.0   147.0\n",
       "21                 Südstadt  2020.0   358.0\n",
       "28             Südweststadt  2020.0   337.0\n",
       "35                Weststadt  2020.0   436.0\n",
       "42            Nordweststadt  2020.0   368.0\n",
       "49                 Oststadt  2020.0   322.0\n",
       "56                 Mühlburg  2020.0   438.0\n",
       "63                Daxlanden  2020.0   591.0\n",
       "70               Knielingen  2020.0   467.0\n",
       "77               Grünwinkel  2020.0   433.0\n",
       "84                 Oberreut  2020.0   418.0\n",
       "91        Beiertheim-Bulach  2020.0   192.0\n",
       "98   Weiherfeld-Dammerstock  2020.0   182.0\n",
       "105                 Rüppurr  2020.0   467.0\n",
       "112               Waldstadt  2020.0   433.0\n",
       "119                Rintheim  2020.0   197.0\n",
       "126                Hagsfeld  2020.0   242.0\n",
       "133                 Durlach  2020.0  1034.0\n",
       "140              Grötzingen  2020.0   349.0\n",
       "147              Stupferich  2020.0   152.0\n",
       "154        Hohenwettersbach  2020.0   166.0\n",
       "161           Wolfartsweier  2020.0   130.0\n",
       "168         Grünwettersbach  2020.0   205.0\n",
       "175                Palmbach  2020.0   113.0\n",
       "182                 Neureut  2020.0   726.0\n",
       "189               Nordstadt  2020.0   305.0"
      ]
     },
     "execution_count": 12,
     "metadata": {},
     "output_type": "execute_result"
    }
   ],
   "source": [
    "new_df.where(new_df[\"Jahr\"] == 2020).dropna() #Alternative "
   ]
  },
  {
   "attachments": {},
   "cell_type": "markdown",
   "id": "603f6676-3c65-4657-bcd3-0d26ae997b8d",
   "metadata": {},
   "source": [
    "4) Select data where the number of dogs is between 400 and the maxiumum number of dogs ever registrated"
   ]
  },
  {
   "cell_type": "code",
   "execution_count": 13,
   "id": "8816accd-4676-4d4b-8b71-3e442dfc4895",
   "metadata": {},
   "outputs": [
    {
     "data": {
      "text/html": [
       "<div>\n",
       "<style scoped>\n",
       "    .dataframe tbody tr th:only-of-type {\n",
       "        vertical-align: middle;\n",
       "    }\n",
       "\n",
       "    .dataframe tbody tr th {\n",
       "        vertical-align: top;\n",
       "    }\n",
       "\n",
       "    .dataframe thead th {\n",
       "        text-align: right;\n",
       "    }\n",
       "</style>\n",
       "<table border=\"1\" class=\"dataframe\">\n",
       "  <thead>\n",
       "    <tr style=\"text-align: right;\">\n",
       "      <th></th>\n",
       "      <th>Stadtteil</th>\n",
       "      <th>Jahr</th>\n",
       "      <th>Hunde</th>\n",
       "    </tr>\n",
       "    <tr>\n",
       "      <th>_id</th>\n",
       "      <th></th>\n",
       "      <th></th>\n",
       "      <th></th>\n",
       "    </tr>\n",
       "  </thead>\n",
       "  <tbody>\n",
       "    <tr>\n",
       "      <th>29</th>\n",
       "      <td>Weststadt</td>\n",
       "      <td>2014</td>\n",
       "      <td>401</td>\n",
       "    </tr>\n",
       "    <tr>\n",
       "      <th>30</th>\n",
       "      <td>Weststadt</td>\n",
       "      <td>2015</td>\n",
       "      <td>403</td>\n",
       "    </tr>\n",
       "    <tr>\n",
       "      <th>31</th>\n",
       "      <td>Weststadt</td>\n",
       "      <td>2016</td>\n",
       "      <td>414</td>\n",
       "    </tr>\n",
       "    <tr>\n",
       "      <th>32</th>\n",
       "      <td>Weststadt</td>\n",
       "      <td>2017</td>\n",
       "      <td>421</td>\n",
       "    </tr>\n",
       "    <tr>\n",
       "      <th>33</th>\n",
       "      <td>Weststadt</td>\n",
       "      <td>2018</td>\n",
       "      <td>438</td>\n",
       "    </tr>\n",
       "    <tr>\n",
       "      <th>34</th>\n",
       "      <td>Weststadt</td>\n",
       "      <td>2019</td>\n",
       "      <td>424</td>\n",
       "    </tr>\n",
       "    <tr>\n",
       "      <th>35</th>\n",
       "      <td>Weststadt</td>\n",
       "      <td>2020</td>\n",
       "      <td>436</td>\n",
       "    </tr>\n",
       "    <tr>\n",
       "      <th>51</th>\n",
       "      <td>Mühlburg</td>\n",
       "      <td>2015</td>\n",
       "      <td>403</td>\n",
       "    </tr>\n",
       "    <tr>\n",
       "      <th>54</th>\n",
       "      <td>Mühlburg</td>\n",
       "      <td>2018</td>\n",
       "      <td>402</td>\n",
       "    </tr>\n",
       "    <tr>\n",
       "      <th>55</th>\n",
       "      <td>Mühlburg</td>\n",
       "      <td>2019</td>\n",
       "      <td>409</td>\n",
       "    </tr>\n",
       "    <tr>\n",
       "      <th>56</th>\n",
       "      <td>Mühlburg</td>\n",
       "      <td>2020</td>\n",
       "      <td>438</td>\n",
       "    </tr>\n",
       "    <tr>\n",
       "      <th>57</th>\n",
       "      <td>Daxlanden</td>\n",
       "      <td>2014</td>\n",
       "      <td>508</td>\n",
       "    </tr>\n",
       "    <tr>\n",
       "      <th>58</th>\n",
       "      <td>Daxlanden</td>\n",
       "      <td>2015</td>\n",
       "      <td>513</td>\n",
       "    </tr>\n",
       "    <tr>\n",
       "      <th>59</th>\n",
       "      <td>Daxlanden</td>\n",
       "      <td>2016</td>\n",
       "      <td>549</td>\n",
       "    </tr>\n",
       "    <tr>\n",
       "      <th>60</th>\n",
       "      <td>Daxlanden</td>\n",
       "      <td>2017</td>\n",
       "      <td>551</td>\n",
       "    </tr>\n",
       "    <tr>\n",
       "      <th>61</th>\n",
       "      <td>Daxlanden</td>\n",
       "      <td>2018</td>\n",
       "      <td>557</td>\n",
       "    </tr>\n",
       "    <tr>\n",
       "      <th>62</th>\n",
       "      <td>Daxlanden</td>\n",
       "      <td>2019</td>\n",
       "      <td>562</td>\n",
       "    </tr>\n",
       "    <tr>\n",
       "      <th>63</th>\n",
       "      <td>Daxlanden</td>\n",
       "      <td>2020</td>\n",
       "      <td>591</td>\n",
       "    </tr>\n",
       "    <tr>\n",
       "      <th>68</th>\n",
       "      <td>Knielingen</td>\n",
       "      <td>2018</td>\n",
       "      <td>412</td>\n",
       "    </tr>\n",
       "    <tr>\n",
       "      <th>69</th>\n",
       "      <td>Knielingen</td>\n",
       "      <td>2019</td>\n",
       "      <td>456</td>\n",
       "    </tr>\n",
       "    <tr>\n",
       "      <th>70</th>\n",
       "      <td>Knielingen</td>\n",
       "      <td>2020</td>\n",
       "      <td>467</td>\n",
       "    </tr>\n",
       "    <tr>\n",
       "      <th>77</th>\n",
       "      <td>Grünwinkel</td>\n",
       "      <td>2020</td>\n",
       "      <td>433</td>\n",
       "    </tr>\n",
       "    <tr>\n",
       "      <th>83</th>\n",
       "      <td>Oberreut</td>\n",
       "      <td>2019</td>\n",
       "      <td>418</td>\n",
       "    </tr>\n",
       "    <tr>\n",
       "      <th>84</th>\n",
       "      <td>Oberreut</td>\n",
       "      <td>2020</td>\n",
       "      <td>418</td>\n",
       "    </tr>\n",
       "    <tr>\n",
       "      <th>101</th>\n",
       "      <td>Rüppurr</td>\n",
       "      <td>2016</td>\n",
       "      <td>426</td>\n",
       "    </tr>\n",
       "    <tr>\n",
       "      <th>102</th>\n",
       "      <td>Rüppurr</td>\n",
       "      <td>2017</td>\n",
       "      <td>423</td>\n",
       "    </tr>\n",
       "    <tr>\n",
       "      <th>103</th>\n",
       "      <td>Rüppurr</td>\n",
       "      <td>2018</td>\n",
       "      <td>434</td>\n",
       "    </tr>\n",
       "    <tr>\n",
       "      <th>104</th>\n",
       "      <td>Rüppurr</td>\n",
       "      <td>2019</td>\n",
       "      <td>429</td>\n",
       "    </tr>\n",
       "    <tr>\n",
       "      <th>105</th>\n",
       "      <td>Rüppurr</td>\n",
       "      <td>2020</td>\n",
       "      <td>467</td>\n",
       "    </tr>\n",
       "    <tr>\n",
       "      <th>109</th>\n",
       "      <td>Waldstadt</td>\n",
       "      <td>2017</td>\n",
       "      <td>402</td>\n",
       "    </tr>\n",
       "    <tr>\n",
       "      <th>110</th>\n",
       "      <td>Waldstadt</td>\n",
       "      <td>2018</td>\n",
       "      <td>408</td>\n",
       "    </tr>\n",
       "    <tr>\n",
       "      <th>111</th>\n",
       "      <td>Waldstadt</td>\n",
       "      <td>2019</td>\n",
       "      <td>421</td>\n",
       "    </tr>\n",
       "    <tr>\n",
       "      <th>112</th>\n",
       "      <td>Waldstadt</td>\n",
       "      <td>2020</td>\n",
       "      <td>433</td>\n",
       "    </tr>\n",
       "    <tr>\n",
       "      <th>127</th>\n",
       "      <td>Durlach</td>\n",
       "      <td>2014</td>\n",
       "      <td>926</td>\n",
       "    </tr>\n",
       "    <tr>\n",
       "      <th>128</th>\n",
       "      <td>Durlach</td>\n",
       "      <td>2015</td>\n",
       "      <td>944</td>\n",
       "    </tr>\n",
       "    <tr>\n",
       "      <th>129</th>\n",
       "      <td>Durlach</td>\n",
       "      <td>2016</td>\n",
       "      <td>982</td>\n",
       "    </tr>\n",
       "    <tr>\n",
       "      <th>130</th>\n",
       "      <td>Durlach</td>\n",
       "      <td>2017</td>\n",
       "      <td>993</td>\n",
       "    </tr>\n",
       "    <tr>\n",
       "      <th>131</th>\n",
       "      <td>Durlach</td>\n",
       "      <td>2018</td>\n",
       "      <td>1012</td>\n",
       "    </tr>\n",
       "    <tr>\n",
       "      <th>132</th>\n",
       "      <td>Durlach</td>\n",
       "      <td>2019</td>\n",
       "      <td>993</td>\n",
       "    </tr>\n",
       "    <tr>\n",
       "      <th>133</th>\n",
       "      <td>Durlach</td>\n",
       "      <td>2020</td>\n",
       "      <td>1034</td>\n",
       "    </tr>\n",
       "    <tr>\n",
       "      <th>176</th>\n",
       "      <td>Neureut</td>\n",
       "      <td>2014</td>\n",
       "      <td>634</td>\n",
       "    </tr>\n",
       "    <tr>\n",
       "      <th>177</th>\n",
       "      <td>Neureut</td>\n",
       "      <td>2015</td>\n",
       "      <td>628</td>\n",
       "    </tr>\n",
       "    <tr>\n",
       "      <th>178</th>\n",
       "      <td>Neureut</td>\n",
       "      <td>2016</td>\n",
       "      <td>638</td>\n",
       "    </tr>\n",
       "    <tr>\n",
       "      <th>179</th>\n",
       "      <td>Neureut</td>\n",
       "      <td>2017</td>\n",
       "      <td>627</td>\n",
       "    </tr>\n",
       "    <tr>\n",
       "      <th>180</th>\n",
       "      <td>Neureut</td>\n",
       "      <td>2018</td>\n",
       "      <td>645</td>\n",
       "    </tr>\n",
       "    <tr>\n",
       "      <th>181</th>\n",
       "      <td>Neureut</td>\n",
       "      <td>2019</td>\n",
       "      <td>681</td>\n",
       "    </tr>\n",
       "    <tr>\n",
       "      <th>182</th>\n",
       "      <td>Neureut</td>\n",
       "      <td>2020</td>\n",
       "      <td>726</td>\n",
       "    </tr>\n",
       "  </tbody>\n",
       "</table>\n",
       "</div>"
      ],
      "text/plain": [
       "      Stadtteil  Jahr  Hunde\n",
       "_id                         \n",
       "29    Weststadt  2014    401\n",
       "30    Weststadt  2015    403\n",
       "31    Weststadt  2016    414\n",
       "32    Weststadt  2017    421\n",
       "33    Weststadt  2018    438\n",
       "34    Weststadt  2019    424\n",
       "35    Weststadt  2020    436\n",
       "51     Mühlburg  2015    403\n",
       "54     Mühlburg  2018    402\n",
       "55     Mühlburg  2019    409\n",
       "56     Mühlburg  2020    438\n",
       "57    Daxlanden  2014    508\n",
       "58    Daxlanden  2015    513\n",
       "59    Daxlanden  2016    549\n",
       "60    Daxlanden  2017    551\n",
       "61    Daxlanden  2018    557\n",
       "62    Daxlanden  2019    562\n",
       "63    Daxlanden  2020    591\n",
       "68   Knielingen  2018    412\n",
       "69   Knielingen  2019    456\n",
       "70   Knielingen  2020    467\n",
       "77   Grünwinkel  2020    433\n",
       "83     Oberreut  2019    418\n",
       "84     Oberreut  2020    418\n",
       "101     Rüppurr  2016    426\n",
       "102     Rüppurr  2017    423\n",
       "103     Rüppurr  2018    434\n",
       "104     Rüppurr  2019    429\n",
       "105     Rüppurr  2020    467\n",
       "109   Waldstadt  2017    402\n",
       "110   Waldstadt  2018    408\n",
       "111   Waldstadt  2019    421\n",
       "112   Waldstadt  2020    433\n",
       "127     Durlach  2014    926\n",
       "128     Durlach  2015    944\n",
       "129     Durlach  2016    982\n",
       "130     Durlach  2017    993\n",
       "131     Durlach  2018   1012\n",
       "132     Durlach  2019    993\n",
       "133     Durlach  2020   1034\n",
       "176     Neureut  2014    634\n",
       "177     Neureut  2015    628\n",
       "178     Neureut  2016    638\n",
       "179     Neureut  2017    627\n",
       "180     Neureut  2018    645\n",
       "181     Neureut  2019    681\n",
       "182     Neureut  2020    726"
      ]
     },
     "execution_count": 13,
     "metadata": {},
     "output_type": "execute_result"
    }
   ],
   "source": [
    "new_df[new_df[\"Hunde\"]>400]"
   ]
  },
  {
   "cell_type": "markdown",
   "id": "adf3c750-a129-46a4-a802-d4f554a3f170",
   "metadata": {},
   "source": [
    "---"
   ]
  },
  {
   "cell_type": "markdown",
   "id": "9b1afe13-1871-4b5e-8fab-7e548677e511",
   "metadata": {},
   "source": [
    "## Calculate and Visualize <a name=\"c_v\"></a>"
   ]
  },
  {
   "cell_type": "code",
   "execution_count": 14,
   "id": "d080457b-e3f1-459a-a24a-a5bc5d934e6e",
   "metadata": {},
   "outputs": [],
   "source": [
    "#irgendwas was unterschied zwischen for loop und pandas funktionen klar macht "
   ]
  },
  {
   "cell_type": "code",
   "execution_count": 15,
   "id": "3ddad531",
   "metadata": {},
   "outputs": [],
   "source": [
    "import plotly.express as px #import plotly"
   ]
  },
  {
   "cell_type": "code",
   "execution_count": 16,
   "id": "3e1add00",
   "metadata": {},
   "outputs": [
    {
     "data": {
      "application/vnd.plotly.v1+json": {
       "config": {
        "plotlyServerURL": "https://plot.ly"
       },
       "data": [
        {
         "hovertemplate": "Stadtteil=Innenstadt-Ost<br>Jahr=%{x}<br>Hunde=%{y}<extra></extra>",
         "legendgroup": "Innenstadt-Ost",
         "line": {
          "color": "#636efa",
          "dash": "solid"
         },
         "marker": {
          "symbol": "circle"
         },
         "mode": "lines",
         "name": "Innenstadt-Ost",
         "orientation": "v",
         "showlegend": true,
         "type": "scatter",
         "x": [
          2014,
          2015,
          2016,
          2017,
          2018,
          2019,
          2020
         ],
         "xaxis": "x",
         "y": [
          101,
          97,
          102,
          110,
          97,
          86,
          94
         ],
         "yaxis": "y"
        },
        {
         "hovertemplate": "Stadtteil=Innenstadt-West<br>Jahr=%{x}<br>Hunde=%{y}<extra></extra>",
         "legendgroup": "Innenstadt-West",
         "line": {
          "color": "#EF553B",
          "dash": "solid"
         },
         "marker": {
          "symbol": "circle"
         },
         "mode": "lines",
         "name": "Innenstadt-West",
         "orientation": "v",
         "showlegend": true,
         "type": "scatter",
         "x": [
          2014,
          2015,
          2016,
          2017,
          2018,
          2019,
          2020
         ],
         "xaxis": "x",
         "y": [
          131,
          141,
          132,
          132,
          124,
          131,
          147
         ],
         "yaxis": "y"
        },
        {
         "hovertemplate": "Stadtteil=Südstadt<br>Jahr=%{x}<br>Hunde=%{y}<extra></extra>",
         "legendgroup": "Südstadt",
         "line": {
          "color": "#00cc96",
          "dash": "solid"
         },
         "marker": {
          "symbol": "circle"
         },
         "mode": "lines",
         "name": "Südstadt",
         "orientation": "v",
         "showlegend": true,
         "type": "scatter",
         "x": [
          2014,
          2015,
          2016,
          2017,
          2018,
          2019,
          2020
         ],
         "xaxis": "x",
         "y": [
          295,
          317,
          326,
          321,
          318,
          324,
          358
         ],
         "yaxis": "y"
        },
        {
         "hovertemplate": "Stadtteil=Südweststadt<br>Jahr=%{x}<br>Hunde=%{y}<extra></extra>",
         "legendgroup": "Südweststadt",
         "line": {
          "color": "#ab63fa",
          "dash": "solid"
         },
         "marker": {
          "symbol": "circle"
         },
         "mode": "lines",
         "name": "Südweststadt",
         "orientation": "v",
         "showlegend": true,
         "type": "scatter",
         "x": [
          2014,
          2015,
          2016,
          2017,
          2018,
          2019,
          2020
         ],
         "xaxis": "x",
         "y": [
          259,
          274,
          292,
          289,
          298,
          324,
          337
         ],
         "yaxis": "y"
        },
        {
         "hovertemplate": "Stadtteil=Weststadt<br>Jahr=%{x}<br>Hunde=%{y}<extra></extra>",
         "legendgroup": "Weststadt",
         "line": {
          "color": "#FFA15A",
          "dash": "solid"
         },
         "marker": {
          "symbol": "circle"
         },
         "mode": "lines",
         "name": "Weststadt",
         "orientation": "v",
         "showlegend": true,
         "type": "scatter",
         "x": [
          2014,
          2015,
          2016,
          2017,
          2018,
          2019,
          2020
         ],
         "xaxis": "x",
         "y": [
          401,
          403,
          414,
          421,
          438,
          424,
          436
         ],
         "yaxis": "y"
        },
        {
         "hovertemplate": "Stadtteil=Nordweststadt<br>Jahr=%{x}<br>Hunde=%{y}<extra></extra>",
         "legendgroup": "Nordweststadt",
         "line": {
          "color": "#19d3f3",
          "dash": "solid"
         },
         "marker": {
          "symbol": "circle"
         },
         "mode": "lines",
         "name": "Nordweststadt",
         "orientation": "v",
         "showlegend": true,
         "type": "scatter",
         "x": [
          2014,
          2015,
          2016,
          2017,
          2018,
          2019,
          2020
         ],
         "xaxis": "x",
         "y": [
          313,
          331,
          341,
          349,
          343,
          352,
          368
         ],
         "yaxis": "y"
        },
        {
         "hovertemplate": "Stadtteil=Oststadt<br>Jahr=%{x}<br>Hunde=%{y}<extra></extra>",
         "legendgroup": "Oststadt",
         "line": {
          "color": "#FF6692",
          "dash": "solid"
         },
         "marker": {
          "symbol": "circle"
         },
         "mode": "lines",
         "name": "Oststadt",
         "orientation": "v",
         "showlegend": true,
         "type": "scatter",
         "x": [
          2014,
          2015,
          2016,
          2017,
          2018,
          2019,
          2020
         ],
         "xaxis": "x",
         "y": [
          252,
          254,
          256,
          255,
          276,
          290,
          322
         ],
         "yaxis": "y"
        },
        {
         "hovertemplate": "Stadtteil=Mühlburg<br>Jahr=%{x}<br>Hunde=%{y}<extra></extra>",
         "legendgroup": "Mühlburg",
         "line": {
          "color": "#B6E880",
          "dash": "solid"
         },
         "marker": {
          "symbol": "circle"
         },
         "mode": "lines",
         "name": "Mühlburg",
         "orientation": "v",
         "showlegend": true,
         "type": "scatter",
         "x": [
          2014,
          2015,
          2016,
          2017,
          2018,
          2019,
          2020
         ],
         "xaxis": "x",
         "y": [
          356,
          403,
          389,
          394,
          402,
          409,
          438
         ],
         "yaxis": "y"
        },
        {
         "hovertemplate": "Stadtteil=Daxlanden<br>Jahr=%{x}<br>Hunde=%{y}<extra></extra>",
         "legendgroup": "Daxlanden",
         "line": {
          "color": "#FF97FF",
          "dash": "solid"
         },
         "marker": {
          "symbol": "circle"
         },
         "mode": "lines",
         "name": "Daxlanden",
         "orientation": "v",
         "showlegend": true,
         "type": "scatter",
         "x": [
          2014,
          2015,
          2016,
          2017,
          2018,
          2019,
          2020
         ],
         "xaxis": "x",
         "y": [
          508,
          513,
          549,
          551,
          557,
          562,
          591
         ],
         "yaxis": "y"
        },
        {
         "hovertemplate": "Stadtteil=Knielingen<br>Jahr=%{x}<br>Hunde=%{y}<extra></extra>",
         "legendgroup": "Knielingen",
         "line": {
          "color": "#FECB52",
          "dash": "solid"
         },
         "marker": {
          "symbol": "circle"
         },
         "mode": "lines",
         "name": "Knielingen",
         "orientation": "v",
         "showlegend": true,
         "type": "scatter",
         "x": [
          2014,
          2015,
          2016,
          2017,
          2018,
          2019,
          2020
         ],
         "xaxis": "x",
         "y": [
          347,
          347,
          373,
          387,
          412,
          456,
          467
         ],
         "yaxis": "y"
        },
        {
         "hovertemplate": "Stadtteil=Grünwinkel<br>Jahr=%{x}<br>Hunde=%{y}<extra></extra>",
         "legendgroup": "Grünwinkel",
         "line": {
          "color": "#636efa",
          "dash": "solid"
         },
         "marker": {
          "symbol": "circle"
         },
         "mode": "lines",
         "name": "Grünwinkel",
         "orientation": "v",
         "showlegend": true,
         "type": "scatter",
         "x": [
          2014,
          2015,
          2016,
          2017,
          2018,
          2019,
          2020
         ],
         "xaxis": "x",
         "y": [
          388,
          382,
          397,
          395,
          391,
          399,
          433
         ],
         "yaxis": "y"
        },
        {
         "hovertemplate": "Stadtteil=Oberreut<br>Jahr=%{x}<br>Hunde=%{y}<extra></extra>",
         "legendgroup": "Oberreut",
         "line": {
          "color": "#EF553B",
          "dash": "solid"
         },
         "marker": {
          "symbol": "circle"
         },
         "mode": "lines",
         "name": "Oberreut",
         "orientation": "v",
         "showlegend": true,
         "type": "scatter",
         "x": [
          2014,
          2015,
          2016,
          2017,
          2018,
          2019,
          2020
         ],
         "xaxis": "x",
         "y": [
          315,
          333,
          356,
          366,
          387,
          418,
          418
         ],
         "yaxis": "y"
        },
        {
         "hovertemplate": "Stadtteil=Beiertheim-Bulach<br>Jahr=%{x}<br>Hunde=%{y}<extra></extra>",
         "legendgroup": "Beiertheim-Bulach",
         "line": {
          "color": "#00cc96",
          "dash": "solid"
         },
         "marker": {
          "symbol": "circle"
         },
         "mode": "lines",
         "name": "Beiertheim-Bulach",
         "orientation": "v",
         "showlegend": true,
         "type": "scatter",
         "x": [
          2014,
          2015,
          2016,
          2017,
          2018,
          2019,
          2020
         ],
         "xaxis": "x",
         "y": [
          186,
          181,
          190,
          193,
          174,
          179,
          192
         ],
         "yaxis": "y"
        },
        {
         "hovertemplate": "Stadtteil=Weiherfeld-Dammerstock<br>Jahr=%{x}<br>Hunde=%{y}<extra></extra>",
         "legendgroup": "Weiherfeld-Dammerstock",
         "line": {
          "color": "#ab63fa",
          "dash": "solid"
         },
         "marker": {
          "symbol": "circle"
         },
         "mode": "lines",
         "name": "Weiherfeld-Dammerstock",
         "orientation": "v",
         "showlegend": true,
         "type": "scatter",
         "x": [
          2014,
          2015,
          2016,
          2017,
          2018,
          2019,
          2020
         ],
         "xaxis": "x",
         "y": [
          177,
          180,
          190,
          188,
          193,
          194,
          182
         ],
         "yaxis": "y"
        },
        {
         "hovertemplate": "Stadtteil=Rüppurr<br>Jahr=%{x}<br>Hunde=%{y}<extra></extra>",
         "legendgroup": "Rüppurr",
         "line": {
          "color": "#FFA15A",
          "dash": "solid"
         },
         "marker": {
          "symbol": "circle"
         },
         "mode": "lines",
         "name": "Rüppurr",
         "orientation": "v",
         "showlegend": true,
         "type": "scatter",
         "x": [
          2014,
          2015,
          2016,
          2017,
          2018,
          2019,
          2020
         ],
         "xaxis": "x",
         "y": [
          372,
          393,
          426,
          423,
          434,
          429,
          467
         ],
         "yaxis": "y"
        },
        {
         "hovertemplate": "Stadtteil=Waldstadt<br>Jahr=%{x}<br>Hunde=%{y}<extra></extra>",
         "legendgroup": "Waldstadt",
         "line": {
          "color": "#19d3f3",
          "dash": "solid"
         },
         "marker": {
          "symbol": "circle"
         },
         "mode": "lines",
         "name": "Waldstadt",
         "orientation": "v",
         "showlegend": true,
         "type": "scatter",
         "x": [
          2014,
          2015,
          2016,
          2017,
          2018,
          2019,
          2020
         ],
         "xaxis": "x",
         "y": [
          362,
          369,
          394,
          402,
          408,
          421,
          433
         ],
         "yaxis": "y"
        },
        {
         "hovertemplate": "Stadtteil=Rintheim<br>Jahr=%{x}<br>Hunde=%{y}<extra></extra>",
         "legendgroup": "Rintheim",
         "line": {
          "color": "#FF6692",
          "dash": "solid"
         },
         "marker": {
          "symbol": "circle"
         },
         "mode": "lines",
         "name": "Rintheim",
         "orientation": "v",
         "showlegend": true,
         "type": "scatter",
         "x": [
          2014,
          2015,
          2016,
          2017,
          2018,
          2019,
          2020
         ],
         "xaxis": "x",
         "y": [
          160,
          158,
          168,
          172,
          178,
          187,
          197
         ],
         "yaxis": "y"
        },
        {
         "hovertemplate": "Stadtteil=Hagsfeld<br>Jahr=%{x}<br>Hunde=%{y}<extra></extra>",
         "legendgroup": "Hagsfeld",
         "line": {
          "color": "#B6E880",
          "dash": "solid"
         },
         "marker": {
          "symbol": "circle"
         },
         "mode": "lines",
         "name": "Hagsfeld",
         "orientation": "v",
         "showlegend": true,
         "type": "scatter",
         "x": [
          2014,
          2015,
          2016,
          2017,
          2018,
          2019,
          2020
         ],
         "xaxis": "x",
         "y": [
          198,
          205,
          195,
          201,
          216,
          226,
          242
         ],
         "yaxis": "y"
        },
        {
         "hovertemplate": "Stadtteil=Durlach<br>Jahr=%{x}<br>Hunde=%{y}<extra></extra>",
         "legendgroup": "Durlach",
         "line": {
          "color": "#FF97FF",
          "dash": "solid"
         },
         "marker": {
          "symbol": "circle"
         },
         "mode": "lines",
         "name": "Durlach",
         "orientation": "v",
         "showlegend": true,
         "type": "scatter",
         "x": [
          2014,
          2015,
          2016,
          2017,
          2018,
          2019,
          2020
         ],
         "xaxis": "x",
         "y": [
          926,
          944,
          982,
          993,
          1012,
          993,
          1034
         ],
         "yaxis": "y"
        },
        {
         "hovertemplate": "Stadtteil=Grötzingen<br>Jahr=%{x}<br>Hunde=%{y}<extra></extra>",
         "legendgroup": "Grötzingen",
         "line": {
          "color": "#FECB52",
          "dash": "solid"
         },
         "marker": {
          "symbol": "circle"
         },
         "mode": "lines",
         "name": "Grötzingen",
         "orientation": "v",
         "showlegend": true,
         "type": "scatter",
         "x": [
          2014,
          2015,
          2016,
          2017,
          2018,
          2019,
          2020
         ],
         "xaxis": "x",
         "y": [
          284,
          287,
          300,
          298,
          296,
          328,
          349
         ],
         "yaxis": "y"
        },
        {
         "hovertemplate": "Stadtteil=Stupferich<br>Jahr=%{x}<br>Hunde=%{y}<extra></extra>",
         "legendgroup": "Stupferich",
         "line": {
          "color": "#636efa",
          "dash": "solid"
         },
         "marker": {
          "symbol": "circle"
         },
         "mode": "lines",
         "name": "Stupferich",
         "orientation": "v",
         "showlegend": true,
         "type": "scatter",
         "x": [
          2014,
          2015,
          2016,
          2017,
          2018,
          2019,
          2020
         ],
         "xaxis": "x",
         "y": [
          119,
          123,
          128,
          132,
          139,
          144,
          152
         ],
         "yaxis": "y"
        },
        {
         "hovertemplate": "Stadtteil=Hohenwettersbach<br>Jahr=%{x}<br>Hunde=%{y}<extra></extra>",
         "legendgroup": "Hohenwettersbach",
         "line": {
          "color": "#EF553B",
          "dash": "solid"
         },
         "marker": {
          "symbol": "circle"
         },
         "mode": "lines",
         "name": "Hohenwettersbach",
         "orientation": "v",
         "showlegend": true,
         "type": "scatter",
         "x": [
          2014,
          2015,
          2016,
          2017,
          2018,
          2019,
          2020
         ],
         "xaxis": "x",
         "y": [
          129,
          131,
          141,
          138,
          144,
          153,
          166
         ],
         "yaxis": "y"
        },
        {
         "hovertemplate": "Stadtteil=Wolfartsweier<br>Jahr=%{x}<br>Hunde=%{y}<extra></extra>",
         "legendgroup": "Wolfartsweier",
         "line": {
          "color": "#00cc96",
          "dash": "solid"
         },
         "marker": {
          "symbol": "circle"
         },
         "mode": "lines",
         "name": "Wolfartsweier",
         "orientation": "v",
         "showlegend": true,
         "type": "scatter",
         "x": [
          2014,
          2015,
          2016,
          2017,
          2018,
          2019,
          2020
         ],
         "xaxis": "x",
         "y": [
          131,
          126,
          130,
          129,
          120,
          119,
          130
         ],
         "yaxis": "y"
        },
        {
         "hovertemplate": "Stadtteil=Grünwettersbach<br>Jahr=%{x}<br>Hunde=%{y}<extra></extra>",
         "legendgroup": "Grünwettersbach",
         "line": {
          "color": "#ab63fa",
          "dash": "solid"
         },
         "marker": {
          "symbol": "circle"
         },
         "mode": "lines",
         "name": "Grünwettersbach",
         "orientation": "v",
         "showlegend": true,
         "type": "scatter",
         "x": [
          2014,
          2015,
          2016,
          2017,
          2018,
          2019,
          2020
         ],
         "xaxis": "x",
         "y": [
          161,
          174,
          177,
          182,
          187,
          197,
          205
         ],
         "yaxis": "y"
        },
        {
         "hovertemplate": "Stadtteil=Palmbach<br>Jahr=%{x}<br>Hunde=%{y}<extra></extra>",
         "legendgroup": "Palmbach",
         "line": {
          "color": "#FFA15A",
          "dash": "solid"
         },
         "marker": {
          "symbol": "circle"
         },
         "mode": "lines",
         "name": "Palmbach",
         "orientation": "v",
         "showlegend": true,
         "type": "scatter",
         "x": [
          2014,
          2015,
          2016,
          2017,
          2018,
          2019,
          2020
         ],
         "xaxis": "x",
         "y": [
          82,
          94,
          101,
          96,
          101,
          104,
          113
         ],
         "yaxis": "y"
        },
        {
         "hovertemplate": "Stadtteil=Neureut<br>Jahr=%{x}<br>Hunde=%{y}<extra></extra>",
         "legendgroup": "Neureut",
         "line": {
          "color": "#19d3f3",
          "dash": "solid"
         },
         "marker": {
          "symbol": "circle"
         },
         "mode": "lines",
         "name": "Neureut",
         "orientation": "v",
         "showlegend": true,
         "type": "scatter",
         "x": [
          2014,
          2015,
          2016,
          2017,
          2018,
          2019,
          2020
         ],
         "xaxis": "x",
         "y": [
          634,
          628,
          638,
          627,
          645,
          681,
          726
         ],
         "yaxis": "y"
        },
        {
         "hovertemplate": "Stadtteil=Nordstadt<br>Jahr=%{x}<br>Hunde=%{y}<extra></extra>",
         "legendgroup": "Nordstadt",
         "line": {
          "color": "#FF6692",
          "dash": "solid"
         },
         "marker": {
          "symbol": "circle"
         },
         "mode": "lines",
         "name": "Nordstadt",
         "orientation": "v",
         "showlegend": true,
         "type": "scatter",
         "x": [
          2014,
          2015,
          2016,
          2017,
          2018,
          2019,
          2020
         ],
         "xaxis": "x",
         "y": [
          274,
          274,
          278,
          290,
          291,
          293,
          305
         ],
         "yaxis": "y"
        }
       ],
       "layout": {
        "legend": {
         "title": {
          "text": "Stadtteil"
         },
         "tracegroupgap": 0
        },
        "template": {
         "data": {
          "bar": [
           {
            "error_x": {
             "color": "#2a3f5f"
            },
            "error_y": {
             "color": "#2a3f5f"
            },
            "marker": {
             "line": {
              "color": "#E5ECF6",
              "width": 0.5
             },
             "pattern": {
              "fillmode": "overlay",
              "size": 10,
              "solidity": 0.2
             }
            },
            "type": "bar"
           }
          ],
          "barpolar": [
           {
            "marker": {
             "line": {
              "color": "#E5ECF6",
              "width": 0.5
             },
             "pattern": {
              "fillmode": "overlay",
              "size": 10,
              "solidity": 0.2
             }
            },
            "type": "barpolar"
           }
          ],
          "carpet": [
           {
            "aaxis": {
             "endlinecolor": "#2a3f5f",
             "gridcolor": "white",
             "linecolor": "white",
             "minorgridcolor": "white",
             "startlinecolor": "#2a3f5f"
            },
            "baxis": {
             "endlinecolor": "#2a3f5f",
             "gridcolor": "white",
             "linecolor": "white",
             "minorgridcolor": "white",
             "startlinecolor": "#2a3f5f"
            },
            "type": "carpet"
           }
          ],
          "choropleth": [
           {
            "colorbar": {
             "outlinewidth": 0,
             "ticks": ""
            },
            "type": "choropleth"
           }
          ],
          "contour": [
           {
            "colorbar": {
             "outlinewidth": 0,
             "ticks": ""
            },
            "colorscale": [
             [
              0,
              "#0d0887"
             ],
             [
              0.1111111111111111,
              "#46039f"
             ],
             [
              0.2222222222222222,
              "#7201a8"
             ],
             [
              0.3333333333333333,
              "#9c179e"
             ],
             [
              0.4444444444444444,
              "#bd3786"
             ],
             [
              0.5555555555555556,
              "#d8576b"
             ],
             [
              0.6666666666666666,
              "#ed7953"
             ],
             [
              0.7777777777777778,
              "#fb9f3a"
             ],
             [
              0.8888888888888888,
              "#fdca26"
             ],
             [
              1,
              "#f0f921"
             ]
            ],
            "type": "contour"
           }
          ],
          "contourcarpet": [
           {
            "colorbar": {
             "outlinewidth": 0,
             "ticks": ""
            },
            "type": "contourcarpet"
           }
          ],
          "heatmap": [
           {
            "colorbar": {
             "outlinewidth": 0,
             "ticks": ""
            },
            "colorscale": [
             [
              0,
              "#0d0887"
             ],
             [
              0.1111111111111111,
              "#46039f"
             ],
             [
              0.2222222222222222,
              "#7201a8"
             ],
             [
              0.3333333333333333,
              "#9c179e"
             ],
             [
              0.4444444444444444,
              "#bd3786"
             ],
             [
              0.5555555555555556,
              "#d8576b"
             ],
             [
              0.6666666666666666,
              "#ed7953"
             ],
             [
              0.7777777777777778,
              "#fb9f3a"
             ],
             [
              0.8888888888888888,
              "#fdca26"
             ],
             [
              1,
              "#f0f921"
             ]
            ],
            "type": "heatmap"
           }
          ],
          "heatmapgl": [
           {
            "colorbar": {
             "outlinewidth": 0,
             "ticks": ""
            },
            "colorscale": [
             [
              0,
              "#0d0887"
             ],
             [
              0.1111111111111111,
              "#46039f"
             ],
             [
              0.2222222222222222,
              "#7201a8"
             ],
             [
              0.3333333333333333,
              "#9c179e"
             ],
             [
              0.4444444444444444,
              "#bd3786"
             ],
             [
              0.5555555555555556,
              "#d8576b"
             ],
             [
              0.6666666666666666,
              "#ed7953"
             ],
             [
              0.7777777777777778,
              "#fb9f3a"
             ],
             [
              0.8888888888888888,
              "#fdca26"
             ],
             [
              1,
              "#f0f921"
             ]
            ],
            "type": "heatmapgl"
           }
          ],
          "histogram": [
           {
            "marker": {
             "pattern": {
              "fillmode": "overlay",
              "size": 10,
              "solidity": 0.2
             }
            },
            "type": "histogram"
           }
          ],
          "histogram2d": [
           {
            "colorbar": {
             "outlinewidth": 0,
             "ticks": ""
            },
            "colorscale": [
             [
              0,
              "#0d0887"
             ],
             [
              0.1111111111111111,
              "#46039f"
             ],
             [
              0.2222222222222222,
              "#7201a8"
             ],
             [
              0.3333333333333333,
              "#9c179e"
             ],
             [
              0.4444444444444444,
              "#bd3786"
             ],
             [
              0.5555555555555556,
              "#d8576b"
             ],
             [
              0.6666666666666666,
              "#ed7953"
             ],
             [
              0.7777777777777778,
              "#fb9f3a"
             ],
             [
              0.8888888888888888,
              "#fdca26"
             ],
             [
              1,
              "#f0f921"
             ]
            ],
            "type": "histogram2d"
           }
          ],
          "histogram2dcontour": [
           {
            "colorbar": {
             "outlinewidth": 0,
             "ticks": ""
            },
            "colorscale": [
             [
              0,
              "#0d0887"
             ],
             [
              0.1111111111111111,
              "#46039f"
             ],
             [
              0.2222222222222222,
              "#7201a8"
             ],
             [
              0.3333333333333333,
              "#9c179e"
             ],
             [
              0.4444444444444444,
              "#bd3786"
             ],
             [
              0.5555555555555556,
              "#d8576b"
             ],
             [
              0.6666666666666666,
              "#ed7953"
             ],
             [
              0.7777777777777778,
              "#fb9f3a"
             ],
             [
              0.8888888888888888,
              "#fdca26"
             ],
             [
              1,
              "#f0f921"
             ]
            ],
            "type": "histogram2dcontour"
           }
          ],
          "mesh3d": [
           {
            "colorbar": {
             "outlinewidth": 0,
             "ticks": ""
            },
            "type": "mesh3d"
           }
          ],
          "parcoords": [
           {
            "line": {
             "colorbar": {
              "outlinewidth": 0,
              "ticks": ""
             }
            },
            "type": "parcoords"
           }
          ],
          "pie": [
           {
            "automargin": true,
            "type": "pie"
           }
          ],
          "scatter": [
           {
            "fillpattern": {
             "fillmode": "overlay",
             "size": 10,
             "solidity": 0.2
            },
            "type": "scatter"
           }
          ],
          "scatter3d": [
           {
            "line": {
             "colorbar": {
              "outlinewidth": 0,
              "ticks": ""
             }
            },
            "marker": {
             "colorbar": {
              "outlinewidth": 0,
              "ticks": ""
             }
            },
            "type": "scatter3d"
           }
          ],
          "scattercarpet": [
           {
            "marker": {
             "colorbar": {
              "outlinewidth": 0,
              "ticks": ""
             }
            },
            "type": "scattercarpet"
           }
          ],
          "scattergeo": [
           {
            "marker": {
             "colorbar": {
              "outlinewidth": 0,
              "ticks": ""
             }
            },
            "type": "scattergeo"
           }
          ],
          "scattergl": [
           {
            "marker": {
             "colorbar": {
              "outlinewidth": 0,
              "ticks": ""
             }
            },
            "type": "scattergl"
           }
          ],
          "scattermapbox": [
           {
            "marker": {
             "colorbar": {
              "outlinewidth": 0,
              "ticks": ""
             }
            },
            "type": "scattermapbox"
           }
          ],
          "scatterpolar": [
           {
            "marker": {
             "colorbar": {
              "outlinewidth": 0,
              "ticks": ""
             }
            },
            "type": "scatterpolar"
           }
          ],
          "scatterpolargl": [
           {
            "marker": {
             "colorbar": {
              "outlinewidth": 0,
              "ticks": ""
             }
            },
            "type": "scatterpolargl"
           }
          ],
          "scatterternary": [
           {
            "marker": {
             "colorbar": {
              "outlinewidth": 0,
              "ticks": ""
             }
            },
            "type": "scatterternary"
           }
          ],
          "surface": [
           {
            "colorbar": {
             "outlinewidth": 0,
             "ticks": ""
            },
            "colorscale": [
             [
              0,
              "#0d0887"
             ],
             [
              0.1111111111111111,
              "#46039f"
             ],
             [
              0.2222222222222222,
              "#7201a8"
             ],
             [
              0.3333333333333333,
              "#9c179e"
             ],
             [
              0.4444444444444444,
              "#bd3786"
             ],
             [
              0.5555555555555556,
              "#d8576b"
             ],
             [
              0.6666666666666666,
              "#ed7953"
             ],
             [
              0.7777777777777778,
              "#fb9f3a"
             ],
             [
              0.8888888888888888,
              "#fdca26"
             ],
             [
              1,
              "#f0f921"
             ]
            ],
            "type": "surface"
           }
          ],
          "table": [
           {
            "cells": {
             "fill": {
              "color": "#EBF0F8"
             },
             "line": {
              "color": "white"
             }
            },
            "header": {
             "fill": {
              "color": "#C8D4E3"
             },
             "line": {
              "color": "white"
             }
            },
            "type": "table"
           }
          ]
         },
         "layout": {
          "annotationdefaults": {
           "arrowcolor": "#2a3f5f",
           "arrowhead": 0,
           "arrowwidth": 1
          },
          "autotypenumbers": "strict",
          "coloraxis": {
           "colorbar": {
            "outlinewidth": 0,
            "ticks": ""
           }
          },
          "colorscale": {
           "diverging": [
            [
             0,
             "#8e0152"
            ],
            [
             0.1,
             "#c51b7d"
            ],
            [
             0.2,
             "#de77ae"
            ],
            [
             0.3,
             "#f1b6da"
            ],
            [
             0.4,
             "#fde0ef"
            ],
            [
             0.5,
             "#f7f7f7"
            ],
            [
             0.6,
             "#e6f5d0"
            ],
            [
             0.7,
             "#b8e186"
            ],
            [
             0.8,
             "#7fbc41"
            ],
            [
             0.9,
             "#4d9221"
            ],
            [
             1,
             "#276419"
            ]
           ],
           "sequential": [
            [
             0,
             "#0d0887"
            ],
            [
             0.1111111111111111,
             "#46039f"
            ],
            [
             0.2222222222222222,
             "#7201a8"
            ],
            [
             0.3333333333333333,
             "#9c179e"
            ],
            [
             0.4444444444444444,
             "#bd3786"
            ],
            [
             0.5555555555555556,
             "#d8576b"
            ],
            [
             0.6666666666666666,
             "#ed7953"
            ],
            [
             0.7777777777777778,
             "#fb9f3a"
            ],
            [
             0.8888888888888888,
             "#fdca26"
            ],
            [
             1,
             "#f0f921"
            ]
           ],
           "sequentialminus": [
            [
             0,
             "#0d0887"
            ],
            [
             0.1111111111111111,
             "#46039f"
            ],
            [
             0.2222222222222222,
             "#7201a8"
            ],
            [
             0.3333333333333333,
             "#9c179e"
            ],
            [
             0.4444444444444444,
             "#bd3786"
            ],
            [
             0.5555555555555556,
             "#d8576b"
            ],
            [
             0.6666666666666666,
             "#ed7953"
            ],
            [
             0.7777777777777778,
             "#fb9f3a"
            ],
            [
             0.8888888888888888,
             "#fdca26"
            ],
            [
             1,
             "#f0f921"
            ]
           ]
          },
          "colorway": [
           "#636efa",
           "#EF553B",
           "#00cc96",
           "#ab63fa",
           "#FFA15A",
           "#19d3f3",
           "#FF6692",
           "#B6E880",
           "#FF97FF",
           "#FECB52"
          ],
          "font": {
           "color": "#2a3f5f"
          },
          "geo": {
           "bgcolor": "white",
           "lakecolor": "white",
           "landcolor": "#E5ECF6",
           "showlakes": true,
           "showland": true,
           "subunitcolor": "white"
          },
          "hoverlabel": {
           "align": "left"
          },
          "hovermode": "closest",
          "mapbox": {
           "style": "light"
          },
          "paper_bgcolor": "white",
          "plot_bgcolor": "#E5ECF6",
          "polar": {
           "angularaxis": {
            "gridcolor": "white",
            "linecolor": "white",
            "ticks": ""
           },
           "bgcolor": "#E5ECF6",
           "radialaxis": {
            "gridcolor": "white",
            "linecolor": "white",
            "ticks": ""
           }
          },
          "scene": {
           "xaxis": {
            "backgroundcolor": "#E5ECF6",
            "gridcolor": "white",
            "gridwidth": 2,
            "linecolor": "white",
            "showbackground": true,
            "ticks": "",
            "zerolinecolor": "white"
           },
           "yaxis": {
            "backgroundcolor": "#E5ECF6",
            "gridcolor": "white",
            "gridwidth": 2,
            "linecolor": "white",
            "showbackground": true,
            "ticks": "",
            "zerolinecolor": "white"
           },
           "zaxis": {
            "backgroundcolor": "#E5ECF6",
            "gridcolor": "white",
            "gridwidth": 2,
            "linecolor": "white",
            "showbackground": true,
            "ticks": "",
            "zerolinecolor": "white"
           }
          },
          "shapedefaults": {
           "line": {
            "color": "#2a3f5f"
           }
          },
          "ternary": {
           "aaxis": {
            "gridcolor": "white",
            "linecolor": "white",
            "ticks": ""
           },
           "baxis": {
            "gridcolor": "white",
            "linecolor": "white",
            "ticks": ""
           },
           "bgcolor": "#E5ECF6",
           "caxis": {
            "gridcolor": "white",
            "linecolor": "white",
            "ticks": ""
           }
          },
          "title": {
           "x": 0.05
          },
          "xaxis": {
           "automargin": true,
           "gridcolor": "white",
           "linecolor": "white",
           "ticks": "",
           "title": {
            "standoff": 15
           },
           "zerolinecolor": "white",
           "zerolinewidth": 2
          },
          "yaxis": {
           "automargin": true,
           "gridcolor": "white",
           "linecolor": "white",
           "ticks": "",
           "title": {
            "standoff": 15
           },
           "zerolinecolor": "white",
           "zerolinewidth": 2
          }
         }
        },
        "title": {
         "text": "Entwicklung der Anzahl der Registrieren Hunde pro Jahr"
        },
        "xaxis": {
         "anchor": "y",
         "domain": [
          0,
          1
         ],
         "title": {
          "text": "Jahr"
         }
        },
        "yaxis": {
         "anchor": "x",
         "domain": [
          0,
          1
         ],
         "title": {
          "text": "Hunde"
         }
        }
       }
      }
     },
     "metadata": {},
     "output_type": "display_data"
    }
   ],
   "source": [
    "px.line(new_df,x=\"Jahr\",y=\"Hunde\",color=\"Stadtteil\",title=\"Entwicklung der Anzahl der Registrieren Hunde pro Jahr\")"
   ]
  },
  {
   "cell_type": "code",
   "execution_count": 17,
   "id": "55d61f21",
   "metadata": {},
   "outputs": [
    {
     "data": {
      "application/vnd.plotly.v1+json": {
       "config": {
        "plotlyServerURL": "https://plot.ly"
       },
       "data": [
        {
         "hovertemplate": "Jahr=%{x}<br>Hunde=%{y}<extra></extra>",
         "legendgroup": "",
         "line": {
          "color": "#636efa",
          "dash": "solid"
         },
         "marker": {
          "symbol": "circle"
         },
         "mode": "lines",
         "name": "",
         "orientation": "v",
         "showlegend": false,
         "type": "scatter",
         "x": [
          2014,
          2015,
          2016,
          2017,
          2018,
          2019,
          2020
         ],
         "xaxis": "x",
         "y": [
          7861,
          8062,
          8365,
          8434,
          8581,
          8823,
          9302
         ],
         "yaxis": "y"
        }
       ],
       "layout": {
        "legend": {
         "tracegroupgap": 0
        },
        "template": {
         "data": {
          "bar": [
           {
            "error_x": {
             "color": "#2a3f5f"
            },
            "error_y": {
             "color": "#2a3f5f"
            },
            "marker": {
             "line": {
              "color": "#E5ECF6",
              "width": 0.5
             },
             "pattern": {
              "fillmode": "overlay",
              "size": 10,
              "solidity": 0.2
             }
            },
            "type": "bar"
           }
          ],
          "barpolar": [
           {
            "marker": {
             "line": {
              "color": "#E5ECF6",
              "width": 0.5
             },
             "pattern": {
              "fillmode": "overlay",
              "size": 10,
              "solidity": 0.2
             }
            },
            "type": "barpolar"
           }
          ],
          "carpet": [
           {
            "aaxis": {
             "endlinecolor": "#2a3f5f",
             "gridcolor": "white",
             "linecolor": "white",
             "minorgridcolor": "white",
             "startlinecolor": "#2a3f5f"
            },
            "baxis": {
             "endlinecolor": "#2a3f5f",
             "gridcolor": "white",
             "linecolor": "white",
             "minorgridcolor": "white",
             "startlinecolor": "#2a3f5f"
            },
            "type": "carpet"
           }
          ],
          "choropleth": [
           {
            "colorbar": {
             "outlinewidth": 0,
             "ticks": ""
            },
            "type": "choropleth"
           }
          ],
          "contour": [
           {
            "colorbar": {
             "outlinewidth": 0,
             "ticks": ""
            },
            "colorscale": [
             [
              0,
              "#0d0887"
             ],
             [
              0.1111111111111111,
              "#46039f"
             ],
             [
              0.2222222222222222,
              "#7201a8"
             ],
             [
              0.3333333333333333,
              "#9c179e"
             ],
             [
              0.4444444444444444,
              "#bd3786"
             ],
             [
              0.5555555555555556,
              "#d8576b"
             ],
             [
              0.6666666666666666,
              "#ed7953"
             ],
             [
              0.7777777777777778,
              "#fb9f3a"
             ],
             [
              0.8888888888888888,
              "#fdca26"
             ],
             [
              1,
              "#f0f921"
             ]
            ],
            "type": "contour"
           }
          ],
          "contourcarpet": [
           {
            "colorbar": {
             "outlinewidth": 0,
             "ticks": ""
            },
            "type": "contourcarpet"
           }
          ],
          "heatmap": [
           {
            "colorbar": {
             "outlinewidth": 0,
             "ticks": ""
            },
            "colorscale": [
             [
              0,
              "#0d0887"
             ],
             [
              0.1111111111111111,
              "#46039f"
             ],
             [
              0.2222222222222222,
              "#7201a8"
             ],
             [
              0.3333333333333333,
              "#9c179e"
             ],
             [
              0.4444444444444444,
              "#bd3786"
             ],
             [
              0.5555555555555556,
              "#d8576b"
             ],
             [
              0.6666666666666666,
              "#ed7953"
             ],
             [
              0.7777777777777778,
              "#fb9f3a"
             ],
             [
              0.8888888888888888,
              "#fdca26"
             ],
             [
              1,
              "#f0f921"
             ]
            ],
            "type": "heatmap"
           }
          ],
          "heatmapgl": [
           {
            "colorbar": {
             "outlinewidth": 0,
             "ticks": ""
            },
            "colorscale": [
             [
              0,
              "#0d0887"
             ],
             [
              0.1111111111111111,
              "#46039f"
             ],
             [
              0.2222222222222222,
              "#7201a8"
             ],
             [
              0.3333333333333333,
              "#9c179e"
             ],
             [
              0.4444444444444444,
              "#bd3786"
             ],
             [
              0.5555555555555556,
              "#d8576b"
             ],
             [
              0.6666666666666666,
              "#ed7953"
             ],
             [
              0.7777777777777778,
              "#fb9f3a"
             ],
             [
              0.8888888888888888,
              "#fdca26"
             ],
             [
              1,
              "#f0f921"
             ]
            ],
            "type": "heatmapgl"
           }
          ],
          "histogram": [
           {
            "marker": {
             "pattern": {
              "fillmode": "overlay",
              "size": 10,
              "solidity": 0.2
             }
            },
            "type": "histogram"
           }
          ],
          "histogram2d": [
           {
            "colorbar": {
             "outlinewidth": 0,
             "ticks": ""
            },
            "colorscale": [
             [
              0,
              "#0d0887"
             ],
             [
              0.1111111111111111,
              "#46039f"
             ],
             [
              0.2222222222222222,
              "#7201a8"
             ],
             [
              0.3333333333333333,
              "#9c179e"
             ],
             [
              0.4444444444444444,
              "#bd3786"
             ],
             [
              0.5555555555555556,
              "#d8576b"
             ],
             [
              0.6666666666666666,
              "#ed7953"
             ],
             [
              0.7777777777777778,
              "#fb9f3a"
             ],
             [
              0.8888888888888888,
              "#fdca26"
             ],
             [
              1,
              "#f0f921"
             ]
            ],
            "type": "histogram2d"
           }
          ],
          "histogram2dcontour": [
           {
            "colorbar": {
             "outlinewidth": 0,
             "ticks": ""
            },
            "colorscale": [
             [
              0,
              "#0d0887"
             ],
             [
              0.1111111111111111,
              "#46039f"
             ],
             [
              0.2222222222222222,
              "#7201a8"
             ],
             [
              0.3333333333333333,
              "#9c179e"
             ],
             [
              0.4444444444444444,
              "#bd3786"
             ],
             [
              0.5555555555555556,
              "#d8576b"
             ],
             [
              0.6666666666666666,
              "#ed7953"
             ],
             [
              0.7777777777777778,
              "#fb9f3a"
             ],
             [
              0.8888888888888888,
              "#fdca26"
             ],
             [
              1,
              "#f0f921"
             ]
            ],
            "type": "histogram2dcontour"
           }
          ],
          "mesh3d": [
           {
            "colorbar": {
             "outlinewidth": 0,
             "ticks": ""
            },
            "type": "mesh3d"
           }
          ],
          "parcoords": [
           {
            "line": {
             "colorbar": {
              "outlinewidth": 0,
              "ticks": ""
             }
            },
            "type": "parcoords"
           }
          ],
          "pie": [
           {
            "automargin": true,
            "type": "pie"
           }
          ],
          "scatter": [
           {
            "fillpattern": {
             "fillmode": "overlay",
             "size": 10,
             "solidity": 0.2
            },
            "type": "scatter"
           }
          ],
          "scatter3d": [
           {
            "line": {
             "colorbar": {
              "outlinewidth": 0,
              "ticks": ""
             }
            },
            "marker": {
             "colorbar": {
              "outlinewidth": 0,
              "ticks": ""
             }
            },
            "type": "scatter3d"
           }
          ],
          "scattercarpet": [
           {
            "marker": {
             "colorbar": {
              "outlinewidth": 0,
              "ticks": ""
             }
            },
            "type": "scattercarpet"
           }
          ],
          "scattergeo": [
           {
            "marker": {
             "colorbar": {
              "outlinewidth": 0,
              "ticks": ""
             }
            },
            "type": "scattergeo"
           }
          ],
          "scattergl": [
           {
            "marker": {
             "colorbar": {
              "outlinewidth": 0,
              "ticks": ""
             }
            },
            "type": "scattergl"
           }
          ],
          "scattermapbox": [
           {
            "marker": {
             "colorbar": {
              "outlinewidth": 0,
              "ticks": ""
             }
            },
            "type": "scattermapbox"
           }
          ],
          "scatterpolar": [
           {
            "marker": {
             "colorbar": {
              "outlinewidth": 0,
              "ticks": ""
             }
            },
            "type": "scatterpolar"
           }
          ],
          "scatterpolargl": [
           {
            "marker": {
             "colorbar": {
              "outlinewidth": 0,
              "ticks": ""
             }
            },
            "type": "scatterpolargl"
           }
          ],
          "scatterternary": [
           {
            "marker": {
             "colorbar": {
              "outlinewidth": 0,
              "ticks": ""
             }
            },
            "type": "scatterternary"
           }
          ],
          "surface": [
           {
            "colorbar": {
             "outlinewidth": 0,
             "ticks": ""
            },
            "colorscale": [
             [
              0,
              "#0d0887"
             ],
             [
              0.1111111111111111,
              "#46039f"
             ],
             [
              0.2222222222222222,
              "#7201a8"
             ],
             [
              0.3333333333333333,
              "#9c179e"
             ],
             [
              0.4444444444444444,
              "#bd3786"
             ],
             [
              0.5555555555555556,
              "#d8576b"
             ],
             [
              0.6666666666666666,
              "#ed7953"
             ],
             [
              0.7777777777777778,
              "#fb9f3a"
             ],
             [
              0.8888888888888888,
              "#fdca26"
             ],
             [
              1,
              "#f0f921"
             ]
            ],
            "type": "surface"
           }
          ],
          "table": [
           {
            "cells": {
             "fill": {
              "color": "#EBF0F8"
             },
             "line": {
              "color": "white"
             }
            },
            "header": {
             "fill": {
              "color": "#C8D4E3"
             },
             "line": {
              "color": "white"
             }
            },
            "type": "table"
           }
          ]
         },
         "layout": {
          "annotationdefaults": {
           "arrowcolor": "#2a3f5f",
           "arrowhead": 0,
           "arrowwidth": 1
          },
          "autotypenumbers": "strict",
          "coloraxis": {
           "colorbar": {
            "outlinewidth": 0,
            "ticks": ""
           }
          },
          "colorscale": {
           "diverging": [
            [
             0,
             "#8e0152"
            ],
            [
             0.1,
             "#c51b7d"
            ],
            [
             0.2,
             "#de77ae"
            ],
            [
             0.3,
             "#f1b6da"
            ],
            [
             0.4,
             "#fde0ef"
            ],
            [
             0.5,
             "#f7f7f7"
            ],
            [
             0.6,
             "#e6f5d0"
            ],
            [
             0.7,
             "#b8e186"
            ],
            [
             0.8,
             "#7fbc41"
            ],
            [
             0.9,
             "#4d9221"
            ],
            [
             1,
             "#276419"
            ]
           ],
           "sequential": [
            [
             0,
             "#0d0887"
            ],
            [
             0.1111111111111111,
             "#46039f"
            ],
            [
             0.2222222222222222,
             "#7201a8"
            ],
            [
             0.3333333333333333,
             "#9c179e"
            ],
            [
             0.4444444444444444,
             "#bd3786"
            ],
            [
             0.5555555555555556,
             "#d8576b"
            ],
            [
             0.6666666666666666,
             "#ed7953"
            ],
            [
             0.7777777777777778,
             "#fb9f3a"
            ],
            [
             0.8888888888888888,
             "#fdca26"
            ],
            [
             1,
             "#f0f921"
            ]
           ],
           "sequentialminus": [
            [
             0,
             "#0d0887"
            ],
            [
             0.1111111111111111,
             "#46039f"
            ],
            [
             0.2222222222222222,
             "#7201a8"
            ],
            [
             0.3333333333333333,
             "#9c179e"
            ],
            [
             0.4444444444444444,
             "#bd3786"
            ],
            [
             0.5555555555555556,
             "#d8576b"
            ],
            [
             0.6666666666666666,
             "#ed7953"
            ],
            [
             0.7777777777777778,
             "#fb9f3a"
            ],
            [
             0.8888888888888888,
             "#fdca26"
            ],
            [
             1,
             "#f0f921"
            ]
           ]
          },
          "colorway": [
           "#636efa",
           "#EF553B",
           "#00cc96",
           "#ab63fa",
           "#FFA15A",
           "#19d3f3",
           "#FF6692",
           "#B6E880",
           "#FF97FF",
           "#FECB52"
          ],
          "font": {
           "color": "#2a3f5f"
          },
          "geo": {
           "bgcolor": "white",
           "lakecolor": "white",
           "landcolor": "#E5ECF6",
           "showlakes": true,
           "showland": true,
           "subunitcolor": "white"
          },
          "hoverlabel": {
           "align": "left"
          },
          "hovermode": "closest",
          "mapbox": {
           "style": "light"
          },
          "paper_bgcolor": "white",
          "plot_bgcolor": "#E5ECF6",
          "polar": {
           "angularaxis": {
            "gridcolor": "white",
            "linecolor": "white",
            "ticks": ""
           },
           "bgcolor": "#E5ECF6",
           "radialaxis": {
            "gridcolor": "white",
            "linecolor": "white",
            "ticks": ""
           }
          },
          "scene": {
           "xaxis": {
            "backgroundcolor": "#E5ECF6",
            "gridcolor": "white",
            "gridwidth": 2,
            "linecolor": "white",
            "showbackground": true,
            "ticks": "",
            "zerolinecolor": "white"
           },
           "yaxis": {
            "backgroundcolor": "#E5ECF6",
            "gridcolor": "white",
            "gridwidth": 2,
            "linecolor": "white",
            "showbackground": true,
            "ticks": "",
            "zerolinecolor": "white"
           },
           "zaxis": {
            "backgroundcolor": "#E5ECF6",
            "gridcolor": "white",
            "gridwidth": 2,
            "linecolor": "white",
            "showbackground": true,
            "ticks": "",
            "zerolinecolor": "white"
           }
          },
          "shapedefaults": {
           "line": {
            "color": "#2a3f5f"
           }
          },
          "ternary": {
           "aaxis": {
            "gridcolor": "white",
            "linecolor": "white",
            "ticks": ""
           },
           "baxis": {
            "gridcolor": "white",
            "linecolor": "white",
            "ticks": ""
           },
           "bgcolor": "#E5ECF6",
           "caxis": {
            "gridcolor": "white",
            "linecolor": "white",
            "ticks": ""
           }
          },
          "title": {
           "x": 0.05
          },
          "xaxis": {
           "automargin": true,
           "gridcolor": "white",
           "linecolor": "white",
           "ticks": "",
           "title": {
            "standoff": 15
           },
           "zerolinecolor": "white",
           "zerolinewidth": 2
          },
          "yaxis": {
           "automargin": true,
           "gridcolor": "white",
           "linecolor": "white",
           "ticks": "",
           "title": {
            "standoff": 15
           },
           "zerolinecolor": "white",
           "zerolinewidth": 2
          }
         }
        },
        "title": {
         "text": "Gesamt Anzahl der Registrieren Hunde pro Jahr"
        },
        "xaxis": {
         "anchor": "y",
         "domain": [
          0,
          1
         ],
         "title": {
          "text": "Jahr"
         }
        },
        "yaxis": {
         "anchor": "x",
         "domain": [
          0,
          1
         ],
         "title": {
          "text": "Hunde"
         }
        }
       }
      }
     },
     "metadata": {},
     "output_type": "display_data"
    }
   ],
   "source": [
    "px.line(new_df.groupby(\"Jahr\")[[\"Hunde\"]].sum(),y=\"Hunde\", title=\"Gesamt Anzahl der Registrieren Hunde pro Jahr\")"
   ]
  },
  {
   "cell_type": "code",
   "execution_count": 18,
   "id": "2b188478",
   "metadata": {},
   "outputs": [],
   "source": [
    "new_df_ = new_df.sort_values([\"Stadtteil\",\"Jahr\"]).copy()\n",
    "new_df_[\"percent\"] = 0\n",
    "for i in new_df_[\"Stadtteil\"].unique():\n",
    "    first = new_df_[(new_df_[\"Stadtteil\"] == i)& (new_df_[\"Jahr\"] == 2014)][\"Hunde\"].values[0]\n",
    "    new_df_.loc[new_df_[\"Stadtteil\"] == i,\"percent\"] = new_df_[new_df_[\"Stadtteil\"] == i][\"Hunde\"]/first"
   ]
  },
  {
   "cell_type": "code",
   "execution_count": 19,
   "id": "c30b5180",
   "metadata": {},
   "outputs": [
    {
     "data": {
      "text/html": [
       "<div>\n",
       "<style scoped>\n",
       "    .dataframe tbody tr th:only-of-type {\n",
       "        vertical-align: middle;\n",
       "    }\n",
       "\n",
       "    .dataframe tbody tr th {\n",
       "        vertical-align: top;\n",
       "    }\n",
       "\n",
       "    .dataframe thead th {\n",
       "        text-align: right;\n",
       "    }\n",
       "</style>\n",
       "<table border=\"1\" class=\"dataframe\">\n",
       "  <thead>\n",
       "    <tr style=\"text-align: right;\">\n",
       "      <th></th>\n",
       "      <th>Stadtteil</th>\n",
       "      <th>Jahr</th>\n",
       "      <th>Hunde</th>\n",
       "      <th>percent</th>\n",
       "    </tr>\n",
       "    <tr>\n",
       "      <th>_id</th>\n",
       "      <th></th>\n",
       "      <th></th>\n",
       "      <th></th>\n",
       "      <th></th>\n",
       "    </tr>\n",
       "  </thead>\n",
       "  <tbody>\n",
       "    <tr>\n",
       "      <th>85</th>\n",
       "      <td>Beiertheim-Bulach</td>\n",
       "      <td>2014</td>\n",
       "      <td>186</td>\n",
       "      <td>1.000000</td>\n",
       "    </tr>\n",
       "    <tr>\n",
       "      <th>86</th>\n",
       "      <td>Beiertheim-Bulach</td>\n",
       "      <td>2015</td>\n",
       "      <td>181</td>\n",
       "      <td>0.973118</td>\n",
       "    </tr>\n",
       "    <tr>\n",
       "      <th>87</th>\n",
       "      <td>Beiertheim-Bulach</td>\n",
       "      <td>2016</td>\n",
       "      <td>190</td>\n",
       "      <td>1.021505</td>\n",
       "    </tr>\n",
       "    <tr>\n",
       "      <th>88</th>\n",
       "      <td>Beiertheim-Bulach</td>\n",
       "      <td>2017</td>\n",
       "      <td>193</td>\n",
       "      <td>1.037634</td>\n",
       "    </tr>\n",
       "    <tr>\n",
       "      <th>89</th>\n",
       "      <td>Beiertheim-Bulach</td>\n",
       "      <td>2018</td>\n",
       "      <td>174</td>\n",
       "      <td>0.935484</td>\n",
       "    </tr>\n",
       "    <tr>\n",
       "      <th>...</th>\n",
       "      <td>...</td>\n",
       "      <td>...</td>\n",
       "      <td>...</td>\n",
       "      <td>...</td>\n",
       "    </tr>\n",
       "    <tr>\n",
       "      <th>157</th>\n",
       "      <td>Wolfartsweier</td>\n",
       "      <td>2016</td>\n",
       "      <td>130</td>\n",
       "      <td>0.992366</td>\n",
       "    </tr>\n",
       "    <tr>\n",
       "      <th>158</th>\n",
       "      <td>Wolfartsweier</td>\n",
       "      <td>2017</td>\n",
       "      <td>129</td>\n",
       "      <td>0.984733</td>\n",
       "    </tr>\n",
       "    <tr>\n",
       "      <th>159</th>\n",
       "      <td>Wolfartsweier</td>\n",
       "      <td>2018</td>\n",
       "      <td>120</td>\n",
       "      <td>0.916031</td>\n",
       "    </tr>\n",
       "    <tr>\n",
       "      <th>160</th>\n",
       "      <td>Wolfartsweier</td>\n",
       "      <td>2019</td>\n",
       "      <td>119</td>\n",
       "      <td>0.908397</td>\n",
       "    </tr>\n",
       "    <tr>\n",
       "      <th>161</th>\n",
       "      <td>Wolfartsweier</td>\n",
       "      <td>2020</td>\n",
       "      <td>130</td>\n",
       "      <td>0.992366</td>\n",
       "    </tr>\n",
       "  </tbody>\n",
       "</table>\n",
       "<p>189 rows × 4 columns</p>\n",
       "</div>"
      ],
      "text/plain": [
       "             Stadtteil  Jahr  Hunde   percent\n",
       "_id                                          \n",
       "85   Beiertheim-Bulach  2014    186  1.000000\n",
       "86   Beiertheim-Bulach  2015    181  0.973118\n",
       "87   Beiertheim-Bulach  2016    190  1.021505\n",
       "88   Beiertheim-Bulach  2017    193  1.037634\n",
       "89   Beiertheim-Bulach  2018    174  0.935484\n",
       "..                 ...   ...    ...       ...\n",
       "157      Wolfartsweier  2016    130  0.992366\n",
       "158      Wolfartsweier  2017    129  0.984733\n",
       "159      Wolfartsweier  2018    120  0.916031\n",
       "160      Wolfartsweier  2019    119  0.908397\n",
       "161      Wolfartsweier  2020    130  0.992366\n",
       "\n",
       "[189 rows x 4 columns]"
      ]
     },
     "execution_count": 19,
     "metadata": {},
     "output_type": "execute_result"
    }
   ],
   "source": [
    "new_df_"
   ]
  },
  {
   "cell_type": "code",
   "execution_count": 20,
   "id": "fd0a84a3",
   "metadata": {},
   "outputs": [
    {
     "data": {
      "application/vnd.plotly.v1+json": {
       "config": {
        "plotlyServerURL": "https://plot.ly"
       },
       "data": [
        {
         "hovertemplate": "Stadtteil=Beiertheim-Bulach<br>Jahr=%{x}<br>percent=%{y}<extra></extra>",
         "legendgroup": "Beiertheim-Bulach",
         "line": {
          "color": "#636efa",
          "dash": "solid"
         },
         "marker": {
          "symbol": "circle"
         },
         "mode": "lines",
         "name": "Beiertheim-Bulach",
         "orientation": "v",
         "showlegend": true,
         "type": "scatter",
         "x": [
          2014,
          2015,
          2016,
          2017,
          2018,
          2019,
          2020
         ],
         "xaxis": "x",
         "y": [
          1,
          0.9731182795698925,
          1.021505376344086,
          1.0376344086021505,
          0.9354838709677419,
          0.9623655913978495,
          1.032258064516129
         ],
         "yaxis": "y"
        },
        {
         "hovertemplate": "Stadtteil=Daxlanden<br>Jahr=%{x}<br>percent=%{y}<extra></extra>",
         "legendgroup": "Daxlanden",
         "line": {
          "color": "#EF553B",
          "dash": "solid"
         },
         "marker": {
          "symbol": "circle"
         },
         "mode": "lines",
         "name": "Daxlanden",
         "orientation": "v",
         "showlegend": true,
         "type": "scatter",
         "x": [
          2014,
          2015,
          2016,
          2017,
          2018,
          2019,
          2020
         ],
         "xaxis": "x",
         "y": [
          1,
          1.0098425196850394,
          1.080708661417323,
          1.0846456692913387,
          1.0964566929133859,
          1.1062992125984252,
          1.1633858267716535
         ],
         "yaxis": "y"
        },
        {
         "hovertemplate": "Stadtteil=Durlach<br>Jahr=%{x}<br>percent=%{y}<extra></extra>",
         "legendgroup": "Durlach",
         "line": {
          "color": "#00cc96",
          "dash": "solid"
         },
         "marker": {
          "symbol": "circle"
         },
         "mode": "lines",
         "name": "Durlach",
         "orientation": "v",
         "showlegend": true,
         "type": "scatter",
         "x": [
          2014,
          2015,
          2016,
          2017,
          2018,
          2019,
          2020
         ],
         "xaxis": "x",
         "y": [
          1,
          1.019438444924406,
          1.060475161987041,
          1.0723542116630669,
          1.0928725701943844,
          1.0723542116630669,
          1.1166306695464363
         ],
         "yaxis": "y"
        },
        {
         "hovertemplate": "Stadtteil=Grötzingen<br>Jahr=%{x}<br>percent=%{y}<extra></extra>",
         "legendgroup": "Grötzingen",
         "line": {
          "color": "#ab63fa",
          "dash": "solid"
         },
         "marker": {
          "symbol": "circle"
         },
         "mode": "lines",
         "name": "Grötzingen",
         "orientation": "v",
         "showlegend": true,
         "type": "scatter",
         "x": [
          2014,
          2015,
          2016,
          2017,
          2018,
          2019,
          2020
         ],
         "xaxis": "x",
         "y": [
          1,
          1.0105633802816902,
          1.056338028169014,
          1.0492957746478873,
          1.0422535211267605,
          1.1549295774647887,
          1.2288732394366197
         ],
         "yaxis": "y"
        },
        {
         "hovertemplate": "Stadtteil=Grünwettersbach<br>Jahr=%{x}<br>percent=%{y}<extra></extra>",
         "legendgroup": "Grünwettersbach",
         "line": {
          "color": "#FFA15A",
          "dash": "solid"
         },
         "marker": {
          "symbol": "circle"
         },
         "mode": "lines",
         "name": "Grünwettersbach",
         "orientation": "v",
         "showlegend": true,
         "type": "scatter",
         "x": [
          2014,
          2015,
          2016,
          2017,
          2018,
          2019,
          2020
         ],
         "xaxis": "x",
         "y": [
          1,
          1.0807453416149069,
          1.0993788819875776,
          1.1304347826086956,
          1.1614906832298137,
          1.2236024844720497,
          1.2732919254658386
         ],
         "yaxis": "y"
        },
        {
         "hovertemplate": "Stadtteil=Grünwinkel<br>Jahr=%{x}<br>percent=%{y}<extra></extra>",
         "legendgroup": "Grünwinkel",
         "line": {
          "color": "#19d3f3",
          "dash": "solid"
         },
         "marker": {
          "symbol": "circle"
         },
         "mode": "lines",
         "name": "Grünwinkel",
         "orientation": "v",
         "showlegend": true,
         "type": "scatter",
         "x": [
          2014,
          2015,
          2016,
          2017,
          2018,
          2019,
          2020
         ],
         "xaxis": "x",
         "y": [
          1,
          0.9845360824742269,
          1.0231958762886597,
          1.018041237113402,
          1.0077319587628866,
          1.0283505154639174,
          1.115979381443299
         ],
         "yaxis": "y"
        },
        {
         "hovertemplate": "Stadtteil=Hagsfeld<br>Jahr=%{x}<br>percent=%{y}<extra></extra>",
         "legendgroup": "Hagsfeld",
         "line": {
          "color": "#FF6692",
          "dash": "solid"
         },
         "marker": {
          "symbol": "circle"
         },
         "mode": "lines",
         "name": "Hagsfeld",
         "orientation": "v",
         "showlegend": true,
         "type": "scatter",
         "x": [
          2014,
          2015,
          2016,
          2017,
          2018,
          2019,
          2020
         ],
         "xaxis": "x",
         "y": [
          1,
          1.0353535353535352,
          0.9848484848484849,
          1.0151515151515151,
          1.0909090909090908,
          1.1414141414141414,
          1.2222222222222223
         ],
         "yaxis": "y"
        },
        {
         "hovertemplate": "Stadtteil=Hohenwettersbach<br>Jahr=%{x}<br>percent=%{y}<extra></extra>",
         "legendgroup": "Hohenwettersbach",
         "line": {
          "color": "#B6E880",
          "dash": "solid"
         },
         "marker": {
          "symbol": "circle"
         },
         "mode": "lines",
         "name": "Hohenwettersbach",
         "orientation": "v",
         "showlegend": true,
         "type": "scatter",
         "x": [
          2014,
          2015,
          2016,
          2017,
          2018,
          2019,
          2020
         ],
         "xaxis": "x",
         "y": [
          1,
          1.0155038759689923,
          1.0930232558139534,
          1.069767441860465,
          1.1162790697674418,
          1.186046511627907,
          1.2868217054263567
         ],
         "yaxis": "y"
        },
        {
         "hovertemplate": "Stadtteil=Innenstadt-Ost<br>Jahr=%{x}<br>percent=%{y}<extra></extra>",
         "legendgroup": "Innenstadt-Ost",
         "line": {
          "color": "#FF97FF",
          "dash": "solid"
         },
         "marker": {
          "symbol": "circle"
         },
         "mode": "lines",
         "name": "Innenstadt-Ost",
         "orientation": "v",
         "showlegend": true,
         "type": "scatter",
         "x": [
          2014,
          2015,
          2016,
          2017,
          2018,
          2019,
          2020
         ],
         "xaxis": "x",
         "y": [
          1,
          0.9603960396039604,
          1.00990099009901,
          1.0891089108910892,
          0.9603960396039604,
          0.8514851485148515,
          0.9306930693069307
         ],
         "yaxis": "y"
        },
        {
         "hovertemplate": "Stadtteil=Innenstadt-West<br>Jahr=%{x}<br>percent=%{y}<extra></extra>",
         "legendgroup": "Innenstadt-West",
         "line": {
          "color": "#FECB52",
          "dash": "solid"
         },
         "marker": {
          "symbol": "circle"
         },
         "mode": "lines",
         "name": "Innenstadt-West",
         "orientation": "v",
         "showlegend": true,
         "type": "scatter",
         "x": [
          2014,
          2015,
          2016,
          2017,
          2018,
          2019,
          2020
         ],
         "xaxis": "x",
         "y": [
          1,
          1.0763358778625953,
          1.0076335877862594,
          1.0076335877862594,
          0.9465648854961832,
          1,
          1.1221374045801527
         ],
         "yaxis": "y"
        },
        {
         "hovertemplate": "Stadtteil=Knielingen<br>Jahr=%{x}<br>percent=%{y}<extra></extra>",
         "legendgroup": "Knielingen",
         "line": {
          "color": "#636efa",
          "dash": "solid"
         },
         "marker": {
          "symbol": "circle"
         },
         "mode": "lines",
         "name": "Knielingen",
         "orientation": "v",
         "showlegend": true,
         "type": "scatter",
         "x": [
          2014,
          2015,
          2016,
          2017,
          2018,
          2019,
          2020
         ],
         "xaxis": "x",
         "y": [
          1,
          1,
          1.07492795389049,
          1.1152737752161384,
          1.1873198847262247,
          1.314121037463977,
          1.345821325648415
         ],
         "yaxis": "y"
        },
        {
         "hovertemplate": "Stadtteil=Mühlburg<br>Jahr=%{x}<br>percent=%{y}<extra></extra>",
         "legendgroup": "Mühlburg",
         "line": {
          "color": "#EF553B",
          "dash": "solid"
         },
         "marker": {
          "symbol": "circle"
         },
         "mode": "lines",
         "name": "Mühlburg",
         "orientation": "v",
         "showlegend": true,
         "type": "scatter",
         "x": [
          2014,
          2015,
          2016,
          2017,
          2018,
          2019,
          2020
         ],
         "xaxis": "x",
         "y": [
          1,
          1.1320224719101124,
          1.0926966292134832,
          1.1067415730337078,
          1.1292134831460674,
          1.148876404494382,
          1.2303370786516854
         ],
         "yaxis": "y"
        },
        {
         "hovertemplate": "Stadtteil=Neureut<br>Jahr=%{x}<br>percent=%{y}<extra></extra>",
         "legendgroup": "Neureut",
         "line": {
          "color": "#00cc96",
          "dash": "solid"
         },
         "marker": {
          "symbol": "circle"
         },
         "mode": "lines",
         "name": "Neureut",
         "orientation": "v",
         "showlegend": true,
         "type": "scatter",
         "x": [
          2014,
          2015,
          2016,
          2017,
          2018,
          2019,
          2020
         ],
         "xaxis": "x",
         "y": [
          1,
          0.9905362776025236,
          1.0063091482649842,
          0.9889589905362776,
          1.0173501577287065,
          1.0741324921135647,
          1.1451104100946372
         ],
         "yaxis": "y"
        },
        {
         "hovertemplate": "Stadtteil=Nordstadt<br>Jahr=%{x}<br>percent=%{y}<extra></extra>",
         "legendgroup": "Nordstadt",
         "line": {
          "color": "#ab63fa",
          "dash": "solid"
         },
         "marker": {
          "symbol": "circle"
         },
         "mode": "lines",
         "name": "Nordstadt",
         "orientation": "v",
         "showlegend": true,
         "type": "scatter",
         "x": [
          2014,
          2015,
          2016,
          2017,
          2018,
          2019,
          2020
         ],
         "xaxis": "x",
         "y": [
          1,
          1,
          1.0145985401459854,
          1.0583941605839415,
          1.062043795620438,
          1.0693430656934306,
          1.1131386861313868
         ],
         "yaxis": "y"
        },
        {
         "hovertemplate": "Stadtteil=Nordweststadt<br>Jahr=%{x}<br>percent=%{y}<extra></extra>",
         "legendgroup": "Nordweststadt",
         "line": {
          "color": "#FFA15A",
          "dash": "solid"
         },
         "marker": {
          "symbol": "circle"
         },
         "mode": "lines",
         "name": "Nordweststadt",
         "orientation": "v",
         "showlegend": true,
         "type": "scatter",
         "x": [
          2014,
          2015,
          2016,
          2017,
          2018,
          2019,
          2020
         ],
         "xaxis": "x",
         "y": [
          1,
          1.0575079872204474,
          1.0894568690095847,
          1.1150159744408945,
          1.095846645367412,
          1.1246006389776357,
          1.1757188498402555
         ],
         "yaxis": "y"
        },
        {
         "hovertemplate": "Stadtteil=Oberreut<br>Jahr=%{x}<br>percent=%{y}<extra></extra>",
         "legendgroup": "Oberreut",
         "line": {
          "color": "#19d3f3",
          "dash": "solid"
         },
         "marker": {
          "symbol": "circle"
         },
         "mode": "lines",
         "name": "Oberreut",
         "orientation": "v",
         "showlegend": true,
         "type": "scatter",
         "x": [
          2014,
          2015,
          2016,
          2017,
          2018,
          2019,
          2020
         ],
         "xaxis": "x",
         "y": [
          1,
          1.0571428571428572,
          1.1301587301587301,
          1.161904761904762,
          1.2285714285714286,
          1.326984126984127,
          1.326984126984127
         ],
         "yaxis": "y"
        },
        {
         "hovertemplate": "Stadtteil=Oststadt<br>Jahr=%{x}<br>percent=%{y}<extra></extra>",
         "legendgroup": "Oststadt",
         "line": {
          "color": "#FF6692",
          "dash": "solid"
         },
         "marker": {
          "symbol": "circle"
         },
         "mode": "lines",
         "name": "Oststadt",
         "orientation": "v",
         "showlegend": true,
         "type": "scatter",
         "x": [
          2014,
          2015,
          2016,
          2017,
          2018,
          2019,
          2020
         ],
         "xaxis": "x",
         "y": [
          1,
          1.007936507936508,
          1.0158730158730158,
          1.0119047619047619,
          1.0952380952380953,
          1.1507936507936507,
          1.2777777777777777
         ],
         "yaxis": "y"
        },
        {
         "hovertemplate": "Stadtteil=Palmbach<br>Jahr=%{x}<br>percent=%{y}<extra></extra>",
         "legendgroup": "Palmbach",
         "line": {
          "color": "#B6E880",
          "dash": "solid"
         },
         "marker": {
          "symbol": "circle"
         },
         "mode": "lines",
         "name": "Palmbach",
         "orientation": "v",
         "showlegend": true,
         "type": "scatter",
         "x": [
          2014,
          2015,
          2016,
          2017,
          2018,
          2019,
          2020
         ],
         "xaxis": "x",
         "y": [
          1,
          1.146341463414634,
          1.2317073170731707,
          1.170731707317073,
          1.2317073170731707,
          1.2682926829268293,
          1.3780487804878048
         ],
         "yaxis": "y"
        },
        {
         "hovertemplate": "Stadtteil=Rintheim<br>Jahr=%{x}<br>percent=%{y}<extra></extra>",
         "legendgroup": "Rintheim",
         "line": {
          "color": "#FF97FF",
          "dash": "solid"
         },
         "marker": {
          "symbol": "circle"
         },
         "mode": "lines",
         "name": "Rintheim",
         "orientation": "v",
         "showlegend": true,
         "type": "scatter",
         "x": [
          2014,
          2015,
          2016,
          2017,
          2018,
          2019,
          2020
         ],
         "xaxis": "x",
         "y": [
          1,
          0.9875,
          1.05,
          1.075,
          1.1125,
          1.16875,
          1.23125
         ],
         "yaxis": "y"
        },
        {
         "hovertemplate": "Stadtteil=Rüppurr<br>Jahr=%{x}<br>percent=%{y}<extra></extra>",
         "legendgroup": "Rüppurr",
         "line": {
          "color": "#FECB52",
          "dash": "solid"
         },
         "marker": {
          "symbol": "circle"
         },
         "mode": "lines",
         "name": "Rüppurr",
         "orientation": "v",
         "showlegend": true,
         "type": "scatter",
         "x": [
          2014,
          2015,
          2016,
          2017,
          2018,
          2019,
          2020
         ],
         "xaxis": "x",
         "y": [
          1,
          1.0564516129032258,
          1.1451612903225807,
          1.1370967741935485,
          1.1666666666666667,
          1.153225806451613,
          1.2553763440860215
         ],
         "yaxis": "y"
        },
        {
         "hovertemplate": "Stadtteil=Stupferich<br>Jahr=%{x}<br>percent=%{y}<extra></extra>",
         "legendgroup": "Stupferich",
         "line": {
          "color": "#636efa",
          "dash": "solid"
         },
         "marker": {
          "symbol": "circle"
         },
         "mode": "lines",
         "name": "Stupferich",
         "orientation": "v",
         "showlegend": true,
         "type": "scatter",
         "x": [
          2014,
          2015,
          2016,
          2017,
          2018,
          2019,
          2020
         ],
         "xaxis": "x",
         "y": [
          1,
          1.0336134453781514,
          1.0756302521008403,
          1.1092436974789917,
          1.1680672268907564,
          1.2100840336134453,
          1.2773109243697478
         ],
         "yaxis": "y"
        },
        {
         "hovertemplate": "Stadtteil=Südstadt<br>Jahr=%{x}<br>percent=%{y}<extra></extra>",
         "legendgroup": "Südstadt",
         "line": {
          "color": "#EF553B",
          "dash": "solid"
         },
         "marker": {
          "symbol": "circle"
         },
         "mode": "lines",
         "name": "Südstadt",
         "orientation": "v",
         "showlegend": true,
         "type": "scatter",
         "x": [
          2014,
          2015,
          2016,
          2017,
          2018,
          2019,
          2020
         ],
         "xaxis": "x",
         "y": [
          1,
          1.0745762711864406,
          1.1050847457627118,
          1.088135593220339,
          1.0779661016949154,
          1.0983050847457627,
          1.2135593220338983
         ],
         "yaxis": "y"
        },
        {
         "hovertemplate": "Stadtteil=Südweststadt<br>Jahr=%{x}<br>percent=%{y}<extra></extra>",
         "legendgroup": "Südweststadt",
         "line": {
          "color": "#00cc96",
          "dash": "solid"
         },
         "marker": {
          "symbol": "circle"
         },
         "mode": "lines",
         "name": "Südweststadt",
         "orientation": "v",
         "showlegend": true,
         "type": "scatter",
         "x": [
          2014,
          2015,
          2016,
          2017,
          2018,
          2019,
          2020
         ],
         "xaxis": "x",
         "y": [
          1,
          1.057915057915058,
          1.1274131274131274,
          1.1158301158301158,
          1.1505791505791505,
          1.250965250965251,
          1.3011583011583012
         ],
         "yaxis": "y"
        },
        {
         "hovertemplate": "Stadtteil=Waldstadt<br>Jahr=%{x}<br>percent=%{y}<extra></extra>",
         "legendgroup": "Waldstadt",
         "line": {
          "color": "#ab63fa",
          "dash": "solid"
         },
         "marker": {
          "symbol": "circle"
         },
         "mode": "lines",
         "name": "Waldstadt",
         "orientation": "v",
         "showlegend": true,
         "type": "scatter",
         "x": [
          2014,
          2015,
          2016,
          2017,
          2018,
          2019,
          2020
         ],
         "xaxis": "x",
         "y": [
          1,
          1.0193370165745856,
          1.0883977900552486,
          1.1104972375690607,
          1.12707182320442,
          1.1629834254143647,
          1.1961325966850829
         ],
         "yaxis": "y"
        },
        {
         "hovertemplate": "Stadtteil=Weiherfeld-Dammerstock<br>Jahr=%{x}<br>percent=%{y}<extra></extra>",
         "legendgroup": "Weiherfeld-Dammerstock",
         "line": {
          "color": "#FFA15A",
          "dash": "solid"
         },
         "marker": {
          "symbol": "circle"
         },
         "mode": "lines",
         "name": "Weiherfeld-Dammerstock",
         "orientation": "v",
         "showlegend": true,
         "type": "scatter",
         "x": [
          2014,
          2015,
          2016,
          2017,
          2018,
          2019,
          2020
         ],
         "xaxis": "x",
         "y": [
          1,
          1.0169491525423728,
          1.073446327683616,
          1.0621468926553672,
          1.0903954802259888,
          1.0960451977401129,
          1.0282485875706215
         ],
         "yaxis": "y"
        },
        {
         "hovertemplate": "Stadtteil=Weststadt<br>Jahr=%{x}<br>percent=%{y}<extra></extra>",
         "legendgroup": "Weststadt",
         "line": {
          "color": "#19d3f3",
          "dash": "solid"
         },
         "marker": {
          "symbol": "circle"
         },
         "mode": "lines",
         "name": "Weststadt",
         "orientation": "v",
         "showlegend": true,
         "type": "scatter",
         "x": [
          2014,
          2015,
          2016,
          2017,
          2018,
          2019,
          2020
         ],
         "xaxis": "x",
         "y": [
          1,
          1.0049875311720697,
          1.032418952618454,
          1.0498753117206983,
          1.0922693266832917,
          1.057356608478803,
          1.087281795511222
         ],
         "yaxis": "y"
        },
        {
         "hovertemplate": "Stadtteil=Wolfartsweier<br>Jahr=%{x}<br>percent=%{y}<extra></extra>",
         "legendgroup": "Wolfartsweier",
         "line": {
          "color": "#FF6692",
          "dash": "solid"
         },
         "marker": {
          "symbol": "circle"
         },
         "mode": "lines",
         "name": "Wolfartsweier",
         "orientation": "v",
         "showlegend": true,
         "type": "scatter",
         "x": [
          2014,
          2015,
          2016,
          2017,
          2018,
          2019,
          2020
         ],
         "xaxis": "x",
         "y": [
          1,
          0.9618320610687023,
          0.9923664122137404,
          0.9847328244274809,
          0.916030534351145,
          0.9083969465648855,
          0.9923664122137404
         ],
         "yaxis": "y"
        }
       ],
       "layout": {
        "legend": {
         "title": {
          "text": "Stadtteil"
         },
         "tracegroupgap": 0
        },
        "template": {
         "data": {
          "bar": [
           {
            "error_x": {
             "color": "#2a3f5f"
            },
            "error_y": {
             "color": "#2a3f5f"
            },
            "marker": {
             "line": {
              "color": "#E5ECF6",
              "width": 0.5
             },
             "pattern": {
              "fillmode": "overlay",
              "size": 10,
              "solidity": 0.2
             }
            },
            "type": "bar"
           }
          ],
          "barpolar": [
           {
            "marker": {
             "line": {
              "color": "#E5ECF6",
              "width": 0.5
             },
             "pattern": {
              "fillmode": "overlay",
              "size": 10,
              "solidity": 0.2
             }
            },
            "type": "barpolar"
           }
          ],
          "carpet": [
           {
            "aaxis": {
             "endlinecolor": "#2a3f5f",
             "gridcolor": "white",
             "linecolor": "white",
             "minorgridcolor": "white",
             "startlinecolor": "#2a3f5f"
            },
            "baxis": {
             "endlinecolor": "#2a3f5f",
             "gridcolor": "white",
             "linecolor": "white",
             "minorgridcolor": "white",
             "startlinecolor": "#2a3f5f"
            },
            "type": "carpet"
           }
          ],
          "choropleth": [
           {
            "colorbar": {
             "outlinewidth": 0,
             "ticks": ""
            },
            "type": "choropleth"
           }
          ],
          "contour": [
           {
            "colorbar": {
             "outlinewidth": 0,
             "ticks": ""
            },
            "colorscale": [
             [
              0,
              "#0d0887"
             ],
             [
              0.1111111111111111,
              "#46039f"
             ],
             [
              0.2222222222222222,
              "#7201a8"
             ],
             [
              0.3333333333333333,
              "#9c179e"
             ],
             [
              0.4444444444444444,
              "#bd3786"
             ],
             [
              0.5555555555555556,
              "#d8576b"
             ],
             [
              0.6666666666666666,
              "#ed7953"
             ],
             [
              0.7777777777777778,
              "#fb9f3a"
             ],
             [
              0.8888888888888888,
              "#fdca26"
             ],
             [
              1,
              "#f0f921"
             ]
            ],
            "type": "contour"
           }
          ],
          "contourcarpet": [
           {
            "colorbar": {
             "outlinewidth": 0,
             "ticks": ""
            },
            "type": "contourcarpet"
           }
          ],
          "heatmap": [
           {
            "colorbar": {
             "outlinewidth": 0,
             "ticks": ""
            },
            "colorscale": [
             [
              0,
              "#0d0887"
             ],
             [
              0.1111111111111111,
              "#46039f"
             ],
             [
              0.2222222222222222,
              "#7201a8"
             ],
             [
              0.3333333333333333,
              "#9c179e"
             ],
             [
              0.4444444444444444,
              "#bd3786"
             ],
             [
              0.5555555555555556,
              "#d8576b"
             ],
             [
              0.6666666666666666,
              "#ed7953"
             ],
             [
              0.7777777777777778,
              "#fb9f3a"
             ],
             [
              0.8888888888888888,
              "#fdca26"
             ],
             [
              1,
              "#f0f921"
             ]
            ],
            "type": "heatmap"
           }
          ],
          "heatmapgl": [
           {
            "colorbar": {
             "outlinewidth": 0,
             "ticks": ""
            },
            "colorscale": [
             [
              0,
              "#0d0887"
             ],
             [
              0.1111111111111111,
              "#46039f"
             ],
             [
              0.2222222222222222,
              "#7201a8"
             ],
             [
              0.3333333333333333,
              "#9c179e"
             ],
             [
              0.4444444444444444,
              "#bd3786"
             ],
             [
              0.5555555555555556,
              "#d8576b"
             ],
             [
              0.6666666666666666,
              "#ed7953"
             ],
             [
              0.7777777777777778,
              "#fb9f3a"
             ],
             [
              0.8888888888888888,
              "#fdca26"
             ],
             [
              1,
              "#f0f921"
             ]
            ],
            "type": "heatmapgl"
           }
          ],
          "histogram": [
           {
            "marker": {
             "pattern": {
              "fillmode": "overlay",
              "size": 10,
              "solidity": 0.2
             }
            },
            "type": "histogram"
           }
          ],
          "histogram2d": [
           {
            "colorbar": {
             "outlinewidth": 0,
             "ticks": ""
            },
            "colorscale": [
             [
              0,
              "#0d0887"
             ],
             [
              0.1111111111111111,
              "#46039f"
             ],
             [
              0.2222222222222222,
              "#7201a8"
             ],
             [
              0.3333333333333333,
              "#9c179e"
             ],
             [
              0.4444444444444444,
              "#bd3786"
             ],
             [
              0.5555555555555556,
              "#d8576b"
             ],
             [
              0.6666666666666666,
              "#ed7953"
             ],
             [
              0.7777777777777778,
              "#fb9f3a"
             ],
             [
              0.8888888888888888,
              "#fdca26"
             ],
             [
              1,
              "#f0f921"
             ]
            ],
            "type": "histogram2d"
           }
          ],
          "histogram2dcontour": [
           {
            "colorbar": {
             "outlinewidth": 0,
             "ticks": ""
            },
            "colorscale": [
             [
              0,
              "#0d0887"
             ],
             [
              0.1111111111111111,
              "#46039f"
             ],
             [
              0.2222222222222222,
              "#7201a8"
             ],
             [
              0.3333333333333333,
              "#9c179e"
             ],
             [
              0.4444444444444444,
              "#bd3786"
             ],
             [
              0.5555555555555556,
              "#d8576b"
             ],
             [
              0.6666666666666666,
              "#ed7953"
             ],
             [
              0.7777777777777778,
              "#fb9f3a"
             ],
             [
              0.8888888888888888,
              "#fdca26"
             ],
             [
              1,
              "#f0f921"
             ]
            ],
            "type": "histogram2dcontour"
           }
          ],
          "mesh3d": [
           {
            "colorbar": {
             "outlinewidth": 0,
             "ticks": ""
            },
            "type": "mesh3d"
           }
          ],
          "parcoords": [
           {
            "line": {
             "colorbar": {
              "outlinewidth": 0,
              "ticks": ""
             }
            },
            "type": "parcoords"
           }
          ],
          "pie": [
           {
            "automargin": true,
            "type": "pie"
           }
          ],
          "scatter": [
           {
            "fillpattern": {
             "fillmode": "overlay",
             "size": 10,
             "solidity": 0.2
            },
            "type": "scatter"
           }
          ],
          "scatter3d": [
           {
            "line": {
             "colorbar": {
              "outlinewidth": 0,
              "ticks": ""
             }
            },
            "marker": {
             "colorbar": {
              "outlinewidth": 0,
              "ticks": ""
             }
            },
            "type": "scatter3d"
           }
          ],
          "scattercarpet": [
           {
            "marker": {
             "colorbar": {
              "outlinewidth": 0,
              "ticks": ""
             }
            },
            "type": "scattercarpet"
           }
          ],
          "scattergeo": [
           {
            "marker": {
             "colorbar": {
              "outlinewidth": 0,
              "ticks": ""
             }
            },
            "type": "scattergeo"
           }
          ],
          "scattergl": [
           {
            "marker": {
             "colorbar": {
              "outlinewidth": 0,
              "ticks": ""
             }
            },
            "type": "scattergl"
           }
          ],
          "scattermapbox": [
           {
            "marker": {
             "colorbar": {
              "outlinewidth": 0,
              "ticks": ""
             }
            },
            "type": "scattermapbox"
           }
          ],
          "scatterpolar": [
           {
            "marker": {
             "colorbar": {
              "outlinewidth": 0,
              "ticks": ""
             }
            },
            "type": "scatterpolar"
           }
          ],
          "scatterpolargl": [
           {
            "marker": {
             "colorbar": {
              "outlinewidth": 0,
              "ticks": ""
             }
            },
            "type": "scatterpolargl"
           }
          ],
          "scatterternary": [
           {
            "marker": {
             "colorbar": {
              "outlinewidth": 0,
              "ticks": ""
             }
            },
            "type": "scatterternary"
           }
          ],
          "surface": [
           {
            "colorbar": {
             "outlinewidth": 0,
             "ticks": ""
            },
            "colorscale": [
             [
              0,
              "#0d0887"
             ],
             [
              0.1111111111111111,
              "#46039f"
             ],
             [
              0.2222222222222222,
              "#7201a8"
             ],
             [
              0.3333333333333333,
              "#9c179e"
             ],
             [
              0.4444444444444444,
              "#bd3786"
             ],
             [
              0.5555555555555556,
              "#d8576b"
             ],
             [
              0.6666666666666666,
              "#ed7953"
             ],
             [
              0.7777777777777778,
              "#fb9f3a"
             ],
             [
              0.8888888888888888,
              "#fdca26"
             ],
             [
              1,
              "#f0f921"
             ]
            ],
            "type": "surface"
           }
          ],
          "table": [
           {
            "cells": {
             "fill": {
              "color": "#EBF0F8"
             },
             "line": {
              "color": "white"
             }
            },
            "header": {
             "fill": {
              "color": "#C8D4E3"
             },
             "line": {
              "color": "white"
             }
            },
            "type": "table"
           }
          ]
         },
         "layout": {
          "annotationdefaults": {
           "arrowcolor": "#2a3f5f",
           "arrowhead": 0,
           "arrowwidth": 1
          },
          "autotypenumbers": "strict",
          "coloraxis": {
           "colorbar": {
            "outlinewidth": 0,
            "ticks": ""
           }
          },
          "colorscale": {
           "diverging": [
            [
             0,
             "#8e0152"
            ],
            [
             0.1,
             "#c51b7d"
            ],
            [
             0.2,
             "#de77ae"
            ],
            [
             0.3,
             "#f1b6da"
            ],
            [
             0.4,
             "#fde0ef"
            ],
            [
             0.5,
             "#f7f7f7"
            ],
            [
             0.6,
             "#e6f5d0"
            ],
            [
             0.7,
             "#b8e186"
            ],
            [
             0.8,
             "#7fbc41"
            ],
            [
             0.9,
             "#4d9221"
            ],
            [
             1,
             "#276419"
            ]
           ],
           "sequential": [
            [
             0,
             "#0d0887"
            ],
            [
             0.1111111111111111,
             "#46039f"
            ],
            [
             0.2222222222222222,
             "#7201a8"
            ],
            [
             0.3333333333333333,
             "#9c179e"
            ],
            [
             0.4444444444444444,
             "#bd3786"
            ],
            [
             0.5555555555555556,
             "#d8576b"
            ],
            [
             0.6666666666666666,
             "#ed7953"
            ],
            [
             0.7777777777777778,
             "#fb9f3a"
            ],
            [
             0.8888888888888888,
             "#fdca26"
            ],
            [
             1,
             "#f0f921"
            ]
           ],
           "sequentialminus": [
            [
             0,
             "#0d0887"
            ],
            [
             0.1111111111111111,
             "#46039f"
            ],
            [
             0.2222222222222222,
             "#7201a8"
            ],
            [
             0.3333333333333333,
             "#9c179e"
            ],
            [
             0.4444444444444444,
             "#bd3786"
            ],
            [
             0.5555555555555556,
             "#d8576b"
            ],
            [
             0.6666666666666666,
             "#ed7953"
            ],
            [
             0.7777777777777778,
             "#fb9f3a"
            ],
            [
             0.8888888888888888,
             "#fdca26"
            ],
            [
             1,
             "#f0f921"
            ]
           ]
          },
          "colorway": [
           "#636efa",
           "#EF553B",
           "#00cc96",
           "#ab63fa",
           "#FFA15A",
           "#19d3f3",
           "#FF6692",
           "#B6E880",
           "#FF97FF",
           "#FECB52"
          ],
          "font": {
           "color": "#2a3f5f"
          },
          "geo": {
           "bgcolor": "white",
           "lakecolor": "white",
           "landcolor": "#E5ECF6",
           "showlakes": true,
           "showland": true,
           "subunitcolor": "white"
          },
          "hoverlabel": {
           "align": "left"
          },
          "hovermode": "closest",
          "mapbox": {
           "style": "light"
          },
          "paper_bgcolor": "white",
          "plot_bgcolor": "#E5ECF6",
          "polar": {
           "angularaxis": {
            "gridcolor": "white",
            "linecolor": "white",
            "ticks": ""
           },
           "bgcolor": "#E5ECF6",
           "radialaxis": {
            "gridcolor": "white",
            "linecolor": "white",
            "ticks": ""
           }
          },
          "scene": {
           "xaxis": {
            "backgroundcolor": "#E5ECF6",
            "gridcolor": "white",
            "gridwidth": 2,
            "linecolor": "white",
            "showbackground": true,
            "ticks": "",
            "zerolinecolor": "white"
           },
           "yaxis": {
            "backgroundcolor": "#E5ECF6",
            "gridcolor": "white",
            "gridwidth": 2,
            "linecolor": "white",
            "showbackground": true,
            "ticks": "",
            "zerolinecolor": "white"
           },
           "zaxis": {
            "backgroundcolor": "#E5ECF6",
            "gridcolor": "white",
            "gridwidth": 2,
            "linecolor": "white",
            "showbackground": true,
            "ticks": "",
            "zerolinecolor": "white"
           }
          },
          "shapedefaults": {
           "line": {
            "color": "#2a3f5f"
           }
          },
          "ternary": {
           "aaxis": {
            "gridcolor": "white",
            "linecolor": "white",
            "ticks": ""
           },
           "baxis": {
            "gridcolor": "white",
            "linecolor": "white",
            "ticks": ""
           },
           "bgcolor": "#E5ECF6",
           "caxis": {
            "gridcolor": "white",
            "linecolor": "white",
            "ticks": ""
           }
          },
          "title": {
           "x": 0.05
          },
          "xaxis": {
           "automargin": true,
           "gridcolor": "white",
           "linecolor": "white",
           "ticks": "",
           "title": {
            "standoff": 15
           },
           "zerolinecolor": "white",
           "zerolinewidth": 2
          },
          "yaxis": {
           "automargin": true,
           "gridcolor": "white",
           "linecolor": "white",
           "ticks": "",
           "title": {
            "standoff": 15
           },
           "zerolinecolor": "white",
           "zerolinewidth": 2
          }
         }
        },
        "title": {
         "text": "Entwicklung der Prozent Zahlen der einzelnen Stadtteile Registrieren Hunde über Jahr"
        },
        "xaxis": {
         "anchor": "y",
         "domain": [
          0,
          1
         ],
         "title": {
          "text": "Jahr"
         }
        },
        "yaxis": {
         "anchor": "x",
         "domain": [
          0,
          1
         ],
         "title": {
          "text": "percent"
         }
        }
       }
      }
     },
     "metadata": {},
     "output_type": "display_data"
    }
   ],
   "source": [
    "px.line(new_df_,x=\"Jahr\",y=\"percent\",color=\"Stadtteil\", title=\"Entwicklung der Prozent Zahlen der einzelnen Stadtteile Registrieren Hunde über Jahr\")"
   ]
  },
  {
   "cell_type": "code",
   "execution_count": 26,
   "id": "efcab983",
   "metadata": {},
   "outputs": [
    {
     "data": {
      "application/vnd.plotly.v1+json": {
       "config": {
        "plotlyServerURL": "https://plot.ly"
       },
       "data": [
        {
         "hovertemplate": "Stadtteil=Beiertheim-Bulach<br>Jahr=%{x}<br>Hunde=%{y}<extra></extra>",
         "legendgroup": "Beiertheim-Bulach",
         "line": {
          "color": "#636efa",
          "dash": "solid"
         },
         "marker": {
          "symbol": "circle"
         },
         "mode": "lines",
         "name": "Beiertheim-Bulach",
         "orientation": "v",
         "showlegend": true,
         "type": "scatter",
         "x": [
          2014,
          2015,
          2016,
          2017,
          2018,
          2019,
          2020
         ],
         "xaxis": "x",
         "y": [
          186,
          181,
          190,
          193,
          174,
          179,
          192
         ],
         "yaxis": "y"
        },
        {
         "hovertemplate": "Stadtteil=Daxlanden<br>Jahr=%{x}<br>Hunde=%{y}<extra></extra>",
         "legendgroup": "Daxlanden",
         "line": {
          "color": "#EF553B",
          "dash": "solid"
         },
         "marker": {
          "symbol": "circle"
         },
         "mode": "lines",
         "name": "Daxlanden",
         "orientation": "v",
         "showlegend": true,
         "type": "scatter",
         "x": [
          2014,
          2015,
          2016,
          2017,
          2018,
          2019,
          2020
         ],
         "xaxis": "x",
         "y": [
          508,
          513,
          549,
          551,
          557,
          562,
          591
         ],
         "yaxis": "y"
        },
        {
         "hovertemplate": "Stadtteil=Durlach<br>Jahr=%{x}<br>Hunde=%{y}<extra></extra>",
         "legendgroup": "Durlach",
         "line": {
          "color": "#00cc96",
          "dash": "solid"
         },
         "marker": {
          "symbol": "circle"
         },
         "mode": "lines",
         "name": "Durlach",
         "orientation": "v",
         "showlegend": true,
         "type": "scatter",
         "x": [
          2014,
          2015,
          2016,
          2017,
          2018,
          2019,
          2020
         ],
         "xaxis": "x",
         "y": [
          926,
          944,
          982,
          993,
          1012,
          993,
          1034
         ],
         "yaxis": "y"
        },
        {
         "hovertemplate": "Stadtteil=Grötzingen<br>Jahr=%{x}<br>Hunde=%{y}<extra></extra>",
         "legendgroup": "Grötzingen",
         "line": {
          "color": "#ab63fa",
          "dash": "solid"
         },
         "marker": {
          "symbol": "circle"
         },
         "mode": "lines",
         "name": "Grötzingen",
         "orientation": "v",
         "showlegend": true,
         "type": "scatter",
         "x": [
          2014,
          2015,
          2016,
          2017,
          2018,
          2019,
          2020
         ],
         "xaxis": "x",
         "y": [
          284,
          287,
          300,
          298,
          296,
          328,
          349
         ],
         "yaxis": "y"
        },
        {
         "hovertemplate": "Stadtteil=Grünwettersbach<br>Jahr=%{x}<br>Hunde=%{y}<extra></extra>",
         "legendgroup": "Grünwettersbach",
         "line": {
          "color": "#FFA15A",
          "dash": "solid"
         },
         "marker": {
          "symbol": "circle"
         },
         "mode": "lines",
         "name": "Grünwettersbach",
         "orientation": "v",
         "showlegend": true,
         "type": "scatter",
         "x": [
          2014,
          2015,
          2016,
          2017,
          2018,
          2019,
          2020
         ],
         "xaxis": "x",
         "y": [
          161,
          174,
          177,
          182,
          187,
          197,
          205
         ],
         "yaxis": "y"
        },
        {
         "hovertemplate": "Stadtteil=Grünwinkel<br>Jahr=%{x}<br>Hunde=%{y}<extra></extra>",
         "legendgroup": "Grünwinkel",
         "line": {
          "color": "#19d3f3",
          "dash": "solid"
         },
         "marker": {
          "symbol": "circle"
         },
         "mode": "lines",
         "name": "Grünwinkel",
         "orientation": "v",
         "showlegend": true,
         "type": "scatter",
         "x": [
          2014,
          2015,
          2016,
          2017,
          2018,
          2019,
          2020
         ],
         "xaxis": "x",
         "y": [
          388,
          382,
          397,
          395,
          391,
          399,
          433
         ],
         "yaxis": "y"
        },
        {
         "hovertemplate": "Stadtteil=Hagsfeld<br>Jahr=%{x}<br>Hunde=%{y}<extra></extra>",
         "legendgroup": "Hagsfeld",
         "line": {
          "color": "#FF6692",
          "dash": "solid"
         },
         "marker": {
          "symbol": "circle"
         },
         "mode": "lines",
         "name": "Hagsfeld",
         "orientation": "v",
         "showlegend": true,
         "type": "scatter",
         "x": [
          2014,
          2015,
          2016,
          2017,
          2018,
          2019,
          2020
         ],
         "xaxis": "x",
         "y": [
          198,
          205,
          195,
          201,
          216,
          226,
          242
         ],
         "yaxis": "y"
        },
        {
         "hovertemplate": "Stadtteil=Hohenwettersbach<br>Jahr=%{x}<br>Hunde=%{y}<extra></extra>",
         "legendgroup": "Hohenwettersbach",
         "line": {
          "color": "#B6E880",
          "dash": "solid"
         },
         "marker": {
          "symbol": "circle"
         },
         "mode": "lines",
         "name": "Hohenwettersbach",
         "orientation": "v",
         "showlegend": true,
         "type": "scatter",
         "x": [
          2014,
          2015,
          2016,
          2017,
          2018,
          2019,
          2020
         ],
         "xaxis": "x",
         "y": [
          129,
          131,
          141,
          138,
          144,
          153,
          166
         ],
         "yaxis": "y"
        },
        {
         "hovertemplate": "Stadtteil=Innenstadt-Ost<br>Jahr=%{x}<br>Hunde=%{y}<extra></extra>",
         "legendgroup": "Innenstadt-Ost",
         "line": {
          "color": "#FF97FF",
          "dash": "solid"
         },
         "marker": {
          "symbol": "circle"
         },
         "mode": "lines",
         "name": "Innenstadt-Ost",
         "orientation": "v",
         "showlegend": true,
         "type": "scatter",
         "x": [
          2014,
          2015,
          2016,
          2017,
          2018,
          2019,
          2020
         ],
         "xaxis": "x",
         "y": [
          101,
          97,
          102,
          110,
          97,
          86,
          94
         ],
         "yaxis": "y"
        },
        {
         "hovertemplate": "Stadtteil=Innenstadt-West<br>Jahr=%{x}<br>Hunde=%{y}<extra></extra>",
         "legendgroup": "Innenstadt-West",
         "line": {
          "color": "#FECB52",
          "dash": "solid"
         },
         "marker": {
          "symbol": "circle"
         },
         "mode": "lines",
         "name": "Innenstadt-West",
         "orientation": "v",
         "showlegend": true,
         "type": "scatter",
         "x": [
          2014,
          2015,
          2016,
          2017,
          2018,
          2019,
          2020
         ],
         "xaxis": "x",
         "y": [
          131,
          141,
          132,
          132,
          124,
          131,
          147
         ],
         "yaxis": "y"
        },
        {
         "hovertemplate": "Stadtteil=Knielingen<br>Jahr=%{x}<br>Hunde=%{y}<extra></extra>",
         "legendgroup": "Knielingen",
         "line": {
          "color": "#636efa",
          "dash": "solid"
         },
         "marker": {
          "symbol": "circle"
         },
         "mode": "lines",
         "name": "Knielingen",
         "orientation": "v",
         "showlegend": true,
         "type": "scatter",
         "x": [
          2014,
          2015,
          2016,
          2017,
          2018,
          2019,
          2020
         ],
         "xaxis": "x",
         "y": [
          347,
          347,
          373,
          387,
          412,
          456,
          467
         ],
         "yaxis": "y"
        },
        {
         "hovertemplate": "Stadtteil=Mühlburg<br>Jahr=%{x}<br>Hunde=%{y}<extra></extra>",
         "legendgroup": "Mühlburg",
         "line": {
          "color": "#EF553B",
          "dash": "solid"
         },
         "marker": {
          "symbol": "circle"
         },
         "mode": "lines",
         "name": "Mühlburg",
         "orientation": "v",
         "showlegend": true,
         "type": "scatter",
         "x": [
          2014,
          2015,
          2016,
          2017,
          2018,
          2019,
          2020
         ],
         "xaxis": "x",
         "y": [
          356,
          403,
          389,
          394,
          402,
          409,
          438
         ],
         "yaxis": "y"
        },
        {
         "hovertemplate": "Stadtteil=Neureut<br>Jahr=%{x}<br>Hunde=%{y}<extra></extra>",
         "legendgroup": "Neureut",
         "line": {
          "color": "#00cc96",
          "dash": "solid"
         },
         "marker": {
          "symbol": "circle"
         },
         "mode": "lines",
         "name": "Neureut",
         "orientation": "v",
         "showlegend": true,
         "type": "scatter",
         "x": [
          2014,
          2015,
          2016,
          2017,
          2018,
          2019,
          2020
         ],
         "xaxis": "x",
         "y": [
          634,
          628,
          638,
          627,
          645,
          681,
          726
         ],
         "yaxis": "y"
        },
        {
         "hovertemplate": "Stadtteil=Nordstadt<br>Jahr=%{x}<br>Hunde=%{y}<extra></extra>",
         "legendgroup": "Nordstadt",
         "line": {
          "color": "#ab63fa",
          "dash": "solid"
         },
         "marker": {
          "symbol": "circle"
         },
         "mode": "lines",
         "name": "Nordstadt",
         "orientation": "v",
         "showlegend": true,
         "type": "scatter",
         "x": [
          2014,
          2015,
          2016,
          2017,
          2018,
          2019,
          2020
         ],
         "xaxis": "x",
         "y": [
          274,
          274,
          278,
          290,
          291,
          293,
          305
         ],
         "yaxis": "y"
        },
        {
         "hovertemplate": "Stadtteil=Nordweststadt<br>Jahr=%{x}<br>Hunde=%{y}<extra></extra>",
         "legendgroup": "Nordweststadt",
         "line": {
          "color": "#FFA15A",
          "dash": "solid"
         },
         "marker": {
          "symbol": "circle"
         },
         "mode": "lines",
         "name": "Nordweststadt",
         "orientation": "v",
         "showlegend": true,
         "type": "scatter",
         "x": [
          2014,
          2015,
          2016,
          2017,
          2018,
          2019,
          2020
         ],
         "xaxis": "x",
         "y": [
          313,
          331,
          341,
          349,
          343,
          352,
          368
         ],
         "yaxis": "y"
        },
        {
         "hovertemplate": "Stadtteil=Oberreut<br>Jahr=%{x}<br>Hunde=%{y}<extra></extra>",
         "legendgroup": "Oberreut",
         "line": {
          "color": "#19d3f3",
          "dash": "solid"
         },
         "marker": {
          "symbol": "circle"
         },
         "mode": "lines",
         "name": "Oberreut",
         "orientation": "v",
         "showlegend": true,
         "type": "scatter",
         "x": [
          2014,
          2015,
          2016,
          2017,
          2018,
          2019,
          2020
         ],
         "xaxis": "x",
         "y": [
          315,
          333,
          356,
          366,
          387,
          418,
          418
         ],
         "yaxis": "y"
        },
        {
         "hovertemplate": "Stadtteil=Oststadt<br>Jahr=%{x}<br>Hunde=%{y}<extra></extra>",
         "legendgroup": "Oststadt",
         "line": {
          "color": "#FF6692",
          "dash": "solid"
         },
         "marker": {
          "symbol": "circle"
         },
         "mode": "lines",
         "name": "Oststadt",
         "orientation": "v",
         "showlegend": true,
         "type": "scatter",
         "x": [
          2014,
          2015,
          2016,
          2017,
          2018,
          2019,
          2020
         ],
         "xaxis": "x",
         "y": [
          252,
          254,
          256,
          255,
          276,
          290,
          322
         ],
         "yaxis": "y"
        },
        {
         "hovertemplate": "Stadtteil=Palmbach<br>Jahr=%{x}<br>Hunde=%{y}<extra></extra>",
         "legendgroup": "Palmbach",
         "line": {
          "color": "#B6E880",
          "dash": "solid"
         },
         "marker": {
          "symbol": "circle"
         },
         "mode": "lines",
         "name": "Palmbach",
         "orientation": "v",
         "showlegend": true,
         "type": "scatter",
         "x": [
          2014,
          2015,
          2016,
          2017,
          2018,
          2019,
          2020
         ],
         "xaxis": "x",
         "y": [
          82,
          94,
          101,
          96,
          101,
          104,
          113
         ],
         "yaxis": "y"
        },
        {
         "hovertemplate": "Stadtteil=Rintheim<br>Jahr=%{x}<br>Hunde=%{y}<extra></extra>",
         "legendgroup": "Rintheim",
         "line": {
          "color": "#FF97FF",
          "dash": "solid"
         },
         "marker": {
          "symbol": "circle"
         },
         "mode": "lines",
         "name": "Rintheim",
         "orientation": "v",
         "showlegend": true,
         "type": "scatter",
         "x": [
          2014,
          2015,
          2016,
          2017,
          2018,
          2019,
          2020
         ],
         "xaxis": "x",
         "y": [
          160,
          158,
          168,
          172,
          178,
          187,
          197
         ],
         "yaxis": "y"
        },
        {
         "hovertemplate": "Stadtteil=Rüppurr<br>Jahr=%{x}<br>Hunde=%{y}<extra></extra>",
         "legendgroup": "Rüppurr",
         "line": {
          "color": "#FECB52",
          "dash": "solid"
         },
         "marker": {
          "symbol": "circle"
         },
         "mode": "lines",
         "name": "Rüppurr",
         "orientation": "v",
         "showlegend": true,
         "type": "scatter",
         "x": [
          2014,
          2015,
          2016,
          2017,
          2018,
          2019,
          2020
         ],
         "xaxis": "x",
         "y": [
          372,
          393,
          426,
          423,
          434,
          429,
          467
         ],
         "yaxis": "y"
        },
        {
         "hovertemplate": "Stadtteil=Stupferich<br>Jahr=%{x}<br>Hunde=%{y}<extra></extra>",
         "legendgroup": "Stupferich",
         "line": {
          "color": "#636efa",
          "dash": "solid"
         },
         "marker": {
          "symbol": "circle"
         },
         "mode": "lines",
         "name": "Stupferich",
         "orientation": "v",
         "showlegend": true,
         "type": "scatter",
         "x": [
          2014,
          2015,
          2016,
          2017,
          2018,
          2019,
          2020
         ],
         "xaxis": "x",
         "y": [
          119,
          123,
          128,
          132,
          139,
          144,
          152
         ],
         "yaxis": "y"
        },
        {
         "hovertemplate": "Stadtteil=Südstadt<br>Jahr=%{x}<br>Hunde=%{y}<extra></extra>",
         "legendgroup": "Südstadt",
         "line": {
          "color": "#EF553B",
          "dash": "solid"
         },
         "marker": {
          "symbol": "circle"
         },
         "mode": "lines",
         "name": "Südstadt",
         "orientation": "v",
         "showlegend": true,
         "type": "scatter",
         "x": [
          2014,
          2015,
          2016,
          2017,
          2018,
          2019,
          2020
         ],
         "xaxis": "x",
         "y": [
          295,
          317,
          326,
          321,
          318,
          324,
          358
         ],
         "yaxis": "y"
        },
        {
         "hovertemplate": "Stadtteil=Südweststadt<br>Jahr=%{x}<br>Hunde=%{y}<extra></extra>",
         "legendgroup": "Südweststadt",
         "line": {
          "color": "#00cc96",
          "dash": "solid"
         },
         "marker": {
          "symbol": "circle"
         },
         "mode": "lines",
         "name": "Südweststadt",
         "orientation": "v",
         "showlegend": true,
         "type": "scatter",
         "x": [
          2014,
          2015,
          2016,
          2017,
          2018,
          2019,
          2020
         ],
         "xaxis": "x",
         "y": [
          259,
          274,
          292,
          289,
          298,
          324,
          337
         ],
         "yaxis": "y"
        },
        {
         "hovertemplate": "Stadtteil=Waldstadt<br>Jahr=%{x}<br>Hunde=%{y}<extra></extra>",
         "legendgroup": "Waldstadt",
         "line": {
          "color": "#ab63fa",
          "dash": "solid"
         },
         "marker": {
          "symbol": "circle"
         },
         "mode": "lines",
         "name": "Waldstadt",
         "orientation": "v",
         "showlegend": true,
         "type": "scatter",
         "x": [
          2014,
          2015,
          2016,
          2017,
          2018,
          2019,
          2020
         ],
         "xaxis": "x",
         "y": [
          362,
          369,
          394,
          402,
          408,
          421,
          433
         ],
         "yaxis": "y"
        },
        {
         "hovertemplate": "Stadtteil=Weiherfeld-Dammerstock<br>Jahr=%{x}<br>Hunde=%{y}<extra></extra>",
         "legendgroup": "Weiherfeld-Dammerstock",
         "line": {
          "color": "#FFA15A",
          "dash": "solid"
         },
         "marker": {
          "symbol": "circle"
         },
         "mode": "lines",
         "name": "Weiherfeld-Dammerstock",
         "orientation": "v",
         "showlegend": true,
         "type": "scatter",
         "x": [
          2014,
          2015,
          2016,
          2017,
          2018,
          2019,
          2020
         ],
         "xaxis": "x",
         "y": [
          177,
          180,
          190,
          188,
          193,
          194,
          182
         ],
         "yaxis": "y"
        },
        {
         "hovertemplate": "Stadtteil=Weststadt<br>Jahr=%{x}<br>Hunde=%{y}<extra></extra>",
         "legendgroup": "Weststadt",
         "line": {
          "color": "#19d3f3",
          "dash": "solid"
         },
         "marker": {
          "symbol": "circle"
         },
         "mode": "lines",
         "name": "Weststadt",
         "orientation": "v",
         "showlegend": true,
         "type": "scatter",
         "x": [
          2014,
          2015,
          2016,
          2017,
          2018,
          2019,
          2020
         ],
         "xaxis": "x",
         "y": [
          401,
          403,
          414,
          421,
          438,
          424,
          436
         ],
         "yaxis": "y"
        },
        {
         "hovertemplate": "Stadtteil=Wolfartsweier<br>Jahr=%{x}<br>Hunde=%{y}<extra></extra>",
         "legendgroup": "Wolfartsweier",
         "line": {
          "color": "#FF6692",
          "dash": "solid"
         },
         "marker": {
          "symbol": "circle"
         },
         "mode": "lines",
         "name": "Wolfartsweier",
         "orientation": "v",
         "showlegend": true,
         "type": "scatter",
         "x": [
          2014,
          2015,
          2016,
          2017,
          2018,
          2019,
          2020
         ],
         "xaxis": "x",
         "y": [
          131,
          126,
          130,
          129,
          120,
          119,
          130
         ],
         "yaxis": "y"
        }
       ],
       "layout": {
        "legend": {
         "title": {
          "text": "Stadtteil"
         },
         "tracegroupgap": 0
        },
        "template": {
         "data": {
          "bar": [
           {
            "error_x": {
             "color": "#2a3f5f"
            },
            "error_y": {
             "color": "#2a3f5f"
            },
            "marker": {
             "line": {
              "color": "#E5ECF6",
              "width": 0.5
             },
             "pattern": {
              "fillmode": "overlay",
              "size": 10,
              "solidity": 0.2
             }
            },
            "type": "bar"
           }
          ],
          "barpolar": [
           {
            "marker": {
             "line": {
              "color": "#E5ECF6",
              "width": 0.5
             },
             "pattern": {
              "fillmode": "overlay",
              "size": 10,
              "solidity": 0.2
             }
            },
            "type": "barpolar"
           }
          ],
          "carpet": [
           {
            "aaxis": {
             "endlinecolor": "#2a3f5f",
             "gridcolor": "white",
             "linecolor": "white",
             "minorgridcolor": "white",
             "startlinecolor": "#2a3f5f"
            },
            "baxis": {
             "endlinecolor": "#2a3f5f",
             "gridcolor": "white",
             "linecolor": "white",
             "minorgridcolor": "white",
             "startlinecolor": "#2a3f5f"
            },
            "type": "carpet"
           }
          ],
          "choropleth": [
           {
            "colorbar": {
             "outlinewidth": 0,
             "ticks": ""
            },
            "type": "choropleth"
           }
          ],
          "contour": [
           {
            "colorbar": {
             "outlinewidth": 0,
             "ticks": ""
            },
            "colorscale": [
             [
              0,
              "#0d0887"
             ],
             [
              0.1111111111111111,
              "#46039f"
             ],
             [
              0.2222222222222222,
              "#7201a8"
             ],
             [
              0.3333333333333333,
              "#9c179e"
             ],
             [
              0.4444444444444444,
              "#bd3786"
             ],
             [
              0.5555555555555556,
              "#d8576b"
             ],
             [
              0.6666666666666666,
              "#ed7953"
             ],
             [
              0.7777777777777778,
              "#fb9f3a"
             ],
             [
              0.8888888888888888,
              "#fdca26"
             ],
             [
              1,
              "#f0f921"
             ]
            ],
            "type": "contour"
           }
          ],
          "contourcarpet": [
           {
            "colorbar": {
             "outlinewidth": 0,
             "ticks": ""
            },
            "type": "contourcarpet"
           }
          ],
          "heatmap": [
           {
            "colorbar": {
             "outlinewidth": 0,
             "ticks": ""
            },
            "colorscale": [
             [
              0,
              "#0d0887"
             ],
             [
              0.1111111111111111,
              "#46039f"
             ],
             [
              0.2222222222222222,
              "#7201a8"
             ],
             [
              0.3333333333333333,
              "#9c179e"
             ],
             [
              0.4444444444444444,
              "#bd3786"
             ],
             [
              0.5555555555555556,
              "#d8576b"
             ],
             [
              0.6666666666666666,
              "#ed7953"
             ],
             [
              0.7777777777777778,
              "#fb9f3a"
             ],
             [
              0.8888888888888888,
              "#fdca26"
             ],
             [
              1,
              "#f0f921"
             ]
            ],
            "type": "heatmap"
           }
          ],
          "heatmapgl": [
           {
            "colorbar": {
             "outlinewidth": 0,
             "ticks": ""
            },
            "colorscale": [
             [
              0,
              "#0d0887"
             ],
             [
              0.1111111111111111,
              "#46039f"
             ],
             [
              0.2222222222222222,
              "#7201a8"
             ],
             [
              0.3333333333333333,
              "#9c179e"
             ],
             [
              0.4444444444444444,
              "#bd3786"
             ],
             [
              0.5555555555555556,
              "#d8576b"
             ],
             [
              0.6666666666666666,
              "#ed7953"
             ],
             [
              0.7777777777777778,
              "#fb9f3a"
             ],
             [
              0.8888888888888888,
              "#fdca26"
             ],
             [
              1,
              "#f0f921"
             ]
            ],
            "type": "heatmapgl"
           }
          ],
          "histogram": [
           {
            "marker": {
             "pattern": {
              "fillmode": "overlay",
              "size": 10,
              "solidity": 0.2
             }
            },
            "type": "histogram"
           }
          ],
          "histogram2d": [
           {
            "colorbar": {
             "outlinewidth": 0,
             "ticks": ""
            },
            "colorscale": [
             [
              0,
              "#0d0887"
             ],
             [
              0.1111111111111111,
              "#46039f"
             ],
             [
              0.2222222222222222,
              "#7201a8"
             ],
             [
              0.3333333333333333,
              "#9c179e"
             ],
             [
              0.4444444444444444,
              "#bd3786"
             ],
             [
              0.5555555555555556,
              "#d8576b"
             ],
             [
              0.6666666666666666,
              "#ed7953"
             ],
             [
              0.7777777777777778,
              "#fb9f3a"
             ],
             [
              0.8888888888888888,
              "#fdca26"
             ],
             [
              1,
              "#f0f921"
             ]
            ],
            "type": "histogram2d"
           }
          ],
          "histogram2dcontour": [
           {
            "colorbar": {
             "outlinewidth": 0,
             "ticks": ""
            },
            "colorscale": [
             [
              0,
              "#0d0887"
             ],
             [
              0.1111111111111111,
              "#46039f"
             ],
             [
              0.2222222222222222,
              "#7201a8"
             ],
             [
              0.3333333333333333,
              "#9c179e"
             ],
             [
              0.4444444444444444,
              "#bd3786"
             ],
             [
              0.5555555555555556,
              "#d8576b"
             ],
             [
              0.6666666666666666,
              "#ed7953"
             ],
             [
              0.7777777777777778,
              "#fb9f3a"
             ],
             [
              0.8888888888888888,
              "#fdca26"
             ],
             [
              1,
              "#f0f921"
             ]
            ],
            "type": "histogram2dcontour"
           }
          ],
          "mesh3d": [
           {
            "colorbar": {
             "outlinewidth": 0,
             "ticks": ""
            },
            "type": "mesh3d"
           }
          ],
          "parcoords": [
           {
            "line": {
             "colorbar": {
              "outlinewidth": 0,
              "ticks": ""
             }
            },
            "type": "parcoords"
           }
          ],
          "pie": [
           {
            "automargin": true,
            "type": "pie"
           }
          ],
          "scatter": [
           {
            "fillpattern": {
             "fillmode": "overlay",
             "size": 10,
             "solidity": 0.2
            },
            "type": "scatter"
           }
          ],
          "scatter3d": [
           {
            "line": {
             "colorbar": {
              "outlinewidth": 0,
              "ticks": ""
             }
            },
            "marker": {
             "colorbar": {
              "outlinewidth": 0,
              "ticks": ""
             }
            },
            "type": "scatter3d"
           }
          ],
          "scattercarpet": [
           {
            "marker": {
             "colorbar": {
              "outlinewidth": 0,
              "ticks": ""
             }
            },
            "type": "scattercarpet"
           }
          ],
          "scattergeo": [
           {
            "marker": {
             "colorbar": {
              "outlinewidth": 0,
              "ticks": ""
             }
            },
            "type": "scattergeo"
           }
          ],
          "scattergl": [
           {
            "marker": {
             "colorbar": {
              "outlinewidth": 0,
              "ticks": ""
             }
            },
            "type": "scattergl"
           }
          ],
          "scattermapbox": [
           {
            "marker": {
             "colorbar": {
              "outlinewidth": 0,
              "ticks": ""
             }
            },
            "type": "scattermapbox"
           }
          ],
          "scatterpolar": [
           {
            "marker": {
             "colorbar": {
              "outlinewidth": 0,
              "ticks": ""
             }
            },
            "type": "scatterpolar"
           }
          ],
          "scatterpolargl": [
           {
            "marker": {
             "colorbar": {
              "outlinewidth": 0,
              "ticks": ""
             }
            },
            "type": "scatterpolargl"
           }
          ],
          "scatterternary": [
           {
            "marker": {
             "colorbar": {
              "outlinewidth": 0,
              "ticks": ""
             }
            },
            "type": "scatterternary"
           }
          ],
          "surface": [
           {
            "colorbar": {
             "outlinewidth": 0,
             "ticks": ""
            },
            "colorscale": [
             [
              0,
              "#0d0887"
             ],
             [
              0.1111111111111111,
              "#46039f"
             ],
             [
              0.2222222222222222,
              "#7201a8"
             ],
             [
              0.3333333333333333,
              "#9c179e"
             ],
             [
              0.4444444444444444,
              "#bd3786"
             ],
             [
              0.5555555555555556,
              "#d8576b"
             ],
             [
              0.6666666666666666,
              "#ed7953"
             ],
             [
              0.7777777777777778,
              "#fb9f3a"
             ],
             [
              0.8888888888888888,
              "#fdca26"
             ],
             [
              1,
              "#f0f921"
             ]
            ],
            "type": "surface"
           }
          ],
          "table": [
           {
            "cells": {
             "fill": {
              "color": "#EBF0F8"
             },
             "line": {
              "color": "white"
             }
            },
            "header": {
             "fill": {
              "color": "#C8D4E3"
             },
             "line": {
              "color": "white"
             }
            },
            "type": "table"
           }
          ]
         },
         "layout": {
          "annotationdefaults": {
           "arrowcolor": "#2a3f5f",
           "arrowhead": 0,
           "arrowwidth": 1
          },
          "autotypenumbers": "strict",
          "coloraxis": {
           "colorbar": {
            "outlinewidth": 0,
            "ticks": ""
           }
          },
          "colorscale": {
           "diverging": [
            [
             0,
             "#8e0152"
            ],
            [
             0.1,
             "#c51b7d"
            ],
            [
             0.2,
             "#de77ae"
            ],
            [
             0.3,
             "#f1b6da"
            ],
            [
             0.4,
             "#fde0ef"
            ],
            [
             0.5,
             "#f7f7f7"
            ],
            [
             0.6,
             "#e6f5d0"
            ],
            [
             0.7,
             "#b8e186"
            ],
            [
             0.8,
             "#7fbc41"
            ],
            [
             0.9,
             "#4d9221"
            ],
            [
             1,
             "#276419"
            ]
           ],
           "sequential": [
            [
             0,
             "#0d0887"
            ],
            [
             0.1111111111111111,
             "#46039f"
            ],
            [
             0.2222222222222222,
             "#7201a8"
            ],
            [
             0.3333333333333333,
             "#9c179e"
            ],
            [
             0.4444444444444444,
             "#bd3786"
            ],
            [
             0.5555555555555556,
             "#d8576b"
            ],
            [
             0.6666666666666666,
             "#ed7953"
            ],
            [
             0.7777777777777778,
             "#fb9f3a"
            ],
            [
             0.8888888888888888,
             "#fdca26"
            ],
            [
             1,
             "#f0f921"
            ]
           ],
           "sequentialminus": [
            [
             0,
             "#0d0887"
            ],
            [
             0.1111111111111111,
             "#46039f"
            ],
            [
             0.2222222222222222,
             "#7201a8"
            ],
            [
             0.3333333333333333,
             "#9c179e"
            ],
            [
             0.4444444444444444,
             "#bd3786"
            ],
            [
             0.5555555555555556,
             "#d8576b"
            ],
            [
             0.6666666666666666,
             "#ed7953"
            ],
            [
             0.7777777777777778,
             "#fb9f3a"
            ],
            [
             0.8888888888888888,
             "#fdca26"
            ],
            [
             1,
             "#f0f921"
            ]
           ]
          },
          "colorway": [
           "#636efa",
           "#EF553B",
           "#00cc96",
           "#ab63fa",
           "#FFA15A",
           "#19d3f3",
           "#FF6692",
           "#B6E880",
           "#FF97FF",
           "#FECB52"
          ],
          "font": {
           "color": "#2a3f5f"
          },
          "geo": {
           "bgcolor": "white",
           "lakecolor": "white",
           "landcolor": "#E5ECF6",
           "showlakes": true,
           "showland": true,
           "subunitcolor": "white"
          },
          "hoverlabel": {
           "align": "left"
          },
          "hovermode": "closest",
          "mapbox": {
           "style": "light"
          },
          "paper_bgcolor": "white",
          "plot_bgcolor": "#E5ECF6",
          "polar": {
           "angularaxis": {
            "gridcolor": "white",
            "linecolor": "white",
            "ticks": ""
           },
           "bgcolor": "#E5ECF6",
           "radialaxis": {
            "gridcolor": "white",
            "linecolor": "white",
            "ticks": ""
           }
          },
          "scene": {
           "xaxis": {
            "backgroundcolor": "#E5ECF6",
            "gridcolor": "white",
            "gridwidth": 2,
            "linecolor": "white",
            "showbackground": true,
            "ticks": "",
            "zerolinecolor": "white"
           },
           "yaxis": {
            "backgroundcolor": "#E5ECF6",
            "gridcolor": "white",
            "gridwidth": 2,
            "linecolor": "white",
            "showbackground": true,
            "ticks": "",
            "zerolinecolor": "white"
           },
           "zaxis": {
            "backgroundcolor": "#E5ECF6",
            "gridcolor": "white",
            "gridwidth": 2,
            "linecolor": "white",
            "showbackground": true,
            "ticks": "",
            "zerolinecolor": "white"
           }
          },
          "shapedefaults": {
           "line": {
            "color": "#2a3f5f"
           }
          },
          "ternary": {
           "aaxis": {
            "gridcolor": "white",
            "linecolor": "white",
            "ticks": ""
           },
           "baxis": {
            "gridcolor": "white",
            "linecolor": "white",
            "ticks": ""
           },
           "bgcolor": "#E5ECF6",
           "caxis": {
            "gridcolor": "white",
            "linecolor": "white",
            "ticks": ""
           }
          },
          "title": {
           "x": 0.05
          },
          "xaxis": {
           "automargin": true,
           "gridcolor": "white",
           "linecolor": "white",
           "ticks": "",
           "title": {
            "standoff": 15
           },
           "zerolinecolor": "white",
           "zerolinewidth": 2
          },
          "yaxis": {
           "automargin": true,
           "gridcolor": "white",
           "linecolor": "white",
           "ticks": "",
           "title": {
            "standoff": 15
           },
           "zerolinecolor": "white",
           "zerolinewidth": 2
          }
         }
        },
        "title": {
         "text": "Entwicklung der Prozent Zahlen der einzelnen Stadtteile Registrieren Hunde über Jahr"
        },
        "xaxis": {
         "anchor": "y",
         "domain": [
          0,
          1
         ],
         "title": {
          "text": "Jahr"
         }
        },
        "yaxis": {
         "anchor": "x",
         "domain": [
          0,
          1
         ],
         "title": {
          "text": "Hunde"
         }
        }
       }
      }
     },
     "metadata": {},
     "output_type": "display_data"
    }
   ],
   "source": [
    "new_df_ = None\n",
    "new_df_ = new_df.sort_values([\"Stadtteil\",\"Jahr\"]).copy()\n",
    "new_df_ = pd.merge(new_df_, new_df_.groupby(\"Jahr\")[[\"Hunde\"]].sum().rename(columns={\"Hunde\":\"Hunde_Gesamt_Jahr\"}),\n",
    "          left_on=\"Jahr\",right_index=True)\n",
    "new_df_[\"percent_of_Gesamt\"] = new_df_[\"Hunde\"] / new_df_[\"Hunde_Gesamt_Jahr\"]\n",
    "px.line(new_df_,x=\"Jahr\",y=\"Hunde\",color=\"Stadtteil\", title=\"Entwicklung der Prozent Zahlen der einzelnen Stadtteile Registrieren Hunde über Jahr\")"
   ]
  }
 ],
 "metadata": {
  "kernelspec": {
   "display_name": "Python 3",
   "language": "python",
   "name": "python3"
  },
  "language_info": {
   "codemirror_mode": {
    "name": "ipython",
    "version": 3
   },
   "file_extension": ".py",
   "mimetype": "text/x-python",
   "name": "python",
   "nbconvert_exporter": "python",
   "pygments_lexer": "ipython3",
   "version": "3.10.6"
  }
 },
 "nbformat": 4,
 "nbformat_minor": 5
}
